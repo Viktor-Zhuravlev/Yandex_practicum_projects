{
 "cells": [
  {
   "cell_type": "markdown",
   "metadata": {
    "toc": true
   },
   "source": [
    "<h1>Содержание<span class=\"tocSkip\"></span></h1>\n",
    "<div class=\"toc\"><ul class=\"toc-item\"><li><span><a href=\"#Подготовка-данных\" data-toc-modified-id=\"Подготовка-данных-1\"><span class=\"toc-item-num\">1&nbsp;&nbsp;</span>Подготовка данных</a></span><ul class=\"toc-item\"><li><span><a href=\"#Загрузка-библиотек\" data-toc-modified-id=\"Загрузка-библиотек-1.1\"><span class=\"toc-item-num\">1.1&nbsp;&nbsp;</span>Загрузка библиотек</a></span></li><li><span><a href=\"#Загрузка-и-изучение-файла\" data-toc-modified-id=\"Загрузка-и-изучение-файла-1.2\"><span class=\"toc-item-num\">1.2&nbsp;&nbsp;</span>Загрузка и изучение файла</a></span></li><li><span><a href=\"#Исследование-данных-с-отсутствующими-значениями-в-столбце-'Tenure'\" data-toc-modified-id=\"Исследование-данных-с-отсутствующими-значениями-в-столбце-'Tenure'-1.3\"><span class=\"toc-item-num\">1.3&nbsp;&nbsp;</span>Исследование данных с отсутствующими значениями в столбце 'Tenure'</a></span></li><li><span><a href=\"#Проверка-на-повторяющиеся-записи\" data-toc-modified-id=\"Проверка-на-повторяющиеся-записи-1.4\"><span class=\"toc-item-num\">1.4&nbsp;&nbsp;</span>Проверка на повторяющиеся записи</a></span></li><li><span><a href=\"#Формирование-dummy-переменных\" data-toc-modified-id=\"Формирование-dummy-переменных-1.5\"><span class=\"toc-item-num\">1.5&nbsp;&nbsp;</span>Формирование dummy-переменных</a></span></li><li><span><a href=\"#Разделение-данных-на-выборки\" data-toc-modified-id=\"Разделение-данных-на-выборки-1.6\"><span class=\"toc-item-num\">1.6&nbsp;&nbsp;</span>Разделение данных на выборки</a></span><ul class=\"toc-item\"><li><span><a href=\"#Обучающая-выборка\" data-toc-modified-id=\"Обучающая-выборка-1.6.1\"><span class=\"toc-item-num\">1.6.1&nbsp;&nbsp;</span>Обучающая выборка</a></span><ul class=\"toc-item\"><li><span><a href=\"#Определение\" data-toc-modified-id=\"Определение-1.6.1.1\"><span class=\"toc-item-num\">1.6.1.1&nbsp;&nbsp;</span>Определение</a></span></li><li><span><a href=\"#Масштабирование\" data-toc-modified-id=\"Масштабирование-1.6.1.2\"><span class=\"toc-item-num\">1.6.1.2&nbsp;&nbsp;</span>Масштабирование</a></span></li></ul></li><li><span><a href=\"#Валидационная-и-тестовая-выборки\" data-toc-modified-id=\"Валидационная-и-тестовая-выборки-1.6.2\"><span class=\"toc-item-num\">1.6.2&nbsp;&nbsp;</span>Валидационная и тестовая выборки</a></span><ul class=\"toc-item\"><li><span><a href=\"#Определение\" data-toc-modified-id=\"Определение-1.6.2.1\"><span class=\"toc-item-num\">1.6.2.1&nbsp;&nbsp;</span>Определение</a></span></li><li><span><a href=\"#Масштабирование\" data-toc-modified-id=\"Масштабирование-1.6.2.2\"><span class=\"toc-item-num\">1.6.2.2&nbsp;&nbsp;</span>Масштабирование</a></span></li></ul></li></ul></li></ul></li><li><span><a href=\"#Исследование-задачи\" data-toc-modified-id=\"Исследование-задачи-2\"><span class=\"toc-item-num\">2&nbsp;&nbsp;</span>Исследование задачи</a></span><ul class=\"toc-item\"><li><span><a href=\"#Определение-соотношения-классов-для-всех-множеств\" data-toc-modified-id=\"Определение-соотношения-классов-для-всех-множеств-2.1\"><span class=\"toc-item-num\">2.1&nbsp;&nbsp;</span>Определение соотношения классов для всех множеств</a></span></li><li><span><a href=\"#Решающее-дерево-(несбалансированная-выборка)\" data-toc-modified-id=\"Решающее-дерево-(несбалансированная-выборка)-2.2\"><span class=\"toc-item-num\">2.2&nbsp;&nbsp;</span>Решающее дерево (несбалансированная выборка)</a></span><ul class=\"toc-item\"><li><span><a href=\"#Подбор-оптимальных-гиперпараметров-и-обучение-модели\" data-toc-modified-id=\"Подбор-оптимальных-гиперпараметров-и-обучение-модели-2.2.1\"><span class=\"toc-item-num\">2.2.1&nbsp;&nbsp;</span>Подбор оптимальных гиперпараметров и обучение модели</a></span></li><li><span><a href=\"#Проверка-на-тестовом-множестве\" data-toc-modified-id=\"Проверка-на-тестовом-множестве-2.2.2\"><span class=\"toc-item-num\">2.2.2&nbsp;&nbsp;</span>Проверка на тестовом множестве</a></span></li></ul></li><li><span><a href=\"#Случайный-лес-(несбалансированная-выборка)\" data-toc-modified-id=\"Случайный-лес-(несбалансированная-выборка)-2.3\"><span class=\"toc-item-num\">2.3&nbsp;&nbsp;</span>Случайный лес (несбалансированная выборка)</a></span><ul class=\"toc-item\"><li><span><a href=\"#Подбор-оптимальных-гиперпараметров-и-обучение-модели\" data-toc-modified-id=\"Подбор-оптимальных-гиперпараметров-и-обучение-модели-2.3.1\"><span class=\"toc-item-num\">2.3.1&nbsp;&nbsp;</span>Подбор оптимальных гиперпараметров и обучение модели</a></span></li><li><span><a href=\"#Проверка-на-тестовом-множестве\" data-toc-modified-id=\"Проверка-на-тестовом-множестве-2.3.2\"><span class=\"toc-item-num\">2.3.2&nbsp;&nbsp;</span>Проверка на тестовом множестве</a></span></li></ul></li><li><span><a href=\"#Логистическая-регрессия-(несбаллансированная-выборка)\" data-toc-modified-id=\"Логистическая-регрессия-(несбаллансированная-выборка)-2.4\"><span class=\"toc-item-num\">2.4&nbsp;&nbsp;</span>Логистическая регрессия (несбаллансированная выборка)</a></span><ul class=\"toc-item\"><li><span><a href=\"#Обучение-модели\" data-toc-modified-id=\"Обучение-модели-2.4.1\"><span class=\"toc-item-num\">2.4.1&nbsp;&nbsp;</span>Обучение модели</a></span></li><li><span><a href=\"#Проверка-на-тестовом-множестве\" data-toc-modified-id=\"Проверка-на-тестовом-множестве-2.4.2\"><span class=\"toc-item-num\">2.4.2&nbsp;&nbsp;</span>Проверка на тестовом множестве</a></span></li></ul></li><li><span><a href=\"#CatBoost-(несбаллансированная-выборка)\" data-toc-modified-id=\"CatBoost-(несбаллансированная-выборка)-2.5\"><span class=\"toc-item-num\">2.5&nbsp;&nbsp;</span>CatBoost (несбаллансированная выборка)</a></span><ul class=\"toc-item\"><li><span><a href=\"#Обучение-модели\" data-toc-modified-id=\"Обучение-модели-2.5.1\"><span class=\"toc-item-num\">2.5.1&nbsp;&nbsp;</span>Обучение модели</a></span></li><li><span><a href=\"#Проверка-на-тестовом-множестве\" data-toc-modified-id=\"Проверка-на-тестовом-множестве-2.5.2\"><span class=\"toc-item-num\">2.5.2&nbsp;&nbsp;</span>Проверка на тестовом множестве</a></span></li></ul></li><li><span><a href=\"#DummyClassifier\" data-toc-modified-id=\"DummyClassifier-2.6\"><span class=\"toc-item-num\">2.6&nbsp;&nbsp;</span>DummyClassifier</a></span><ul class=\"toc-item\"><li><span><a href=\"#Обучение-модели\" data-toc-modified-id=\"Обучение-модели-2.6.1\"><span class=\"toc-item-num\">2.6.1&nbsp;&nbsp;</span>Обучение модели</a></span></li><li><span><a href=\"#Проверка-на-тестовом-множестве\" data-toc-modified-id=\"Проверка-на-тестовом-множестве-2.6.2\"><span class=\"toc-item-num\">2.6.2&nbsp;&nbsp;</span>Проверка на тестовом множестве</a></span></li></ul></li></ul></li><li><span><a href=\"#Борьба-с-дисбалансом\" data-toc-modified-id=\"Борьба-с-дисбалансом-3\"><span class=\"toc-item-num\">3&nbsp;&nbsp;</span>Борьба с дисбалансом</a></span><ul class=\"toc-item\"><li><span><a href=\"#Увеличение-выборки-(upsample)\" data-toc-modified-id=\"Увеличение-выборки-(upsample)-3.1\"><span class=\"toc-item-num\">3.1&nbsp;&nbsp;</span>Увеличение выборки (upsample)</a></span><ul class=\"toc-item\"><li><span><a href=\"#Решающее-дерево-(сбалансированная-выборка-upsample).\" data-toc-modified-id=\"Решающее-дерево-(сбалансированная-выборка-upsample).-3.1.1\"><span class=\"toc-item-num\">3.1.1&nbsp;&nbsp;</span>Решающее дерево (сбалансированная выборка upsample).</a></span><ul class=\"toc-item\"><li><span><a href=\"#Подбор-оптимальных-гиперпараметров-и-обучение-модели\" data-toc-modified-id=\"Подбор-оптимальных-гиперпараметров-и-обучение-модели-3.1.1.1\"><span class=\"toc-item-num\">3.1.1.1&nbsp;&nbsp;</span>Подбор оптимальных гиперпараметров и обучение модели</a></span></li><li><span><a href=\"#Проверка-на-тестовом-множестве\" data-toc-modified-id=\"Проверка-на-тестовом-множестве-3.1.1.2\"><span class=\"toc-item-num\">3.1.1.2&nbsp;&nbsp;</span>Проверка на тестовом множестве</a></span></li></ul></li><li><span><a href=\"#Случайный-лес-(сбалансированная-выборка-upsample)\" data-toc-modified-id=\"Случайный-лес-(сбалансированная-выборка-upsample)-3.1.2\"><span class=\"toc-item-num\">3.1.2&nbsp;&nbsp;</span>Случайный лес (сбалансированная выборка upsample)</a></span><ul class=\"toc-item\"><li><span><a href=\"#Подбор-оптимальных-гиперпараметров-и-обучение-модели\" data-toc-modified-id=\"Подбор-оптимальных-гиперпараметров-и-обучение-модели-3.1.2.1\"><span class=\"toc-item-num\">3.1.2.1&nbsp;&nbsp;</span>Подбор оптимальных гиперпараметров и обучение модели</a></span></li><li><span><a href=\"#Проверка-на-тестовом-множестве\" data-toc-modified-id=\"Проверка-на-тестовом-множестве-3.1.2.2\"><span class=\"toc-item-num\">3.1.2.2&nbsp;&nbsp;</span>Проверка на тестовом множестве</a></span></li></ul></li><li><span><a href=\"#Логистическая-регрессия-(сбалансированная-выборка-upsample)\" data-toc-modified-id=\"Логистическая-регрессия-(сбалансированная-выборка-upsample)-3.1.3\"><span class=\"toc-item-num\">3.1.3&nbsp;&nbsp;</span>Логистическая регрессия (сбалансированная выборка upsample)</a></span><ul class=\"toc-item\"><li><span><a href=\"#Обучение-модели\" data-toc-modified-id=\"Обучение-модели-3.1.3.1\"><span class=\"toc-item-num\">3.1.3.1&nbsp;&nbsp;</span>Обучение модели</a></span></li><li><span><a href=\"#Проверка-на-тестовом-множестве\" data-toc-modified-id=\"Проверка-на-тестовом-множестве-3.1.3.2\"><span class=\"toc-item-num\">3.1.3.2&nbsp;&nbsp;</span>Проверка на тестовом множестве</a></span></li></ul></li><li><span><a href=\"#Catboost-(сбалансированная-выборка-upsample)\" data-toc-modified-id=\"Catboost-(сбалансированная-выборка-upsample)-3.1.4\"><span class=\"toc-item-num\">3.1.4&nbsp;&nbsp;</span>Catboost (сбалансированная выборка upsample)</a></span><ul class=\"toc-item\"><li><span><a href=\"#Обучение-модели\" data-toc-modified-id=\"Обучение-модели-3.1.4.1\"><span class=\"toc-item-num\">3.1.4.1&nbsp;&nbsp;</span>Обучение модели</a></span></li><li><span><a href=\"#Проверка-на-тестовом-множестве\" data-toc-modified-id=\"Проверка-на-тестовом-множестве-3.1.4.2\"><span class=\"toc-item-num\">3.1.4.2&nbsp;&nbsp;</span>Проверка на тестовом множестве</a></span></li></ul></li><li><span><a href=\"#DummyClassifier-(сбалансированная-выборка-upsample)\" data-toc-modified-id=\"DummyClassifier-(сбалансированная-выборка-upsample)-3.1.5\"><span class=\"toc-item-num\">3.1.5&nbsp;&nbsp;</span>DummyClassifier (сбалансированная выборка upsample)</a></span><ul class=\"toc-item\"><li><span><a href=\"#Обучение-модели\" data-toc-modified-id=\"Обучение-модели-3.1.5.1\"><span class=\"toc-item-num\">3.1.5.1&nbsp;&nbsp;</span>Обучение модели</a></span></li><li><span><a href=\"#Проверка-на-тестовом-множестве\" data-toc-modified-id=\"Проверка-на-тестовом-множестве-3.1.5.2\"><span class=\"toc-item-num\">3.1.5.2&nbsp;&nbsp;</span>Проверка на тестовом множестве</a></span></li></ul></li></ul></li><li><span><a href=\"#Уменьшение-выборки-(downsampling)\" data-toc-modified-id=\"Уменьшение-выборки-(downsampling)-3.2\"><span class=\"toc-item-num\">3.2&nbsp;&nbsp;</span>Уменьшение выборки (downsampling)</a></span><ul class=\"toc-item\"><li><span><a href=\"#Решающее-дерево-(сбалансированная-выборка-downsample)\" data-toc-modified-id=\"Решающее-дерево-(сбалансированная-выборка-downsample)-3.2.1\"><span class=\"toc-item-num\">3.2.1&nbsp;&nbsp;</span>Решающее дерево (сбалансированная выборка downsample)</a></span><ul class=\"toc-item\"><li><span><a href=\"#Подбор-оптимальных-гиперпараметров-и-обучение-модели\" data-toc-modified-id=\"Подбор-оптимальных-гиперпараметров-и-обучение-модели-3.2.1.1\"><span class=\"toc-item-num\">3.2.1.1&nbsp;&nbsp;</span>Подбор оптимальных гиперпараметров и обучение модели</a></span></li><li><span><a href=\"#Проверка-на-тестовом-множестве\" data-toc-modified-id=\"Проверка-на-тестовом-множестве-3.2.1.2\"><span class=\"toc-item-num\">3.2.1.2&nbsp;&nbsp;</span>Проверка на тестовом множестве</a></span></li></ul></li><li><span><a href=\"#Случайный-лес-(сбалансированная-выборка-downsample)\" data-toc-modified-id=\"Случайный-лес-(сбалансированная-выборка-downsample)-3.2.2\"><span class=\"toc-item-num\">3.2.2&nbsp;&nbsp;</span>Случайный лес (сбалансированная выборка downsample)</a></span><ul class=\"toc-item\"><li><span><a href=\"#Подбор-оптимальных-гиперпараметров-и-обучение-модели\" data-toc-modified-id=\"Подбор-оптимальных-гиперпараметров-и-обучение-модели-3.2.2.1\"><span class=\"toc-item-num\">3.2.2.1&nbsp;&nbsp;</span>Подбор оптимальных гиперпараметров и обучение модели</a></span></li><li><span><a href=\"#Проверка-на-тестовом-множестве\" data-toc-modified-id=\"Проверка-на-тестовом-множестве-3.2.2.2\"><span class=\"toc-item-num\">3.2.2.2&nbsp;&nbsp;</span>Проверка на тестовом множестве</a></span></li></ul></li><li><span><a href=\"#Логистическая-регрессия-(сбалансированная-выборка-downsample)\" data-toc-modified-id=\"Логистическая-регрессия-(сбалансированная-выборка-downsample)-3.2.3\"><span class=\"toc-item-num\">3.2.3&nbsp;&nbsp;</span>Логистическая регрессия (сбалансированная выборка downsample)</a></span><ul class=\"toc-item\"><li><span><a href=\"#Обучение-модели\" data-toc-modified-id=\"Обучение-модели-3.2.3.1\"><span class=\"toc-item-num\">3.2.3.1&nbsp;&nbsp;</span>Обучение модели</a></span></li><li><span><a href=\"#Проверка-на-тестовом-множестве\" data-toc-modified-id=\"Проверка-на-тестовом-множестве-3.2.3.2\"><span class=\"toc-item-num\">3.2.3.2&nbsp;&nbsp;</span>Проверка на тестовом множестве</a></span></li></ul></li><li><span><a href=\"#Catboost-(сбалансированная-выборка-downsample)\" data-toc-modified-id=\"Catboost-(сбалансированная-выборка-downsample)-3.2.4\"><span class=\"toc-item-num\">3.2.4&nbsp;&nbsp;</span>Catboost (сбалансированная выборка downsample)</a></span><ul class=\"toc-item\"><li><span><a href=\"#Обучение-модели\" data-toc-modified-id=\"Обучение-модели-3.2.4.1\"><span class=\"toc-item-num\">3.2.4.1&nbsp;&nbsp;</span>Обучение модели</a></span></li><li><span><a href=\"#Проверка-на-тестовом-множестве\" data-toc-modified-id=\"Проверка-на-тестовом-множестве-3.2.4.2\"><span class=\"toc-item-num\">3.2.4.2&nbsp;&nbsp;</span>Проверка на тестовом множестве</a></span></li></ul></li><li><span><a href=\"#DummyClassifier-(сбалансированная-выборка-downsample)\" data-toc-modified-id=\"DummyClassifier-(сбалансированная-выборка-downsample)-3.2.5\"><span class=\"toc-item-num\">3.2.5&nbsp;&nbsp;</span>DummyClassifier (сбалансированная выборка downsample)</a></span><ul class=\"toc-item\"><li><span><a href=\"#Обучение-модели\" data-toc-modified-id=\"Обучение-модели-3.2.5.1\"><span class=\"toc-item-num\">3.2.5.1&nbsp;&nbsp;</span>Обучение модели</a></span></li><li><span><a href=\"#Проверка-на-тестовом-множестве\" data-toc-modified-id=\"Проверка-на-тестовом-множестве-3.2.5.2\"><span class=\"toc-item-num\">3.2.5.2&nbsp;&nbsp;</span>Проверка на тестовом множестве</a></span></li></ul></li></ul></li></ul></li><li><span><a href=\"#Тестирование-модели\" data-toc-modified-id=\"Тестирование-модели-4\"><span class=\"toc-item-num\">4&nbsp;&nbsp;</span>Тестирование модели</a></span></li><li><span><a href=\"#Общий-вывод\" data-toc-modified-id=\"Общий-вывод-5\"><span class=\"toc-item-num\">5&nbsp;&nbsp;</span>Общий вывод</a></span></li><li><span><a href=\"#Чек-лист-готовности-проекта\" data-toc-modified-id=\"Чек-лист-готовности-проекта-6\"><span class=\"toc-item-num\">6&nbsp;&nbsp;</span>Чек-лист готовности проекта</a></span></li></ul></div>"
   ]
  },
  {
   "cell_type": "markdown",
   "metadata": {},
   "source": [
    "# Отток клиентов\n",
    "\n",
    "# Customer outflow"
   ]
  },
  {
   "cell_type": "markdown",
   "metadata": {},
   "source": [
    "Из «Бета-Банка» стали уходить клиенты. Каждый месяц. Немного, но заметно. Банковские маркетологи посчитали: сохранять текущих клиентов дешевле, чем привлекать новых.\n",
    "\n",
    "Нужно спрогнозировать, уйдёт клиент из банка в ближайшее время или нет. Вам предоставлены исторические данные о поведении клиентов и расторжении договоров с банком. \n",
    "\n",
    "Постройте модель с предельно большим значением *F1*-меры. Чтобы сдать проект успешно, нужно довести метрику до 0.59. Проверьте *F1*-меру на тестовой выборке самостоятельно.\n",
    "\n",
    "Дополнительно измеряйте *AUC-ROC*, сравнивайте её значение с *F1*-мерой.\n",
    "\n",
    "Источник данных: [https://www.kaggle.com/barelydedicated/bank-customer-churn-modeling](https://www.kaggle.com/barelydedicated/bank-customer-churn-modeling)\n",
    "\n",
    "Customers began to leave Beta Bank. Every month. A little, but noticeable. Bank marketers have found that it is cheaper to retain current customers than to attract new ones.\n",
    "\n",
    "It is necessary to predict whether the client will leave the bank in the near future or not. You are presented with historical data on the behavior of customers and the termination of contracts with the bank. \n",
    "\n",
    "Build a model with an extremely large value of * F1* - measures. To pass the project successfully, you need to bring the metric to 0.59. Check the * F1* - measure on the test sample yourself.\n",
    "\n",
    "Additionally, measure *AUC-ROC*, compare its value with *F1* - measure.\n",
    "\n",
    "Data source:  [https://www.kaggle.com/barelydedicated/bank-customer-churn-modeling](https://www.kaggle.com/barelydedicated/bank-customer-churn-modeling)"
   ]
  },
  {
   "cell_type": "markdown",
   "metadata": {},
   "source": [
    "## Подготовка данных\n",
    "\n",
    "## Data preparation"
   ]
  },
  {
   "cell_type": "markdown",
   "metadata": {},
   "source": [
    "### Загрузка библиотек\n",
    "\n",
    "### Loading libraries"
   ]
  },
  {
   "cell_type": "code",
   "execution_count": 1,
   "metadata": {},
   "outputs": [],
   "source": [
    "import pandas as pd\n",
    "from IPython.display import display\n",
    "import matplotlib.pyplot as plt\n",
    "import math\n",
    "import numpy as np\n",
    "from scipy import stats as st\n",
    "from sklearn.model_selection import train_test_split\n",
    "from sklearn.preprocessing import StandardScaler\n",
    "from sklearn.tree import DecisionTreeClassifier\n",
    "from sklearn.ensemble import RandomForestClassifier\n",
    "from sklearn.linear_model import LogisticRegression\n",
    "from sklearn.metrics import accuracy_score\n",
    "from sklearn.metrics import precision_score, recall_score\n",
    "from sklearn.metrics import f1_score, make_scorer\n",
    "from sklearn.metrics import roc_auc_score\n",
    "from sklearn.metrics import roc_curve\n",
    "from sklearn.metrics import confusion_matrix\n",
    "from sklearn.metrics import classification_report\n",
    "from sklearn.utils import shuffle\n",
    "from catboost import CatBoostClassifier\n",
    "from sklearn.dummy import DummyClassifier\n",
    "import warnings\n",
    "from sklearn.model_selection import GridSearchCV"
   ]
  },
  {
   "cell_type": "markdown",
   "metadata": {},
   "source": [
    "Вспомогательный модуль для устранения скроллинга ячеек\n",
    "\n",
    "Auxiliary module for eliminating cell scrolling"
   ]
  },
  {
   "cell_type": "code",
   "execution_count": 2,
   "metadata": {},
   "outputs": [
    {
     "data": {
      "application/javascript": [
       "IPython.OutputArea.prototype._should_scroll = function(lines) {\n",
       "    return false;\n",
       "}\n"
      ],
      "text/plain": [
       "<IPython.core.display.Javascript object>"
      ]
     },
     "metadata": {},
     "output_type": "display_data"
    }
   ],
   "source": [
    "%%javascript\n",
    "IPython.OutputArea.prototype._should_scroll = function(lines) {\n",
    "    return false;\n",
    "}"
   ]
  },
  {
   "cell_type": "markdown",
   "metadata": {},
   "source": [
    "Вспомогательный модуль для устранения предупреждений\n",
    "\n",
    "Auxiliary module for eliminating warnings"
   ]
  },
  {
   "cell_type": "code",
   "execution_count": 3,
   "metadata": {},
   "outputs": [],
   "source": [
    "warnings.filterwarnings(\"ignore\")"
   ]
  },
  {
   "cell_type": "markdown",
   "metadata": {},
   "source": [
    "### Загрузка и изучение файла\n",
    "\n",
    "### Download and study the file"
   ]
  },
  {
   "cell_type": "code",
   "execution_count": 4,
   "metadata": {},
   "outputs": [
    {
     "data": {
      "text/html": [
       "<div>\n",
       "<style scoped>\n",
       "    .dataframe tbody tr th:only-of-type {\n",
       "        vertical-align: middle;\n",
       "    }\n",
       "\n",
       "    .dataframe tbody tr th {\n",
       "        vertical-align: top;\n",
       "    }\n",
       "\n",
       "    .dataframe thead th {\n",
       "        text-align: right;\n",
       "    }\n",
       "</style>\n",
       "<table border=\"1\" class=\"dataframe\">\n",
       "  <thead>\n",
       "    <tr style=\"text-align: right;\">\n",
       "      <th></th>\n",
       "      <th>RowNumber</th>\n",
       "      <th>CustomerId</th>\n",
       "      <th>Surname</th>\n",
       "      <th>CreditScore</th>\n",
       "      <th>Geography</th>\n",
       "      <th>Gender</th>\n",
       "      <th>Age</th>\n",
       "      <th>Tenure</th>\n",
       "      <th>Balance</th>\n",
       "      <th>NumOfProducts</th>\n",
       "      <th>HasCrCard</th>\n",
       "      <th>IsActiveMember</th>\n",
       "      <th>EstimatedSalary</th>\n",
       "      <th>Exited</th>\n",
       "    </tr>\n",
       "  </thead>\n",
       "  <tbody>\n",
       "    <tr>\n",
       "      <td>0</td>\n",
       "      <td>1</td>\n",
       "      <td>15634602</td>\n",
       "      <td>Hargrave</td>\n",
       "      <td>619</td>\n",
       "      <td>France</td>\n",
       "      <td>Female</td>\n",
       "      <td>42</td>\n",
       "      <td>2.0</td>\n",
       "      <td>0.00</td>\n",
       "      <td>1</td>\n",
       "      <td>1</td>\n",
       "      <td>1</td>\n",
       "      <td>101348.88</td>\n",
       "      <td>1</td>\n",
       "    </tr>\n",
       "    <tr>\n",
       "      <td>1</td>\n",
       "      <td>2</td>\n",
       "      <td>15647311</td>\n",
       "      <td>Hill</td>\n",
       "      <td>608</td>\n",
       "      <td>Spain</td>\n",
       "      <td>Female</td>\n",
       "      <td>41</td>\n",
       "      <td>1.0</td>\n",
       "      <td>83807.86</td>\n",
       "      <td>1</td>\n",
       "      <td>0</td>\n",
       "      <td>1</td>\n",
       "      <td>112542.58</td>\n",
       "      <td>0</td>\n",
       "    </tr>\n",
       "    <tr>\n",
       "      <td>2</td>\n",
       "      <td>3</td>\n",
       "      <td>15619304</td>\n",
       "      <td>Onio</td>\n",
       "      <td>502</td>\n",
       "      <td>France</td>\n",
       "      <td>Female</td>\n",
       "      <td>42</td>\n",
       "      <td>8.0</td>\n",
       "      <td>159660.80</td>\n",
       "      <td>3</td>\n",
       "      <td>1</td>\n",
       "      <td>0</td>\n",
       "      <td>113931.57</td>\n",
       "      <td>1</td>\n",
       "    </tr>\n",
       "    <tr>\n",
       "      <td>3</td>\n",
       "      <td>4</td>\n",
       "      <td>15701354</td>\n",
       "      <td>Boni</td>\n",
       "      <td>699</td>\n",
       "      <td>France</td>\n",
       "      <td>Female</td>\n",
       "      <td>39</td>\n",
       "      <td>1.0</td>\n",
       "      <td>0.00</td>\n",
       "      <td>2</td>\n",
       "      <td>0</td>\n",
       "      <td>0</td>\n",
       "      <td>93826.63</td>\n",
       "      <td>0</td>\n",
       "    </tr>\n",
       "    <tr>\n",
       "      <td>4</td>\n",
       "      <td>5</td>\n",
       "      <td>15737888</td>\n",
       "      <td>Mitchell</td>\n",
       "      <td>850</td>\n",
       "      <td>Spain</td>\n",
       "      <td>Female</td>\n",
       "      <td>43</td>\n",
       "      <td>2.0</td>\n",
       "      <td>125510.82</td>\n",
       "      <td>1</td>\n",
       "      <td>1</td>\n",
       "      <td>1</td>\n",
       "      <td>79084.10</td>\n",
       "      <td>0</td>\n",
       "    </tr>\n",
       "    <tr>\n",
       "      <td>5</td>\n",
       "      <td>6</td>\n",
       "      <td>15574012</td>\n",
       "      <td>Chu</td>\n",
       "      <td>645</td>\n",
       "      <td>Spain</td>\n",
       "      <td>Male</td>\n",
       "      <td>44</td>\n",
       "      <td>8.0</td>\n",
       "      <td>113755.78</td>\n",
       "      <td>2</td>\n",
       "      <td>1</td>\n",
       "      <td>0</td>\n",
       "      <td>149756.71</td>\n",
       "      <td>1</td>\n",
       "    </tr>\n",
       "    <tr>\n",
       "      <td>6</td>\n",
       "      <td>7</td>\n",
       "      <td>15592531</td>\n",
       "      <td>Bartlett</td>\n",
       "      <td>822</td>\n",
       "      <td>France</td>\n",
       "      <td>Male</td>\n",
       "      <td>50</td>\n",
       "      <td>7.0</td>\n",
       "      <td>0.00</td>\n",
       "      <td>2</td>\n",
       "      <td>1</td>\n",
       "      <td>1</td>\n",
       "      <td>10062.80</td>\n",
       "      <td>0</td>\n",
       "    </tr>\n",
       "    <tr>\n",
       "      <td>7</td>\n",
       "      <td>8</td>\n",
       "      <td>15656148</td>\n",
       "      <td>Obinna</td>\n",
       "      <td>376</td>\n",
       "      <td>Germany</td>\n",
       "      <td>Female</td>\n",
       "      <td>29</td>\n",
       "      <td>4.0</td>\n",
       "      <td>115046.74</td>\n",
       "      <td>4</td>\n",
       "      <td>1</td>\n",
       "      <td>0</td>\n",
       "      <td>119346.88</td>\n",
       "      <td>1</td>\n",
       "    </tr>\n",
       "    <tr>\n",
       "      <td>8</td>\n",
       "      <td>9</td>\n",
       "      <td>15792365</td>\n",
       "      <td>He</td>\n",
       "      <td>501</td>\n",
       "      <td>France</td>\n",
       "      <td>Male</td>\n",
       "      <td>44</td>\n",
       "      <td>4.0</td>\n",
       "      <td>142051.07</td>\n",
       "      <td>2</td>\n",
       "      <td>0</td>\n",
       "      <td>1</td>\n",
       "      <td>74940.50</td>\n",
       "      <td>0</td>\n",
       "    </tr>\n",
       "    <tr>\n",
       "      <td>9</td>\n",
       "      <td>10</td>\n",
       "      <td>15592389</td>\n",
       "      <td>H?</td>\n",
       "      <td>684</td>\n",
       "      <td>France</td>\n",
       "      <td>Male</td>\n",
       "      <td>27</td>\n",
       "      <td>2.0</td>\n",
       "      <td>134603.88</td>\n",
       "      <td>1</td>\n",
       "      <td>1</td>\n",
       "      <td>1</td>\n",
       "      <td>71725.73</td>\n",
       "      <td>0</td>\n",
       "    </tr>\n",
       "  </tbody>\n",
       "</table>\n",
       "</div>"
      ],
      "text/plain": [
       "   RowNumber  CustomerId   Surname  CreditScore Geography  Gender  Age  \\\n",
       "0          1    15634602  Hargrave          619    France  Female   42   \n",
       "1          2    15647311      Hill          608     Spain  Female   41   \n",
       "2          3    15619304      Onio          502    France  Female   42   \n",
       "3          4    15701354      Boni          699    France  Female   39   \n",
       "4          5    15737888  Mitchell          850     Spain  Female   43   \n",
       "5          6    15574012       Chu          645     Spain    Male   44   \n",
       "6          7    15592531  Bartlett          822    France    Male   50   \n",
       "7          8    15656148    Obinna          376   Germany  Female   29   \n",
       "8          9    15792365        He          501    France    Male   44   \n",
       "9         10    15592389        H?          684    France    Male   27   \n",
       "\n",
       "   Tenure    Balance  NumOfProducts  HasCrCard  IsActiveMember  \\\n",
       "0     2.0       0.00              1          1               1   \n",
       "1     1.0   83807.86              1          0               1   \n",
       "2     8.0  159660.80              3          1               0   \n",
       "3     1.0       0.00              2          0               0   \n",
       "4     2.0  125510.82              1          1               1   \n",
       "5     8.0  113755.78              2          1               0   \n",
       "6     7.0       0.00              2          1               1   \n",
       "7     4.0  115046.74              4          1               0   \n",
       "8     4.0  142051.07              2          0               1   \n",
       "9     2.0  134603.88              1          1               1   \n",
       "\n",
       "   EstimatedSalary  Exited  \n",
       "0        101348.88       1  \n",
       "1        112542.58       0  \n",
       "2        113931.57       1  \n",
       "3         93826.63       0  \n",
       "4         79084.10       0  \n",
       "5        149756.71       1  \n",
       "6         10062.80       0  \n",
       "7        119346.88       1  \n",
       "8         74940.50       0  \n",
       "9         71725.73       0  "
      ]
     },
     "metadata": {},
     "output_type": "display_data"
    },
    {
     "name": "stdout",
     "output_type": "stream",
     "text": [
      "<class 'pandas.core.frame.DataFrame'>\n",
      "RangeIndex: 10000 entries, 0 to 9999\n",
      "Data columns (total 11 columns):\n",
      "CreditScore        10000 non-null int64\n",
      "Geography          10000 non-null object\n",
      "Gender             10000 non-null object\n",
      "Age                10000 non-null int64\n",
      "Tenure             9091 non-null float64\n",
      "Balance            10000 non-null float64\n",
      "NumOfProducts      10000 non-null int64\n",
      "HasCrCard          10000 non-null int64\n",
      "IsActiveMember     10000 non-null int64\n",
      "EstimatedSalary    10000 non-null float64\n",
      "Exited             10000 non-null int64\n",
      "dtypes: float64(3), int64(6), object(2)\n",
      "memory usage: 859.5+ KB\n"
     ]
    },
    {
     "data": {
      "text/html": [
       "<div>\n",
       "<style scoped>\n",
       "    .dataframe tbody tr th:only-of-type {\n",
       "        vertical-align: middle;\n",
       "    }\n",
       "\n",
       "    .dataframe tbody tr th {\n",
       "        vertical-align: top;\n",
       "    }\n",
       "\n",
       "    .dataframe thead th {\n",
       "        text-align: right;\n",
       "    }\n",
       "</style>\n",
       "<table border=\"1\" class=\"dataframe\">\n",
       "  <thead>\n",
       "    <tr style=\"text-align: right;\">\n",
       "      <th></th>\n",
       "      <th>CreditScore</th>\n",
       "      <th>Age</th>\n",
       "      <th>Tenure</th>\n",
       "      <th>Balance</th>\n",
       "      <th>NumOfProducts</th>\n",
       "      <th>HasCrCard</th>\n",
       "      <th>IsActiveMember</th>\n",
       "      <th>EstimatedSalary</th>\n",
       "      <th>Exited</th>\n",
       "    </tr>\n",
       "  </thead>\n",
       "  <tbody>\n",
       "    <tr>\n",
       "      <td>count</td>\n",
       "      <td>10000.000000</td>\n",
       "      <td>10000.000000</td>\n",
       "      <td>9091.000000</td>\n",
       "      <td>10000.000000</td>\n",
       "      <td>10000.000000</td>\n",
       "      <td>10000.00000</td>\n",
       "      <td>10000.000000</td>\n",
       "      <td>10000.000000</td>\n",
       "      <td>10000.000000</td>\n",
       "    </tr>\n",
       "    <tr>\n",
       "      <td>mean</td>\n",
       "      <td>650.528800</td>\n",
       "      <td>38.921800</td>\n",
       "      <td>4.997690</td>\n",
       "      <td>76485.889288</td>\n",
       "      <td>1.530200</td>\n",
       "      <td>0.70550</td>\n",
       "      <td>0.515100</td>\n",
       "      <td>100090.239881</td>\n",
       "      <td>0.203700</td>\n",
       "    </tr>\n",
       "    <tr>\n",
       "      <td>std</td>\n",
       "      <td>96.653299</td>\n",
       "      <td>10.487806</td>\n",
       "      <td>2.894723</td>\n",
       "      <td>62397.405202</td>\n",
       "      <td>0.581654</td>\n",
       "      <td>0.45584</td>\n",
       "      <td>0.499797</td>\n",
       "      <td>57510.492818</td>\n",
       "      <td>0.402769</td>\n",
       "    </tr>\n",
       "    <tr>\n",
       "      <td>min</td>\n",
       "      <td>350.000000</td>\n",
       "      <td>18.000000</td>\n",
       "      <td>0.000000</td>\n",
       "      <td>0.000000</td>\n",
       "      <td>1.000000</td>\n",
       "      <td>0.00000</td>\n",
       "      <td>0.000000</td>\n",
       "      <td>11.580000</td>\n",
       "      <td>0.000000</td>\n",
       "    </tr>\n",
       "    <tr>\n",
       "      <td>25%</td>\n",
       "      <td>584.000000</td>\n",
       "      <td>32.000000</td>\n",
       "      <td>2.000000</td>\n",
       "      <td>0.000000</td>\n",
       "      <td>1.000000</td>\n",
       "      <td>0.00000</td>\n",
       "      <td>0.000000</td>\n",
       "      <td>51002.110000</td>\n",
       "      <td>0.000000</td>\n",
       "    </tr>\n",
       "    <tr>\n",
       "      <td>50%</td>\n",
       "      <td>652.000000</td>\n",
       "      <td>37.000000</td>\n",
       "      <td>5.000000</td>\n",
       "      <td>97198.540000</td>\n",
       "      <td>1.000000</td>\n",
       "      <td>1.00000</td>\n",
       "      <td>1.000000</td>\n",
       "      <td>100193.915000</td>\n",
       "      <td>0.000000</td>\n",
       "    </tr>\n",
       "    <tr>\n",
       "      <td>75%</td>\n",
       "      <td>718.000000</td>\n",
       "      <td>44.000000</td>\n",
       "      <td>7.000000</td>\n",
       "      <td>127644.240000</td>\n",
       "      <td>2.000000</td>\n",
       "      <td>1.00000</td>\n",
       "      <td>1.000000</td>\n",
       "      <td>149388.247500</td>\n",
       "      <td>0.000000</td>\n",
       "    </tr>\n",
       "    <tr>\n",
       "      <td>max</td>\n",
       "      <td>850.000000</td>\n",
       "      <td>92.000000</td>\n",
       "      <td>10.000000</td>\n",
       "      <td>250898.090000</td>\n",
       "      <td>4.000000</td>\n",
       "      <td>1.00000</td>\n",
       "      <td>1.000000</td>\n",
       "      <td>199992.480000</td>\n",
       "      <td>1.000000</td>\n",
       "    </tr>\n",
       "  </tbody>\n",
       "</table>\n",
       "</div>"
      ],
      "text/plain": [
       "        CreditScore           Age       Tenure        Balance  NumOfProducts  \\\n",
       "count  10000.000000  10000.000000  9091.000000   10000.000000   10000.000000   \n",
       "mean     650.528800     38.921800     4.997690   76485.889288       1.530200   \n",
       "std       96.653299     10.487806     2.894723   62397.405202       0.581654   \n",
       "min      350.000000     18.000000     0.000000       0.000000       1.000000   \n",
       "25%      584.000000     32.000000     2.000000       0.000000       1.000000   \n",
       "50%      652.000000     37.000000     5.000000   97198.540000       1.000000   \n",
       "75%      718.000000     44.000000     7.000000  127644.240000       2.000000   \n",
       "max      850.000000     92.000000    10.000000  250898.090000       4.000000   \n",
       "\n",
       "         HasCrCard  IsActiveMember  EstimatedSalary        Exited  \n",
       "count  10000.00000    10000.000000     10000.000000  10000.000000  \n",
       "mean       0.70550        0.515100    100090.239881      0.203700  \n",
       "std        0.45584        0.499797     57510.492818      0.402769  \n",
       "min        0.00000        0.000000        11.580000      0.000000  \n",
       "25%        0.00000        0.000000     51002.110000      0.000000  \n",
       "50%        1.00000        1.000000    100193.915000      0.000000  \n",
       "75%        1.00000        1.000000    149388.247500      0.000000  \n",
       "max        1.00000        1.000000    199992.480000      1.000000  "
      ]
     },
     "metadata": {},
     "output_type": "display_data"
    },
    {
     "name": "stdout",
     "output_type": "stream",
     "text": [
      "\n",
      "France     5014\n",
      "Germany    2509\n",
      "Spain      2477\n",
      "Name: Geography, dtype: int64\n",
      "\n",
      "Male      5457\n",
      "Female    4543\n",
      "Name: Gender, dtype: int64\n"
     ]
    }
   ],
   "source": [
    "data = pd.read_csv('/datasets/Churn.csv')\n",
    "display(data.head(10))\n",
    "data = data.drop(['RowNumber', 'CustomerId', 'Surname'], axis = 1)\n",
    "data.info()\n",
    "display(data.describe())\n",
    "print()\n",
    "print(data['Geography'].value_counts())\n",
    "print()\n",
    "print(data['Gender'].value_counts())"
   ]
  },
  {
   "cell_type": "markdown",
   "metadata": {},
   "source": [
    "Выполнена загрузка и первичное изучение данных. Удалил столбцы 'RowNumber', 'CustomerId', 'Surname', т.к. они не несут в себе смысла. Обнаружены пропуски в столбце 'Tenure'.\n",
    "\n",
    "The data was loaded and the initial study was performed. I deleted the columns 'RowNumber', 'CustomerID', 'Surname', because they do not make sense. Gaps were detected in the 'Tenure' column."
   ]
  },
  {
   "cell_type": "markdown",
   "metadata": {},
   "source": [
    "### Исследование данных с отсутствующими значениями в столбце 'Tenure'\n",
    "\n",
    "### Exploring data with missing values in the 'Tenure' column"
   ]
  },
  {
   "cell_type": "code",
   "execution_count": 5,
   "metadata": {
    "scrolled": false
   },
   "outputs": [
    {
     "data": {
      "text/html": [
       "<div>\n",
       "<style scoped>\n",
       "    .dataframe tbody tr th:only-of-type {\n",
       "        vertical-align: middle;\n",
       "    }\n",
       "\n",
       "    .dataframe tbody tr th {\n",
       "        vertical-align: top;\n",
       "    }\n",
       "\n",
       "    .dataframe thead th {\n",
       "        text-align: right;\n",
       "    }\n",
       "</style>\n",
       "<table border=\"1\" class=\"dataframe\">\n",
       "  <thead>\n",
       "    <tr style=\"text-align: right;\">\n",
       "      <th></th>\n",
       "      <th>CreditScore</th>\n",
       "      <th>Age</th>\n",
       "      <th>Tenure</th>\n",
       "      <th>Balance</th>\n",
       "      <th>NumOfProducts</th>\n",
       "      <th>HasCrCard</th>\n",
       "      <th>IsActiveMember</th>\n",
       "      <th>EstimatedSalary</th>\n",
       "      <th>Exited</th>\n",
       "    </tr>\n",
       "  </thead>\n",
       "  <tbody>\n",
       "    <tr>\n",
       "      <td>count</td>\n",
       "      <td>909.000000</td>\n",
       "      <td>909.000000</td>\n",
       "      <td>0.0</td>\n",
       "      <td>909.000000</td>\n",
       "      <td>909.000000</td>\n",
       "      <td>909.000000</td>\n",
       "      <td>909.000000</td>\n",
       "      <td>909.000000</td>\n",
       "      <td>909.000000</td>\n",
       "    </tr>\n",
       "    <tr>\n",
       "      <td>mean</td>\n",
       "      <td>648.451045</td>\n",
       "      <td>38.647965</td>\n",
       "      <td>NaN</td>\n",
       "      <td>76117.341474</td>\n",
       "      <td>1.530253</td>\n",
       "      <td>0.710671</td>\n",
       "      <td>0.510451</td>\n",
       "      <td>99180.389373</td>\n",
       "      <td>0.201320</td>\n",
       "    </tr>\n",
       "    <tr>\n",
       "      <td>std</td>\n",
       "      <td>99.079381</td>\n",
       "      <td>9.785438</td>\n",
       "      <td>NaN</td>\n",
       "      <td>63105.690715</td>\n",
       "      <td>0.588452</td>\n",
       "      <td>0.453701</td>\n",
       "      <td>0.500166</td>\n",
       "      <td>56378.063765</td>\n",
       "      <td>0.401207</td>\n",
       "    </tr>\n",
       "    <tr>\n",
       "      <td>min</td>\n",
       "      <td>359.000000</td>\n",
       "      <td>18.000000</td>\n",
       "      <td>NaN</td>\n",
       "      <td>0.000000</td>\n",
       "      <td>1.000000</td>\n",
       "      <td>0.000000</td>\n",
       "      <td>0.000000</td>\n",
       "      <td>106.670000</td>\n",
       "      <td>0.000000</td>\n",
       "    </tr>\n",
       "    <tr>\n",
       "      <td>25%</td>\n",
       "      <td>580.000000</td>\n",
       "      <td>32.000000</td>\n",
       "      <td>NaN</td>\n",
       "      <td>0.000000</td>\n",
       "      <td>1.000000</td>\n",
       "      <td>0.000000</td>\n",
       "      <td>0.000000</td>\n",
       "      <td>49872.330000</td>\n",
       "      <td>0.000000</td>\n",
       "    </tr>\n",
       "    <tr>\n",
       "      <td>50%</td>\n",
       "      <td>647.000000</td>\n",
       "      <td>37.000000</td>\n",
       "      <td>NaN</td>\n",
       "      <td>96674.550000</td>\n",
       "      <td>1.000000</td>\n",
       "      <td>1.000000</td>\n",
       "      <td>1.000000</td>\n",
       "      <td>99444.020000</td>\n",
       "      <td>0.000000</td>\n",
       "    </tr>\n",
       "    <tr>\n",
       "      <td>75%</td>\n",
       "      <td>718.000000</td>\n",
       "      <td>43.000000</td>\n",
       "      <td>NaN</td>\n",
       "      <td>128554.980000</td>\n",
       "      <td>2.000000</td>\n",
       "      <td>1.000000</td>\n",
       "      <td>1.000000</td>\n",
       "      <td>145759.700000</td>\n",
       "      <td>0.000000</td>\n",
       "    </tr>\n",
       "    <tr>\n",
       "      <td>max</td>\n",
       "      <td>850.000000</td>\n",
       "      <td>92.000000</td>\n",
       "      <td>NaN</td>\n",
       "      <td>206663.750000</td>\n",
       "      <td>4.000000</td>\n",
       "      <td>1.000000</td>\n",
       "      <td>1.000000</td>\n",
       "      <td>199390.450000</td>\n",
       "      <td>1.000000</td>\n",
       "    </tr>\n",
       "  </tbody>\n",
       "</table>\n",
       "</div>"
      ],
      "text/plain": [
       "       CreditScore         Age  Tenure        Balance  NumOfProducts  \\\n",
       "count   909.000000  909.000000     0.0     909.000000     909.000000   \n",
       "mean    648.451045   38.647965     NaN   76117.341474       1.530253   \n",
       "std      99.079381    9.785438     NaN   63105.690715       0.588452   \n",
       "min     359.000000   18.000000     NaN       0.000000       1.000000   \n",
       "25%     580.000000   32.000000     NaN       0.000000       1.000000   \n",
       "50%     647.000000   37.000000     NaN   96674.550000       1.000000   \n",
       "75%     718.000000   43.000000     NaN  128554.980000       2.000000   \n",
       "max     850.000000   92.000000     NaN  206663.750000       4.000000   \n",
       "\n",
       "        HasCrCard  IsActiveMember  EstimatedSalary      Exited  \n",
       "count  909.000000      909.000000       909.000000  909.000000  \n",
       "mean     0.710671        0.510451     99180.389373    0.201320  \n",
       "std      0.453701        0.500166     56378.063765    0.401207  \n",
       "min      0.000000        0.000000       106.670000    0.000000  \n",
       "25%      0.000000        0.000000     49872.330000    0.000000  \n",
       "50%      1.000000        1.000000     99444.020000    0.000000  \n",
       "75%      1.000000        1.000000    145759.700000    0.000000  \n",
       "max      1.000000        1.000000    199390.450000    1.000000  "
      ]
     },
     "metadata": {},
     "output_type": "display_data"
    },
    {
     "name": "stdout",
     "output_type": "stream",
     "text": [
      "\n",
      "France     464\n",
      "Spain      229\n",
      "Germany    216\n",
      "Name: Geography, dtype: int64\n",
      "\n",
      "Male      483\n",
      "Female    426\n",
      "Name: Gender, dtype: int64\n"
     ]
    }
   ],
   "source": [
    "data_missed_Tenure = data[data['Tenure'].isna()]\n",
    "display(data_missed_Tenure.describe())\n",
    "print()\n",
    "print(data_missed_Tenure['Geography'].value_counts())\n",
    "print()\n",
    "print(data_missed_Tenure['Gender'].value_counts())"
   ]
  },
  {
   "cell_type": "markdown",
   "metadata": {},
   "source": [
    "Распределение значений сходно с общим массивом, поэтому отсутствующие значения будут заполнены медианным значением.\n",
    "\n",
    "The distribution of values is similar to the general array, so the missing values will be filled with the median value."
   ]
  },
  {
   "cell_type": "code",
   "execution_count": 6,
   "metadata": {
    "scrolled": true
   },
   "outputs": [
    {
     "name": "stdout",
     "output_type": "stream",
     "text": [
      "<class 'pandas.core.frame.DataFrame'>\n",
      "RangeIndex: 10000 entries, 0 to 9999\n",
      "Data columns (total 11 columns):\n",
      "CreditScore        10000 non-null int64\n",
      "Geography          10000 non-null object\n",
      "Gender             10000 non-null object\n",
      "Age                10000 non-null int64\n",
      "Tenure             10000 non-null float64\n",
      "Balance            10000 non-null float64\n",
      "NumOfProducts      10000 non-null int64\n",
      "HasCrCard          10000 non-null int64\n",
      "IsActiveMember     10000 non-null int64\n",
      "EstimatedSalary    10000 non-null float64\n",
      "Exited             10000 non-null int64\n",
      "dtypes: float64(3), int64(6), object(2)\n",
      "memory usage: 859.5+ KB\n"
     ]
    }
   ],
   "source": [
    "data['Tenure'].fillna(data['Tenure'].median(), inplace = True)\n",
    "data.info()"
   ]
  },
  {
   "cell_type": "markdown",
   "metadata": {},
   "source": [
    "Выполнена замена пустых значений в столбце 'Tenure' на медианные\n",
    "\n",
    "Empty values in the 'Tenure' column were replaced with median values"
   ]
  },
  {
   "cell_type": "markdown",
   "metadata": {},
   "source": [
    "### Проверка на повторяющиеся записи\n",
    "\n",
    "### Checking for duplicate entries"
   ]
  },
  {
   "cell_type": "code",
   "execution_count": 7,
   "metadata": {},
   "outputs": [
    {
     "name": "stdout",
     "output_type": "stream",
     "text": [
      "0\n"
     ]
    }
   ],
   "source": [
    "print(data.duplicated().sum())"
   ]
  },
  {
   "cell_type": "markdown",
   "metadata": {},
   "source": [
    "Повторяющихся записей не обнаружено\n",
    "\n",
    "No duplicate entries were found"
   ]
  },
  {
   "cell_type": "markdown",
   "metadata": {},
   "source": [
    "### Формирование dummy-переменных\n",
    "\n",
    "### Generating dummy variables"
   ]
  },
  {
   "cell_type": "code",
   "execution_count": 8,
   "metadata": {},
   "outputs": [
    {
     "data": {
      "text/html": [
       "<div>\n",
       "<style scoped>\n",
       "    .dataframe tbody tr th:only-of-type {\n",
       "        vertical-align: middle;\n",
       "    }\n",
       "\n",
       "    .dataframe tbody tr th {\n",
       "        vertical-align: top;\n",
       "    }\n",
       "\n",
       "    .dataframe thead th {\n",
       "        text-align: right;\n",
       "    }\n",
       "</style>\n",
       "<table border=\"1\" class=\"dataframe\">\n",
       "  <thead>\n",
       "    <tr style=\"text-align: right;\">\n",
       "      <th></th>\n",
       "      <th>CreditScore</th>\n",
       "      <th>Age</th>\n",
       "      <th>Tenure</th>\n",
       "      <th>Balance</th>\n",
       "      <th>NumOfProducts</th>\n",
       "      <th>HasCrCard</th>\n",
       "      <th>IsActiveMember</th>\n",
       "      <th>EstimatedSalary</th>\n",
       "      <th>Exited</th>\n",
       "      <th>Geography_Germany</th>\n",
       "      <th>Geography_Spain</th>\n",
       "      <th>Gender_Male</th>\n",
       "    </tr>\n",
       "  </thead>\n",
       "  <tbody>\n",
       "    <tr>\n",
       "      <td>0</td>\n",
       "      <td>619</td>\n",
       "      <td>42</td>\n",
       "      <td>2.0</td>\n",
       "      <td>0.00</td>\n",
       "      <td>1</td>\n",
       "      <td>1</td>\n",
       "      <td>1</td>\n",
       "      <td>101348.88</td>\n",
       "      <td>1</td>\n",
       "      <td>0</td>\n",
       "      <td>0</td>\n",
       "      <td>0</td>\n",
       "    </tr>\n",
       "    <tr>\n",
       "      <td>1</td>\n",
       "      <td>608</td>\n",
       "      <td>41</td>\n",
       "      <td>1.0</td>\n",
       "      <td>83807.86</td>\n",
       "      <td>1</td>\n",
       "      <td>0</td>\n",
       "      <td>1</td>\n",
       "      <td>112542.58</td>\n",
       "      <td>0</td>\n",
       "      <td>0</td>\n",
       "      <td>1</td>\n",
       "      <td>0</td>\n",
       "    </tr>\n",
       "    <tr>\n",
       "      <td>2</td>\n",
       "      <td>502</td>\n",
       "      <td>42</td>\n",
       "      <td>8.0</td>\n",
       "      <td>159660.80</td>\n",
       "      <td>3</td>\n",
       "      <td>1</td>\n",
       "      <td>0</td>\n",
       "      <td>113931.57</td>\n",
       "      <td>1</td>\n",
       "      <td>0</td>\n",
       "      <td>0</td>\n",
       "      <td>0</td>\n",
       "    </tr>\n",
       "    <tr>\n",
       "      <td>3</td>\n",
       "      <td>699</td>\n",
       "      <td>39</td>\n",
       "      <td>1.0</td>\n",
       "      <td>0.00</td>\n",
       "      <td>2</td>\n",
       "      <td>0</td>\n",
       "      <td>0</td>\n",
       "      <td>93826.63</td>\n",
       "      <td>0</td>\n",
       "      <td>0</td>\n",
       "      <td>0</td>\n",
       "      <td>0</td>\n",
       "    </tr>\n",
       "    <tr>\n",
       "      <td>4</td>\n",
       "      <td>850</td>\n",
       "      <td>43</td>\n",
       "      <td>2.0</td>\n",
       "      <td>125510.82</td>\n",
       "      <td>1</td>\n",
       "      <td>1</td>\n",
       "      <td>1</td>\n",
       "      <td>79084.10</td>\n",
       "      <td>0</td>\n",
       "      <td>0</td>\n",
       "      <td>1</td>\n",
       "      <td>0</td>\n",
       "    </tr>\n",
       "  </tbody>\n",
       "</table>\n",
       "</div>"
      ],
      "text/plain": [
       "   CreditScore  Age  Tenure    Balance  NumOfProducts  HasCrCard  \\\n",
       "0          619   42     2.0       0.00              1          1   \n",
       "1          608   41     1.0   83807.86              1          0   \n",
       "2          502   42     8.0  159660.80              3          1   \n",
       "3          699   39     1.0       0.00              2          0   \n",
       "4          850   43     2.0  125510.82              1          1   \n",
       "\n",
       "   IsActiveMember  EstimatedSalary  Exited  Geography_Germany  \\\n",
       "0               1        101348.88       1                  0   \n",
       "1               1        112542.58       0                  0   \n",
       "2               0        113931.57       1                  0   \n",
       "3               0         93826.63       0                  0   \n",
       "4               1         79084.10       0                  0   \n",
       "\n",
       "   Geography_Spain  Gender_Male  \n",
       "0                0            0  \n",
       "1                1            0  \n",
       "2                0            0  \n",
       "3                0            0  \n",
       "4                1            0  "
      ]
     },
     "metadata": {},
     "output_type": "display_data"
    }
   ],
   "source": [
    "data_ohe = pd.get_dummies(data, drop_first = True)\n",
    "display(data_ohe.head())"
   ]
  },
  {
   "cell_type": "markdown",
   "metadata": {},
   "source": [
    "Сформированы dummy-переменные для столбцов: 'Geography', 'Gender'.\n",
    "\n",
    "Dummy variables are formed for the columns: 'Geography', 'Gender'."
   ]
  },
  {
   "cell_type": "markdown",
   "metadata": {},
   "source": [
    "### Разделение данных на выборки\n",
    "\n",
    "### Dividing the data into samples"
   ]
  },
  {
   "cell_type": "markdown",
   "metadata": {},
   "source": [
    "#### Обучающая выборка\n",
    "\n",
    "#### Training set"
   ]
  },
  {
   "cell_type": "markdown",
   "metadata": {},
   "source": [
    "##### Определение\n",
    "\n",
    "##### Definition"
   ]
  },
  {
   "cell_type": "code",
   "execution_count": 9,
   "metadata": {},
   "outputs": [
    {
     "name": "stdout",
     "output_type": "stream",
     "text": [
      "Размеры обучающей выборки:\n",
      "(6000, 11)\n",
      "(6000,)\n"
     ]
    }
   ],
   "source": [
    "data_ohe_train, data_ohe_valid_test = train_test_split(data_ohe, test_size = 0.4, random_state = 12345)\n",
    "# Обучающая выборка\n",
    "features_train = data_ohe_train.drop(['Exited'], axis = 1)\n",
    "target_train = data_ohe_train['Exited']\n",
    "print('Размеры обучающей выборки:')\n",
    "print(features_train.shape)\n",
    "print(target_train.shape)"
   ]
  },
  {
   "cell_type": "markdown",
   "metadata": {},
   "source": [
    "Полученые признаки и классы для обучающей выборки: 60% от общего количества данных. Остальные 40% будут разделены на валидационную и тестовую, в следующих блоках.\n",
    "\n",
    "The obtained features and classes for the training sample: 60% of the total amount of data. The remaining 40% will be divided into validation and test, in the following blocks."
   ]
  },
  {
   "cell_type": "markdown",
   "metadata": {},
   "source": [
    "##### Масштабирование\n",
    "\n",
    "##### Scaling"
   ]
  },
  {
   "cell_type": "code",
   "execution_count": 10,
   "metadata": {},
   "outputs": [
    {
     "data": {
      "text/plain": [
       "StandardScaler(copy=True, with_mean=True, with_std=True)"
      ]
     },
     "execution_count": 10,
     "metadata": {},
     "output_type": "execute_result"
    }
   ],
   "source": [
    "numeric = ['CreditScore', 'Age', 'Tenure', 'Balance', 'NumOfProducts', 'EstimatedSalary']\n",
    "scaler = StandardScaler()\n",
    "scaler.fit(features_train[numeric])"
   ]
  },
  {
   "cell_type": "markdown",
   "metadata": {},
   "source": [
    "Определены столбцы для масштабирования и параметры.\n",
    "\n",
    "The columns for scaling and parameters are defined."
   ]
  },
  {
   "cell_type": "code",
   "execution_count": 11,
   "metadata": {
    "scrolled": true
   },
   "outputs": [
    {
     "data": {
      "text/html": [
       "<div>\n",
       "<style scoped>\n",
       "    .dataframe tbody tr th:only-of-type {\n",
       "        vertical-align: middle;\n",
       "    }\n",
       "\n",
       "    .dataframe tbody tr th {\n",
       "        vertical-align: top;\n",
       "    }\n",
       "\n",
       "    .dataframe thead th {\n",
       "        text-align: right;\n",
       "    }\n",
       "</style>\n",
       "<table border=\"1\" class=\"dataframe\">\n",
       "  <thead>\n",
       "    <tr style=\"text-align: right;\">\n",
       "      <th></th>\n",
       "      <th>CreditScore</th>\n",
       "      <th>Age</th>\n",
       "      <th>Tenure</th>\n",
       "      <th>Balance</th>\n",
       "      <th>NumOfProducts</th>\n",
       "      <th>HasCrCard</th>\n",
       "      <th>IsActiveMember</th>\n",
       "      <th>EstimatedSalary</th>\n",
       "      <th>Geography_Germany</th>\n",
       "      <th>Geography_Spain</th>\n",
       "      <th>Gender_Male</th>\n",
       "    </tr>\n",
       "  </thead>\n",
       "  <tbody>\n",
       "    <tr>\n",
       "      <td>count</td>\n",
       "      <td>6000.000000</td>\n",
       "      <td>6000.000000</td>\n",
       "      <td>6000.000000</td>\n",
       "      <td>6000.000000</td>\n",
       "      <td>6000.000000</td>\n",
       "      <td>6000.000000</td>\n",
       "      <td>6000.000000</td>\n",
       "      <td>6000.000000</td>\n",
       "      <td>6000.000000</td>\n",
       "      <td>6000.000000</td>\n",
       "      <td>6000.000000</td>\n",
       "    </tr>\n",
       "    <tr>\n",
       "      <td>mean</td>\n",
       "      <td>0.005119</td>\n",
       "      <td>-0.062938</td>\n",
       "      <td>-0.000914</td>\n",
       "      <td>0.033877</td>\n",
       "      <td>-0.033671</td>\n",
       "      <td>0.707833</td>\n",
       "      <td>0.526833</td>\n",
       "      <td>-0.001604</td>\n",
       "      <td>0.246833</td>\n",
       "      <td>0.250667</td>\n",
       "      <td>0.548500</td>\n",
       "    </tr>\n",
       "    <tr>\n",
       "      <td>std</td>\n",
       "      <td>0.634653</td>\n",
       "      <td>0.599986</td>\n",
       "      <td>0.657918</td>\n",
       "      <td>0.702630</td>\n",
       "      <td>0.708017</td>\n",
       "      <td>0.454796</td>\n",
       "      <td>0.499321</td>\n",
       "      <td>0.675107</td>\n",
       "      <td>0.431205</td>\n",
       "      <td>0.433433</td>\n",
       "      <td>0.497684</td>\n",
       "    </tr>\n",
       "    <tr>\n",
       "      <td>min</td>\n",
       "      <td>-0.996262</td>\n",
       "      <td>-0.963065</td>\n",
       "      <td>-0.949795</td>\n",
       "      <td>-0.843494</td>\n",
       "      <td>-0.712163</td>\n",
       "      <td>0.000000</td>\n",
       "      <td>0.000000</td>\n",
       "      <td>-0.938223</td>\n",
       "      <td>0.000000</td>\n",
       "      <td>0.000000</td>\n",
       "      <td>0.000000</td>\n",
       "    </tr>\n",
       "    <tr>\n",
       "      <td>25%</td>\n",
       "      <td>-0.597622</td>\n",
       "      <td>-0.576965</td>\n",
       "      <td>-0.627751</td>\n",
       "      <td>-0.843494</td>\n",
       "      <td>-0.712163</td>\n",
       "      <td>0.000000</td>\n",
       "      <td>0.000000</td>\n",
       "      <td>-0.698453</td>\n",
       "      <td>0.000000</td>\n",
       "      <td>0.000000</td>\n",
       "      <td>0.000000</td>\n",
       "    </tr>\n",
       "    <tr>\n",
       "      <td>50%</td>\n",
       "      <td>0.021917</td>\n",
       "      <td>-0.181356</td>\n",
       "      <td>-0.009706</td>\n",
       "      <td>0.315143</td>\n",
       "      <td>-0.712163</td>\n",
       "      <td>1.000000</td>\n",
       "      <td>1.000000</td>\n",
       "      <td>0.011143</td>\n",
       "      <td>0.000000</td>\n",
       "      <td>0.000000</td>\n",
       "      <td>1.000000</td>\n",
       "    </tr>\n",
       "    <tr>\n",
       "      <td>75%</td>\n",
       "      <td>0.585619</td>\n",
       "      <td>0.446995</td>\n",
       "      <td>0.615844</td>\n",
       "      <td>0.676129</td>\n",
       "      <td>0.680558</td>\n",
       "      <td>1.000000</td>\n",
       "      <td>1.000000</td>\n",
       "      <td>0.690337</td>\n",
       "      <td>0.000000</td>\n",
       "      <td>1.000000</td>\n",
       "      <td>1.000000</td>\n",
       "    </tr>\n",
       "    <tr>\n",
       "      <td>max</td>\n",
       "      <td>0.967533</td>\n",
       "      <td>0.999916</td>\n",
       "      <td>0.947859</td>\n",
       "      <td>0.992721</td>\n",
       "      <td>0.999612</td>\n",
       "      <td>1.000000</td>\n",
       "      <td>1.000000</td>\n",
       "      <td>0.940116</td>\n",
       "      <td>1.000000</td>\n",
       "      <td>1.000000</td>\n",
       "      <td>1.000000</td>\n",
       "    </tr>\n",
       "  </tbody>\n",
       "</table>\n",
       "</div>"
      ],
      "text/plain": [
       "       CreditScore          Age       Tenure      Balance  NumOfProducts  \\\n",
       "count  6000.000000  6000.000000  6000.000000  6000.000000    6000.000000   \n",
       "mean      0.005119    -0.062938    -0.000914     0.033877      -0.033671   \n",
       "std       0.634653     0.599986     0.657918     0.702630       0.708017   \n",
       "min      -0.996262    -0.963065    -0.949795    -0.843494      -0.712163   \n",
       "25%      -0.597622    -0.576965    -0.627751    -0.843494      -0.712163   \n",
       "50%       0.021917    -0.181356    -0.009706     0.315143      -0.712163   \n",
       "75%       0.585619     0.446995     0.615844     0.676129       0.680558   \n",
       "max       0.967533     0.999916     0.947859     0.992721       0.999612   \n",
       "\n",
       "         HasCrCard  IsActiveMember  EstimatedSalary  Geography_Germany  \\\n",
       "count  6000.000000     6000.000000      6000.000000        6000.000000   \n",
       "mean      0.707833        0.526833        -0.001604           0.246833   \n",
       "std       0.454796        0.499321         0.675107           0.431205   \n",
       "min       0.000000        0.000000        -0.938223           0.000000   \n",
       "25%       0.000000        0.000000        -0.698453           0.000000   \n",
       "50%       1.000000        1.000000         0.011143           0.000000   \n",
       "75%       1.000000        1.000000         0.690337           0.000000   \n",
       "max       1.000000        1.000000         0.940116           1.000000   \n",
       "\n",
       "       Geography_Spain  Gender_Male  \n",
       "count      6000.000000  6000.000000  \n",
       "mean          0.250667     0.548500  \n",
       "std           0.433433     0.497684  \n",
       "min           0.000000     0.000000  \n",
       "25%           0.000000     0.000000  \n",
       "50%           0.000000     1.000000  \n",
       "75%           1.000000     1.000000  \n",
       "max           1.000000     1.000000  "
      ]
     },
     "metadata": {},
     "output_type": "display_data"
    }
   ],
   "source": [
    "features_train[numeric] = np.tanh(scaler.transform(features_train[numeric]))\n",
    "display(features_train.describe())"
   ]
  },
  {
   "cell_type": "markdown",
   "metadata": {},
   "source": [
    "Выполнено масштабирование обучающего множества.\n",
    "\n",
    "The training set was scaled."
   ]
  },
  {
   "cell_type": "markdown",
   "metadata": {},
   "source": [
    "#### Валидационная и тестовая выборки\n",
    "\n",
    "#### Validation and test samples"
   ]
  },
  {
   "cell_type": "markdown",
   "metadata": {},
   "source": [
    "##### Определение\n",
    "\n",
    "##### Definition"
   ]
  },
  {
   "cell_type": "code",
   "execution_count": 12,
   "metadata": {},
   "outputs": [
    {
     "name": "stdout",
     "output_type": "stream",
     "text": [
      "Размеры валидационной выборки:\n",
      "(2000, 11)\n",
      "(2000,)\n",
      "\n",
      "Размеры тестовой выборки:\n",
      "(2000, 11)\n",
      "(2000,)\n"
     ]
    }
   ],
   "source": [
    "data_ohe_valid, data_ohe_test = train_test_split(data_ohe_valid_test, test_size = 0.5, random_state = 12345)\n",
    "# ---------------------------------------------------\n",
    "# Валидационная выборка\n",
    "features_valid = data_ohe_valid.drop(['Exited'], axis = 1)\n",
    "target_valid   = data_ohe_valid['Exited']\n",
    "print('Размеры валидационной выборки:')\n",
    "print(features_valid.shape)\n",
    "print(target_valid.shape)\n",
    "print()\n",
    "# ---------------------------------------------------\n",
    "# Тестовая выборка\n",
    "features_test = data_ohe_test.drop(['Exited'], axis = 1)\n",
    "target_test   = data_ohe_test['Exited']\n",
    "print('Размеры тестовой выборки:')\n",
    "print(features_test.shape)\n",
    "print(target_test.shape)"
   ]
  },
  {
   "cell_type": "markdown",
   "metadata": {},
   "source": [
    "Выполнено разделение на обучающую, валидационную, тестовую выборки в соотношении: 60%, 20%, 20%.\n",
    "\n",
    "The division into training, validation, and test samples was performed in the ratio: 60%, 20%, 20%."
   ]
  },
  {
   "cell_type": "markdown",
   "metadata": {},
   "source": [
    "##### Масштабирование\n",
    "\n",
    "##### Scaling"
   ]
  },
  {
   "cell_type": "code",
   "execution_count": 13,
   "metadata": {
    "scrolled": false
   },
   "outputs": [
    {
     "data": {
      "text/html": [
       "<div>\n",
       "<style scoped>\n",
       "    .dataframe tbody tr th:only-of-type {\n",
       "        vertical-align: middle;\n",
       "    }\n",
       "\n",
       "    .dataframe tbody tr th {\n",
       "        vertical-align: top;\n",
       "    }\n",
       "\n",
       "    .dataframe thead th {\n",
       "        text-align: right;\n",
       "    }\n",
       "</style>\n",
       "<table border=\"1\" class=\"dataframe\">\n",
       "  <thead>\n",
       "    <tr style=\"text-align: right;\">\n",
       "      <th></th>\n",
       "      <th>CreditScore</th>\n",
       "      <th>Age</th>\n",
       "      <th>Tenure</th>\n",
       "      <th>Balance</th>\n",
       "      <th>NumOfProducts</th>\n",
       "      <th>HasCrCard</th>\n",
       "      <th>IsActiveMember</th>\n",
       "      <th>EstimatedSalary</th>\n",
       "      <th>Geography_Germany</th>\n",
       "      <th>Geography_Spain</th>\n",
       "      <th>Gender_Male</th>\n",
       "    </tr>\n",
       "  </thead>\n",
       "  <tbody>\n",
       "    <tr>\n",
       "      <td>count</td>\n",
       "      <td>2000.000000</td>\n",
       "      <td>2000.000000</td>\n",
       "      <td>2000.000000</td>\n",
       "      <td>2000.000000</td>\n",
       "      <td>2000.000000</td>\n",
       "      <td>2000.000000</td>\n",
       "      <td>2000.000000</td>\n",
       "      <td>2000.000000</td>\n",
       "      <td>2000.000000</td>\n",
       "      <td>2000.000000</td>\n",
       "      <td>2000.000000</td>\n",
       "    </tr>\n",
       "    <tr>\n",
       "      <td>mean</td>\n",
       "      <td>-0.031060</td>\n",
       "      <td>-0.064431</td>\n",
       "      <td>-0.043652</td>\n",
       "      <td>0.042139</td>\n",
       "      <td>0.003837</td>\n",
       "      <td>0.704500</td>\n",
       "      <td>0.497500</td>\n",
       "      <td>0.015148</td>\n",
       "      <td>0.261500</td>\n",
       "      <td>0.234500</td>\n",
       "      <td>0.530000</td>\n",
       "    </tr>\n",
       "    <tr>\n",
       "      <td>std</td>\n",
       "      <td>0.641760</td>\n",
       "      <td>0.596039</td>\n",
       "      <td>0.661681</td>\n",
       "      <td>0.706921</td>\n",
       "      <td>0.709921</td>\n",
       "      <td>0.456381</td>\n",
       "      <td>0.500119</td>\n",
       "      <td>0.678591</td>\n",
       "      <td>0.439562</td>\n",
       "      <td>0.423792</td>\n",
       "      <td>0.499224</td>\n",
       "    </tr>\n",
       "    <tr>\n",
       "      <td>min</td>\n",
       "      <td>-0.994899</td>\n",
       "      <td>-0.963065</td>\n",
       "      <td>-0.949795</td>\n",
       "      <td>-0.843494</td>\n",
       "      <td>-0.712163</td>\n",
       "      <td>0.000000</td>\n",
       "      <td>0.000000</td>\n",
       "      <td>-0.938060</td>\n",
       "      <td>0.000000</td>\n",
       "      <td>0.000000</td>\n",
       "      <td>0.000000</td>\n",
       "    </tr>\n",
       "    <tr>\n",
       "      <td>25%</td>\n",
       "      <td>-0.642332</td>\n",
       "      <td>-0.576965</td>\n",
       "      <td>-0.627751</td>\n",
       "      <td>-0.843494</td>\n",
       "      <td>-0.712163</td>\n",
       "      <td>0.000000</td>\n",
       "      <td>0.000000</td>\n",
       "      <td>-0.685264</td>\n",
       "      <td>0.000000</td>\n",
       "      <td>0.000000</td>\n",
       "      <td>0.000000</td>\n",
       "    </tr>\n",
       "    <tr>\n",
       "      <td>50%</td>\n",
       "      <td>-0.035181</td>\n",
       "      <td>-0.181356</td>\n",
       "      <td>-0.009706</td>\n",
       "      <td>0.343705</td>\n",
       "      <td>0.680558</td>\n",
       "      <td>1.000000</td>\n",
       "      <td>0.000000</td>\n",
       "      <td>0.007231</td>\n",
       "      <td>0.000000</td>\n",
       "      <td>0.000000</td>\n",
       "      <td>1.000000</td>\n",
       "    </tr>\n",
       "    <tr>\n",
       "      <td>75%</td>\n",
       "      <td>0.578754</td>\n",
       "      <td>0.446995</td>\n",
       "      <td>0.615844</td>\n",
       "      <td>0.680159</td>\n",
       "      <td>0.680558</td>\n",
       "      <td>1.000000</td>\n",
       "      <td>1.000000</td>\n",
       "      <td>0.724091</td>\n",
       "      <td>1.000000</td>\n",
       "      <td>0.000000</td>\n",
       "      <td>1.000000</td>\n",
       "    </tr>\n",
       "    <tr>\n",
       "      <td>max</td>\n",
       "      <td>0.967533</td>\n",
       "      <td>0.999916</td>\n",
       "      <td>0.947859</td>\n",
       "      <td>0.989130</td>\n",
       "      <td>0.999612</td>\n",
       "      <td>1.000000</td>\n",
       "      <td>1.000000</td>\n",
       "      <td>0.940239</td>\n",
       "      <td>1.000000</td>\n",
       "      <td>1.000000</td>\n",
       "      <td>1.000000</td>\n",
       "    </tr>\n",
       "  </tbody>\n",
       "</table>\n",
       "</div>"
      ],
      "text/plain": [
       "       CreditScore          Age       Tenure      Balance  NumOfProducts  \\\n",
       "count  2000.000000  2000.000000  2000.000000  2000.000000    2000.000000   \n",
       "mean     -0.031060    -0.064431    -0.043652     0.042139       0.003837   \n",
       "std       0.641760     0.596039     0.661681     0.706921       0.709921   \n",
       "min      -0.994899    -0.963065    -0.949795    -0.843494      -0.712163   \n",
       "25%      -0.642332    -0.576965    -0.627751    -0.843494      -0.712163   \n",
       "50%      -0.035181    -0.181356    -0.009706     0.343705       0.680558   \n",
       "75%       0.578754     0.446995     0.615844     0.680159       0.680558   \n",
       "max       0.967533     0.999916     0.947859     0.989130       0.999612   \n",
       "\n",
       "         HasCrCard  IsActiveMember  EstimatedSalary  Geography_Germany  \\\n",
       "count  2000.000000     2000.000000      2000.000000        2000.000000   \n",
       "mean      0.704500        0.497500         0.015148           0.261500   \n",
       "std       0.456381        0.500119         0.678591           0.439562   \n",
       "min       0.000000        0.000000        -0.938060           0.000000   \n",
       "25%       0.000000        0.000000        -0.685264           0.000000   \n",
       "50%       1.000000        0.000000         0.007231           0.000000   \n",
       "75%       1.000000        1.000000         0.724091           1.000000   \n",
       "max       1.000000        1.000000         0.940239           1.000000   \n",
       "\n",
       "       Geography_Spain  Gender_Male  \n",
       "count      2000.000000  2000.000000  \n",
       "mean          0.234500     0.530000  \n",
       "std           0.423792     0.499224  \n",
       "min           0.000000     0.000000  \n",
       "25%           0.000000     0.000000  \n",
       "50%           0.000000     1.000000  \n",
       "75%           0.000000     1.000000  \n",
       "max           1.000000     1.000000  "
      ]
     },
     "metadata": {},
     "output_type": "display_data"
    }
   ],
   "source": [
    "features_valid[numeric] = np.tanh(scaler.transform(features_valid[numeric]))\n",
    "display(features_valid.describe())"
   ]
  },
  {
   "cell_type": "code",
   "execution_count": 14,
   "metadata": {},
   "outputs": [
    {
     "data": {
      "text/html": [
       "<div>\n",
       "<style scoped>\n",
       "    .dataframe tbody tr th:only-of-type {\n",
       "        vertical-align: middle;\n",
       "    }\n",
       "\n",
       "    .dataframe tbody tr th {\n",
       "        vertical-align: top;\n",
       "    }\n",
       "\n",
       "    .dataframe thead th {\n",
       "        text-align: right;\n",
       "    }\n",
       "</style>\n",
       "<table border=\"1\" class=\"dataframe\">\n",
       "  <thead>\n",
       "    <tr style=\"text-align: right;\">\n",
       "      <th></th>\n",
       "      <th>CreditScore</th>\n",
       "      <th>Age</th>\n",
       "      <th>Tenure</th>\n",
       "      <th>Balance</th>\n",
       "      <th>NumOfProducts</th>\n",
       "      <th>HasCrCard</th>\n",
       "      <th>IsActiveMember</th>\n",
       "      <th>EstimatedSalary</th>\n",
       "      <th>Geography_Germany</th>\n",
       "      <th>Geography_Spain</th>\n",
       "      <th>Gender_Male</th>\n",
       "    </tr>\n",
       "  </thead>\n",
       "  <tbody>\n",
       "    <tr>\n",
       "      <td>count</td>\n",
       "      <td>2000.000000</td>\n",
       "      <td>2000.000000</td>\n",
       "      <td>2000.000000</td>\n",
       "      <td>2000.000000</td>\n",
       "      <td>2000.000000</td>\n",
       "      <td>2000.00000</td>\n",
       "      <td>2000.000000</td>\n",
       "      <td>2000.000000</td>\n",
       "      <td>2000.000000</td>\n",
       "      <td>2000.00000</td>\n",
       "      <td>2000.000000</td>\n",
       "    </tr>\n",
       "    <tr>\n",
       "      <td>mean</td>\n",
       "      <td>-0.020690</td>\n",
       "      <td>-0.059444</td>\n",
       "      <td>0.009536</td>\n",
       "      <td>0.018507</td>\n",
       "      <td>0.010119</td>\n",
       "      <td>0.69950</td>\n",
       "      <td>0.497500</td>\n",
       "      <td>0.015358</td>\n",
       "      <td>0.252500</td>\n",
       "      <td>0.25200</td>\n",
       "      <td>0.553000</td>\n",
       "    </tr>\n",
       "    <tr>\n",
       "      <td>std</td>\n",
       "      <td>0.643587</td>\n",
       "      <td>0.584851</td>\n",
       "      <td>0.661347</td>\n",
       "      <td>0.711221</td>\n",
       "      <td>0.708068</td>\n",
       "      <td>0.45859</td>\n",
       "      <td>0.500119</td>\n",
       "      <td>0.664791</td>\n",
       "      <td>0.434555</td>\n",
       "      <td>0.43427</td>\n",
       "      <td>0.497307</td>\n",
       "    </tr>\n",
       "    <tr>\n",
       "      <td>min</td>\n",
       "      <td>-0.996262</td>\n",
       "      <td>-0.963065</td>\n",
       "      <td>-0.949795</td>\n",
       "      <td>-0.843494</td>\n",
       "      <td>-0.712163</td>\n",
       "      <td>0.00000</td>\n",
       "      <td>0.000000</td>\n",
       "      <td>-0.937950</td>\n",
       "      <td>0.000000</td>\n",
       "      <td>0.00000</td>\n",
       "      <td>0.000000</td>\n",
       "    </tr>\n",
       "    <tr>\n",
       "      <td>25%</td>\n",
       "      <td>-0.642332</td>\n",
       "      <td>-0.576965</td>\n",
       "      <td>-0.627751</td>\n",
       "      <td>-0.843494</td>\n",
       "      <td>-0.712163</td>\n",
       "      <td>0.00000</td>\n",
       "      <td>0.000000</td>\n",
       "      <td>-0.646574</td>\n",
       "      <td>0.000000</td>\n",
       "      <td>0.00000</td>\n",
       "      <td>0.000000</td>\n",
       "    </tr>\n",
       "    <tr>\n",
       "      <td>50%</td>\n",
       "      <td>-0.045549</td>\n",
       "      <td>-0.181356</td>\n",
       "      <td>-0.009706</td>\n",
       "      <td>0.307973</td>\n",
       "      <td>0.680558</td>\n",
       "      <td>1.00000</td>\n",
       "      <td>0.000000</td>\n",
       "      <td>0.018805</td>\n",
       "      <td>0.000000</td>\n",
       "      <td>0.00000</td>\n",
       "      <td>1.000000</td>\n",
       "    </tr>\n",
       "    <tr>\n",
       "      <td>75%</td>\n",
       "      <td>0.599099</td>\n",
       "      <td>0.446995</td>\n",
       "      <td>0.615844</td>\n",
       "      <td>0.672228</td>\n",
       "      <td>0.680558</td>\n",
       "      <td>1.00000</td>\n",
       "      <td>1.000000</td>\n",
       "      <td>0.694016</td>\n",
       "      <td>1.000000</td>\n",
       "      <td>1.00000</td>\n",
       "      <td>1.000000</td>\n",
       "    </tr>\n",
       "    <tr>\n",
       "      <td>max</td>\n",
       "      <td>0.967533</td>\n",
       "      <td>0.999319</td>\n",
       "      <td>0.947859</td>\n",
       "      <td>0.981370</td>\n",
       "      <td>0.999612</td>\n",
       "      <td>1.00000</td>\n",
       "      <td>1.000000</td>\n",
       "      <td>0.940283</td>\n",
       "      <td>1.000000</td>\n",
       "      <td>1.00000</td>\n",
       "      <td>1.000000</td>\n",
       "    </tr>\n",
       "  </tbody>\n",
       "</table>\n",
       "</div>"
      ],
      "text/plain": [
       "       CreditScore          Age       Tenure      Balance  NumOfProducts  \\\n",
       "count  2000.000000  2000.000000  2000.000000  2000.000000    2000.000000   \n",
       "mean     -0.020690    -0.059444     0.009536     0.018507       0.010119   \n",
       "std       0.643587     0.584851     0.661347     0.711221       0.708068   \n",
       "min      -0.996262    -0.963065    -0.949795    -0.843494      -0.712163   \n",
       "25%      -0.642332    -0.576965    -0.627751    -0.843494      -0.712163   \n",
       "50%      -0.045549    -0.181356    -0.009706     0.307973       0.680558   \n",
       "75%       0.599099     0.446995     0.615844     0.672228       0.680558   \n",
       "max       0.967533     0.999319     0.947859     0.981370       0.999612   \n",
       "\n",
       "        HasCrCard  IsActiveMember  EstimatedSalary  Geography_Germany  \\\n",
       "count  2000.00000     2000.000000      2000.000000        2000.000000   \n",
       "mean      0.69950        0.497500         0.015358           0.252500   \n",
       "std       0.45859        0.500119         0.664791           0.434555   \n",
       "min       0.00000        0.000000        -0.937950           0.000000   \n",
       "25%       0.00000        0.000000        -0.646574           0.000000   \n",
       "50%       1.00000        0.000000         0.018805           0.000000   \n",
       "75%       1.00000        1.000000         0.694016           1.000000   \n",
       "max       1.00000        1.000000         0.940283           1.000000   \n",
       "\n",
       "       Geography_Spain  Gender_Male  \n",
       "count       2000.00000  2000.000000  \n",
       "mean           0.25200     0.553000  \n",
       "std            0.43427     0.497307  \n",
       "min            0.00000     0.000000  \n",
       "25%            0.00000     0.000000  \n",
       "50%            0.00000     1.000000  \n",
       "75%            1.00000     1.000000  \n",
       "max            1.00000     1.000000  "
      ]
     },
     "metadata": {},
     "output_type": "display_data"
    }
   ],
   "source": [
    "features_test[numeric] = np.tanh(scaler.transform(features_test[numeric]))\n",
    "display(features_test.describe())"
   ]
  },
  {
   "cell_type": "markdown",
   "metadata": {},
   "source": [
    "Выполнено масштабирование валидационного и тестового множеств.\n",
    "\n",
    "The validation and test sets were scaled."
   ]
  },
  {
   "cell_type": "markdown",
   "metadata": {},
   "source": [
    "В данном разделе выполнена задача подготовки данных: устранены пропуски, дубликатов не обнаружено, типы данных соответствуют значениям.\n",
    "\n",
    "In this section, the task of data preparation has been completed: omissions have been eliminated, no duplicates have been detected, data types correspond to values."
   ]
  },
  {
   "cell_type": "markdown",
   "metadata": {},
   "source": [
    "## Исследование задачи\n",
    "\n",
    "## Problem research"
   ]
  },
  {
   "cell_type": "markdown",
   "metadata": {},
   "source": [
    "### Определение соотношения классов для всех множеств\n",
    "\n",
    "### Determining the class ratio for all sets"
   ]
  },
  {
   "cell_type": "code",
   "execution_count": 15,
   "metadata": {
    "scrolled": false
   },
   "outputs": [
    {
     "data": {
      "image/png": "[encoded data removed]",
      "text/plain": [
       "<Figure size 432x288 with 1 Axes>"
      ]
     },
     "metadata": {
      "needs_background": "light"
     },
     "output_type": "display_data"
    },
    {
     "name": "stdout",
     "output_type": "stream",
     "text": [
      "\n",
      "0    7963\n",
      "1    2037\n",
      "Name: Exited, dtype: int64\n"
     ]
    }
   ],
   "source": [
    "data['Exited'].hist()\n",
    "plt.title('Гистограмма соотношения классов Exited')\n",
    "plt.show()\n",
    "print()\n",
    "print(data['Exited'].value_counts())"
   ]
  },
  {
   "cell_type": "markdown",
   "metadata": {},
   "source": [
    "Количество \"ушедших клиентов\" около 20%. Явный дисбалланс классов на всем множестве.\n",
    "\n",
    "The number of \"departed clients\" is about 20%. A clear imbalance of classes on the entire set."
   ]
  },
  {
   "cell_type": "code",
   "execution_count": 16,
   "metadata": {},
   "outputs": [
    {
     "data": {
      "image/png": "[encoded data removed]",
      "text/plain": [
       "<Figure size 432x288 with 1 Axes>"
      ]
     },
     "metadata": {
      "needs_background": "light"
     },
     "output_type": "display_data"
    },
    {
     "name": "stdout",
     "output_type": "stream",
     "text": [
      "\n",
      "0    4804\n",
      "1    1196\n",
      "Name: Exited, dtype: int64\n"
     ]
    }
   ],
   "source": [
    "target_train.hist()\n",
    "plt.title('Гистограмма соотношения классов Exited')\n",
    "plt.show()\n",
    "print()\n",
    "print(target_train.value_counts())"
   ]
  },
  {
   "cell_type": "markdown",
   "metadata": {},
   "source": [
    "Количество ушедших клиентов также ~20% на обучающем множестве.\n",
    "\n",
    "The number of departed clients is also ~20% on the training set."
   ]
  },
  {
   "cell_type": "code",
   "execution_count": 17,
   "metadata": {
    "scrolled": false
   },
   "outputs": [
    {
     "data": {
      "image/png": "[encoded data removed]",
      "text/plain": [
       "<Figure size 432x288 with 1 Axes>"
      ]
     },
     "metadata": {
      "needs_background": "light"
     },
     "output_type": "display_data"
    },
    {
     "name": "stdout",
     "output_type": "stream",
     "text": [
      "\n",
      "0    1582\n",
      "1     418\n",
      "Name: Exited, dtype: int64\n"
     ]
    }
   ],
   "source": [
    "target_valid.hist()\n",
    "plt.title('Гистограмма соотношения классов Exited')\n",
    "plt.show()\n",
    "print()\n",
    "print(target_valid.value_counts())"
   ]
  },
  {
   "cell_type": "markdown",
   "metadata": {},
   "source": [
    "Количество ушедших клиентов также ~20% на валидационном множестве.\n",
    "\n",
    "The number of departed clients is also ~20% on the validation set."
   ]
  },
  {
   "cell_type": "code",
   "execution_count": 18,
   "metadata": {
    "scrolled": false
   },
   "outputs": [
    {
     "data": {
      "image/png": "[encoded data removed]",
      "text/plain": [
       "<Figure size 432x288 with 1 Axes>"
      ]
     },
     "metadata": {
      "needs_background": "light"
     },
     "output_type": "display_data"
    },
    {
     "name": "stdout",
     "output_type": "stream",
     "text": [
      "\n",
      "0    1577\n",
      "1     423\n",
      "Name: Exited, dtype: int64\n"
     ]
    }
   ],
   "source": [
    "target_test.hist()\n",
    "plt.title('Гистограмма соотношения классов Exited')\n",
    "plt.show()\n",
    "print()\n",
    "print(target_test.value_counts())"
   ]
  },
  {
   "cell_type": "markdown",
   "metadata": {},
   "source": [
    "Количество ушедших клиентов также ~20% на тестовом множестве.\n",
    "\n",
    "The number of departed clients is also ~20% on the test set."
   ]
  },
  {
   "cell_type": "markdown",
   "metadata": {},
   "source": [
    "### Решающее дерево (несбалансированная выборка)\n",
    "\n",
    "### Decision tree (unbalanced selection)"
   ]
  },
  {
   "cell_type": "markdown",
   "metadata": {},
   "source": [
    "#### Подбор оптимальных гиперпараметров и обучение модели\n",
    "\n",
    "#### Selection of optimal hyperparameters and model training"
   ]
  },
  {
   "cell_type": "code",
   "execution_count": 19,
   "metadata": {},
   "outputs": [
    {
     "name": "stdout",
     "output_type": "stream",
     "text": [
      "              precision    recall  f1-score   support\n",
      "\n",
      "           0       0.87      0.97      0.91      1582\n",
      "           1       0.78      0.45      0.57       418\n",
      "\n",
      "    accuracy                           0.86      2000\n",
      "   macro avg       0.82      0.71      0.74      2000\n",
      "weighted avg       0.85      0.86      0.84      2000\n",
      "\n",
      "\n",
      "AUC_ROC:  0.71\n",
      "\n",
      "Confusion matrix:\n",
      "[[1528   54]\n",
      " [ 230  188]]\n",
      "\n",
      "Глубина: 6\n"
     ]
    }
   ],
   "source": [
    "def best_params_DecisionTreeClassifier(features_train, target_train, features_valid, target_valid):\n",
    "    # Поиск гиперпараметров\n",
    "    best_result = 0\n",
    "    for depth in range(1, 10):\n",
    "        model = DecisionTreeClassifier(random_state = 12345, max_depth = depth)\n",
    "        model.fit(features_train, target_train)\n",
    "        predictions_valid = model.predict(features_valid)\n",
    "        result = f1_score(target_valid, predictions_valid)\n",
    "        if result > best_result:\n",
    "            best_result = result\n",
    "            best_depth  = depth\n",
    "            best_predictions_valid = predictions_valid\n",
    "    print(classification_report(target_valid, best_predictions_valid))\n",
    "    print()\n",
    "    print('AUC_ROC:  {:.2f}'.format(roc_auc_score(target_valid, best_predictions_valid)))\n",
    "    print()\n",
    "    print('Confusion matrix:')\n",
    "    print(confusion_matrix(target_valid, best_predictions_valid))\n",
    "    print()\n",
    "    print(\"Глубина:\", best_depth)\n",
    "    # Обучаем best_model на train+valid\n",
    "    # объединение массивов train и valid\n",
    "    features_train_valid = np.concatenate((features_train, features_valid), axis = 0)\n",
    "    target_train_valid = np.concatenate((target_train, target_valid), axis = 0)\n",
    "    # Обучение модели\n",
    "    best_model = DecisionTreeClassifier(random_state = 12345, max_depth = best_depth)\n",
    "    best_model.fit(features_train_valid, target_train_valid)\n",
    "    return best_model\n",
    "\n",
    "best_model_1 = best_params_DecisionTreeClassifier(features_train, target_train, features_valid, target_valid)"
   ]
  },
  {
   "cell_type": "markdown",
   "metadata": {},
   "source": [
    "#### Проверка на тестовом множестве\n",
    "\n",
    "#### Checking on a test set"
   ]
  },
  {
   "cell_type": "code",
   "execution_count": 20,
   "metadata": {
    "scrolled": true
   },
   "outputs": [
    {
     "name": "stdout",
     "output_type": "stream",
     "text": [
      "              precision    recall  f1-score   support\n",
      "\n",
      "           0       0.86      0.96      0.91      1577\n",
      "           1       0.75      0.42      0.53       423\n",
      "\n",
      "    accuracy                           0.85      2000\n",
      "   macro avg       0.80      0.69      0.72      2000\n",
      "weighted avg       0.84      0.85      0.83      2000\n",
      "\n",
      "\n",
      "AUC_ROC:  0.69\n",
      "\n",
      "Confusion matrix:\n",
      "[[1518   59]\n",
      " [ 247  176]]\n",
      "\n"
     ]
    },
    {
     "data": {
      "image/png": "[encoded data removed]",
      "text/plain": [
       "<Figure size 432x288 with 1 Axes>"
      ]
     },
     "metadata": {
      "needs_background": "light"
     },
     "output_type": "display_data"
    }
   ],
   "source": [
    "def best_model_simulation(model, features, target):\n",
    "    predictions = model.predict(features)\n",
    "    roc_auc = roc_auc_score(target, predictions)\n",
    "    print(classification_report(target, predictions))\n",
    "    print()\n",
    "    print('AUC_ROC:  {:.2f}'.format(roc_auc))\n",
    "    print()\n",
    "    print('Confusion matrix:')\n",
    "    print(confusion_matrix(target, predictions))\n",
    "    print()\n",
    "    # -------------------------------------------\n",
    "    # Строим ROC\n",
    "    probabilities = model.predict_proba(features)\n",
    "    probabilities_one = probabilities[:, 1]\n",
    "    fpr, tpr, thresholds = roc_curve(target, probabilities_one)\n",
    "    plt.figure()\n",
    "    plt.plot(fpr, tpr)\n",
    "    # ROC-кривая случайной модели\n",
    "    plt.plot([0, 1], [0, 1], linestyle='--')\n",
    "    plt.xlim([0.0, 1.0])\n",
    "    plt.ylim([0.0, 1.0])\n",
    "    plt.xlabel('False Positive Rate')\n",
    "    plt.ylabel('True Positive Rate')\n",
    "    plt.title('ROC-кривая')\n",
    "    plt.show()\n",
    "    # -------------------------------------------\n",
    "    return f1_score(target, predictions), roc_auc\n",
    "    \n",
    "best_model_1_F1, best_model_1_roc_auc = best_model_simulation(best_model_1, features_test, target_test)"
   ]
  },
  {
   "cell_type": "markdown",
   "metadata": {},
   "source": [
    "### Случайный лес (несбалансированная выборка)\n",
    "\n",
    "### Random forest (unbalanced sample)"
   ]
  },
  {
   "cell_type": "markdown",
   "metadata": {},
   "source": [
    "#### Подбор оптимальных гиперпараметров и обучение модели\n",
    "\n",
    "#### Selection of optimal hyperparameters and model training"
   ]
  },
  {
   "cell_type": "code",
   "execution_count": 21,
   "metadata": {},
   "outputs": [
    {
     "name": "stdout",
     "output_type": "stream",
     "text": [
      "              precision    recall  f1-score   support\n",
      "\n",
      "           0       0.87      0.97      0.92      1582\n",
      "           1       0.80      0.46      0.58       418\n",
      "\n",
      "    accuracy                           0.86      2000\n",
      "   macro avg       0.83      0.72      0.75      2000\n",
      "weighted avg       0.86      0.86      0.85      2000\n",
      "\n",
      "\n",
      "AUC_ROC:  0.72\n",
      "\n",
      "Confusion matrix:\n",
      "[[1533   49]\n",
      " [ 225  193]]\n",
      "\n",
      "Estimators: 100\n",
      "Глубина: 10\n"
     ]
    }
   ],
   "source": [
    "def best_params_RandomForestClassifier(features_train, target_train, features_valid, target_valid):\n",
    "    # Поиск гиперпараметров\n",
    "    best_result = 0\n",
    "    for est in range(10, 101, 10):\n",
    "        for depth in range (1, 11):\n",
    "            model = RandomForestClassifier(random_state = 12345, n_estimators = est, max_depth = depth)\n",
    "            model.fit(features_train, target_train)\n",
    "            predictions_valid = model.predict(features_valid)\n",
    "            result = f1_score(target_valid, predictions_valid)\n",
    "            if result > best_result:\n",
    "                best_result = result\n",
    "                best_est    = est\n",
    "                best_depth  = depth\n",
    "                best_predictions_valid = predictions_valid\n",
    "    print(classification_report(target_valid, best_predictions_valid))\n",
    "    print()\n",
    "    print('AUC_ROC:  {:.2f}'.format(roc_auc_score(target_valid, best_predictions_valid)))\n",
    "    print()\n",
    "    print('Confusion matrix:')\n",
    "    print(confusion_matrix(target_valid, best_predictions_valid))\n",
    "    print()\n",
    "    print('Estimators:', est)\n",
    "    print(\"Глубина:\", best_depth)\n",
    "    # Обучаем best_model на train+valid\n",
    "    # объединение массивов train и valid\n",
    "    features_train_valid = np.concatenate((features_train, features_valid), axis = 0)\n",
    "    target_train_valid = np.concatenate((target_train, target_valid), axis = 0)\n",
    "    # Обучение модели\n",
    "    best_model = RandomForestClassifier(random_state = 12345, n_estimators = best_est, max_depth = best_depth)\n",
    "    best_model.fit(features_train_valid, target_train_valid)\n",
    "    return best_model\n",
    "\n",
    "best_model_2 = best_params_RandomForestClassifier(features_train, target_train, features_valid, target_valid)"
   ]
  },
  {
   "cell_type": "markdown",
   "metadata": {},
   "source": [
    "#### Проверка на тестовом множестве\n",
    "\n",
    "#### Checking on a test set"
   ]
  },
  {
   "cell_type": "code",
   "execution_count": 22,
   "metadata": {
    "scrolled": false
   },
   "outputs": [
    {
     "name": "stdout",
     "output_type": "stream",
     "text": [
      "              precision    recall  f1-score   support\n",
      "\n",
      "           0       0.86      0.96      0.91      1577\n",
      "           1       0.74      0.39      0.52       423\n",
      "\n",
      "    accuracy                           0.84      2000\n",
      "   macro avg       0.80      0.68      0.71      2000\n",
      "weighted avg       0.83      0.84      0.82      2000\n",
      "\n",
      "\n",
      "AUC_ROC:  0.68\n",
      "\n",
      "Confusion matrix:\n",
      "[[1519   58]\n",
      " [ 256  167]]\n",
      "\n"
     ]
    },
    {
     "data": {
      "image/png": "[encoded data removed]",
      "text/plain": [
       "<Figure size 432x288 with 1 Axes>"
      ]
     },
     "metadata": {
      "needs_background": "light"
     },
     "output_type": "display_data"
    }
   ],
   "source": [
    "best_model_2_F1, best_model_2_roc_auc = best_model_simulation(best_model_2, features_test, target_test)"
   ]
  },
  {
   "cell_type": "markdown",
   "metadata": {},
   "source": [
    "### Логистическая регрессия (несбаллансированная выборка)\n",
    "\n",
    "### Logistic regression (unbalanced sample)"
   ]
  },
  {
   "cell_type": "markdown",
   "metadata": {},
   "source": [
    "#### Обучение модели\n",
    "\n",
    "#### Model Training"
   ]
  },
  {
   "cell_type": "code",
   "execution_count": 24,
   "metadata": {},
   "outputs": [
    {
     "name": "stdout",
     "output_type": "stream",
     "text": [
      "Лучшие параметры: {'C': 0.5, 'max_iter': 100}\n",
      "              precision    recall  f1-score   support\n",
      "\n",
      "           0       0.85      0.96      0.90      6386\n",
      "           1       0.70      0.34      0.45      1614\n",
      "\n",
      "    accuracy                           0.84      8000\n",
      "   macro avg       0.77      0.65      0.68      8000\n",
      "weighted avg       0.82      0.84      0.81      8000\n",
      "\n",
      "\n",
      "AUC_ROC:  0.65\n",
      "\n",
      "Confusion matrix:\n",
      "[[6149  237]\n",
      " [1071  543]]\n"
     ]
    }
   ],
   "source": [
    "def best_params_LogisticRegression_old(features_train, target_train, features_valid, target_valid):\n",
    "    model = LogisticRegression(random_state = 12345, solver='liblinear')\n",
    "    model.fit(features_train, target_train)\n",
    "    # ----------------------------------\n",
    "    predictions_valid = model.predict(features_valid)\n",
    "    print(classification_report(target_valid, predictions_valid))\n",
    "    print()\n",
    "    print('AUC_ROC:  {:.2f}'.format(roc_auc_score(target_valid, predictions_valid)))\n",
    "    print()\n",
    "    print('Confusion matrix:')\n",
    "    print(confusion_matrix(target_valid, predictions_valid))\n",
    "    # Обучаем best_model на train+valid\n",
    "    # объединение массивов train и valid\n",
    "    features_train_valid = np.concatenate((features_train, features_valid), axis = 0)\n",
    "    target_train_valid = np.concatenate((target_train, target_valid), axis = 0)\n",
    "    # Обучение модели\n",
    "    best_model = LogisticRegression(random_state = 12345, solver='liblinear')\n",
    "    best_model.fit(features_train_valid, target_train_valid)\n",
    "    return best_model\n",
    "\n",
    "def best_params_LogisticRegression(features_train, target_train, features_valid, target_valid):\n",
    "    # ----------------------------------\n",
    "    features_train_valid = np.concatenate((features_train, features_valid), axis = 0)\n",
    "    target_train_valid = np.concatenate((target_train, target_valid), axis = 0)\n",
    "    # ----------------------------------\n",
    "    model = LogisticRegression()\n",
    "    parameters = {'C': np.arange(0.1, 1.0, 0.1),\n",
    "              'max_iter': range(100, 300, 100)}\n",
    "    f1 = make_scorer(f1_score, average = 'macro')\n",
    "    grid = GridSearchCV(model, parameters, scoring = f1)\n",
    "    grid.fit(features_train_valid, target_train_valid)\n",
    "    print('Лучшие параметры:', grid.best_params_)\n",
    "    # Обучение модели\n",
    "    best_model = LogisticRegression(C = grid.best_params_['C'], max_iter = grid.best_params_['max_iter'])\n",
    "    best_model.fit(features_train_valid, target_train_valid)\n",
    "    predictions_train_valid = best_model.predict(features_train_valid)\n",
    "    print(classification_report(target_train_valid, predictions_train_valid))\n",
    "    print()\n",
    "    print('AUC_ROC:  {:.2f}'.format(roc_auc_score(target_train_valid, predictions_train_valid)))\n",
    "    print()\n",
    "    print('Confusion matrix:')\n",
    "    print(confusion_matrix(target_train_valid, predictions_train_valid))\n",
    "    return best_model\n",
    "    \n",
    "\n",
    "best_model_3 = best_params_LogisticRegression(features_train, target_train, features_valid, target_valid)"
   ]
  },
  {
   "cell_type": "markdown",
   "metadata": {},
   "source": [
    "#### Проверка на тестовом множестве\n",
    "\n",
    "#### Checking on a test set"
   ]
  },
  {
   "cell_type": "code",
   "execution_count": 25,
   "metadata": {
    "scrolled": false
   },
   "outputs": [
    {
     "name": "stdout",
     "output_type": "stream",
     "text": [
      "              precision    recall  f1-score   support\n",
      "\n",
      "           0       0.84      0.95      0.89      1577\n",
      "           1       0.64      0.30      0.41       423\n",
      "\n",
      "    accuracy                           0.82      2000\n",
      "   macro avg       0.74      0.63      0.65      2000\n",
      "weighted avg       0.80      0.82      0.79      2000\n",
      "\n",
      "\n",
      "AUC_ROC:  0.63\n",
      "\n",
      "Confusion matrix:\n",
      "[[1506   71]\n",
      " [ 295  128]]\n",
      "\n"
     ]
    },
    {
     "data": {
      "image/png": "[encoded data removed]",
      "text/plain": [
       "<Figure size 432x288 with 1 Axes>"
      ]
     },
     "metadata": {
      "needs_background": "light"
     },
     "output_type": "display_data"
    }
   ],
   "source": [
    "best_model_3_F1, best_model_3_roc_auc = best_model_simulation(best_model_3, features_test, target_test)"
   ]
  },
  {
   "cell_type": "markdown",
   "metadata": {},
   "source": [
    "### CatBoost (несбаллансированная выборка)\n",
    "\n",
    "### CatBoost (unbalanced sample)"
   ]
  },
  {
   "cell_type": "markdown",
   "metadata": {},
   "source": [
    "#### Обучение модели\n",
    "\n",
    "#### Model Training"
   ]
  },
  {
   "cell_type": "code",
   "execution_count": 26,
   "metadata": {},
   "outputs": [
    {
     "name": "stdout",
     "output_type": "stream",
     "text": [
      "Learning rate set to 0.401383\n",
      "0:\tlearn: 0.5252011\ttotal: 56.6ms\tremaining: 2.77s\n",
      "1:\tlearn: 0.4477729\ttotal: 60.9ms\tremaining: 1.46s\n",
      "2:\tlearn: 0.4043210\ttotal: 63.4ms\tremaining: 994ms\n",
      "3:\tlearn: 0.3732588\ttotal: 124ms\tremaining: 1.43s\n",
      "4:\tlearn: 0.3573358\ttotal: 130ms\tremaining: 1.17s\n",
      "5:\tlearn: 0.3450363\ttotal: 138ms\tremaining: 1.01s\n",
      "6:\tlearn: 0.3392513\ttotal: 223ms\tremaining: 1.37s\n",
      "7:\tlearn: 0.3339422\ttotal: 233ms\tremaining: 1.22s\n",
      "8:\tlearn: 0.3300833\ttotal: 319ms\tremaining: 1.45s\n",
      "9:\tlearn: 0.3279095\ttotal: 324ms\tremaining: 1.3s\n",
      "10:\tlearn: 0.3242595\ttotal: 332ms\tremaining: 1.18s\n",
      "11:\tlearn: 0.3220381\ttotal: 417ms\tremaining: 1.32s\n",
      "12:\tlearn: 0.3203542\ttotal: 423ms\tremaining: 1.2s\n",
      "13:\tlearn: 0.3187594\ttotal: 433ms\tremaining: 1.11s\n",
      "14:\tlearn: 0.3171829\ttotal: 515ms\tremaining: 1.2s\n",
      "15:\tlearn: 0.3160289\ttotal: 520ms\tremaining: 1.1s\n",
      "16:\tlearn: 0.3148971\ttotal: 527ms\tremaining: 1.02s\n",
      "17:\tlearn: 0.3133764\ttotal: 612ms\tremaining: 1.09s\n",
      "18:\tlearn: 0.3121130\ttotal: 617ms\tremaining: 1.01s\n",
      "19:\tlearn: 0.3092356\ttotal: 624ms\tremaining: 936ms\n",
      "20:\tlearn: 0.3081654\ttotal: 710ms\tremaining: 981ms\n",
      "21:\tlearn: 0.3070871\ttotal: 713ms\tremaining: 907ms\n",
      "22:\tlearn: 0.3057606\ttotal: 721ms\tremaining: 846ms\n",
      "23:\tlearn: 0.3050081\ttotal: 727ms\tremaining: 787ms\n",
      "24:\tlearn: 0.3044807\ttotal: 813ms\tremaining: 813ms\n",
      "25:\tlearn: 0.3036069\ttotal: 820ms\tremaining: 757ms\n",
      "26:\tlearn: 0.3026342\ttotal: 827ms\tremaining: 705ms\n",
      "27:\tlearn: 0.3014998\ttotal: 912ms\tremaining: 716ms\n",
      "28:\tlearn: 0.3003388\ttotal: 916ms\tremaining: 663ms\n",
      "29:\tlearn: 0.2995350\ttotal: 922ms\tremaining: 615ms\n",
      "30:\tlearn: 0.2979791\ttotal: 1s\tremaining: 615ms\n",
      "31:\tlearn: 0.2970919\ttotal: 1.01s\tremaining: 566ms\n",
      "32:\tlearn: 0.2959508\ttotal: 1.01s\tremaining: 520ms\n",
      "33:\tlearn: 0.2945880\ttotal: 1.01s\tremaining: 477ms\n",
      "34:\tlearn: 0.2938366\ttotal: 1.1s\tremaining: 473ms\n",
      "35:\tlearn: 0.2928408\ttotal: 1.1s\tremaining: 430ms\n",
      "36:\tlearn: 0.2917806\ttotal: 1.11s\tremaining: 390ms\n",
      "37:\tlearn: 0.2909105\ttotal: 1.11s\tremaining: 352ms\n",
      "38:\tlearn: 0.2898793\ttotal: 1.2s\tremaining: 338ms\n",
      "39:\tlearn: 0.2892370\ttotal: 1.2s\tremaining: 300ms\n",
      "40:\tlearn: 0.2882919\ttotal: 1.2s\tremaining: 264ms\n",
      "41:\tlearn: 0.2871504\ttotal: 1.21s\tremaining: 230ms\n",
      "42:\tlearn: 0.2851605\ttotal: 1.21s\tremaining: 198ms\n",
      "43:\tlearn: 0.2847275\ttotal: 1.29s\tremaining: 177ms\n",
      "44:\tlearn: 0.2840238\ttotal: 1.3s\tremaining: 144ms\n",
      "45:\tlearn: 0.2830409\ttotal: 1.3s\tremaining: 113ms\n",
      "46:\tlearn: 0.2824680\ttotal: 1.31s\tremaining: 83.4ms\n",
      "47:\tlearn: 0.2814312\ttotal: 1.39s\tremaining: 58.1ms\n",
      "48:\tlearn: 0.2793710\ttotal: 1.4s\tremaining: 28.5ms\n",
      "49:\tlearn: 0.2789039\ttotal: 1.4s\tremaining: 0us\n",
      "              precision    recall  f1-score   support\n",
      "\n",
      "           0       0.87      0.96      0.92      1582\n",
      "           1       0.76      0.48      0.59       418\n",
      "\n",
      "    accuracy                           0.86      2000\n",
      "   macro avg       0.82      0.72      0.75      2000\n",
      "weighted avg       0.85      0.86      0.85      2000\n",
      "\n",
      "\n",
      "AUC_ROC:  0.72\n",
      "\n",
      "Confuison matrix:\n",
      "[[1518   64]\n",
      " [ 218  200]]\n",
      "Learning rate set to 0.435428\n",
      "0:\tlearn: 0.5097291\ttotal: 3.3ms\tremaining: 162ms\n",
      "1:\tlearn: 0.4354804\ttotal: 6.39ms\tremaining: 153ms\n",
      "2:\tlearn: 0.3942044\ttotal: 9.63ms\tremaining: 151ms\n",
      "3:\tlearn: 0.3686950\ttotal: 20.9ms\tremaining: 241ms\n",
      "4:\tlearn: 0.3572684\ttotal: 33.7ms\tremaining: 303ms\n",
      "5:\tlearn: 0.3451536\ttotal: 42.7ms\tremaining: 313ms\n",
      "6:\tlearn: 0.3404247\ttotal: 120ms\tremaining: 736ms\n",
      "7:\tlearn: 0.3355529\ttotal: 124ms\tremaining: 652ms\n",
      "8:\tlearn: 0.3317440\ttotal: 127ms\tremaining: 578ms\n",
      "9:\tlearn: 0.3291848\ttotal: 130ms\tremaining: 520ms\n",
      "10:\tlearn: 0.3271828\ttotal: 220ms\tremaining: 781ms\n",
      "11:\tlearn: 0.3234892\ttotal: 224ms\tremaining: 709ms\n",
      "12:\tlearn: 0.3225236\ttotal: 228ms\tremaining: 648ms\n",
      "13:\tlearn: 0.3211321\ttotal: 319ms\tremaining: 819ms\n",
      "14:\tlearn: 0.3176711\ttotal: 323ms\tremaining: 753ms\n",
      "15:\tlearn: 0.3168142\ttotal: 331ms\tremaining: 702ms\n",
      "16:\tlearn: 0.3145193\ttotal: 418ms\tremaining: 811ms\n",
      "17:\tlearn: 0.3128609\ttotal: 424ms\tremaining: 754ms\n",
      "18:\tlearn: 0.3121054\ttotal: 433ms\tremaining: 706ms\n",
      "19:\tlearn: 0.3112779\ttotal: 513ms\tremaining: 769ms\n",
      "20:\tlearn: 0.3097908\ttotal: 516ms\tremaining: 712ms\n",
      "21:\tlearn: 0.3080620\ttotal: 518ms\tremaining: 660ms\n",
      "22:\tlearn: 0.3074014\ttotal: 521ms\tremaining: 612ms\n",
      "23:\tlearn: 0.3060835\ttotal: 610ms\tremaining: 660ms\n",
      "24:\tlearn: 0.3045946\ttotal: 613ms\tremaining: 613ms\n",
      "25:\tlearn: 0.3036040\ttotal: 615ms\tremaining: 568ms\n",
      "26:\tlearn: 0.3023587\ttotal: 621ms\tremaining: 529ms\n",
      "27:\tlearn: 0.3020007\ttotal: 707ms\tremaining: 555ms\n",
      "28:\tlearn: 0.3010435\ttotal: 710ms\tremaining: 514ms\n",
      "29:\tlearn: 0.3002564\ttotal: 713ms\tremaining: 475ms\n",
      "30:\tlearn: 0.2996001\ttotal: 715ms\tremaining: 438ms\n",
      "31:\tlearn: 0.2993191\ttotal: 804ms\tremaining: 452ms\n",
      "32:\tlearn: 0.2985036\ttotal: 811ms\tremaining: 418ms\n",
      "33:\tlearn: 0.2965510\ttotal: 814ms\tremaining: 383ms\n",
      "34:\tlearn: 0.2957272\ttotal: 817ms\tremaining: 350ms\n",
      "35:\tlearn: 0.2950027\ttotal: 905ms\tremaining: 352ms\n",
      "36:\tlearn: 0.2944988\ttotal: 908ms\tremaining: 319ms\n",
      "37:\tlearn: 0.2934157\ttotal: 911ms\tremaining: 288ms\n",
      "38:\tlearn: 0.2920962\ttotal: 914ms\tremaining: 258ms\n",
      "39:\tlearn: 0.2914417\ttotal: 1s\tremaining: 250ms\n",
      "40:\tlearn: 0.2904899\ttotal: 1s\tremaining: 220ms\n",
      "41:\tlearn: 0.2892028\ttotal: 1.01s\tremaining: 192ms\n",
      "42:\tlearn: 0.2886016\ttotal: 1.01s\tremaining: 165ms\n",
      "43:\tlearn: 0.2877279\ttotal: 1.1s\tremaining: 150ms\n",
      "44:\tlearn: 0.2867757\ttotal: 1.11s\tremaining: 123ms\n",
      "45:\tlearn: 0.2859367\ttotal: 1.11s\tremaining: 96.6ms\n",
      "46:\tlearn: 0.2850465\ttotal: 1.2s\tremaining: 76.4ms\n",
      "47:\tlearn: 0.2845483\ttotal: 1.2s\tremaining: 50ms\n",
      "48:\tlearn: 0.2839234\ttotal: 1.21s\tremaining: 24.7ms\n",
      "49:\tlearn: 0.2832079\ttotal: 1.29s\tremaining: 0us\n"
     ]
    }
   ],
   "source": [
    "def best_params_CatBoostClassifier(features_train, target_train, features_valid, target_valid):\n",
    "    iterations = 50\n",
    "    model = CatBoostClassifier(iterations = iterations, random_seed = 0)\n",
    "    model.fit(features_train, target_train)\n",
    "    predictions_valid = model.predict(features_valid)\n",
    "    print(classification_report(target_valid, predictions_valid))\n",
    "    print()\n",
    "    print('AUC_ROC:  {:.2f}'.format(roc_auc_score(target_valid, predictions_valid)))\n",
    "    print()\n",
    "    print('Confuison matrix:')\n",
    "    print(confusion_matrix(target_valid, predictions_valid))\n",
    "    # Обучаем best_model на train+valid\n",
    "    # объединение массивов train и valid\n",
    "    features_train_valid = np.concatenate((features_train, features_valid), axis = 0)\n",
    "    target_train_valid = np.concatenate((target_train, target_valid), axis = 0)\n",
    "    # Обучение модели\n",
    "    best_model = CatBoostClassifier(iterations = iterations, random_seed = 0)\n",
    "    best_model.fit(features_train_valid, target_train_valid)\n",
    "    return best_model\n",
    "\n",
    "best_model_4 = best_params_CatBoostClassifier(features_train, target_train, features_valid, target_valid)"
   ]
  },
  {
   "cell_type": "markdown",
   "metadata": {},
   "source": [
    "#### Проверка на тестовом множестве\n",
    "\n",
    "#### Checking on a test set"
   ]
  },
  {
   "cell_type": "code",
   "execution_count": 27,
   "metadata": {
    "scrolled": true
   },
   "outputs": [
    {
     "name": "stdout",
     "output_type": "stream",
     "text": [
      "              precision    recall  f1-score   support\n",
      "\n",
      "           0       0.87      0.96      0.91      1577\n",
      "           1       0.75      0.48      0.58       423\n",
      "\n",
      "    accuracy                           0.86      2000\n",
      "   macro avg       0.81      0.72      0.75      2000\n",
      "weighted avg       0.85      0.86      0.84      2000\n",
      "\n",
      "\n",
      "AUC_ROC:  0.72\n",
      "\n",
      "Confusion matrix:\n",
      "[[1509   68]\n",
      " [ 221  202]]\n",
      "\n"
     ]
    },
    {
     "data": {
      "image/png": "[encoded data removed]",
      "text/plain": [
       "<Figure size 432x288 with 1 Axes>"
      ]
     },
     "metadata": {
      "needs_background": "light"
     },
     "output_type": "display_data"
    }
   ],
   "source": [
    "best_model_4_F1, best_model_4_roc_auc = best_model_simulation(best_model_4, features_test, target_test)"
   ]
  },
  {
   "cell_type": "markdown",
   "metadata": {},
   "source": [
    "В данном разделе был выявлен дисбалланс классов. Предпринята попытка обучить разные модели \"в лоб\" на этих данных, включая очень мощную CatBoost. Модели не показали заданного F_1_score на тестовой выборке.\n",
    "\n",
    "In this section, an imbalance of classes was revealed. An attempt has been made to train different models \"head-on\" on this data, including a very powerful CatBoost. The models did not show the specified F_1_score on the test sample."
   ]
  },
  {
   "cell_type": "markdown",
   "metadata": {},
   "source": [
    "### DummyClassifier"
   ]
  },
  {
   "cell_type": "markdown",
   "metadata": {},
   "source": [
    "#### Обучение модели\n",
    "\n",
    "#### Model Training"
   ]
  },
  {
   "cell_type": "code",
   "execution_count": 28,
   "metadata": {},
   "outputs": [
    {
     "name": "stdout",
     "output_type": "stream",
     "text": [
      "              precision    recall  f1-score   support\n",
      "\n",
      "           0       0.80      0.50      0.62      6386\n",
      "           1       0.21      0.51      0.30      1614\n",
      "\n",
      "    accuracy                           0.51      8000\n",
      "   macro avg       0.51      0.51      0.46      8000\n",
      "weighted avg       0.68      0.51      0.55      8000\n",
      "\n",
      "\n",
      "AUC_ROC:  0.51\n",
      "\n",
      "Confusion matrix:\n",
      "[[3211 3175]\n",
      " [ 783  831]]\n"
     ]
    }
   ],
   "source": [
    "def best_params_DummyClassifier(features_train, target_train, features_valid, target_valid):\n",
    "    # Обучаем best_model на train+valid\n",
    "    # объединение массивов train и valid\n",
    "    features_train_valid = np.concatenate((features_train, features_valid), axis = 0)\n",
    "    target_train_valid = np.concatenate((target_train, target_valid), axis = 0)\n",
    "    # Обучение модели\n",
    "    best_model = DummyClassifier(strategy = \"uniform\")\n",
    "    best_model.fit(features_train_valid, target_train_valid)\n",
    "    # ----------------------------------\n",
    "    predictions_train_valid = best_model.predict(features_train_valid)\n",
    "    print(classification_report(target_train_valid, predictions_train_valid))\n",
    "    print()\n",
    "    print('AUC_ROC:  {:.2f}'.format(roc_auc_score(target_train_valid, predictions_train_valid)))\n",
    "    print()\n",
    "    print('Confusion matrix:')\n",
    "    print(confusion_matrix(target_train_valid, predictions_train_valid))\n",
    "    \n",
    "    return best_model\n",
    "\n",
    "best_model_5 = best_params_DummyClassifier(features_train, target_train, features_valid, target_valid)"
   ]
  },
  {
   "cell_type": "markdown",
   "metadata": {},
   "source": [
    "#### Проверка на тестовом множестве\n",
    "\n",
    "#### Checking on a test set"
   ]
  },
  {
   "cell_type": "code",
   "execution_count": 29,
   "metadata": {
    "scrolled": true
   },
   "outputs": [
    {
     "name": "stdout",
     "output_type": "stream",
     "text": [
      "              precision    recall  f1-score   support\n",
      "\n",
      "           0       0.77      0.49      0.60      1577\n",
      "           1       0.20      0.47      0.28       423\n",
      "\n",
      "    accuracy                           0.48      2000\n",
      "   macro avg       0.49      0.48      0.44      2000\n",
      "weighted avg       0.65      0.48      0.53      2000\n",
      "\n",
      "\n",
      "AUC_ROC:  0.48\n",
      "\n",
      "Confusion matrix:\n",
      "[[769 808]\n",
      " [225 198]]\n",
      "\n"
     ]
    },
    {
     "data": {
      "image/png": "[encoded data removed]",
      "text/plain": [
       "<Figure size 432x288 with 1 Axes>"
      ]
     },
     "metadata": {
      "needs_background": "light"
     },
     "output_type": "display_data"
    }
   ],
   "source": [
    "best_model_5_F1, best_model_5_roc_auc = best_model_simulation(best_model_5, features_test, target_test)"
   ]
  },
  {
   "cell_type": "markdown",
   "metadata": {},
   "source": [
    "## Борьба с дисбалансом\n",
    "\n",
    "## Fighting the imbalance"
   ]
  },
  {
   "cell_type": "markdown",
   "metadata": {},
   "source": [
    "### Увеличение выборки (upsample)"
   ]
  },
  {
   "cell_type": "code",
   "execution_count": 30,
   "metadata": {},
   "outputs": [],
   "source": [
    "def upsample(features, target, repeat):\n",
    "    features_zeros = features[target == 0]\n",
    "    features_ones = features[target == 1]\n",
    "    target_zeros = target[target == 0]\n",
    "    target_ones = target[target == 1]\n",
    "\n",
    "    features_upsampled = pd.concat([features_zeros] + [features_ones] * repeat)\n",
    "    target_upsampled = pd.concat([target_zeros] + [target_ones] * repeat)\n",
    "    \n",
    "    features_upsampled, target_upsampled = shuffle(\n",
    "        features_upsampled, target_upsampled, random_state=12345)\n",
    "    \n",
    "    return features_upsampled, target_upsampled\n",
    "\n",
    "features_train_upsampled, target_train_upsampled = upsample(features_train, target_train, 4)"
   ]
  },
  {
   "cell_type": "code",
   "execution_count": 31,
   "metadata": {
    "scrolled": true
   },
   "outputs": [
    {
     "data": {
      "image/png": "[encoded data removed]",
      "text/plain": [
       "<Figure size 432x288 with 1 Axes>"
      ]
     },
     "metadata": {
      "needs_background": "light"
     },
     "output_type": "display_data"
    },
    {
     "name": "stdout",
     "output_type": "stream",
     "text": [
      "\n",
      "0    4804\n",
      "1    4784\n",
      "Name: Exited, dtype: int64\n"
     ]
    }
   ],
   "source": [
    "target_train_upsampled.hist()\n",
    "plt.title('Гистограмма соотношения классов Exited')\n",
    "plt.show()\n",
    "print()\n",
    "print(target_train_upsampled.value_counts())"
   ]
  },
  {
   "cell_type": "markdown",
   "metadata": {},
   "source": [
    "Выполнено устранение дисбалланса классов методом upsample.\n",
    "\n",
    "The class imbalance was eliminated by the upsample method."
   ]
  },
  {
   "cell_type": "markdown",
   "metadata": {},
   "source": [
    "#### Решающее дерево (сбалансированная выборка upsample).\n",
    "\n",
    "#### Decision tree (balanced upsample)."
   ]
  },
  {
   "cell_type": "markdown",
   "metadata": {},
   "source": [
    "##### Подбор оптимальных гиперпараметров и обучение модели\n",
    "\n",
    "##### Selection of optimal hyperparameters and model training"
   ]
  },
  {
   "cell_type": "code",
   "execution_count": 32,
   "metadata": {
    "scrolled": true
   },
   "outputs": [
    {
     "name": "stdout",
     "output_type": "stream",
     "text": [
      "              precision    recall  f1-score   support\n",
      "\n",
      "           0       0.91      0.85      0.88      1582\n",
      "           1       0.54      0.67      0.60       418\n",
      "\n",
      "    accuracy                           0.81      2000\n",
      "   macro avg       0.72      0.76      0.74      2000\n",
      "weighted avg       0.83      0.81      0.82      2000\n",
      "\n",
      "\n",
      "AUC_ROC:  0.76\n",
      "\n",
      "Confusion matrix:\n",
      "[[1341  241]\n",
      " [ 138  280]]\n",
      "\n",
      "Глубина: 5\n"
     ]
    }
   ],
   "source": [
    "best_model_1_upsampled = best_params_DecisionTreeClassifier(\n",
    "    features_train_upsampled, target_train_upsampled, features_valid, target_valid)"
   ]
  },
  {
   "cell_type": "markdown",
   "metadata": {},
   "source": [
    "##### Проверка на тестовом множестве\n",
    "\n",
    "##### Checking on a test set"
   ]
  },
  {
   "cell_type": "code",
   "execution_count": 33,
   "metadata": {
    "scrolled": true
   },
   "outputs": [
    {
     "name": "stdout",
     "output_type": "stream",
     "text": [
      "              precision    recall  f1-score   support\n",
      "\n",
      "           0       0.90      0.83      0.87      1577\n",
      "           1       0.51      0.66      0.58       423\n",
      "\n",
      "    accuracy                           0.80      2000\n",
      "   macro avg       0.71      0.75      0.72      2000\n",
      "weighted avg       0.82      0.80      0.80      2000\n",
      "\n",
      "\n",
      "AUC_ROC:  0.75\n",
      "\n",
      "Confusion matrix:\n",
      "[[1311  266]\n",
      " [ 142  281]]\n",
      "\n"
     ]
    },
    {
     "data": {
      "image/png": "[encoded data removed]",
      "text/plain": [
       "<Figure size 432x288 with 1 Axes>"
      ]
     },
     "metadata": {
      "needs_background": "light"
     },
     "output_type": "display_data"
    }
   ],
   "source": [
    "best_model_1_upsampled_F1, best_model_1_upsampled_roc_auc = best_model_simulation(\n",
    "    best_model_1_upsampled, features_test, target_test)"
   ]
  },
  {
   "cell_type": "markdown",
   "metadata": {},
   "source": [
    "#### Случайный лес (сбалансированная выборка upsample)\n",
    "\n",
    "#### Random forest (balanced upsample)"
   ]
  },
  {
   "cell_type": "markdown",
   "metadata": {},
   "source": [
    "##### Подбор оптимальных гиперпараметров и обучение модели\n",
    "\n",
    "##### Selection of optimal hyperparameters and model training"
   ]
  },
  {
   "cell_type": "code",
   "execution_count": 34,
   "metadata": {},
   "outputs": [
    {
     "name": "stdout",
     "output_type": "stream",
     "text": [
      "              precision    recall  f1-score   support\n",
      "\n",
      "           0       0.92      0.86      0.89      1582\n",
      "           1       0.57      0.71      0.63       418\n",
      "\n",
      "    accuracy                           0.83      2000\n",
      "   macro avg       0.74      0.78      0.76      2000\n",
      "weighted avg       0.84      0.83      0.83      2000\n",
      "\n",
      "\n",
      "AUC_ROC:  0.78\n",
      "\n",
      "Confusion matrix:\n",
      "[[1356  226]\n",
      " [ 123  295]]\n",
      "\n",
      "Estimators: 100\n",
      "Глубина: 9\n"
     ]
    }
   ],
   "source": [
    "best_model_2_upsampled = best_params_RandomForestClassifier(\n",
    "    features_train_upsampled, target_train_upsampled, features_valid, target_valid)"
   ]
  },
  {
   "cell_type": "markdown",
   "metadata": {},
   "source": [
    "##### Проверка на тестовом множестве\n",
    "\n",
    "##### Checking on a test set"
   ]
  },
  {
   "cell_type": "code",
   "execution_count": 35,
   "metadata": {
    "scrolled": true
   },
   "outputs": [
    {
     "name": "stdout",
     "output_type": "stream",
     "text": [
      "              precision    recall  f1-score   support\n",
      "\n",
      "           0       0.90      0.88      0.89      1577\n",
      "           1       0.59      0.64      0.61       423\n",
      "\n",
      "    accuracy                           0.83      2000\n",
      "   macro avg       0.74      0.76      0.75      2000\n",
      "weighted avg       0.83      0.83      0.83      2000\n",
      "\n",
      "\n",
      "AUC_ROC:  0.76\n",
      "\n",
      "Confusion matrix:\n",
      "[[1388  189]\n",
      " [ 153  270]]\n",
      "\n"
     ]
    },
    {
     "data": {
      "image/png": "[encoded data removed]",
      "text/plain": [
       "<Figure size 432x288 with 1 Axes>"
      ]
     },
     "metadata": {
      "needs_background": "light"
     },
     "output_type": "display_data"
    }
   ],
   "source": [
    "best_model_2_upsampled_F1, best_model_2_upsampled_roc_auc = best_model_simulation(\n",
    "    best_model_2_upsampled, features_test, target_test)"
   ]
  },
  {
   "cell_type": "markdown",
   "metadata": {},
   "source": [
    "#### Логистическая регрессия (сбалансированная выборка upsample)\n",
    "\n",
    "#### Logistic regression (balanced upsample)"
   ]
  },
  {
   "cell_type": "markdown",
   "metadata": {},
   "source": [
    "##### Обучение модели\n",
    "\n",
    "##### Model Training"
   ]
  },
  {
   "cell_type": "code",
   "execution_count": 36,
   "metadata": {
    "scrolled": true
   },
   "outputs": [
    {
     "name": "stdout",
     "output_type": "stream",
     "text": [
      "Лучшие параметры: {'C': 0.9, 'max_iter': 100}\n",
      "              precision    recall  f1-score   support\n",
      "\n",
      "           0       0.74      0.78      0.76      6386\n",
      "           1       0.71      0.67      0.69      5202\n",
      "\n",
      "    accuracy                           0.73     11588\n",
      "   macro avg       0.73      0.72      0.72     11588\n",
      "weighted avg       0.73      0.73      0.73     11588\n",
      "\n",
      "\n",
      "AUC_ROC:  0.72\n",
      "\n",
      "Confusion matrix:\n",
      "[[4974 1412]\n",
      " [1741 3461]]\n"
     ]
    }
   ],
   "source": [
    "best_model_3_upsampled = best_params_LogisticRegression(\n",
    "    features_train_upsampled, target_train_upsampled, features_valid, target_valid)"
   ]
  },
  {
   "cell_type": "markdown",
   "metadata": {},
   "source": [
    "##### Проверка на тестовом множестве\n",
    "\n",
    "##### Checking on a test set"
   ]
  },
  {
   "cell_type": "code",
   "execution_count": 37,
   "metadata": {
    "scrolled": false
   },
   "outputs": [
    {
     "name": "stdout",
     "output_type": "stream",
     "text": [
      "              precision    recall  f1-score   support\n",
      "\n",
      "           0       0.90      0.78      0.83      1577\n",
      "           1       0.44      0.66      0.53       423\n",
      "\n",
      "    accuracy                           0.75      2000\n",
      "   macro avg       0.67      0.72      0.68      2000\n",
      "weighted avg       0.80      0.75      0.77      2000\n",
      "\n",
      "\n",
      "AUC_ROC:  0.72\n",
      "\n",
      "Confusion matrix:\n",
      "[[1228  349]\n",
      " [ 144  279]]\n",
      "\n"
     ]
    },
    {
     "data": {
      "image/png": "[encoded data removed]",
      "text/plain": [
       "<Figure size 432x288 with 1 Axes>"
      ]
     },
     "metadata": {
      "needs_background": "light"
     },
     "output_type": "display_data"
    }
   ],
   "source": [
    "best_model_3_upsampled_F1, best_model_3_upsampled_roc_auc = best_model_simulation(\n",
    "    best_model_3_upsampled, features_test, target_test)"
   ]
  },
  {
   "cell_type": "markdown",
   "metadata": {},
   "source": [
    "#### Catboost (сбалансированная выборка upsample)"
   ]
  },
  {
   "cell_type": "markdown",
   "metadata": {},
   "source": [
    "##### Обучение модели\n",
    "\n",
    "##### Model Training"
   ]
  },
  {
   "cell_type": "code",
   "execution_count": 38,
   "metadata": {},
   "outputs": [
    {
     "name": "stdout",
     "output_type": "stream",
     "text": [
      "Learning rate set to 0.458322\n",
      "0:\tlearn: 0.5659103\ttotal: 4.29ms\tremaining: 210ms\n",
      "1:\tlearn: 0.5130165\ttotal: 7.34ms\tremaining: 176ms\n",
      "2:\tlearn: 0.4900387\ttotal: 10.4ms\tremaining: 163ms\n",
      "3:\tlearn: 0.4702237\ttotal: 18.5ms\tremaining: 213ms\n",
      "4:\tlearn: 0.4628153\ttotal: 40ms\tremaining: 360ms\n",
      "5:\tlearn: 0.4531253\ttotal: 47.4ms\tremaining: 348ms\n",
      "6:\tlearn: 0.4441259\ttotal: 132ms\tremaining: 813ms\n",
      "7:\tlearn: 0.4381875\ttotal: 143ms\tremaining: 752ms\n",
      "8:\tlearn: 0.4346550\ttotal: 232ms\tremaining: 1.05s\n",
      "9:\tlearn: 0.4319200\ttotal: 241ms\tremaining: 965ms\n",
      "10:\tlearn: 0.4283368\ttotal: 333ms\tremaining: 1.18s\n",
      "11:\tlearn: 0.4242229\ttotal: 343ms\tremaining: 1.08s\n",
      "12:\tlearn: 0.4212408\ttotal: 348ms\tremaining: 989ms\n",
      "13:\tlearn: 0.4188770\ttotal: 420ms\tremaining: 1.08s\n",
      "14:\tlearn: 0.4161780\ttotal: 432ms\tremaining: 1.01s\n",
      "15:\tlearn: 0.4142860\ttotal: 450ms\tremaining: 956ms\n",
      "16:\tlearn: 0.4090627\ttotal: 523ms\tremaining: 1.01s\n",
      "17:\tlearn: 0.4053036\ttotal: 534ms\tremaining: 949ms\n",
      "18:\tlearn: 0.4029438\ttotal: 616ms\tremaining: 1s\n",
      "19:\tlearn: 0.4000644\ttotal: 626ms\tremaining: 939ms\n",
      "20:\tlearn: 0.3968768\ttotal: 634ms\tremaining: 876ms\n",
      "21:\tlearn: 0.3952973\ttotal: 719ms\tremaining: 915ms\n",
      "22:\tlearn: 0.3935994\ttotal: 732ms\tremaining: 860ms\n",
      "23:\tlearn: 0.3900977\ttotal: 818ms\tremaining: 886ms\n",
      "24:\tlearn: 0.3874996\ttotal: 835ms\tremaining: 835ms\n",
      "25:\tlearn: 0.3847238\ttotal: 912ms\tremaining: 842ms\n",
      "26:\tlearn: 0.3811812\ttotal: 923ms\tremaining: 786ms\n",
      "27:\tlearn: 0.3780552\ttotal: 937ms\tremaining: 736ms\n",
      "28:\tlearn: 0.3763647\ttotal: 1.01s\tremaining: 735ms\n",
      "29:\tlearn: 0.3738292\ttotal: 1.02s\tremaining: 684ms\n",
      "30:\tlearn: 0.3718084\ttotal: 1.11s\tremaining: 679ms\n",
      "31:\tlearn: 0.3706975\ttotal: 1.11s\tremaining: 628ms\n",
      "32:\tlearn: 0.3679319\ttotal: 1.13s\tremaining: 582ms\n",
      "33:\tlearn: 0.3656201\ttotal: 1.21s\tremaining: 568ms\n",
      "34:\tlearn: 0.3639017\ttotal: 1.22s\tremaining: 521ms\n",
      "35:\tlearn: 0.3619174\ttotal: 1.3s\tremaining: 506ms\n",
      "36:\tlearn: 0.3582399\ttotal: 1.31s\tremaining: 462ms\n",
      "37:\tlearn: 0.3558837\ttotal: 1.32s\tremaining: 418ms\n",
      "38:\tlearn: 0.3543656\ttotal: 1.4s\tremaining: 396ms\n",
      "39:\tlearn: 0.3523923\ttotal: 1.42s\tremaining: 354ms\n",
      "40:\tlearn: 0.3499697\ttotal: 1.5s\tremaining: 329ms\n",
      "41:\tlearn: 0.3482262\ttotal: 1.51s\tremaining: 288ms\n",
      "42:\tlearn: 0.3468842\ttotal: 1.59s\tremaining: 260ms\n",
      "43:\tlearn: 0.3456754\ttotal: 1.6s\tremaining: 219ms\n",
      "44:\tlearn: 0.3437506\ttotal: 1.61s\tremaining: 179ms\n",
      "45:\tlearn: 0.3417594\ttotal: 1.7s\tremaining: 148ms\n",
      "46:\tlearn: 0.3397362\ttotal: 1.71s\tremaining: 109ms\n",
      "47:\tlearn: 0.3387143\ttotal: 1.79s\tremaining: 74.6ms\n",
      "48:\tlearn: 0.3366588\ttotal: 1.8s\tremaining: 36.8ms\n",
      "49:\tlearn: 0.3352010\ttotal: 1.81s\tremaining: 0us\n",
      "              precision    recall  f1-score   support\n",
      "\n",
      "           0       0.92      0.83      0.87      1582\n",
      "           1       0.53      0.73      0.61       418\n",
      "\n",
      "    accuracy                           0.81      2000\n",
      "   macro avg       0.72      0.78      0.74      2000\n",
      "weighted avg       0.84      0.81      0.82      2000\n",
      "\n",
      "\n",
      "AUC_ROC:  0.78\n",
      "\n",
      "Confuison matrix:\n",
      "[[1308  274]\n",
      " [ 112  306]]\n",
      "Learning rate set to 0.483567\n",
      "0:\tlearn: 0.5567019\ttotal: 4.76ms\tremaining: 233ms\n",
      "1:\tlearn: 0.5046396\ttotal: 8.1ms\tremaining: 194ms\n",
      "2:\tlearn: 0.4816944\ttotal: 71.7ms\tremaining: 1.12s\n",
      "3:\tlearn: 0.4627414\ttotal: 84ms\tremaining: 966ms\n",
      "4:\tlearn: 0.4542784\ttotal: 172ms\tremaining: 1.55s\n",
      "5:\tlearn: 0.4426712\ttotal: 189ms\tremaining: 1.38s\n",
      "6:\tlearn: 0.4384265\ttotal: 281ms\tremaining: 1.73s\n",
      "7:\tlearn: 0.4348788\ttotal: 368ms\tremaining: 1.93s\n",
      "8:\tlearn: 0.4314713\ttotal: 384ms\tremaining: 1.75s\n",
      "9:\tlearn: 0.4281232\ttotal: 471ms\tremaining: 1.88s\n",
      "10:\tlearn: 0.4268888\ttotal: 564ms\tremaining: 2s\n",
      "11:\tlearn: 0.4228564\ttotal: 580ms\tremaining: 1.84s\n",
      "12:\tlearn: 0.4194309\ttotal: 668ms\tremaining: 1.9s\n",
      "13:\tlearn: 0.4172711\ttotal: 761ms\tremaining: 1.96s\n",
      "14:\tlearn: 0.4141464\ttotal: 775ms\tremaining: 1.81s\n",
      "15:\tlearn: 0.4126916\ttotal: 868ms\tremaining: 1.84s\n",
      "16:\tlearn: 0.4091236\ttotal: 887ms\tremaining: 1.72s\n",
      "17:\tlearn: 0.4059851\ttotal: 976ms\tremaining: 1.74s\n",
      "18:\tlearn: 0.4030509\ttotal: 1.07s\tremaining: 1.74s\n",
      "19:\tlearn: 0.4014202\ttotal: 1.16s\tremaining: 1.74s\n",
      "20:\tlearn: 0.4003162\ttotal: 1.17s\tremaining: 1.62s\n",
      "21:\tlearn: 0.3986212\ttotal: 1.26s\tremaining: 1.61s\n",
      "22:\tlearn: 0.3965359\ttotal: 1.35s\tremaining: 1.59s\n",
      "23:\tlearn: 0.3941402\ttotal: 1.38s\tremaining: 1.49s\n",
      "24:\tlearn: 0.3928511\ttotal: 1.46s\tremaining: 1.46s\n",
      "25:\tlearn: 0.3880209\ttotal: 1.47s\tremaining: 1.36s\n",
      "26:\tlearn: 0.3852316\ttotal: 1.56s\tremaining: 1.33s\n",
      "27:\tlearn: 0.3827675\ttotal: 1.58s\tremaining: 1.24s\n",
      "28:\tlearn: 0.3813914\ttotal: 1.67s\tremaining: 1.21s\n",
      "29:\tlearn: 0.3796745\ttotal: 1.76s\tremaining: 1.17s\n",
      "30:\tlearn: 0.3776361\ttotal: 1.85s\tremaining: 1.13s\n",
      "31:\tlearn: 0.3751207\ttotal: 1.87s\tremaining: 1.05s\n",
      "32:\tlearn: 0.3733317\ttotal: 1.95s\tremaining: 1.01s\n",
      "33:\tlearn: 0.3705186\ttotal: 2.05s\tremaining: 964ms\n",
      "34:\tlearn: 0.3672300\ttotal: 2.06s\tremaining: 885ms\n",
      "35:\tlearn: 0.3651243\ttotal: 2.15s\tremaining: 835ms\n",
      "36:\tlearn: 0.3641221\ttotal: 2.16s\tremaining: 760ms\n",
      "37:\tlearn: 0.3625152\ttotal: 2.25s\tremaining: 712ms\n",
      "38:\tlearn: 0.3587562\ttotal: 2.34s\tremaining: 660ms\n",
      "39:\tlearn: 0.3567822\ttotal: 2.35s\tremaining: 588ms\n",
      "40:\tlearn: 0.3543123\ttotal: 2.44s\tremaining: 535ms\n",
      "41:\tlearn: 0.3522434\ttotal: 2.45s\tremaining: 467ms\n",
      "42:\tlearn: 0.3510022\ttotal: 2.54s\tremaining: 414ms\n",
      "43:\tlearn: 0.3495775\ttotal: 2.56s\tremaining: 349ms\n",
      "44:\tlearn: 0.3478433\ttotal: 2.65s\tremaining: 294ms\n",
      "45:\tlearn: 0.3450736\ttotal: 2.73s\tremaining: 238ms\n",
      "46:\tlearn: 0.3438057\ttotal: 2.75s\tremaining: 176ms\n",
      "47:\tlearn: 0.3415148\ttotal: 2.83s\tremaining: 118ms\n",
      "48:\tlearn: 0.3407173\ttotal: 2.85s\tremaining: 58.2ms\n",
      "49:\tlearn: 0.3397001\ttotal: 2.94s\tremaining: 0us\n"
     ]
    }
   ],
   "source": [
    "best_model_4_upsampled = best_params_CatBoostClassifier(\n",
    "    features_train_upsampled, target_train_upsampled, features_valid, target_valid)"
   ]
  },
  {
   "cell_type": "markdown",
   "metadata": {},
   "source": [
    "##### Проверка на тестовом множестве\n",
    "\n",
    "##### Checking on a test set"
   ]
  },
  {
   "cell_type": "code",
   "execution_count": 39,
   "metadata": {
    "scrolled": false
   },
   "outputs": [
    {
     "name": "stdout",
     "output_type": "stream",
     "text": [
      "              precision    recall  f1-score   support\n",
      "\n",
      "           0       0.91      0.87      0.89      1577\n",
      "           1       0.58      0.68      0.63       423\n",
      "\n",
      "    accuracy                           0.83      2000\n",
      "   macro avg       0.74      0.77      0.76      2000\n",
      "weighted avg       0.84      0.83      0.83      2000\n",
      "\n",
      "\n",
      "AUC_ROC:  0.77\n",
      "\n",
      "Confusion matrix:\n",
      "[[1368  209]\n",
      " [ 135  288]]\n",
      "\n"
     ]
    },
    {
     "data": {
      "image/png": "[encoded data removed]",
      "text/plain": [
       "<Figure size 432x288 with 1 Axes>"
      ]
     },
     "metadata": {
      "needs_background": "light"
     },
     "output_type": "display_data"
    }
   ],
   "source": [
    "best_model_4_upsampled_F1, best_model_4_upsampled_roc_auc = best_model_simulation(\n",
    "    best_model_4_upsampled, features_test, target_test)"
   ]
  },
  {
   "cell_type": "markdown",
   "metadata": {},
   "source": [
    "#### DummyClassifier (сбалансированная выборка upsample)"
   ]
  },
  {
   "cell_type": "markdown",
   "metadata": {},
   "source": [
    "##### Обучение модели\n",
    "\n",
    "##### Model Training"
   ]
  },
  {
   "cell_type": "code",
   "execution_count": 40,
   "metadata": {},
   "outputs": [
    {
     "name": "stdout",
     "output_type": "stream",
     "text": [
      "              precision    recall  f1-score   support\n",
      "\n",
      "           0       0.56      0.50      0.53      6386\n",
      "           1       0.45      0.51      0.48      5202\n",
      "\n",
      "    accuracy                           0.50     11588\n",
      "   macro avg       0.50      0.50      0.50     11588\n",
      "weighted avg       0.51      0.50      0.51     11588\n",
      "\n",
      "\n",
      "AUC_ROC:  0.50\n",
      "\n",
      "Confusion matrix:\n",
      "[[3191 3195]\n",
      " [2548 2654]]\n"
     ]
    }
   ],
   "source": [
    "best_model_5_upsampled = best_params_DummyClassifier(\n",
    "    features_train_upsampled, target_train_upsampled, features_valid, target_valid)"
   ]
  },
  {
   "cell_type": "markdown",
   "metadata": {},
   "source": [
    "##### Проверка на тестовом множестве\n",
    "\n",
    "##### Checking on a test set"
   ]
  },
  {
   "cell_type": "code",
   "execution_count": 41,
   "metadata": {},
   "outputs": [
    {
     "name": "stdout",
     "output_type": "stream",
     "text": [
      "              precision    recall  f1-score   support\n",
      "\n",
      "           0       0.80      0.49      0.61      1577\n",
      "           1       0.22      0.55      0.32       423\n",
      "\n",
      "    accuracy                           0.50      2000\n",
      "   macro avg       0.51      0.52      0.46      2000\n",
      "weighted avg       0.68      0.50      0.55      2000\n",
      "\n",
      "\n",
      "AUC_ROC:  0.52\n",
      "\n",
      "Confusion matrix:\n",
      "[[769 808]\n",
      " [191 232]]\n",
      "\n"
     ]
    },
    {
     "data": {
      "image/png": "[encoded data removed]",
      "text/plain": [
       "<Figure size 432x288 with 1 Axes>"
      ]
     },
     "metadata": {
      "needs_background": "light"
     },
     "output_type": "display_data"
    }
   ],
   "source": [
    "best_model_5_upsampled_F1, best_model_5_upsampled_roc_auc = best_model_simulation(\n",
    "    best_model_5_upsampled, features_test, target_test)"
   ]
  },
  {
   "cell_type": "markdown",
   "metadata": {},
   "source": [
    "Модели: Случайный лес и CatBoost превысили заданный уровень F1_score.\n",
    "\n",
    "Models: Random Forest and CatBoost exceeded the specified F1_score level."
   ]
  },
  {
   "cell_type": "markdown",
   "metadata": {},
   "source": [
    "### Уменьшение выборки (downsampling)"
   ]
  },
  {
   "cell_type": "code",
   "execution_count": 42,
   "metadata": {},
   "outputs": [],
   "source": [
    "def downsample(features, target, fraction):\n",
    "    features_zeros = features[target == 0]\n",
    "    features_ones = features[target == 1]\n",
    "    target_zeros = target[target == 0]\n",
    "    target_ones = target[target == 1]\n",
    "\n",
    "    features_downsampled = pd.concat(\n",
    "        [features_zeros.sample(frac=fraction, random_state=12345)] + [features_ones])\n",
    "    target_downsampled = pd.concat(\n",
    "        [target_zeros.sample(frac=fraction, random_state=12345)] + [target_ones])\n",
    "    \n",
    "    features_downsampled, target_downsampled = shuffle(\n",
    "        features_downsampled, target_downsampled, random_state=12345)\n",
    "    \n",
    "    return features_downsampled, target_downsampled\n",
    "\n",
    "features_train_downsampled, target_train_downsampled = downsample(features_train, target_train, 0.25)"
   ]
  },
  {
   "cell_type": "code",
   "execution_count": 43,
   "metadata": {
    "scrolled": true
   },
   "outputs": [
    {
     "data": {
      "image/png": "[encoded data removed]",
      "text/plain": [
       "<Figure size 432x288 with 1 Axes>"
      ]
     },
     "metadata": {
      "needs_background": "light"
     },
     "output_type": "display_data"
    },
    {
     "name": "stdout",
     "output_type": "stream",
     "text": [
      "\n",
      "0    1201\n",
      "1    1196\n",
      "Name: Exited, dtype: int64\n"
     ]
    }
   ],
   "source": [
    "target_train_downsampled.hist()\n",
    "plt.title('Гистограмма соотношения классов Exited')\n",
    "plt.show()\n",
    "print()\n",
    "print(target_train_downsampled.value_counts())"
   ]
  },
  {
   "cell_type": "markdown",
   "metadata": {},
   "source": [
    "Выполнена балансировка классов методом downsampling\n",
    "\n",
    "The classes were balanced using the downsampling method"
   ]
  },
  {
   "cell_type": "markdown",
   "metadata": {},
   "source": [
    "#### Решающее дерево (сбалансированная выборка downsample)\n",
    "\n",
    "#### Decision tree (balanced downsample)"
   ]
  },
  {
   "cell_type": "markdown",
   "metadata": {},
   "source": [
    "##### Подбор оптимальных гиперпараметров и обучение модели\n",
    "\n",
    "##### Selection of optimal hyperparameters and model training"
   ]
  },
  {
   "cell_type": "code",
   "execution_count": 44,
   "metadata": {
    "scrolled": false
   },
   "outputs": [
    {
     "name": "stdout",
     "output_type": "stream",
     "text": [
      "              precision    recall  f1-score   support\n",
      "\n",
      "           0       0.91      0.83      0.87      1582\n",
      "           1       0.51      0.70      0.59       418\n",
      "\n",
      "    accuracy                           0.80      2000\n",
      "   macro avg       0.71      0.76      0.73      2000\n",
      "weighted avg       0.83      0.80      0.81      2000\n",
      "\n",
      "\n",
      "AUC_ROC:  0.76\n",
      "\n",
      "Confusion matrix:\n",
      "[[1307  275]\n",
      " [ 126  292]]\n",
      "\n",
      "Глубина: 5\n"
     ]
    }
   ],
   "source": [
    "best_model_1_downsampled = best_params_DecisionTreeClassifier(\n",
    "    features_train_downsampled, target_train_downsampled, features_valid, target_valid)"
   ]
  },
  {
   "cell_type": "markdown",
   "metadata": {},
   "source": [
    "##### Проверка на тестовом множестве\n",
    "\n",
    "##### Checking on a test set"
   ]
  },
  {
   "cell_type": "code",
   "execution_count": 45,
   "metadata": {
    "scrolled": false
   },
   "outputs": [
    {
     "name": "stdout",
     "output_type": "stream",
     "text": [
      "              precision    recall  f1-score   support\n",
      "\n",
      "           0       0.91      0.86      0.88      1577\n",
      "           1       0.57      0.66      0.61       423\n",
      "\n",
      "    accuracy                           0.82      2000\n",
      "   macro avg       0.74      0.76      0.75      2000\n",
      "weighted avg       0.83      0.82      0.83      2000\n",
      "\n",
      "\n",
      "AUC_ROC:  0.76\n",
      "\n",
      "Confusion matrix:\n",
      "[[1364  213]\n",
      " [ 143  280]]\n",
      "\n"
     ]
    },
    {
     "data": {
      "image/png": "[encoded data removed]",
      "text/plain": [
       "<Figure size 432x288 with 1 Axes>"
      ]
     },
     "metadata": {
      "needs_background": "light"
     },
     "output_type": "display_data"
    }
   ],
   "source": [
    "best_model_1_downsampled_F1, best_model_1_downsampled_roc_auc = best_model_simulation(best_model_1_downsampled, features_test, target_test)"
   ]
  },
  {
   "cell_type": "markdown",
   "metadata": {},
   "source": [
    "#### Случайный лес (сбалансированная выборка downsample)\n",
    "\n",
    "#### Random forest (balanced downsample)"
   ]
  },
  {
   "cell_type": "markdown",
   "metadata": {},
   "source": [
    "##### Подбор оптимальных гиперпараметров и обучение модели\n",
    "\n",
    "##### Selection of optimal hyperparameters and model training"
   ]
  },
  {
   "cell_type": "code",
   "execution_count": 46,
   "metadata": {
    "scrolled": true
   },
   "outputs": [
    {
     "name": "stdout",
     "output_type": "stream",
     "text": [
      "              precision    recall  f1-score   support\n",
      "\n",
      "           0       0.92      0.83      0.87      1582\n",
      "           1       0.52      0.73      0.61       418\n",
      "\n",
      "    accuracy                           0.81      2000\n",
      "   macro avg       0.72      0.78      0.74      2000\n",
      "weighted avg       0.84      0.81      0.82      2000\n",
      "\n",
      "\n",
      "AUC_ROC:  0.78\n",
      "\n",
      "Confusion matrix:\n",
      "[[1306  276]\n",
      " [ 114  304]]\n",
      "\n",
      "Estimators: 100\n",
      "Глубина: 4\n"
     ]
    }
   ],
   "source": [
    "best_model_2_downsampled = best_params_RandomForestClassifier(\n",
    "    features_train_downsampled, target_train_downsampled, features_valid, target_valid)"
   ]
  },
  {
   "cell_type": "markdown",
   "metadata": {},
   "source": [
    "##### Проверка на тестовом множестве\n",
    "\n",
    "##### Checking on a test set"
   ]
  },
  {
   "cell_type": "code",
   "execution_count": 47,
   "metadata": {
    "scrolled": true
   },
   "outputs": [
    {
     "name": "stdout",
     "output_type": "stream",
     "text": [
      "              precision    recall  f1-score   support\n",
      "\n",
      "           0       0.87      0.93      0.90      1577\n",
      "           1       0.65      0.47      0.55       423\n",
      "\n",
      "    accuracy                           0.84      2000\n",
      "   macro avg       0.76      0.70      0.72      2000\n",
      "weighted avg       0.82      0.84      0.83      2000\n",
      "\n",
      "\n",
      "AUC_ROC:  0.70\n",
      "\n",
      "Confusion matrix:\n",
      "[[1472  105]\n",
      " [ 224  199]]\n",
      "\n"
     ]
    },
    {
     "data": {
      "image/png": "[encoded data removed]",
      "text/plain": [
       "<Figure size 432x288 with 1 Axes>"
      ]
     },
     "metadata": {
      "needs_background": "light"
     },
     "output_type": "display_data"
    }
   ],
   "source": [
    "best_model_2_downsampled_F1, best_model_2_downsampled_roc_auc = best_model_simulation(best_model_2_downsampled, features_test, target_test)"
   ]
  },
  {
   "cell_type": "markdown",
   "metadata": {},
   "source": [
    "#### Логистическая регрессия (сбалансированная выборка downsample)\n",
    "\n",
    "#### Logistic regression (balanced downsample)"
   ]
  },
  {
   "cell_type": "markdown",
   "metadata": {},
   "source": [
    "##### Обучение модели\n",
    "\n",
    "##### Model Training"
   ]
  },
  {
   "cell_type": "code",
   "execution_count": 48,
   "metadata": {},
   "outputs": [
    {
     "name": "stdout",
     "output_type": "stream",
     "text": [
      "Лучшие параметры: {'C': 0.7000000000000001, 'max_iter': 100}\n",
      "              precision    recall  f1-score   support\n",
      "\n",
      "           0       0.77      0.85      0.81      2783\n",
      "           1       0.68      0.57      0.62      1614\n",
      "\n",
      "    accuracy                           0.74      4397\n",
      "   macro avg       0.73      0.71      0.71      4397\n",
      "weighted avg       0.74      0.74      0.74      4397\n",
      "\n",
      "\n",
      "AUC_ROC:  0.71\n",
      "\n",
      "Confusion matrix:\n",
      "[[2352  431]\n",
      " [ 693  921]]\n"
     ]
    }
   ],
   "source": [
    "best_model_3_downsampled = best_params_LogisticRegression(\n",
    "    features_train_downsampled, target_train_downsampled, features_valid, target_valid)"
   ]
  },
  {
   "cell_type": "markdown",
   "metadata": {},
   "source": [
    "##### Проверка на тестовом множестве\n",
    "\n",
    "##### Checking on a test set"
   ]
  },
  {
   "cell_type": "code",
   "execution_count": 49,
   "metadata": {
    "scrolled": false
   },
   "outputs": [
    {
     "name": "stdout",
     "output_type": "stream",
     "text": [
      "              precision    recall  f1-score   support\n",
      "\n",
      "           0       0.87      0.84      0.86      1577\n",
      "           1       0.48      0.55      0.51       423\n",
      "\n",
      "    accuracy                           0.78      2000\n",
      "   macro avg       0.68      0.69      0.68      2000\n",
      "weighted avg       0.79      0.78      0.78      2000\n",
      "\n",
      "\n",
      "AUC_ROC:  0.69\n",
      "\n",
      "Confusion matrix:\n",
      "[[1323  254]\n",
      " [ 190  233]]\n",
      "\n"
     ]
    },
    {
     "data": {
      "image/png": "[encoded data removed]",
      "text/plain": [
       "<Figure size 432x288 with 1 Axes>"
      ]
     },
     "metadata": {
      "needs_background": "light"
     },
     "output_type": "display_data"
    }
   ],
   "source": [
    "best_model_3_downsampled_F1, best_model_3_downsampled_roc_auc = best_model_simulation(best_model_3_downsampled, features_test, target_test)"
   ]
  },
  {
   "cell_type": "markdown",
   "metadata": {},
   "source": [
    "#### Catboost (сбалансированная выборка downsample)"
   ]
  },
  {
   "cell_type": "markdown",
   "metadata": {},
   "source": [
    "##### Обучение модели\n",
    "\n",
    "##### Model Training"
   ]
  },
  {
   "cell_type": "code",
   "execution_count": 50,
   "metadata": {},
   "outputs": [
    {
     "name": "stdout",
     "output_type": "stream",
     "text": [
      "Learning rate set to 0.309591\n",
      "0:\tlearn: 0.6190431\ttotal: 2.15ms\tremaining: 106ms\n",
      "1:\tlearn: 0.5813999\ttotal: 3.81ms\tremaining: 91.6ms\n",
      "2:\tlearn: 0.5491003\ttotal: 5.66ms\tremaining: 88.6ms\n",
      "3:\tlearn: 0.5232130\ttotal: 7.45ms\tremaining: 85.7ms\n",
      "4:\tlearn: 0.5041617\ttotal: 9.37ms\tremaining: 84.4ms\n",
      "5:\tlearn: 0.4878535\ttotal: 17.4ms\tremaining: 128ms\n",
      "6:\tlearn: 0.4784492\ttotal: 97.1ms\tremaining: 596ms\n",
      "7:\tlearn: 0.4694561\ttotal: 101ms\tremaining: 531ms\n",
      "8:\tlearn: 0.4614315\ttotal: 103ms\tremaining: 468ms\n",
      "9:\tlearn: 0.4541469\ttotal: 104ms\tremaining: 418ms\n",
      "10:\tlearn: 0.4494008\ttotal: 106ms\tremaining: 377ms\n",
      "11:\tlearn: 0.4452070\ttotal: 184ms\tremaining: 582ms\n",
      "12:\tlearn: 0.4415811\ttotal: 186ms\tremaining: 528ms\n",
      "13:\tlearn: 0.4368210\ttotal: 187ms\tremaining: 481ms\n",
      "14:\tlearn: 0.4326136\ttotal: 191ms\tremaining: 446ms\n",
      "15:\tlearn: 0.4304238\ttotal: 195ms\tremaining: 413ms\n",
      "16:\tlearn: 0.4278394\ttotal: 284ms\tremaining: 552ms\n",
      "17:\tlearn: 0.4245450\ttotal: 286ms\tremaining: 509ms\n",
      "18:\tlearn: 0.4225612\ttotal: 288ms\tremaining: 470ms\n",
      "19:\tlearn: 0.4198866\ttotal: 290ms\tremaining: 435ms\n",
      "20:\tlearn: 0.4188506\ttotal: 292ms\tremaining: 403ms\n",
      "21:\tlearn: 0.4151249\ttotal: 293ms\tremaining: 373ms\n",
      "22:\tlearn: 0.4118119\ttotal: 382ms\tremaining: 448ms\n",
      "23:\tlearn: 0.4106088\ttotal: 385ms\tremaining: 417ms\n",
      "24:\tlearn: 0.4087257\ttotal: 387ms\tremaining: 387ms\n",
      "25:\tlearn: 0.4060934\ttotal: 392ms\tremaining: 362ms\n",
      "26:\tlearn: 0.4046994\ttotal: 397ms\tremaining: 338ms\n",
      "27:\tlearn: 0.4035592\ttotal: 404ms\tremaining: 317ms\n",
      "28:\tlearn: 0.4027413\ttotal: 471ms\tremaining: 341ms\n",
      "29:\tlearn: 0.4017289\ttotal: 472ms\tremaining: 315ms\n",
      "30:\tlearn: 0.3997326\ttotal: 474ms\tremaining: 290ms\n",
      "31:\tlearn: 0.3972459\ttotal: 476ms\tremaining: 268ms\n",
      "32:\tlearn: 0.3948686\ttotal: 479ms\tremaining: 247ms\n",
      "33:\tlearn: 0.3931514\ttotal: 480ms\tremaining: 226ms\n",
      "34:\tlearn: 0.3925820\ttotal: 569ms\tremaining: 244ms\n",
      "35:\tlearn: 0.3890232\ttotal: 573ms\tremaining: 223ms\n",
      "36:\tlearn: 0.3875731\ttotal: 577ms\tremaining: 203ms\n",
      "37:\tlearn: 0.3856870\ttotal: 581ms\tremaining: 183ms\n",
      "38:\tlearn: 0.3836349\ttotal: 585ms\tremaining: 165ms\n",
      "39:\tlearn: 0.3815406\ttotal: 664ms\tremaining: 166ms\n",
      "40:\tlearn: 0.3804795\ttotal: 666ms\tremaining: 146ms\n",
      "41:\tlearn: 0.3797124\ttotal: 669ms\tremaining: 127ms\n",
      "42:\tlearn: 0.3780114\ttotal: 671ms\tremaining: 109ms\n",
      "43:\tlearn: 0.3769839\ttotal: 673ms\tremaining: 91.8ms\n",
      "44:\tlearn: 0.3758596\ttotal: 680ms\tremaining: 75.6ms\n",
      "45:\tlearn: 0.3741114\ttotal: 766ms\tremaining: 66.6ms\n",
      "46:\tlearn: 0.3720803\ttotal: 769ms\tremaining: 49.1ms\n",
      "47:\tlearn: 0.3695183\ttotal: 771ms\tremaining: 32.1ms\n",
      "48:\tlearn: 0.3681536\ttotal: 775ms\tremaining: 15.8ms\n",
      "49:\tlearn: 0.3673792\ttotal: 785ms\tremaining: 0us\n",
      "              precision    recall  f1-score   support\n",
      "\n",
      "           0       0.93      0.80      0.86      1582\n",
      "           1       0.50      0.76      0.60       418\n",
      "\n",
      "    accuracy                           0.79      2000\n",
      "   macro avg       0.71      0.78      0.73      2000\n",
      "weighted avg       0.84      0.79      0.81      2000\n",
      "\n",
      "\n",
      "AUC_ROC:  0.78\n",
      "\n",
      "Confuison matrix:\n",
      "[[1267  315]\n",
      " [ 102  316]]\n",
      "Learning rate set to 0.367583\n",
      "0:\tlearn: 0.5852806\ttotal: 2.54ms\tremaining: 125ms\n",
      "1:\tlearn: 0.5231737\ttotal: 4.75ms\tremaining: 114ms\n",
      "2:\tlearn: 0.4939467\ttotal: 6.77ms\tremaining: 106ms\n",
      "3:\tlearn: 0.4711483\ttotal: 8.74ms\tremaining: 101ms\n",
      "4:\tlearn: 0.4572288\ttotal: 16.2ms\tremaining: 146ms\n",
      "5:\tlearn: 0.4456177\ttotal: 30.6ms\tremaining: 224ms\n",
      "6:\tlearn: 0.4391564\ttotal: 37.7ms\tremaining: 232ms\n",
      "7:\tlearn: 0.4348829\ttotal: 47ms\tremaining: 247ms\n",
      "8:\tlearn: 0.4281569\ttotal: 128ms\tremaining: 582ms\n",
      "9:\tlearn: 0.4230478\ttotal: 137ms\tremaining: 546ms\n",
      "10:\tlearn: 0.4209189\ttotal: 221ms\tremaining: 783ms\n",
      "11:\tlearn: 0.4182145\ttotal: 230ms\tremaining: 727ms\n",
      "12:\tlearn: 0.4158638\ttotal: 234ms\tremaining: 667ms\n",
      "13:\tlearn: 0.4132634\ttotal: 317ms\tremaining: 815ms\n",
      "14:\tlearn: 0.4109057\ttotal: 326ms\tremaining: 762ms\n",
      "15:\tlearn: 0.4089277\ttotal: 341ms\tremaining: 725ms\n",
      "16:\tlearn: 0.4057031\ttotal: 419ms\tremaining: 812ms\n",
      "17:\tlearn: 0.4034550\ttotal: 429ms\tremaining: 763ms\n",
      "18:\tlearn: 0.4026254\ttotal: 513ms\tremaining: 837ms\n",
      "19:\tlearn: 0.4003283\ttotal: 524ms\tremaining: 786ms\n",
      "20:\tlearn: 0.3986748\ttotal: 612ms\tremaining: 845ms\n",
      "21:\tlearn: 0.3970554\ttotal: 624ms\tremaining: 794ms\n",
      "22:\tlearn: 0.3945111\ttotal: 705ms\tremaining: 828ms\n",
      "23:\tlearn: 0.3927364\ttotal: 715ms\tremaining: 775ms\n",
      "24:\tlearn: 0.3914215\ttotal: 727ms\tremaining: 727ms\n",
      "25:\tlearn: 0.3907705\ttotal: 810ms\tremaining: 748ms\n",
      "26:\tlearn: 0.3894708\ttotal: 820ms\tremaining: 698ms\n",
      "27:\tlearn: 0.3880623\ttotal: 915ms\tremaining: 719ms\n",
      "28:\tlearn: 0.3869151\ttotal: 920ms\tremaining: 666ms\n",
      "29:\tlearn: 0.3846097\ttotal: 926ms\tremaining: 617ms\n",
      "30:\tlearn: 0.3835388\ttotal: 935ms\tremaining: 573ms\n",
      "31:\tlearn: 0.3822719\ttotal: 1s\tremaining: 563ms\n",
      "32:\tlearn: 0.3806967\ttotal: 1.01s\tremaining: 520ms\n",
      "33:\tlearn: 0.3793965\ttotal: 1.09s\tremaining: 515ms\n",
      "34:\tlearn: 0.3760395\ttotal: 1.1s\tremaining: 472ms\n",
      "35:\tlearn: 0.3738792\ttotal: 1.11s\tremaining: 434ms\n",
      "36:\tlearn: 0.3717250\ttotal: 1.2s\tremaining: 420ms\n",
      "37:\tlearn: 0.3705537\ttotal: 1.2s\tremaining: 379ms\n",
      "38:\tlearn: 0.3696983\ttotal: 1.21s\tremaining: 340ms\n",
      "39:\tlearn: 0.3684607\ttotal: 1.29s\tremaining: 323ms\n",
      "40:\tlearn: 0.3674973\ttotal: 1.3s\tremaining: 285ms\n",
      "41:\tlearn: 0.3664510\ttotal: 1.31s\tremaining: 249ms\n",
      "42:\tlearn: 0.3658980\ttotal: 1.4s\tremaining: 227ms\n",
      "43:\tlearn: 0.3648329\ttotal: 1.41s\tremaining: 192ms\n",
      "44:\tlearn: 0.3646924\ttotal: 1.42s\tremaining: 158ms\n",
      "45:\tlearn: 0.3636725\ttotal: 1.49s\tremaining: 129ms\n",
      "46:\tlearn: 0.3618575\ttotal: 1.5s\tremaining: 95.7ms\n",
      "47:\tlearn: 0.3608968\ttotal: 1.51s\tremaining: 63.1ms\n",
      "48:\tlearn: 0.3596066\ttotal: 1.58s\tremaining: 32.3ms\n",
      "49:\tlearn: 0.3590202\ttotal: 1.6s\tremaining: 0us\n"
     ]
    }
   ],
   "source": [
    "best_model_4_downsampled = best_params_CatBoostClassifier(\n",
    "    features_train_downsampled, target_train_downsampled, features_valid, target_valid)"
   ]
  },
  {
   "cell_type": "markdown",
   "metadata": {},
   "source": [
    "##### Проверка на тестовом множестве\n",
    "\n",
    "##### Checking on a test set"
   ]
  },
  {
   "cell_type": "code",
   "execution_count": 51,
   "metadata": {
    "scrolled": false
   },
   "outputs": [
    {
     "name": "stdout",
     "output_type": "stream",
     "text": [
      "              precision    recall  f1-score   support\n",
      "\n",
      "           0       0.90      0.90      0.90      1577\n",
      "           1       0.63      0.64      0.63       423\n",
      "\n",
      "    accuracy                           0.84      2000\n",
      "   macro avg       0.76      0.77      0.77      2000\n",
      "weighted avg       0.84      0.84      0.84      2000\n",
      "\n",
      "\n",
      "AUC_ROC:  0.77\n",
      "\n",
      "Confusion matrix:\n",
      "[[1417  160]\n",
      " [ 154  269]]\n",
      "\n"
     ]
    },
    {
     "data": {
      "image/png": "[encoded data removed]",
      "text/plain": [
       "<Figure size 432x288 with 1 Axes>"
      ]
     },
     "metadata": {
      "needs_background": "light"
     },
     "output_type": "display_data"
    }
   ],
   "source": [
    "best_model_4_downsampled_F1, best_model_4_downsampled_roc_auc = best_model_simulation(\n",
    "    best_model_4_downsampled, features_test, target_test)"
   ]
  },
  {
   "cell_type": "markdown",
   "metadata": {},
   "source": [
    "#### DummyClassifier (сбалансированная выборка downsample)"
   ]
  },
  {
   "cell_type": "markdown",
   "metadata": {},
   "source": [
    "##### Обучение модели\n",
    "\n",
    "##### Model Training"
   ]
  },
  {
   "cell_type": "code",
   "execution_count": 52,
   "metadata": {},
   "outputs": [
    {
     "name": "stdout",
     "output_type": "stream",
     "text": [
      "              precision    recall  f1-score   support\n",
      "\n",
      "           0       0.63      0.51      0.56      2783\n",
      "           1       0.37      0.49      0.42      1614\n",
      "\n",
      "    accuracy                           0.50      4397\n",
      "   macro avg       0.50      0.50      0.49      4397\n",
      "weighted avg       0.53      0.50      0.51      4397\n",
      "\n",
      "\n",
      "AUC_ROC:  0.50\n",
      "\n",
      "Confusion matrix:\n",
      "[[1419 1364]\n",
      " [ 825  789]]\n"
     ]
    }
   ],
   "source": [
    "best_model_5_downsampled = best_params_DummyClassifier(\n",
    "    features_train_downsampled, target_train_downsampled, features_valid, target_valid)"
   ]
  },
  {
   "cell_type": "markdown",
   "metadata": {},
   "source": [
    "##### Проверка на тестовом множестве\n",
    "\n",
    "##### Checking on a test set"
   ]
  },
  {
   "cell_type": "code",
   "execution_count": 53,
   "metadata": {},
   "outputs": [
    {
     "name": "stdout",
     "output_type": "stream",
     "text": [
      "              precision    recall  f1-score   support\n",
      "\n",
      "           0       0.78      0.50      0.61      1577\n",
      "           1       0.20      0.48      0.28       423\n",
      "\n",
      "    accuracy                           0.49      2000\n",
      "   macro avg       0.49      0.49      0.45      2000\n",
      "weighted avg       0.66      0.49      0.54      2000\n",
      "\n",
      "\n",
      "AUC_ROC:  0.49\n",
      "\n",
      "Confusion matrix:\n",
      "[[782 795]\n",
      " [221 202]]\n",
      "\n"
     ]
    },
    {
     "data": {
      "image/png": "[encoded data removed]",
      "text/plain": [
       "<Figure size 432x288 with 1 Axes>"
      ]
     },
     "metadata": {
      "needs_background": "light"
     },
     "output_type": "display_data"
    }
   ],
   "source": [
    "best_model_5_downsampled_F1, best_model_5_downsampled_roc_auc = best_model_simulation(\n",
    "    best_model_5_downsampled, features_test, target_test)"
   ]
  },
  {
   "cell_type": "markdown",
   "metadata": {},
   "source": [
    "Модели: Решающее дерево и CatBoost превысили заданный уровень F1_score. Модель Случайный лес при обучении показала хороший результат, но на тестовом множестве F1_score показал результат хуже, чем 0.59\n",
    "\n",
    "Models: The Decision tree and CatBoost exceeded the specified F1_score level. The Random Forest model showed a good result during training, but on the test set F1_score showed a worse result than 0.59"
   ]
  },
  {
   "cell_type": "markdown",
   "metadata": {},
   "source": [
    "## Тестирование модели\n",
    "\n",
    "## Testing the model"
   ]
  },
  {
   "cell_type": "code",
   "execution_count": 54,
   "metadata": {
    "scrolled": true
   },
   "outputs": [
    {
     "data": {
      "text/html": [
       "<div>\n",
       "<style scoped>\n",
       "    .dataframe tbody tr th:only-of-type {\n",
       "        vertical-align: middle;\n",
       "    }\n",
       "\n",
       "    .dataframe tbody tr th {\n",
       "        vertical-align: top;\n",
       "    }\n",
       "\n",
       "    .dataframe thead th {\n",
       "        text-align: right;\n",
       "    }\n",
       "</style>\n",
       "<table border=\"1\" class=\"dataframe\">\n",
       "  <thead>\n",
       "    <tr style=\"text-align: right;\">\n",
       "      <th></th>\n",
       "      <th>Model</th>\n",
       "      <th>Disballanced</th>\n",
       "      <th>Upsampled</th>\n",
       "      <th>Downsampled</th>\n",
       "    </tr>\n",
       "  </thead>\n",
       "  <tbody>\n",
       "    <tr>\n",
       "      <td>0</td>\n",
       "      <td>DecisionTree</td>\n",
       "      <td>0.534954</td>\n",
       "      <td>0.579381</td>\n",
       "      <td>0.611354</td>\n",
       "    </tr>\n",
       "    <tr>\n",
       "      <td>1</td>\n",
       "      <td>RandomForest</td>\n",
       "      <td>0.515432</td>\n",
       "      <td>0.612245</td>\n",
       "      <td>0.547455</td>\n",
       "    </tr>\n",
       "    <tr>\n",
       "      <td>2</td>\n",
       "      <td>LogisticRegression</td>\n",
       "      <td>0.411576</td>\n",
       "      <td>0.530923</td>\n",
       "      <td>0.512088</td>\n",
       "    </tr>\n",
       "    <tr>\n",
       "      <td>3</td>\n",
       "      <td>CatBoost</td>\n",
       "      <td>0.582973</td>\n",
       "      <td>0.626087</td>\n",
       "      <td>0.631455</td>\n",
       "    </tr>\n",
       "    <tr>\n",
       "      <td>4</td>\n",
       "      <td>DummyClassifier</td>\n",
       "      <td>0.277117</td>\n",
       "      <td>0.317157</td>\n",
       "      <td>0.284507</td>\n",
       "    </tr>\n",
       "  </tbody>\n",
       "</table>\n",
       "</div>"
      ],
      "text/plain": [
       "                Model  Disballanced  Upsampled  Downsampled\n",
       "0        DecisionTree      0.534954   0.579381     0.611354\n",
       "1        RandomForest      0.515432   0.612245     0.547455\n",
       "2  LogisticRegression      0.411576   0.530923     0.512088\n",
       "3            CatBoost      0.582973   0.626087     0.631455\n",
       "4     DummyClassifier      0.277117   0.317157     0.284507"
      ]
     },
     "metadata": {},
     "output_type": "display_data"
    },
    {
     "name": "stdout",
     "output_type": "stream",
     "text": [
      "Disballanced    0.464410\n",
      "Upsampled       0.533159\n",
      "Downsampled     0.517372\n",
      "dtype: float64\n"
     ]
    }
   ],
   "source": [
    "test_results = pd.DataFrame([['DecisionTree', best_model_1_F1, best_model_1_upsampled_F1, best_model_1_downsampled_F1],\n",
    "                             ['RandomForest', best_model_2_F1, best_model_2_upsampled_F1, best_model_2_downsampled_F1],\n",
    "                             ['LogisticRegression', best_model_3_F1, best_model_3_upsampled_F1, best_model_3_downsampled_F1],\n",
    "                             ['CatBoost', best_model_4_F1, best_model_4_upsampled_F1, best_model_4_downsampled_F1],\n",
    "                             ['DummyClassifier', best_model_5_F1, best_model_5_upsampled_F1, best_model_5_downsampled_F1]],\n",
    "                           columns = ['Model', 'Disballanced', 'Upsampled', 'Downsampled'])\n",
    "display(test_results)\n",
    "print(test_results.mean())"
   ]
  },
  {
   "cell_type": "code",
   "execution_count": 55,
   "metadata": {},
   "outputs": [
    {
     "data": {
      "image/png": "[encoded data removed]",
      "text/plain": [
       "<Figure size 1440x720 with 1 Axes>"
      ]
     },
     "metadata": {
      "needs_background": "light"
     },
     "output_type": "display_data"
    }
   ],
   "source": [
    "test_results.plot(kind = 'bar',\n",
    "                  label = ('Disballanced', 'Upsampled', 'Downsampled'),\n",
    "                  x = 'Model',\n",
    "                 grid = True,\n",
    "                 figsize = (20, 10))\n",
    "plt.title('График значений F1_score на тестовом множестве')\n",
    "plt.show()"
   ]
  },
  {
   "cell_type": "code",
   "execution_count": 56,
   "metadata": {
    "scrolled": true
   },
   "outputs": [
    {
     "data": {
      "text/html": [
       "<div>\n",
       "<style scoped>\n",
       "    .dataframe tbody tr th:only-of-type {\n",
       "        vertical-align: middle;\n",
       "    }\n",
       "\n",
       "    .dataframe tbody tr th {\n",
       "        vertical-align: top;\n",
       "    }\n",
       "\n",
       "    .dataframe thead th {\n",
       "        text-align: right;\n",
       "    }\n",
       "</style>\n",
       "<table border=\"1\" class=\"dataframe\">\n",
       "  <thead>\n",
       "    <tr style=\"text-align: right;\">\n",
       "      <th></th>\n",
       "      <th>Model</th>\n",
       "      <th>Disballanced</th>\n",
       "      <th>Upsampled</th>\n",
       "      <th>Downsampled</th>\n",
       "    </tr>\n",
       "  </thead>\n",
       "  <tbody>\n",
       "    <tr>\n",
       "      <td>0</td>\n",
       "      <td>DecisionTree</td>\n",
       "      <td>0.689331</td>\n",
       "      <td>0.747814</td>\n",
       "      <td>0.763436</td>\n",
       "    </tr>\n",
       "    <tr>\n",
       "      <td>1</td>\n",
       "      <td>RandomForest</td>\n",
       "      <td>0.679010</td>\n",
       "      <td>0.759225</td>\n",
       "      <td>0.701934</td>\n",
       "    </tr>\n",
       "    <tr>\n",
       "      <td>2</td>\n",
       "      <td>LogisticRegression</td>\n",
       "      <td>0.628789</td>\n",
       "      <td>0.719134</td>\n",
       "      <td>0.694881</td>\n",
       "    </tr>\n",
       "    <tr>\n",
       "      <td>3</td>\n",
       "      <td>CatBoost</td>\n",
       "      <td>0.717211</td>\n",
       "      <td>0.774160</td>\n",
       "      <td>0.767238</td>\n",
       "    </tr>\n",
       "    <tr>\n",
       "      <td>4</td>\n",
       "      <td>DummyClassifier</td>\n",
       "      <td>0.477860</td>\n",
       "      <td>0.518049</td>\n",
       "      <td>0.486710</td>\n",
       "    </tr>\n",
       "  </tbody>\n",
       "</table>\n",
       "</div>"
      ],
      "text/plain": [
       "                Model  Disballanced  Upsampled  Downsampled\n",
       "0        DecisionTree      0.689331   0.747814     0.763436\n",
       "1        RandomForest      0.679010   0.759225     0.701934\n",
       "2  LogisticRegression      0.628789   0.719134     0.694881\n",
       "3            CatBoost      0.717211   0.774160     0.767238\n",
       "4     DummyClassifier      0.477860   0.518049     0.486710"
      ]
     },
     "metadata": {},
     "output_type": "display_data"
    },
    {
     "name": "stdout",
     "output_type": "stream",
     "text": [
      "Disballanced    0.638440\n",
      "Upsampled       0.703677\n",
      "Downsampled     0.682840\n",
      "dtype: float64\n"
     ]
    }
   ],
   "source": [
    "test_results_roc_auc = pd.DataFrame(\n",
    "    [['DecisionTree', best_model_1_roc_auc, best_model_1_upsampled_roc_auc, best_model_1_downsampled_roc_auc],\n",
    "     ['RandomForest', best_model_2_roc_auc, best_model_2_upsampled_roc_auc, best_model_2_downsampled_roc_auc],\n",
    "     ['LogisticRegression', best_model_3_roc_auc, best_model_3_upsampled_roc_auc, best_model_3_downsampled_roc_auc],\n",
    "     ['CatBoost', best_model_4_roc_auc, best_model_4_upsampled_roc_auc, best_model_4_downsampled_roc_auc],\n",
    "     ['DummyClassifier', best_model_5_roc_auc, best_model_5_upsampled_roc_auc, best_model_5_downsampled_roc_auc]],\n",
    "     columns = ['Model', 'Disballanced', 'Upsampled', 'Downsampled'])\n",
    "display(test_results_roc_auc)\n",
    "print(test_results_roc_auc.mean())"
   ]
  },
  {
   "cell_type": "code",
   "execution_count": 57,
   "metadata": {},
   "outputs": [
    {
     "data": {
      "image/png": "[encoded data removed]",
      "text/plain": [
       "<Figure size 1440x720 with 1 Axes>"
      ]
     },
     "metadata": {
      "needs_background": "light"
     },
     "output_type": "display_data"
    }
   ],
   "source": [
    "test_results_roc_auc.plot(\n",
    "    kind = 'bar',\n",
    "    label = ('Disballanced', 'Upsampled', 'Downsampled'),\n",
    "    x = 'Model',\n",
    "    grid = True,\n",
    "    figsize = (20, 10))\n",
    "plt.title('График значений ROC_AUC на тестовом множестве')\n",
    "plt.show()"
   ]
  },
  {
   "cell_type": "markdown",
   "metadata": {},
   "source": [
    "На графике видно, что целевое значение F1_target_score = 0.59 на тестовом множестве превышают несколько моделей. Наиболее высокий и  устойчивый результат показала CatBoost. Наименьший результат: LogisticRegression.\n",
    "\n",
    "Модель DecisionTree превысила F1_target_score при обучающем множестве, сбалансированном методом Downsampled.\n",
    "\n",
    "Модель RandomForest превысила F1_target_score при обучающем множестве, сбалансированном методом Upsampled.\n",
    "\n",
    "Наивысший ROC-AUC показала модель CatBoost. Наихудший - LogisticRegression.\n",
    "\n",
    "The graph shows that the target value F1_target_score = 0.59 on the test set exceeds several models. The highest and most stable result was shown by CatBoost. The smallest result: Logistic Regression.\n",
    "\n",
    "The DecisionTree model exceeded F1_target_score with a training set balanced by the Downsampled method.\n",
    "\n",
    "The Random Forest model exceeded F1_target_score with a training set balanced by the Upsampled method.\n",
    "\n",
    "The Cart Boost model showed the highest ROC-AUC. The worst Case Is The Logistic Regression."
   ]
  },
  {
   "cell_type": "markdown",
   "metadata": {},
   "source": [
    "##  Общий вывод\n",
    "\n",
    "##  Main conclusion"
   ]
  },
  {
   "cell_type": "markdown",
   "metadata": {},
   "source": [
    "В данном проекте стояла задача обучить модели классификации на несбалансированном множестве. К обучающему множеству применялись методы балансировки: upsampling, downsampling. Обучение на сбалансированных множествах дало положительный эффект и увеличило значение метрики F1_score > 0.59.\n",
    "В среднем, результаты выше, когда модели обучены на upsampled множестве.\n",
    "\n",
    "In this project, the task was to train classification models on an unbalanced set. Balancing methods were applied to the training set: upsampling, downsampling. Training on balanced sets had a positive effect and increased the value of the F1_score metric > 0.59.\n",
    "On average, the results are higher when the models are trained on an upsampled set."
   ]
  }
 ],
 "metadata": {
  "ExecuteTimeLog": [
   {
    "duration": 1970,
    "start_time": "2021-07-05T14:23:46.347Z"
   },
   {
    "duration": 122,
    "start_time": "2021-07-05T14:24:09.505Z"
   },
   {
    "duration": 172,
    "start_time": "2021-07-05T14:24:47.790Z"
   },
   {
    "duration": 130,
    "start_time": "2021-07-05T14:29:01.313Z"
   },
   {
    "duration": 1355,
    "start_time": "2021-07-05T14:30:27.741Z"
   },
   {
    "duration": 50,
    "start_time": "2021-07-05T14:30:58.387Z"
   },
   {
    "duration": 421,
    "start_time": "2021-07-05T14:33:01.950Z"
   },
   {
    "duration": 113,
    "start_time": "2021-07-05T14:33:58.819Z"
   },
   {
    "duration": 55,
    "start_time": "2021-07-05T14:35:41.815Z"
   },
   {
    "duration": 103,
    "start_time": "2021-07-05T14:42:54.886Z"
   },
   {
    "duration": 103,
    "start_time": "2021-07-05T14:43:12.636Z"
   },
   {
    "duration": 48,
    "start_time": "2021-07-05T14:43:33.675Z"
   },
   {
    "duration": 113,
    "start_time": "2021-07-05T14:44:07.873Z"
   },
   {
    "duration": 125,
    "start_time": "2021-07-05T14:44:17.993Z"
   },
   {
    "duration": 77,
    "start_time": "2021-07-05T14:44:55.485Z"
   },
   {
    "duration": 66,
    "start_time": "2021-07-05T14:45:06.569Z"
   },
   {
    "duration": 96,
    "start_time": "2021-07-05T17:00:38.272Z"
   },
   {
    "duration": 1854,
    "start_time": "2021-07-05T17:00:52.391Z"
   },
   {
    "duration": 117,
    "start_time": "2021-07-05T17:00:54.249Z"
   },
   {
    "duration": 194,
    "start_time": "2021-07-05T17:00:54.375Z"
   },
   {
    "duration": 61,
    "start_time": "2021-07-05T17:00:54.571Z"
   },
   {
    "duration": 6,
    "start_time": "2021-07-05T17:04:42.021Z"
   },
   {
    "duration": 1496,
    "start_time": "2021-07-05T17:05:07.620Z"
   },
   {
    "duration": 100,
    "start_time": "2021-07-05T17:05:09.118Z"
   },
   {
    "duration": 119,
    "start_time": "2021-07-05T17:05:09.221Z"
   },
   {
    "duration": 73,
    "start_time": "2021-07-05T17:05:09.343Z"
   },
   {
    "duration": 12,
    "start_time": "2021-07-05T17:05:09.418Z"
   },
   {
    "duration": 15,
    "start_time": "2021-07-05T17:06:37.418Z"
   },
   {
    "duration": 101,
    "start_time": "2021-07-05T17:08:06.829Z"
   },
   {
    "duration": 12,
    "start_time": "2021-07-05T17:11:46.262Z"
   },
   {
    "duration": 7,
    "start_time": "2021-07-05T17:12:35.110Z"
   },
   {
    "duration": 325,
    "start_time": "2021-07-05T17:14:49.767Z"
   },
   {
    "duration": 1649,
    "start_time": "2021-07-05T17:27:32.330Z"
   },
   {
    "duration": 133,
    "start_time": "2021-07-05T17:27:33.983Z"
   },
   {
    "duration": 543,
    "start_time": "2021-07-05T17:27:34.119Z"
   },
   {
    "duration": -1666,
    "start_time": "2021-07-05T17:27:36.332Z"
   },
   {
    "duration": -1666,
    "start_time": "2021-07-05T17:27:36.333Z"
   },
   {
    "duration": -1665,
    "start_time": "2021-07-05T17:27:36.334Z"
   },
   {
    "duration": -1706,
    "start_time": "2021-07-05T17:27:36.377Z"
   },
   {
    "duration": 122,
    "start_time": "2021-07-05T17:27:45.770Z"
   },
   {
    "duration": 1021,
    "start_time": "2021-07-06T07:59:57.351Z"
   },
   {
    "duration": 84,
    "start_time": "2021-07-06T07:59:58.373Z"
   },
   {
    "duration": 74,
    "start_time": "2021-07-06T07:59:58.459Z"
   },
   {
    "duration": 30,
    "start_time": "2021-07-06T07:59:58.535Z"
   },
   {
    "duration": 6,
    "start_time": "2021-07-06T07:59:58.567Z"
   },
   {
    "duration": 7,
    "start_time": "2021-07-06T07:59:58.574Z"
   },
   {
    "duration": 20,
    "start_time": "2021-07-06T07:59:58.583Z"
   },
   {
    "duration": 190,
    "start_time": "2021-07-06T07:59:58.605Z"
   },
   {
    "duration": 6,
    "start_time": "2021-07-06T08:24:14.534Z"
   },
   {
    "duration": 6,
    "start_time": "2021-07-06T08:24:40.993Z"
   },
   {
    "duration": 7,
    "start_time": "2021-07-06T09:31:01.367Z"
   },
   {
    "duration": 333,
    "start_time": "2021-07-06T09:32:01.563Z"
   },
   {
    "duration": 1029,
    "start_time": "2021-07-06T09:32:20.942Z"
   },
   {
    "duration": 82,
    "start_time": "2021-07-06T09:32:21.973Z"
   },
   {
    "duration": 73,
    "start_time": "2021-07-06T09:32:22.057Z"
   },
   {
    "duration": 30,
    "start_time": "2021-07-06T09:32:22.132Z"
   },
   {
    "duration": 6,
    "start_time": "2021-07-06T09:32:22.164Z"
   },
   {
    "duration": 6,
    "start_time": "2021-07-06T09:32:22.172Z"
   },
   {
    "duration": 17,
    "start_time": "2021-07-06T09:32:22.179Z"
   },
   {
    "duration": 8,
    "start_time": "2021-07-06T09:32:22.198Z"
   },
   {
    "duration": 34,
    "start_time": "2021-07-06T09:32:22.209Z"
   },
   {
    "duration": 180,
    "start_time": "2021-07-06T09:32:22.245Z"
   },
   {
    "duration": 12,
    "start_time": "2021-07-06T09:45:04.066Z"
   },
   {
    "duration": 390,
    "start_time": "2021-07-06T09:45:36.603Z"
   },
   {
    "duration": 245,
    "start_time": "2021-07-06T09:45:44.592Z"
   },
   {
    "duration": 14,
    "start_time": "2021-07-06T09:45:59.046Z"
   },
   {
    "duration": 15,
    "start_time": "2021-07-06T09:46:42.564Z"
   },
   {
    "duration": 10,
    "start_time": "2021-07-06T09:46:55.363Z"
   },
   {
    "duration": 7,
    "start_time": "2021-07-06T09:48:51.096Z"
   },
   {
    "duration": 244,
    "start_time": "2021-07-06T09:49:21.546Z"
   },
   {
    "duration": 374,
    "start_time": "2021-07-06T09:49:26.188Z"
   },
   {
    "duration": 233,
    "start_time": "2021-07-06T09:49:45.972Z"
   },
   {
    "duration": 265,
    "start_time": "2021-07-06T09:50:32.305Z"
   },
   {
    "duration": 246,
    "start_time": "2021-07-06T09:51:28.983Z"
   },
   {
    "duration": 1025,
    "start_time": "2021-07-06T09:52:03.458Z"
   },
   {
    "duration": 86,
    "start_time": "2021-07-06T09:52:04.485Z"
   },
   {
    "duration": 74,
    "start_time": "2021-07-06T09:52:04.573Z"
   },
   {
    "duration": 31,
    "start_time": "2021-07-06T09:52:04.649Z"
   },
   {
    "duration": 6,
    "start_time": "2021-07-06T09:52:04.682Z"
   },
   {
    "duration": 21,
    "start_time": "2021-07-06T09:52:04.690Z"
   },
   {
    "duration": 26,
    "start_time": "2021-07-06T09:52:04.712Z"
   },
   {
    "duration": 12,
    "start_time": "2021-07-06T09:52:04.739Z"
   },
   {
    "duration": 12,
    "start_time": "2021-07-06T09:52:04.753Z"
   },
   {
    "duration": 23,
    "start_time": "2021-07-06T09:52:04.766Z"
   },
   {
    "duration": 8,
    "start_time": "2021-07-06T09:52:04.791Z"
   },
   {
    "duration": 9,
    "start_time": "2021-07-06T09:52:04.800Z"
   },
   {
    "duration": 186,
    "start_time": "2021-07-06T09:52:04.811Z"
   },
   {
    "duration": 38,
    "start_time": "2021-07-06T09:52:30.660Z"
   },
   {
    "duration": 40,
    "start_time": "2021-07-06T09:53:34.227Z"
   },
   {
    "duration": 1009,
    "start_time": "2021-07-06T09:54:28.567Z"
   },
   {
    "duration": 79,
    "start_time": "2021-07-06T09:54:29.578Z"
   },
   {
    "duration": 73,
    "start_time": "2021-07-06T09:54:29.659Z"
   },
   {
    "duration": 32,
    "start_time": "2021-07-06T09:54:29.734Z"
   },
   {
    "duration": 7,
    "start_time": "2021-07-06T09:54:29.767Z"
   },
   {
    "duration": 12,
    "start_time": "2021-07-06T09:54:29.775Z"
   },
   {
    "duration": 20,
    "start_time": "2021-07-06T09:54:29.788Z"
   },
   {
    "duration": 8,
    "start_time": "2021-07-06T09:54:29.810Z"
   },
   {
    "duration": 34,
    "start_time": "2021-07-06T09:54:29.820Z"
   },
   {
    "duration": 43,
    "start_time": "2021-07-06T09:54:29.855Z"
   },
   {
    "duration": 8,
    "start_time": "2021-07-06T09:54:29.900Z"
   },
   {
    "duration": 43,
    "start_time": "2021-07-06T09:54:29.909Z"
   },
   {
    "duration": 179,
    "start_time": "2021-07-06T09:54:29.953Z"
   },
   {
    "duration": 163,
    "start_time": "2021-07-06T10:01:30.042Z"
   },
   {
    "duration": 154,
    "start_time": "2021-07-06T10:02:44.306Z"
   },
   {
    "duration": 169,
    "start_time": "2021-07-06T10:04:48.860Z"
   },
   {
    "duration": 165,
    "start_time": "2021-07-06T10:05:31.742Z"
   },
   {
    "duration": 162,
    "start_time": "2021-07-06T10:06:13.602Z"
   },
   {
    "duration": 363,
    "start_time": "2021-07-06T10:18:57.361Z"
   },
   {
    "duration": 337,
    "start_time": "2021-07-06T10:19:25.052Z"
   },
   {
    "duration": 417,
    "start_time": "2021-07-06T10:19:33.143Z"
   },
   {
    "duration": 874,
    "start_time": "2021-07-06T10:20:06.670Z"
   },
   {
    "duration": 134,
    "start_time": "2021-07-06T10:20:15.277Z"
   },
   {
    "duration": 118,
    "start_time": "2021-07-06T10:22:29.383Z"
   },
   {
    "duration": 123,
    "start_time": "2021-07-06T10:23:19.502Z"
   },
   {
    "duration": 122,
    "start_time": "2021-07-06T10:23:39.020Z"
   },
   {
    "duration": 1123,
    "start_time": "2021-07-06T13:36:58.448Z"
   },
   {
    "duration": 121,
    "start_time": "2021-07-06T13:36:59.573Z"
   },
   {
    "duration": 79,
    "start_time": "2021-07-06T13:36:59.696Z"
   },
   {
    "duration": 32,
    "start_time": "2021-07-06T13:36:59.777Z"
   },
   {
    "duration": 6,
    "start_time": "2021-07-06T13:36:59.811Z"
   },
   {
    "duration": 33,
    "start_time": "2021-07-06T13:36:59.819Z"
   },
   {
    "duration": 18,
    "start_time": "2021-07-06T13:36:59.857Z"
   },
   {
    "duration": 8,
    "start_time": "2021-07-06T13:36:59.877Z"
   },
   {
    "duration": 8,
    "start_time": "2021-07-06T13:36:59.886Z"
   },
   {
    "duration": 70,
    "start_time": "2021-07-06T13:36:59.895Z"
   },
   {
    "duration": 10,
    "start_time": "2021-07-06T13:36:59.966Z"
   },
   {
    "duration": 57,
    "start_time": "2021-07-06T13:36:59.978Z"
   },
   {
    "duration": 184,
    "start_time": "2021-07-06T13:37:00.037Z"
   },
   {
    "duration": 185,
    "start_time": "2021-07-06T13:37:00.223Z"
   },
   {
    "duration": 194,
    "start_time": "2021-07-06T13:37:00.410Z"
   },
   {
    "duration": 190,
    "start_time": "2021-07-06T13:37:00.606Z"
   },
   {
    "duration": 151,
    "start_time": "2021-07-06T13:37:00.798Z"
   },
   {
    "duration": 139,
    "start_time": "2021-07-06T13:47:44.066Z"
   },
   {
    "duration": 755,
    "start_time": "2021-07-06T13:48:08.183Z"
   },
   {
    "duration": 11,
    "start_time": "2021-07-06T13:48:16.111Z"
   },
   {
    "duration": 1027,
    "start_time": "2021-07-06T13:49:20.144Z"
   },
   {
    "duration": 88,
    "start_time": "2021-07-06T13:49:21.173Z"
   },
   {
    "duration": 76,
    "start_time": "2021-07-06T13:49:21.263Z"
   },
   {
    "duration": 32,
    "start_time": "2021-07-06T13:49:21.341Z"
   },
   {
    "duration": 8,
    "start_time": "2021-07-06T13:49:21.375Z"
   },
   {
    "duration": 7,
    "start_time": "2021-07-06T13:49:21.385Z"
   },
   {
    "duration": 48,
    "start_time": "2021-07-06T13:49:21.394Z"
   },
   {
    "duration": 8,
    "start_time": "2021-07-06T13:49:21.443Z"
   },
   {
    "duration": 8,
    "start_time": "2021-07-06T13:49:21.453Z"
   },
   {
    "duration": 39,
    "start_time": "2021-07-06T13:49:21.462Z"
   },
   {
    "duration": 8,
    "start_time": "2021-07-06T13:49:21.503Z"
   },
   {
    "duration": 56,
    "start_time": "2021-07-06T13:49:21.512Z"
   },
   {
    "duration": 178,
    "start_time": "2021-07-06T13:49:21.569Z"
   },
   {
    "duration": 162,
    "start_time": "2021-07-06T13:49:21.748Z"
   },
   {
    "duration": 169,
    "start_time": "2021-07-06T13:49:21.911Z"
   },
   {
    "duration": 171,
    "start_time": "2021-07-06T13:49:22.081Z"
   },
   {
    "duration": 147,
    "start_time": "2021-07-06T13:49:22.254Z"
   },
   {
    "duration": 11,
    "start_time": "2021-07-06T13:49:22.403Z"
   },
   {
    "duration": 36,
    "start_time": "2021-07-06T13:50:13.605Z"
   },
   {
    "duration": 1154,
    "start_time": "2021-07-06T13:50:55.141Z"
   },
   {
    "duration": 80,
    "start_time": "2021-07-06T13:50:56.297Z"
   },
   {
    "duration": 75,
    "start_time": "2021-07-06T13:50:56.379Z"
   },
   {
    "duration": 31,
    "start_time": "2021-07-06T13:50:56.456Z"
   },
   {
    "duration": 8,
    "start_time": "2021-07-06T13:50:56.489Z"
   },
   {
    "duration": 8,
    "start_time": "2021-07-06T13:50:56.498Z"
   },
   {
    "duration": 47,
    "start_time": "2021-07-06T13:50:56.508Z"
   },
   {
    "duration": 8,
    "start_time": "2021-07-06T13:50:56.558Z"
   },
   {
    "duration": 7,
    "start_time": "2021-07-06T13:50:56.568Z"
   },
   {
    "duration": 39,
    "start_time": "2021-07-06T13:50:56.577Z"
   },
   {
    "duration": 28,
    "start_time": "2021-07-06T13:50:56.618Z"
   },
   {
    "duration": 42,
    "start_time": "2021-07-06T13:50:56.647Z"
   },
   {
    "duration": 34,
    "start_time": "2021-07-06T13:50:56.691Z"
   },
   {
    "duration": 180,
    "start_time": "2021-07-06T13:50:56.727Z"
   },
   {
    "duration": 159,
    "start_time": "2021-07-06T13:50:56.909Z"
   },
   {
    "duration": 172,
    "start_time": "2021-07-06T13:50:57.070Z"
   },
   {
    "duration": 170,
    "start_time": "2021-07-06T13:50:57.244Z"
   },
   {
    "duration": 147,
    "start_time": "2021-07-06T13:50:57.415Z"
   },
   {
    "duration": 9,
    "start_time": "2021-07-06T13:50:57.563Z"
   },
   {
    "duration": 1119,
    "start_time": "2021-07-06T13:51:55.362Z"
   },
   {
    "duration": 92,
    "start_time": "2021-07-06T13:51:56.482Z"
   },
   {
    "duration": 73,
    "start_time": "2021-07-06T13:51:56.576Z"
   },
   {
    "duration": 30,
    "start_time": "2021-07-06T13:51:56.650Z"
   },
   {
    "duration": 7,
    "start_time": "2021-07-06T13:51:56.681Z"
   },
   {
    "duration": 8,
    "start_time": "2021-07-06T13:51:56.689Z"
   },
   {
    "duration": 23,
    "start_time": "2021-07-06T13:51:56.698Z"
   },
   {
    "duration": 24,
    "start_time": "2021-07-06T13:51:56.723Z"
   },
   {
    "duration": 26,
    "start_time": "2021-07-06T13:51:56.749Z"
   },
   {
    "duration": 50,
    "start_time": "2021-07-06T13:51:56.777Z"
   },
   {
    "duration": 8,
    "start_time": "2021-07-06T13:51:56.829Z"
   },
   {
    "duration": 56,
    "start_time": "2021-07-06T13:51:56.839Z"
   },
   {
    "duration": 35,
    "start_time": "2021-07-06T13:51:56.896Z"
   },
   {
    "duration": 171,
    "start_time": "2021-07-06T13:51:56.932Z"
   },
   {
    "duration": 168,
    "start_time": "2021-07-06T13:51:57.104Z"
   },
   {
    "duration": 201,
    "start_time": "2021-07-06T13:51:57.273Z"
   },
   {
    "duration": 319,
    "start_time": "2021-07-06T13:51:57.476Z"
   },
   {
    "duration": 174,
    "start_time": "2021-07-06T13:51:57.796Z"
   },
   {
    "duration": 9,
    "start_time": "2021-07-06T13:51:57.972Z"
   },
   {
    "duration": 3,
    "start_time": "2021-07-06T13:53:23.091Z"
   },
   {
    "duration": 144,
    "start_time": "2021-07-06T13:54:21.962Z"
   },
   {
    "duration": 596,
    "start_time": "2021-07-06T13:54:39.783Z"
   },
   {
    "duration": 13,
    "start_time": "2021-07-06T13:54:51.286Z"
   },
   {
    "duration": 12,
    "start_time": "2021-07-06T13:54:56.054Z"
   },
   {
    "duration": 140,
    "start_time": "2021-07-06T13:55:05.063Z"
   },
   {
    "duration": 112,
    "start_time": "2021-07-06T14:08:54.837Z"
   },
   {
    "duration": 18679,
    "start_time": "2021-07-06T14:09:31.372Z"
   },
   {
    "duration": 14,
    "start_time": "2021-07-06T14:10:22.341Z"
   },
   {
    "duration": 192838,
    "start_time": "2021-07-06T14:10:35.254Z"
   },
   {
    "duration": 76,
    "start_time": "2021-07-06T14:14:30.106Z"
   },
   {
    "duration": 3,
    "start_time": "2021-07-06T14:27:15.109Z"
   },
   {
    "duration": 146,
    "start_time": "2021-07-06T14:28:16.079Z"
   },
   {
    "duration": 159,
    "start_time": "2021-07-06T14:28:54.646Z"
   },
   {
    "duration": 13,
    "start_time": "2021-07-06T14:29:21.027Z"
   },
   {
    "duration": 15,
    "start_time": "2021-07-06T14:29:45.339Z"
   },
   {
    "duration": 158,
    "start_time": "2021-07-06T14:29:55.915Z"
   },
   {
    "duration": 18954,
    "start_time": "2021-07-06T14:32:28.348Z"
   },
   {
    "duration": 16,
    "start_time": "2021-07-06T14:32:57.866Z"
   },
   {
    "duration": 4,
    "start_time": "2021-07-06T14:33:34.496Z"
   },
   {
    "duration": 142,
    "start_time": "2021-07-06T14:34:12.927Z"
   },
   {
    "duration": 147,
    "start_time": "2021-07-06T14:34:33.126Z"
   },
   {
    "duration": 141,
    "start_time": "2021-07-06T14:36:00.523Z"
   },
   {
    "duration": 141,
    "start_time": "2021-07-06T14:36:22.961Z"
   },
   {
    "duration": 19360,
    "start_time": "2021-07-06T14:37:00.344Z"
   },
   {
    "duration": 14,
    "start_time": "2021-07-06T14:38:34.266Z"
   },
   {
    "duration": 15,
    "start_time": "2021-07-06T14:39:47.214Z"
   },
   {
    "duration": 415,
    "start_time": "2021-07-06T14:43:14.448Z"
   },
   {
    "duration": 410,
    "start_time": "2021-07-06T14:43:47.218Z"
   },
   {
    "duration": 143,
    "start_time": "2021-07-06T14:45:42.546Z"
   },
   {
    "duration": 14,
    "start_time": "2021-07-06T14:45:55.055Z"
   },
   {
    "duration": 243,
    "start_time": "2021-07-06T14:46:26.902Z"
   },
   {
    "duration": 96,
    "start_time": "2021-07-06T14:46:49.645Z"
   },
   {
    "duration": 1104,
    "start_time": "2021-07-06T14:46:56.934Z"
   },
   {
    "duration": 82,
    "start_time": "2021-07-06T14:46:58.040Z"
   },
   {
    "duration": 74,
    "start_time": "2021-07-06T14:46:58.124Z"
   },
   {
    "duration": 30,
    "start_time": "2021-07-06T14:46:58.200Z"
   },
   {
    "duration": 6,
    "start_time": "2021-07-06T14:46:58.240Z"
   },
   {
    "duration": 12,
    "start_time": "2021-07-06T14:46:58.248Z"
   },
   {
    "duration": 29,
    "start_time": "2021-07-06T14:46:58.261Z"
   },
   {
    "duration": 8,
    "start_time": "2021-07-06T14:46:58.292Z"
   },
   {
    "duration": 12,
    "start_time": "2021-07-06T14:46:58.302Z"
   },
   {
    "duration": 47,
    "start_time": "2021-07-06T14:46:58.316Z"
   },
   {
    "duration": 8,
    "start_time": "2021-07-06T14:46:58.364Z"
   },
   {
    "duration": 43,
    "start_time": "2021-07-06T14:46:58.374Z"
   },
   {
    "duration": 43,
    "start_time": "2021-07-06T14:46:58.418Z"
   },
   {
    "duration": 185,
    "start_time": "2021-07-06T14:46:58.463Z"
   },
   {
    "duration": 174,
    "start_time": "2021-07-06T14:46:58.650Z"
   },
   {
    "duration": 180,
    "start_time": "2021-07-06T14:46:58.826Z"
   },
   {
    "duration": 174,
    "start_time": "2021-07-06T14:46:59.007Z"
   },
   {
    "duration": 153,
    "start_time": "2021-07-06T14:46:59.182Z"
   },
   {
    "duration": 14,
    "start_time": "2021-07-06T14:46:59.341Z"
   },
   {
    "duration": 19435,
    "start_time": "2021-07-06T14:46:59.357Z"
   },
   {
    "duration": 16,
    "start_time": "2021-07-06T14:47:18.793Z"
   },
   {
    "duration": 239,
    "start_time": "2021-07-06T14:47:18.810Z"
   },
   {
    "duration": 91,
    "start_time": "2021-07-06T14:47:19.052Z"
   },
   {
    "duration": 141,
    "start_time": "2021-07-06T14:48:09.060Z"
   },
   {
    "duration": 19030,
    "start_time": "2021-07-06T14:49:45.592Z"
   },
   {
    "duration": 16,
    "start_time": "2021-07-06T14:50:51.243Z"
   },
   {
    "duration": 218,
    "start_time": "2021-07-06T14:50:53.932Z"
   },
   {
    "duration": 100,
    "start_time": "2021-07-06T14:50:56.347Z"
   },
   {
    "duration": 1027,
    "start_time": "2021-07-06T14:51:23.549Z"
   },
   {
    "duration": 81,
    "start_time": "2021-07-06T14:51:24.578Z"
   },
   {
    "duration": 80,
    "start_time": "2021-07-06T14:51:24.661Z"
   },
   {
    "duration": 29,
    "start_time": "2021-07-06T14:51:24.743Z"
   },
   {
    "duration": 7,
    "start_time": "2021-07-06T14:51:24.773Z"
   },
   {
    "duration": 8,
    "start_time": "2021-07-06T14:51:24.781Z"
   },
   {
    "duration": 18,
    "start_time": "2021-07-06T14:51:24.791Z"
   },
   {
    "duration": 30,
    "start_time": "2021-07-06T14:51:24.811Z"
   },
   {
    "duration": 7,
    "start_time": "2021-07-06T14:51:24.843Z"
   },
   {
    "duration": 52,
    "start_time": "2021-07-06T14:51:24.851Z"
   },
   {
    "duration": 8,
    "start_time": "2021-07-06T14:51:24.905Z"
   },
   {
    "duration": 44,
    "start_time": "2021-07-06T14:51:24.914Z"
   },
   {
    "duration": 34,
    "start_time": "2021-07-06T14:51:24.960Z"
   },
   {
    "duration": 184,
    "start_time": "2021-07-06T14:51:24.996Z"
   },
   {
    "duration": 163,
    "start_time": "2021-07-06T14:51:25.182Z"
   },
   {
    "duration": 174,
    "start_time": "2021-07-06T14:51:25.346Z"
   },
   {
    "duration": 176,
    "start_time": "2021-07-06T14:51:25.521Z"
   },
   {
    "duration": 156,
    "start_time": "2021-07-06T14:51:25.699Z"
   },
   {
    "duration": 13,
    "start_time": "2021-07-06T14:51:25.857Z"
   },
   {
    "duration": 18958,
    "start_time": "2021-07-06T14:51:25.872Z"
   },
   {
    "duration": 21,
    "start_time": "2021-07-06T14:51:44.831Z"
   },
   {
    "duration": 193,
    "start_time": "2021-07-06T14:51:44.853Z"
   },
   {
    "duration": 98,
    "start_time": "2021-07-06T14:51:45.048Z"
   },
   {
    "duration": 157,
    "start_time": "2021-07-06T14:53:47.488Z"
   },
   {
    "duration": 95,
    "start_time": "2021-07-06T14:53:53.046Z"
   },
   {
    "duration": 175,
    "start_time": "2021-07-06T14:54:03.166Z"
   },
   {
    "duration": 85,
    "start_time": "2021-07-06T14:54:05.055Z"
   },
   {
    "duration": 156,
    "start_time": "2021-07-06T14:56:21.593Z"
   },
   {
    "duration": 37,
    "start_time": "2021-07-06T14:56:23.913Z"
   },
   {
    "duration": 499,
    "start_time": "2021-07-06T14:57:54.557Z"
   },
   {
    "duration": 3,
    "start_time": "2021-07-06T14:57:59.957Z"
   },
   {
    "duration": 12,
    "start_time": "2021-07-06T14:58:04.236Z"
   },
   {
    "duration": 11,
    "start_time": "2021-07-06T14:59:19.961Z"
   },
   {
    "duration": 200,
    "start_time": "2021-07-06T14:59:36.991Z"
   },
   {
    "duration": 183,
    "start_time": "2021-07-06T15:00:15.536Z"
   },
   {
    "duration": 12,
    "start_time": "2021-07-06T15:00:55.260Z"
   },
   {
    "duration": 97,
    "start_time": "2021-07-06T15:02:30.336Z"
   },
   {
    "duration": 26200,
    "start_time": "2021-07-06T15:03:27.359Z"
   },
   {
    "duration": 29,
    "start_time": "2021-07-06T15:04:12.916Z"
   },
   {
    "duration": 202,
    "start_time": "2021-07-06T15:05:22.970Z"
   },
   {
    "duration": 233,
    "start_time": "2021-07-06T15:07:07.721Z"
   },
   {
    "duration": 223,
    "start_time": "2021-07-06T15:07:52.335Z"
   },
   {
    "duration": 16,
    "start_time": "2021-07-06T15:08:00.154Z"
   },
   {
    "duration": 11,
    "start_time": "2021-07-06T15:11:26.982Z"
   },
   {
    "duration": 155,
    "start_time": "2021-07-06T15:11:52.464Z"
   },
   {
    "duration": 13,
    "start_time": "2021-07-06T15:11:59.083Z"
   },
   {
    "duration": 158,
    "start_time": "2021-07-06T15:12:01.744Z"
   },
   {
    "duration": 85,
    "start_time": "2021-07-06T15:13:14.684Z"
   },
   {
    "duration": 13,
    "start_time": "2021-07-06T15:13:46.812Z"
   },
   {
    "duration": 1039,
    "start_time": "2021-07-06T15:14:25.333Z"
   },
   {
    "duration": 85,
    "start_time": "2021-07-06T15:14:26.373Z"
   },
   {
    "duration": 73,
    "start_time": "2021-07-06T15:14:26.460Z"
   },
   {
    "duration": 31,
    "start_time": "2021-07-06T15:14:26.534Z"
   },
   {
    "duration": 6,
    "start_time": "2021-07-06T15:14:26.567Z"
   },
   {
    "duration": 20,
    "start_time": "2021-07-06T15:14:26.575Z"
   },
   {
    "duration": 28,
    "start_time": "2021-07-06T15:14:26.596Z"
   },
   {
    "duration": 35,
    "start_time": "2021-07-06T15:14:26.627Z"
   },
   {
    "duration": 14,
    "start_time": "2021-07-06T15:14:26.664Z"
   },
   {
    "duration": 48,
    "start_time": "2021-07-06T15:14:26.680Z"
   },
   {
    "duration": 9,
    "start_time": "2021-07-06T15:14:26.730Z"
   },
   {
    "duration": 37,
    "start_time": "2021-07-06T15:14:26.741Z"
   },
   {
    "duration": 39,
    "start_time": "2021-07-06T15:14:26.780Z"
   },
   {
    "duration": 185,
    "start_time": "2021-07-06T15:14:26.821Z"
   },
   {
    "duration": 160,
    "start_time": "2021-07-06T15:14:27.008Z"
   },
   {
    "duration": 175,
    "start_time": "2021-07-06T15:14:27.169Z"
   },
   {
    "duration": 168,
    "start_time": "2021-07-06T15:14:27.346Z"
   },
   {
    "duration": 151,
    "start_time": "2021-07-06T15:14:27.516Z"
   },
   {
    "duration": 11,
    "start_time": "2021-07-06T15:14:27.669Z"
   },
   {
    "duration": 18930,
    "start_time": "2021-07-06T15:14:27.682Z"
   },
   {
    "duration": 15,
    "start_time": "2021-07-06T15:14:46.613Z"
   },
   {
    "duration": 221,
    "start_time": "2021-07-06T15:14:46.629Z"
   },
   {
    "duration": 87,
    "start_time": "2021-07-06T15:14:46.853Z"
   },
   {
    "duration": 98,
    "start_time": "2021-07-06T15:14:46.943Z"
   },
   {
    "duration": 166,
    "start_time": "2021-07-06T15:14:47.043Z"
   },
   {
    "duration": 198,
    "start_time": "2021-07-06T15:14:47.211Z"
   },
   {
    "duration": 11,
    "start_time": "2021-07-06T15:14:47.411Z"
   },
   {
    "duration": 26319,
    "start_time": "2021-07-06T15:14:47.424Z"
   },
   {
    "duration": 29,
    "start_time": "2021-07-06T15:15:13.744Z"
   },
   {
    "duration": 184,
    "start_time": "2021-07-06T15:15:13.774Z"
   },
   {
    "duration": 183,
    "start_time": "2021-07-06T15:15:13.961Z"
   },
   {
    "duration": 11,
    "start_time": "2021-07-06T15:15:14.146Z"
   },
   {
    "duration": 167,
    "start_time": "2021-07-06T15:15:14.158Z"
   },
   {
    "duration": 88,
    "start_time": "2021-07-06T15:15:14.326Z"
   },
   {
    "duration": 12,
    "start_time": "2021-07-06T15:15:14.416Z"
   },
   {
    "duration": 96,
    "start_time": "2021-07-06T16:24:29.797Z"
   },
   {
    "duration": 12590,
    "start_time": "2021-07-06T16:25:04.650Z"
   },
   {
    "duration": 15,
    "start_time": "2021-07-06T16:25:58.151Z"
   },
   {
    "duration": 160,
    "start_time": "2021-07-06T16:27:37.084Z"
   },
   {
    "duration": 18,
    "start_time": "2021-07-06T16:28:28.697Z"
   },
   {
    "duration": 1075,
    "start_time": "2021-07-06T16:28:42.937Z"
   },
   {
    "duration": 84,
    "start_time": "2021-07-06T16:28:44.014Z"
   },
   {
    "duration": 73,
    "start_time": "2021-07-06T16:28:44.100Z"
   },
   {
    "duration": 31,
    "start_time": "2021-07-06T16:28:44.174Z"
   },
   {
    "duration": 6,
    "start_time": "2021-07-06T16:28:44.207Z"
   },
   {
    "duration": 31,
    "start_time": "2021-07-06T16:28:44.215Z"
   },
   {
    "duration": 18,
    "start_time": "2021-07-06T16:28:44.248Z"
   },
   {
    "duration": 7,
    "start_time": "2021-07-06T16:28:44.269Z"
   },
   {
    "duration": 9,
    "start_time": "2021-07-06T16:28:44.278Z"
   },
   {
    "duration": 57,
    "start_time": "2021-07-06T16:28:44.289Z"
   },
   {
    "duration": 10,
    "start_time": "2021-07-06T16:28:44.347Z"
   },
   {
    "duration": 39,
    "start_time": "2021-07-06T16:28:44.358Z"
   },
   {
    "duration": 57,
    "start_time": "2021-07-06T16:28:44.399Z"
   },
   {
    "duration": 173,
    "start_time": "2021-07-06T16:28:44.457Z"
   },
   {
    "duration": 164,
    "start_time": "2021-07-06T16:28:44.631Z"
   },
   {
    "duration": 177,
    "start_time": "2021-07-06T16:28:44.796Z"
   },
   {
    "duration": 169,
    "start_time": "2021-07-06T16:28:44.975Z"
   },
   {
    "duration": 150,
    "start_time": "2021-07-06T16:28:45.146Z"
   },
   {
    "duration": 12,
    "start_time": "2021-07-06T16:28:45.298Z"
   },
   {
    "duration": 20807,
    "start_time": "2021-07-06T16:28:45.312Z"
   },
   {
    "duration": 24,
    "start_time": "2021-07-06T16:29:06.121Z"
   },
   {
    "duration": 195,
    "start_time": "2021-07-06T16:29:06.146Z"
   },
   {
    "duration": 100,
    "start_time": "2021-07-06T16:29:06.344Z"
   },
   {
    "duration": 104,
    "start_time": "2021-07-06T16:29:06.446Z"
   },
   {
    "duration": 164,
    "start_time": "2021-07-06T16:29:06.552Z"
   },
   {
    "duration": 186,
    "start_time": "2021-07-06T16:29:06.717Z"
   },
   {
    "duration": 12,
    "start_time": "2021-07-06T16:29:06.904Z"
   },
   {
    "duration": 26566,
    "start_time": "2021-07-06T16:29:06.917Z"
   },
   {
    "duration": 30,
    "start_time": "2021-07-06T16:29:33.484Z"
   },
   {
    "duration": 226,
    "start_time": "2021-07-06T16:29:33.516Z"
   },
   {
    "duration": 14,
    "start_time": "2021-07-06T16:29:33.744Z"
   },
   {
    "duration": 15,
    "start_time": "2021-07-06T16:29:33.842Z"
   },
   {
    "duration": 168,
    "start_time": "2021-07-06T16:29:33.942Z"
   },
   {
    "duration": 91,
    "start_time": "2021-07-06T16:29:34.112Z"
   },
   {
    "duration": 12,
    "start_time": "2021-07-06T16:29:34.204Z"
   },
   {
    "duration": 11386,
    "start_time": "2021-07-06T16:29:34.217Z"
   },
   {
    "duration": 14,
    "start_time": "2021-07-06T16:29:45.605Z"
   },
   {
    "duration": 223,
    "start_time": "2021-07-06T16:29:45.620Z"
   },
   {
    "duration": 100,
    "start_time": "2021-07-06T16:29:45.845Z"
   },
   {
    "duration": 262,
    "start_time": "2021-07-06T16:40:48.630Z"
   },
   {
    "duration": 182,
    "start_time": "2021-07-06T16:42:18.367Z"
   },
   {
    "duration": 44,
    "start_time": "2021-07-06T16:45:43.094Z"
   },
   {
    "duration": 206,
    "start_time": "2021-07-06T16:46:24.142Z"
   },
   {
    "duration": 4,
    "start_time": "2021-07-06T16:47:34.273Z"
   },
   {
    "duration": 5,
    "start_time": "2021-07-06T16:50:57.961Z"
   },
   {
    "duration": 3946,
    "start_time": "2021-07-06T16:51:55.974Z"
   },
   {
    "duration": 26,
    "start_time": "2021-07-06T16:52:36.908Z"
   },
   {
    "duration": 4248,
    "start_time": "2021-07-06T16:52:58.643Z"
   },
   {
    "duration": 31,
    "start_time": "2021-07-06T16:53:06.658Z"
   },
   {
    "duration": 16900,
    "start_time": "2021-07-06T16:53:31.601Z"
   },
   {
    "duration": 31,
    "start_time": "2021-07-06T16:53:51.888Z"
   },
   {
    "duration": 571,
    "start_time": "2021-07-06T16:54:47.767Z"
   },
   {
    "duration": 4611,
    "start_time": "2021-07-06T16:55:10.374Z"
   },
   {
    "duration": 26,
    "start_time": "2021-07-06T16:55:19.916Z"
   },
   {
    "duration": 26,
    "start_time": "2021-07-06T16:55:32.116Z"
   },
   {
    "duration": 3680,
    "start_time": "2021-07-06T16:56:07.746Z"
   },
   {
    "duration": 28,
    "start_time": "2021-07-06T16:56:29.777Z"
   },
   {
    "duration": 514,
    "start_time": "2021-07-07T07:13:31.451Z"
   },
   {
    "duration": 1567,
    "start_time": "2021-07-07T07:14:56.148Z"
   },
   {
    "duration": 182,
    "start_time": "2021-07-07T07:14:57.718Z"
   },
   {
    "duration": 121,
    "start_time": "2021-07-07T07:14:57.903Z"
   },
   {
    "duration": 79,
    "start_time": "2021-07-07T07:14:58.027Z"
   },
   {
    "duration": 14,
    "start_time": "2021-07-07T07:14:58.109Z"
   },
   {
    "duration": 47,
    "start_time": "2021-07-07T07:14:58.126Z"
   },
   {
    "duration": 35,
    "start_time": "2021-07-07T07:14:58.176Z"
   },
   {
    "duration": 14,
    "start_time": "2021-07-07T07:14:58.217Z"
   },
   {
    "duration": 12,
    "start_time": "2021-07-07T07:14:58.269Z"
   },
   {
    "duration": 97,
    "start_time": "2021-07-07T07:14:58.284Z"
   },
   {
    "duration": 16,
    "start_time": "2021-07-07T07:14:58.384Z"
   },
   {
    "duration": 96,
    "start_time": "2021-07-07T07:14:58.403Z"
   },
   {
    "duration": 83,
    "start_time": "2021-07-07T07:14:58.502Z"
   },
   {
    "duration": 331,
    "start_time": "2021-07-07T07:14:58.588Z"
   },
   {
    "duration": 539,
    "start_time": "2021-07-07T07:14:58.968Z"
   },
   {
    "duration": 418,
    "start_time": "2021-07-07T07:14:59.510Z"
   },
   {
    "duration": 332,
    "start_time": "2021-07-07T07:14:59.931Z"
   },
   {
    "duration": 248,
    "start_time": "2021-07-07T07:15:00.266Z"
   },
   {
    "duration": 20,
    "start_time": "2021-07-07T07:15:00.516Z"
   },
   {
    "duration": 33058,
    "start_time": "2021-07-07T07:15:00.539Z"
   },
   {
    "duration": 22,
    "start_time": "2021-07-07T07:15:33.599Z"
   },
   {
    "duration": 270,
    "start_time": "2021-07-07T07:15:33.623Z"
   },
   {
    "duration": 171,
    "start_time": "2021-07-07T07:15:33.898Z"
   },
   {
    "duration": 18,
    "start_time": "2021-07-07T07:15:34.072Z"
   },
   {
    "duration": 419,
    "start_time": "2021-07-07T07:15:34.093Z"
   },
   {
    "duration": 312,
    "start_time": "2021-07-07T07:15:34.514Z"
   },
   {
    "duration": 21,
    "start_time": "2021-07-07T07:15:34.829Z"
   },
   {
    "duration": 47707,
    "start_time": "2021-07-07T07:15:34.868Z"
   },
   {
    "duration": 48,
    "start_time": "2021-07-07T07:16:22.577Z"
   },
   {
    "duration": 280,
    "start_time": "2021-07-07T07:16:22.627Z"
   },
   {
    "duration": 67,
    "start_time": "2021-07-07T07:16:22.910Z"
   },
   {
    "duration": 18,
    "start_time": "2021-07-07T07:16:23.068Z"
   },
   {
    "duration": 321,
    "start_time": "2021-07-07T07:16:23.089Z"
   },
   {
    "duration": 148,
    "start_time": "2021-07-07T07:16:23.413Z"
   },
   {
    "duration": 19,
    "start_time": "2021-07-07T07:16:23.568Z"
   },
   {
    "duration": 19836,
    "start_time": "2021-07-07T07:16:23.590Z"
   },
   {
    "duration": 40,
    "start_time": "2021-07-07T07:16:43.428Z"
   },
   {
    "duration": 210,
    "start_time": "2021-07-07T07:16:43.470Z"
   },
   {
    "duration": 98,
    "start_time": "2021-07-07T07:16:43.683Z"
   },
   {
    "duration": 3745,
    "start_time": "2021-07-07T07:16:43.868Z"
   },
   {
    "duration": 28,
    "start_time": "2021-07-07T07:16:47.615Z"
   },
   {
    "duration": 262,
    "start_time": "2021-07-07T07:30:28.928Z"
   },
   {
    "duration": 3,
    "start_time": "2021-07-07T07:32:34.234Z"
   },
   {
    "duration": 3938,
    "start_time": "2021-07-07T07:35:35.475Z"
   },
   {
    "duration": 28,
    "start_time": "2021-07-07T07:36:20.542Z"
   },
   {
    "duration": 3939,
    "start_time": "2021-07-07T07:38:47.169Z"
   },
   {
    "duration": 26,
    "start_time": "2021-07-07T07:39:11.078Z"
   },
   {
    "duration": 3636,
    "start_time": "2021-07-07T07:40:06.101Z"
   },
   {
    "duration": 34,
    "start_time": "2021-07-07T07:40:16.164Z"
   },
   {
    "duration": 1663,
    "start_time": "2021-07-07T07:41:11.042Z"
   },
   {
    "duration": 122,
    "start_time": "2021-07-07T07:41:12.707Z"
   },
   {
    "duration": 116,
    "start_time": "2021-07-07T07:41:12.832Z"
   },
   {
    "duration": 70,
    "start_time": "2021-07-07T07:41:12.951Z"
   },
   {
    "duration": 12,
    "start_time": "2021-07-07T07:41:13.023Z"
   },
   {
    "duration": 39,
    "start_time": "2021-07-07T07:41:13.037Z"
   },
   {
    "duration": 33,
    "start_time": "2021-07-07T07:41:13.079Z"
   },
   {
    "duration": 14,
    "start_time": "2021-07-07T07:41:13.115Z"
   },
   {
    "duration": 44,
    "start_time": "2021-07-07T07:41:13.132Z"
   },
   {
    "duration": 90,
    "start_time": "2021-07-07T07:41:13.179Z"
   },
   {
    "duration": 13,
    "start_time": "2021-07-07T07:41:13.271Z"
   },
   {
    "duration": 89,
    "start_time": "2021-07-07T07:41:13.287Z"
   },
   {
    "duration": 64,
    "start_time": "2021-07-07T07:41:13.378Z"
   },
   {
    "duration": 336,
    "start_time": "2021-07-07T07:41:13.444Z"
   },
   {
    "duration": 319,
    "start_time": "2021-07-07T07:41:13.782Z"
   },
   {
    "duration": 438,
    "start_time": "2021-07-07T07:41:14.103Z"
   },
   {
    "duration": 328,
    "start_time": "2021-07-07T07:41:14.543Z"
   },
   {
    "duration": 247,
    "start_time": "2021-07-07T07:41:14.873Z"
   },
   {
    "duration": 20,
    "start_time": "2021-07-07T07:41:15.122Z"
   },
   {
    "duration": 34380,
    "start_time": "2021-07-07T07:41:15.144Z"
   },
   {
    "duration": 23,
    "start_time": "2021-07-07T07:41:49.526Z"
   },
   {
    "duration": 232,
    "start_time": "2021-07-07T07:41:49.567Z"
   },
   {
    "duration": 170,
    "start_time": "2021-07-07T07:41:49.804Z"
   },
   {
    "duration": 5460,
    "start_time": "2021-07-07T07:41:49.979Z"
   },
   {
    "duration": 29,
    "start_time": "2021-07-07T07:41:55.442Z"
   },
   {
    "duration": 19,
    "start_time": "2021-07-07T07:41:55.473Z"
   },
   {
    "duration": 397,
    "start_time": "2021-07-07T07:41:55.494Z"
   },
   {
    "duration": 326,
    "start_time": "2021-07-07T07:41:55.894Z"
   },
   {
    "duration": 19,
    "start_time": "2021-07-07T07:41:56.223Z"
   },
   {
    "duration": 47677,
    "start_time": "2021-07-07T07:41:56.245Z"
   },
   {
    "duration": 59,
    "start_time": "2021-07-07T07:42:43.924Z"
   },
   {
    "duration": 219,
    "start_time": "2021-07-07T07:42:43.986Z"
   },
   {
    "duration": 162,
    "start_time": "2021-07-07T07:42:44.207Z"
   },
   {
    "duration": 5450,
    "start_time": "2021-07-07T07:42:44.371Z"
   },
   {
    "duration": 27,
    "start_time": "2021-07-07T07:42:49.824Z"
   },
   {
    "duration": 17,
    "start_time": "2021-07-07T07:42:49.854Z"
   },
   {
    "duration": 313,
    "start_time": "2021-07-07T07:42:49.874Z"
   },
   {
    "duration": 149,
    "start_time": "2021-07-07T07:42:50.189Z"
   },
   {
    "duration": 30,
    "start_time": "2021-07-07T07:42:50.341Z"
   },
   {
    "duration": 19483,
    "start_time": "2021-07-07T07:42:50.374Z"
   },
   {
    "duration": 24,
    "start_time": "2021-07-07T07:43:09.867Z"
   },
   {
    "duration": 194,
    "start_time": "2021-07-07T07:43:09.894Z"
   },
   {
    "duration": 181,
    "start_time": "2021-07-07T07:43:10.091Z"
   },
   {
    "duration": 5182,
    "start_time": "2021-07-07T07:43:10.274Z"
   },
   {
    "duration": 30,
    "start_time": "2021-07-07T07:43:15.459Z"
   },
   {
    "duration": 119,
    "start_time": "2021-07-07T07:58:35.739Z"
   },
   {
    "duration": 102,
    "start_time": "2021-07-07T08:27:58.768Z"
   },
   {
    "duration": 445,
    "start_time": "2021-07-07T08:28:21.492Z"
   },
   {
    "duration": 85,
    "start_time": "2021-07-07T08:28:53.390Z"
   },
   {
    "duration": 25,
    "start_time": "2021-07-07T08:40:26.319Z"
   },
   {
    "duration": 311,
    "start_time": "2021-07-07T08:44:21.302Z"
   },
   {
    "duration": 1532,
    "start_time": "2021-07-07T08:44:29.285Z"
   },
   {
    "duration": 134,
    "start_time": "2021-07-07T08:44:30.820Z"
   },
   {
    "duration": 119,
    "start_time": "2021-07-07T08:44:30.957Z"
   },
   {
    "duration": 57,
    "start_time": "2021-07-07T08:44:31.078Z"
   },
   {
    "duration": 38,
    "start_time": "2021-07-07T08:44:31.137Z"
   },
   {
    "duration": 17,
    "start_time": "2021-07-07T08:44:31.178Z"
   },
   {
    "duration": 32,
    "start_time": "2021-07-07T08:44:31.198Z"
   },
   {
    "duration": 42,
    "start_time": "2021-07-07T08:44:31.233Z"
   },
   {
    "duration": 11,
    "start_time": "2021-07-07T08:44:31.279Z"
   },
   {
    "duration": 97,
    "start_time": "2021-07-07T08:44:31.292Z"
   },
   {
    "duration": 14,
    "start_time": "2021-07-07T08:44:31.392Z"
   },
   {
    "duration": 92,
    "start_time": "2021-07-07T08:44:31.409Z"
   },
   {
    "duration": 80,
    "start_time": "2021-07-07T08:44:31.503Z"
   },
   {
    "duration": 398,
    "start_time": "2021-07-07T08:44:31.585Z"
   },
   {
    "duration": 311,
    "start_time": "2021-07-07T08:44:31.986Z"
   },
   {
    "duration": 334,
    "start_time": "2021-07-07T08:44:32.300Z"
   },
   {
    "duration": 330,
    "start_time": "2021-07-07T08:44:32.637Z"
   },
   {
    "duration": 247,
    "start_time": "2021-07-07T08:44:32.969Z"
   },
   {
    "duration": 22,
    "start_time": "2021-07-07T08:44:33.219Z"
   },
   {
    "duration": 34283,
    "start_time": "2021-07-07T08:44:33.243Z"
   },
   {
    "duration": 26,
    "start_time": "2021-07-07T08:45:07.528Z"
   },
   {
    "duration": 233,
    "start_time": "2021-07-07T08:45:07.568Z"
   },
   {
    "duration": 171,
    "start_time": "2021-07-07T08:45:07.806Z"
   },
   {
    "duration": 5091,
    "start_time": "2021-07-07T08:45:07.980Z"
   },
   {
    "duration": 30,
    "start_time": "2021-07-07T08:45:13.074Z"
   },
   {
    "duration": 18,
    "start_time": "2021-07-07T08:45:13.107Z"
   },
   {
    "duration": 405,
    "start_time": "2021-07-07T08:45:13.128Z"
   },
   {
    "duration": 319,
    "start_time": "2021-07-07T08:45:13.535Z"
   },
   {
    "duration": 28,
    "start_time": "2021-07-07T08:45:13.857Z"
   },
   {
    "duration": 46586,
    "start_time": "2021-07-07T08:45:13.888Z"
   },
   {
    "duration": 51,
    "start_time": "2021-07-07T08:46:00.477Z"
   },
   {
    "duration": 268,
    "start_time": "2021-07-07T08:46:00.531Z"
   },
   {
    "duration": 173,
    "start_time": "2021-07-07T08:46:00.801Z"
   },
   {
    "duration": 8022,
    "start_time": "2021-07-07T08:46:00.976Z"
   },
   {
    "duration": 32,
    "start_time": "2021-07-07T08:46:09.001Z"
   },
   {
    "duration": 18,
    "start_time": "2021-07-07T08:46:09.036Z"
   },
   {
    "duration": 301,
    "start_time": "2021-07-07T08:46:09.057Z"
   },
   {
    "duration": 142,
    "start_time": "2021-07-07T08:46:09.367Z"
   },
   {
    "duration": 22,
    "start_time": "2021-07-07T08:46:09.511Z"
   },
   {
    "duration": 20340,
    "start_time": "2021-07-07T08:46:09.535Z"
   },
   {
    "duration": 26,
    "start_time": "2021-07-07T08:46:29.878Z"
   },
   {
    "duration": 179,
    "start_time": "2021-07-07T08:46:29.907Z"
   },
   {
    "duration": 179,
    "start_time": "2021-07-07T08:46:30.088Z"
   },
   {
    "duration": 7310,
    "start_time": "2021-07-07T08:46:30.270Z"
   },
   {
    "duration": 33,
    "start_time": "2021-07-07T08:46:37.582Z"
   },
   {
    "duration": 14,
    "start_time": "2021-07-07T08:46:37.618Z"
   },
   {
    "duration": 516,
    "start_time": "2021-07-07T08:51:09.371Z"
   },
   {
    "duration": 657,
    "start_time": "2021-07-07T08:52:40.289Z"
   },
   {
    "duration": 305,
    "start_time": "2021-07-07T08:53:19.040Z"
   },
   {
    "duration": 336,
    "start_time": "2021-07-07T08:54:54.341Z"
   },
   {
    "duration": 317,
    "start_time": "2021-07-07T08:55:11.531Z"
   },
   {
    "duration": 324,
    "start_time": "2021-07-07T08:56:51.895Z"
   },
   {
    "duration": 338,
    "start_time": "2021-07-07T08:57:45.103Z"
   },
   {
    "duration": 426,
    "start_time": "2021-07-07T08:57:57.156Z"
   },
   {
    "duration": 369,
    "start_time": "2021-07-07T08:58:06.153Z"
   },
   {
    "duration": 327,
    "start_time": "2021-07-07T08:58:17.426Z"
   },
   {
    "duration": 330,
    "start_time": "2021-07-07T08:59:49.144Z"
   },
   {
    "duration": 367,
    "start_time": "2021-07-07T09:01:24.850Z"
   },
   {
    "duration": 360,
    "start_time": "2021-07-07T09:01:31.339Z"
   },
   {
    "duration": 359,
    "start_time": "2021-07-07T09:02:19.984Z"
   },
   {
    "duration": 341,
    "start_time": "2021-07-07T09:02:39.176Z"
   },
   {
    "duration": 341,
    "start_time": "2021-07-07T09:02:47.295Z"
   },
   {
    "duration": 338,
    "start_time": "2021-07-07T09:03:41.995Z"
   },
   {
    "duration": 384,
    "start_time": "2021-07-07T09:06:54.044Z"
   },
   {
    "duration": 354,
    "start_time": "2021-07-07T09:07:10.644Z"
   },
   {
    "duration": 3326,
    "start_time": "2021-07-07T09:08:34.168Z"
   },
   {
    "duration": 1066,
    "start_time": "2021-07-07T09:08:47.791Z"
   },
   {
    "duration": 653,
    "start_time": "2021-07-07T09:12:22.574Z"
   },
   {
    "duration": 661,
    "start_time": "2021-07-07T09:12:30.133Z"
   },
   {
    "duration": 23,
    "start_time": "2021-07-07T09:59:06.126Z"
   },
   {
    "duration": 38,
    "start_time": "2021-07-07T09:59:33.072Z"
   },
   {
    "duration": 22,
    "start_time": "2021-07-07T10:01:33.803Z"
   },
   {
    "duration": 54,
    "start_time": "2021-07-07T10:01:47.626Z"
   },
   {
    "duration": 329,
    "start_time": "2021-07-07T10:04:41.177Z"
   },
   {
    "duration": 636,
    "start_time": "2021-07-07T10:05:00.587Z"
   },
   {
    "duration": 1639,
    "start_time": "2021-07-07T10:05:50.975Z"
   },
   {
    "duration": 244,
    "start_time": "2021-07-07T10:05:52.617Z"
   },
   {
    "duration": 120,
    "start_time": "2021-07-07T10:05:52.864Z"
   },
   {
    "duration": 58,
    "start_time": "2021-07-07T10:05:52.986Z"
   },
   {
    "duration": 30,
    "start_time": "2021-07-07T10:05:53.046Z"
   },
   {
    "duration": 12,
    "start_time": "2021-07-07T10:05:53.078Z"
   },
   {
    "duration": 42,
    "start_time": "2021-07-07T10:05:53.092Z"
   },
   {
    "duration": 14,
    "start_time": "2021-07-07T10:05:53.166Z"
   },
   {
    "duration": 10,
    "start_time": "2021-07-07T10:05:53.183Z"
   },
   {
    "duration": 101,
    "start_time": "2021-07-07T10:05:53.195Z"
   },
   {
    "duration": 15,
    "start_time": "2021-07-07T10:05:53.299Z"
   },
   {
    "duration": 97,
    "start_time": "2021-07-07T10:05:53.317Z"
   },
   {
    "duration": 85,
    "start_time": "2021-07-07T10:05:53.417Z"
   },
   {
    "duration": 337,
    "start_time": "2021-07-07T10:05:53.505Z"
   },
   {
    "duration": 316,
    "start_time": "2021-07-07T10:05:53.845Z"
   },
   {
    "duration": 323,
    "start_time": "2021-07-07T10:05:54.168Z"
   },
   {
    "duration": 328,
    "start_time": "2021-07-07T10:05:54.494Z"
   },
   {
    "duration": 260,
    "start_time": "2021-07-07T10:05:54.825Z"
   },
   {
    "duration": 25,
    "start_time": "2021-07-07T10:05:55.088Z"
   },
   {
    "duration": 33553,
    "start_time": "2021-07-07T10:05:55.116Z"
   },
   {
    "duration": 27,
    "start_time": "2021-07-07T10:06:28.671Z"
   },
   {
    "duration": 195,
    "start_time": "2021-07-07T10:06:28.700Z"
   },
   {
    "duration": 166,
    "start_time": "2021-07-07T10:06:28.901Z"
   },
   {
    "duration": 5166,
    "start_time": "2021-07-07T10:06:29.070Z"
   },
   {
    "duration": 31,
    "start_time": "2021-07-07T10:06:34.239Z"
   },
   {
    "duration": 17,
    "start_time": "2021-07-07T10:06:34.273Z"
   },
   {
    "duration": 375,
    "start_time": "2021-07-07T10:06:34.292Z"
   },
   {
    "duration": 318,
    "start_time": "2021-07-07T10:06:34.669Z"
   },
   {
    "duration": 21,
    "start_time": "2021-07-07T10:06:34.989Z"
   },
   {
    "duration": 48581,
    "start_time": "2021-07-07T10:06:35.013Z"
   },
   {
    "duration": 55,
    "start_time": "2021-07-07T10:07:23.596Z"
   },
   {
    "duration": 230,
    "start_time": "2021-07-07T10:07:23.671Z"
   },
   {
    "duration": 164,
    "start_time": "2021-07-07T10:07:23.904Z"
   },
   {
    "duration": 8197,
    "start_time": "2021-07-07T10:07:24.070Z"
   },
   {
    "duration": 42,
    "start_time": "2021-07-07T10:07:32.269Z"
   },
   {
    "duration": 19,
    "start_time": "2021-07-07T10:07:32.367Z"
   },
   {
    "duration": 428,
    "start_time": "2021-07-07T10:07:32.388Z"
   },
   {
    "duration": 149,
    "start_time": "2021-07-07T10:07:32.818Z"
   },
   {
    "duration": 23,
    "start_time": "2021-07-07T10:07:32.969Z"
   },
   {
    "duration": 21334,
    "start_time": "2021-07-07T10:07:32.995Z"
   },
   {
    "duration": 43,
    "start_time": "2021-07-07T10:07:54.331Z"
   },
   {
    "duration": 204,
    "start_time": "2021-07-07T10:07:54.377Z"
   },
   {
    "duration": 188,
    "start_time": "2021-07-07T10:07:54.584Z"
   },
   {
    "duration": 8064,
    "start_time": "2021-07-07T10:07:54.774Z"
   },
   {
    "duration": 43,
    "start_time": "2021-07-07T10:08:02.840Z"
   },
   {
    "duration": 16,
    "start_time": "2021-07-07T10:08:02.886Z"
   },
   {
    "duration": 650,
    "start_time": "2021-07-07T10:08:02.904Z"
   },
   {
    "duration": 20,
    "start_time": "2021-07-07T10:08:03.557Z"
   },
   {
    "duration": 703,
    "start_time": "2021-07-07T10:08:03.580Z"
   },
   {
    "duration": 23,
    "start_time": "2021-07-07T10:42:00.389Z"
   },
   {
    "duration": 25,
    "start_time": "2021-07-07T10:42:12.388Z"
   },
   {
    "duration": 24,
    "start_time": "2021-07-07T10:42:19.739Z"
   },
   {
    "duration": 22,
    "start_time": "2021-07-07T10:42:26.122Z"
   },
   {
    "duration": 25,
    "start_time": "2021-07-07T10:43:06.145Z"
   },
   {
    "duration": 1547,
    "start_time": "2021-07-07T13:53:46.246Z"
   },
   {
    "duration": 7,
    "start_time": "2021-07-07T13:59:05.605Z"
   },
   {
    "duration": 123,
    "start_time": "2021-07-07T13:59:05.615Z"
   },
   {
    "duration": 123,
    "start_time": "2021-07-07T13:59:05.741Z"
   },
   {
    "duration": 58,
    "start_time": "2021-07-07T13:59:05.867Z"
   },
   {
    "duration": 42,
    "start_time": "2021-07-07T13:59:05.928Z"
   },
   {
    "duration": 14,
    "start_time": "2021-07-07T13:59:05.973Z"
   },
   {
    "duration": 76,
    "start_time": "2021-07-07T13:59:05.990Z"
   },
   {
    "duration": 17,
    "start_time": "2021-07-07T13:59:06.069Z"
   },
   {
    "duration": 14,
    "start_time": "2021-07-07T13:59:06.092Z"
   },
   {
    "duration": 144,
    "start_time": "2021-07-07T13:59:06.111Z"
   },
   {
    "duration": 18,
    "start_time": "2021-07-07T13:59:06.258Z"
   },
   {
    "duration": 121,
    "start_time": "2021-07-07T13:59:06.279Z"
   },
   {
    "duration": 109,
    "start_time": "2021-07-07T13:59:06.403Z"
   },
   {
    "duration": 473,
    "start_time": "2021-07-07T13:59:06.515Z"
   },
   {
    "duration": 314,
    "start_time": "2021-07-07T13:59:06.990Z"
   },
   {
    "duration": 331,
    "start_time": "2021-07-07T13:59:07.306Z"
   },
   {
    "duration": 340,
    "start_time": "2021-07-07T13:59:07.639Z"
   },
   {
    "duration": 247,
    "start_time": "2021-07-07T13:59:07.981Z"
   },
   {
    "duration": 39,
    "start_time": "2021-07-07T13:59:08.230Z"
   },
   {
    "duration": 32198,
    "start_time": "2021-07-07T13:59:08.272Z"
   },
   {
    "duration": 26,
    "start_time": "2021-07-07T13:59:40.473Z"
   },
   {
    "duration": 189,
    "start_time": "2021-07-07T13:59:40.501Z"
   },
   {
    "duration": 170,
    "start_time": "2021-07-07T13:59:40.692Z"
   },
   {
    "duration": 6059,
    "start_time": "2021-07-07T13:59:40.865Z"
   },
   {
    "duration": 37,
    "start_time": "2021-07-07T13:59:46.926Z"
   },
   {
    "duration": 27,
    "start_time": "2021-07-07T13:59:46.966Z"
   },
   {
    "duration": 437,
    "start_time": "2021-07-07T14:02:17.277Z"
   },
   {
    "duration": 6,
    "start_time": "2021-07-07T14:02:22.836Z"
   },
   {
    "duration": 3,
    "start_time": "2021-07-07T14:02:26.964Z"
   },
   {
    "duration": 23,
    "start_time": "2021-07-07T14:02:55.243Z"
   },
   {
    "duration": 20,
    "start_time": "2021-07-07T14:02:59.458Z"
   },
   {
    "duration": 116,
    "start_time": "2021-07-07T14:06:44.673Z"
   },
   {
    "duration": 541,
    "start_time": "2021-07-07T14:12:12.700Z"
   },
   {
    "duration": 37,
    "start_time": "2021-07-07T14:12:35.474Z"
   },
   {
    "duration": 20,
    "start_time": "2021-07-07T14:12:49.960Z"
   },
   {
    "duration": 306,
    "start_time": "2021-07-07T14:14:04.282Z"
   },
   {
    "duration": 1556,
    "start_time": "2021-07-07T14:14:26.345Z"
   },
   {
    "duration": 103,
    "start_time": "2021-07-07T14:14:27.904Z"
   },
   {
    "duration": 3,
    "start_time": "2021-07-07T14:14:28.011Z"
   },
   {
    "duration": 119,
    "start_time": "2021-07-07T14:14:28.016Z"
   },
   {
    "duration": 70,
    "start_time": "2021-07-07T14:14:28.138Z"
   },
   {
    "duration": 13,
    "start_time": "2021-07-07T14:14:28.210Z"
   },
   {
    "duration": 43,
    "start_time": "2021-07-07T14:14:28.225Z"
   },
   {
    "duration": 47,
    "start_time": "2021-07-07T14:14:28.274Z"
   },
   {
    "duration": 38,
    "start_time": "2021-07-07T14:14:28.325Z"
   },
   {
    "duration": 12,
    "start_time": "2021-07-07T14:14:28.366Z"
   },
   {
    "duration": 99,
    "start_time": "2021-07-07T14:14:28.381Z"
   },
   {
    "duration": 15,
    "start_time": "2021-07-07T14:14:28.482Z"
   },
   {
    "duration": 86,
    "start_time": "2021-07-07T14:14:28.500Z"
   },
   {
    "duration": 76,
    "start_time": "2021-07-07T14:14:28.589Z"
   },
   {
    "duration": 334,
    "start_time": "2021-07-07T14:14:28.668Z"
   },
   {
    "duration": 310,
    "start_time": "2021-07-07T14:14:29.005Z"
   },
   {
    "duration": 328,
    "start_time": "2021-07-07T14:14:29.317Z"
   },
   {
    "duration": 333,
    "start_time": "2021-07-07T14:14:29.648Z"
   },
   {
    "duration": 247,
    "start_time": "2021-07-07T14:14:29.984Z"
   },
   {
    "duration": 39,
    "start_time": "2021-07-07T14:14:30.233Z"
   },
   {
    "duration": 32388,
    "start_time": "2021-07-07T14:14:30.274Z"
   },
   {
    "duration": 26,
    "start_time": "2021-07-07T14:15:02.664Z"
   },
   {
    "duration": 193,
    "start_time": "2021-07-07T14:15:02.695Z"
   },
   {
    "duration": 171,
    "start_time": "2021-07-07T14:15:02.891Z"
   },
   {
    "duration": 5061,
    "start_time": "2021-07-07T14:15:03.065Z"
   },
   {
    "duration": 32,
    "start_time": "2021-07-07T14:15:08.129Z"
   },
   {
    "duration": 36,
    "start_time": "2021-07-07T14:15:08.164Z"
   },
   {
    "duration": 21,
    "start_time": "2021-07-07T14:15:08.202Z"
   },
   {
    "duration": 47,
    "start_time": "2021-07-07T14:15:08.225Z"
   },
   {
    "duration": 370,
    "start_time": "2021-07-07T14:15:08.275Z"
   },
   {
    "duration": 323,
    "start_time": "2021-07-07T14:15:08.647Z"
   },
   {
    "duration": 21,
    "start_time": "2021-07-07T14:15:08.972Z"
   },
   {
    "duration": 45756,
    "start_time": "2021-07-07T14:15:08.995Z"
   },
   {
    "duration": 50,
    "start_time": "2021-07-07T14:15:54.753Z"
   },
   {
    "duration": 296,
    "start_time": "2021-07-07T14:15:54.805Z"
   },
   {
    "duration": 161,
    "start_time": "2021-07-07T14:15:55.104Z"
   },
   {
    "duration": 5823,
    "start_time": "2021-07-07T14:15:55.268Z"
   },
   {
    "duration": 44,
    "start_time": "2021-07-07T14:16:01.095Z"
   },
   {
    "duration": 26,
    "start_time": "2021-07-07T14:16:01.142Z"
   },
   {
    "duration": 465,
    "start_time": "2021-07-07T14:16:01.171Z"
   },
   {
    "duration": 199,
    "start_time": "2021-07-07T14:16:01.639Z"
   },
   {
    "duration": 43,
    "start_time": "2021-07-07T14:16:01.841Z"
   },
   {
    "duration": 28514,
    "start_time": "2021-07-07T14:16:01.887Z"
   },
   {
    "duration": 36,
    "start_time": "2021-07-07T14:16:30.404Z"
   },
   {
    "duration": 229,
    "start_time": "2021-07-07T14:16:30.443Z"
   },
   {
    "duration": 92,
    "start_time": "2021-07-07T14:16:30.675Z"
   },
   {
    "duration": 4957,
    "start_time": "2021-07-07T14:16:30.770Z"
   },
   {
    "duration": 30,
    "start_time": "2021-07-07T14:16:35.729Z"
   },
   {
    "duration": 473,
    "start_time": "2021-07-07T14:16:35.761Z"
   },
   {
    "duration": -308,
    "start_time": "2021-07-07T14:16:36.544Z"
   },
   {
    "duration": -309,
    "start_time": "2021-07-07T14:16:36.546Z"
   },
   {
    "duration": -316,
    "start_time": "2021-07-07T14:16:36.555Z"
   },
   {
    "duration": 20,
    "start_time": "2021-07-07T14:17:49.403Z"
   },
   {
    "duration": 39,
    "start_time": "2021-07-07T14:19:41.260Z"
   },
   {
    "duration": 21,
    "start_time": "2021-07-07T14:19:48.579Z"
   },
   {
    "duration": 20,
    "start_time": "2021-07-07T14:20:05.267Z"
   },
   {
    "duration": 663,
    "start_time": "2021-07-07T14:20:09.090Z"
   },
   {
    "duration": 22,
    "start_time": "2021-07-07T14:20:13.850Z"
   },
   {
    "duration": 28,
    "start_time": "2021-07-07T14:21:42.487Z"
   },
   {
    "duration": 666,
    "start_time": "2021-07-07T14:21:48.454Z"
   },
   {
    "duration": 46,
    "start_time": "2021-07-07T14:24:02.042Z"
   },
   {
    "duration": 21,
    "start_time": "2021-07-07T14:25:04.694Z"
   },
   {
    "duration": 25,
    "start_time": "2021-07-07T14:26:52.035Z"
   },
   {
    "duration": 32,
    "start_time": "2021-07-07T14:27:07.297Z"
   },
   {
    "duration": 24,
    "start_time": "2021-07-07T14:27:25.544Z"
   },
   {
    "duration": 329,
    "start_time": "2021-07-07T14:27:56.483Z"
   },
   {
    "duration": 23,
    "start_time": "2021-07-07T14:28:12.542Z"
   },
   {
    "duration": 348,
    "start_time": "2021-07-07T14:28:21.972Z"
   },
   {
    "duration": 22,
    "start_time": "2021-07-07T14:28:51.268Z"
   },
   {
    "duration": 644,
    "start_time": "2021-07-07T14:29:01.076Z"
   },
   {
    "duration": 23,
    "start_time": "2021-07-07T14:29:26.587Z"
   },
   {
    "duration": 682,
    "start_time": "2021-07-07T14:29:30.268Z"
   },
   {
    "duration": 10,
    "start_time": "2021-07-07T14:37:31.851Z"
   },
   {
    "duration": 308,
    "start_time": "2021-07-07T14:40:10.463Z"
   },
   {
    "duration": 337,
    "start_time": "2021-07-07T14:40:19.812Z"
   },
   {
    "duration": 619,
    "start_time": "2021-07-07T14:40:28.085Z"
   },
   {
    "duration": 293,
    "start_time": "2021-07-07T14:40:34.044Z"
   },
   {
    "duration": 368,
    "start_time": "2021-07-07T14:40:37.891Z"
   },
   {
    "duration": 141,
    "start_time": "2021-07-07T16:27:13.517Z"
   },
   {
    "duration": 7,
    "start_time": "2021-07-07T16:29:37.993Z"
   },
   {
    "duration": 7,
    "start_time": "2021-07-07T16:44:11.196Z"
   },
   {
    "duration": 799,
    "start_time": "2021-07-07T16:51:25.121Z"
   },
   {
    "duration": 756,
    "start_time": "2021-07-07T16:51:57.288Z"
   },
   {
    "duration": 1140,
    "start_time": "2021-07-07T16:52:33.654Z"
   },
   {
    "duration": 362,
    "start_time": "2021-07-07T16:52:59.041Z"
   },
   {
    "duration": 281,
    "start_time": "2021-07-07T16:54:16.743Z"
   },
   {
    "duration": 9,
    "start_time": "2021-07-07T16:55:29.652Z"
   },
   {
    "duration": 374,
    "start_time": "2021-07-07T16:55:47.987Z"
   },
   {
    "duration": 7,
    "start_time": "2021-07-07T16:55:55.772Z"
   },
   {
    "duration": 303,
    "start_time": "2021-07-07T16:56:17.289Z"
   },
   {
    "duration": 7,
    "start_time": "2021-07-07T16:56:29.154Z"
   },
   {
    "duration": 7,
    "start_time": "2021-07-07T16:57:28.950Z"
   },
   {
    "duration": 10848,
    "start_time": "2021-07-07T16:57:50.327Z"
   },
   {
    "duration": 4,
    "start_time": "2021-07-07T17:12:23.421Z"
   },
   {
    "duration": 5,
    "start_time": "2021-07-07T17:12:33.078Z"
   },
   {
    "duration": 379,
    "start_time": "2021-07-07T17:12:41.373Z"
   },
   {
    "duration": 109,
    "start_time": "2021-07-07T17:12:47.517Z"
   },
   {
    "duration": 5,
    "start_time": "2021-07-07T17:13:02.653Z"
   },
   {
    "duration": 336,
    "start_time": "2021-07-07T17:13:44.941Z"
   },
   {
    "duration": 4,
    "start_time": "2021-07-07T17:13:58.787Z"
   },
   {
    "duration": 11323,
    "start_time": "2021-07-07T17:17:38.612Z"
   },
   {
    "duration": 11186,
    "start_time": "2021-07-07T17:21:22.283Z"
   },
   {
    "duration": 11383,
    "start_time": "2021-07-07T17:23:29.311Z"
   },
   {
    "duration": 11431,
    "start_time": "2021-07-07T17:24:29.728Z"
   },
   {
    "duration": 11086,
    "start_time": "2021-07-07T17:25:11.591Z"
   },
   {
    "duration": 10877,
    "start_time": "2021-07-07T17:27:11.305Z"
   },
   {
    "duration": 10550,
    "start_time": "2021-07-07T17:27:36.023Z"
   },
   {
    "duration": 10859,
    "start_time": "2021-07-07T17:28:13.518Z"
   },
   {
    "duration": 9149,
    "start_time": "2021-07-07T17:28:42.732Z"
   },
   {
    "duration": 1522,
    "start_time": "2021-07-07T17:29:38.677Z"
   },
   {
    "duration": 124,
    "start_time": "2021-07-07T17:29:40.202Z"
   },
   {
    "duration": 3,
    "start_time": "2021-07-07T17:29:40.331Z"
   },
   {
    "duration": 131,
    "start_time": "2021-07-07T17:29:40.337Z"
   },
   {
    "duration": 61,
    "start_time": "2021-07-07T17:29:40.472Z"
   },
   {
    "duration": 15,
    "start_time": "2021-07-07T17:29:40.563Z"
   },
   {
    "duration": 15,
    "start_time": "2021-07-07T17:29:40.581Z"
   },
   {
    "duration": 77,
    "start_time": "2021-07-07T17:29:40.602Z"
   },
   {
    "duration": 15,
    "start_time": "2021-07-07T17:29:40.683Z"
   },
   {
    "duration": 13,
    "start_time": "2021-07-07T17:29:40.701Z"
   },
   {
    "duration": 140,
    "start_time": "2021-07-07T17:29:40.717Z"
   },
   {
    "duration": 18,
    "start_time": "2021-07-07T17:29:40.863Z"
   },
   {
    "duration": 98,
    "start_time": "2021-07-07T17:29:40.884Z"
   },
   {
    "duration": 85,
    "start_time": "2021-07-07T17:29:40.984Z"
   },
   {
    "duration": 319,
    "start_time": "2021-07-07T17:29:41.071Z"
   },
   {
    "duration": 323,
    "start_time": "2021-07-07T17:29:41.393Z"
   },
   {
    "duration": 332,
    "start_time": "2021-07-07T17:29:41.718Z"
   },
   {
    "duration": 468,
    "start_time": "2021-07-07T17:29:42.053Z"
   },
   {
    "duration": 339,
    "start_time": "2021-07-07T17:29:42.524Z"
   },
   {
    "duration": 427,
    "start_time": "2021-07-07T17:29:42.866Z"
   },
   {
    "duration": 33436,
    "start_time": "2021-07-07T17:29:43.297Z"
   },
   {
    "duration": 327,
    "start_time": "2021-07-07T17:30:16.735Z"
   },
   {
    "duration": 4,
    "start_time": "2021-07-07T17:30:17.069Z"
   },
   {
    "duration": 9492,
    "start_time": "2021-07-07T17:30:17.077Z"
   },
   {
    "duration": 539,
    "start_time": "2021-07-07T17:30:26.571Z"
   },
   {
    "duration": 5726,
    "start_time": "2021-07-07T17:30:27.112Z"
   },
   {
    "duration": 324,
    "start_time": "2021-07-07T17:30:32.841Z"
   },
   {
    "duration": 41,
    "start_time": "2021-07-07T17:30:33.167Z"
   },
   {
    "duration": 313,
    "start_time": "2021-07-07T17:30:33.210Z"
   },
   {
    "duration": 19,
    "start_time": "2021-07-07T17:30:33.525Z"
   },
   {
    "duration": 323,
    "start_time": "2021-07-07T17:30:33.546Z"
   },
   {
    "duration": 331,
    "start_time": "2021-07-07T17:30:33.872Z"
   },
   {
    "duration": 302,
    "start_time": "2021-07-07T17:30:34.206Z"
   },
   {
    "duration": 53483,
    "start_time": "2021-07-07T17:30:34.511Z"
   },
   {
    "duration": 385,
    "start_time": "2021-07-07T17:31:27.997Z"
   },
   {
    "duration": 9301,
    "start_time": "2021-07-07T17:31:28.385Z"
   },
   {
    "duration": 730,
    "start_time": "2021-07-07T17:31:37.689Z"
   },
   {
    "duration": 8261,
    "start_time": "2021-07-07T17:31:38.422Z"
   },
   {
    "duration": 338,
    "start_time": "2021-07-07T17:31:46.685Z"
   },
   {
    "duration": 61,
    "start_time": "2021-07-07T17:31:47.026Z"
   },
   {
    "duration": 337,
    "start_time": "2021-07-07T17:31:47.092Z"
   },
   {
    "duration": 31,
    "start_time": "2021-07-07T17:31:47.432Z"
   },
   {
    "duration": 337,
    "start_time": "2021-07-07T17:31:47.465Z"
   },
   {
    "duration": 148,
    "start_time": "2021-07-07T17:31:47.804Z"
   },
   {
    "duration": 317,
    "start_time": "2021-07-07T17:31:47.962Z"
   },
   {
    "duration": 20234,
    "start_time": "2021-07-07T17:31:48.281Z"
   },
   {
    "duration": 321,
    "start_time": "2021-07-07T17:32:08.518Z"
   },
   {
    "duration": 6626,
    "start_time": "2021-07-07T17:32:08.841Z"
   },
   {
    "duration": 552,
    "start_time": "2021-07-07T17:32:15.470Z"
   },
   {
    "duration": 5667,
    "start_time": "2021-07-07T17:32:16.024Z"
   },
   {
    "duration": 314,
    "start_time": "2021-07-07T17:32:21.694Z"
   },
   {
    "duration": 25,
    "start_time": "2021-07-07T17:32:22.011Z"
   },
   {
    "duration": 446,
    "start_time": "2021-07-07T17:32:22.039Z"
   },
   {
    "duration": 24,
    "start_time": "2021-07-07T17:32:22.488Z"
   },
   {
    "duration": 778,
    "start_time": "2021-07-07T17:32:22.515Z"
   },
   {
    "duration": 22,
    "start_time": "2021-07-07T17:32:23.296Z"
   },
   {
    "duration": 736,
    "start_time": "2021-07-07T17:32:23.321Z"
   }
  ],
  "kernelspec": {
   "display_name": "Python 3",
   "language": "python",
   "name": "python3"
  },
  "language_info": {
   "codemirror_mode": {
    "name": "ipython",
    "version": 3
   },
   "file_extension": ".py",
   "mimetype": "text/x-python",
   "name": "python",
   "nbconvert_exporter": "python",
   "pygments_lexer": "ipython3",
   "version": "3.8.8"
  },
  "toc": {
   "base_numbering": 1,
   "nav_menu": {},
   "number_sections": true,
   "sideBar": true,
   "skip_h1_title": true,
   "title_cell": "Содержание",
   "title_sidebar": "Contents",
   "toc_cell": true,
   "toc_position": {
    "height": "calc(100% - 180px)",
    "left": "10px",
    "top": "150px",
    "width": "338.391px"
   },
   "toc_section_display": true,
   "toc_window_display": true
  }
 },
 "nbformat": 4,
 "nbformat_minor": 2
}
