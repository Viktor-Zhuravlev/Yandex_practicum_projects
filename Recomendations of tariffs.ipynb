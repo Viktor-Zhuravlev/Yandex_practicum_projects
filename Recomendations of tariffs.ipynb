{
 "cells": [
  {
   "cell_type": "markdown",
   "metadata": {
    "toc": true
   },
   "source": [
    "<h1>Содержание<span class=\"tocSkip\"></span></h1>\n",
    "<div class=\"toc\"><ul class=\"toc-item\"><li><span><a href=\"#Откройте-и-изучите-файл\" data-toc-modified-id=\"Откройте-и-изучите-файл-1\"><span class=\"toc-item-num\">1&nbsp;&nbsp;</span>Откройте и изучите файл</a></span><ul class=\"toc-item\"><li><span><a href=\"#Загрузка-библиотек\" data-toc-modified-id=\"Загрузка-библиотек-1.1\"><span class=\"toc-item-num\">1.1&nbsp;&nbsp;</span>Загрузка библиотек</a></span></li><li><span><a href=\"#Загрузка-и-изучение-файла\" data-toc-modified-id=\"Загрузка-и-изучение-файла-1.2\"><span class=\"toc-item-num\">1.2&nbsp;&nbsp;</span>Загрузка и изучение файла</a></span></li></ul></li><li><span><a href=\"#Разбейте-данные-на-выборки\" data-toc-modified-id=\"Разбейте-данные-на-выборки-2\"><span class=\"toc-item-num\">2&nbsp;&nbsp;</span>Разбейте данные на выборки</a></span><ul class=\"toc-item\"><li><span><a href=\"#Обучающая-выборка\" data-toc-modified-id=\"Обучающая-выборка-2.1\"><span class=\"toc-item-num\">2.1&nbsp;&nbsp;</span>Обучающая выборка</a></span><ul class=\"toc-item\"><li><span><a href=\"#Определение\" data-toc-modified-id=\"Определение-2.1.1\"><span class=\"toc-item-num\">2.1.1&nbsp;&nbsp;</span>Определение</a></span></li><li><span><a href=\"#Масштабирование\" data-toc-modified-id=\"Масштабирование-2.1.2\"><span class=\"toc-item-num\">2.1.2&nbsp;&nbsp;</span>Масштабирование</a></span></li></ul></li><li><span><a href=\"#Валидационная-и-тестовая-выборки\" data-toc-modified-id=\"Валидационная-и-тестовая-выборки-2.2\"><span class=\"toc-item-num\">2.2&nbsp;&nbsp;</span>Валидационная и тестовая выборки</a></span><ul class=\"toc-item\"><li><span><a href=\"#Определение\" data-toc-modified-id=\"Определение-2.2.1\"><span class=\"toc-item-num\">2.2.1&nbsp;&nbsp;</span>Определение</a></span></li><li><span><a href=\"#Масштабирование\" data-toc-modified-id=\"Масштабирование-2.2.2\"><span class=\"toc-item-num\">2.2.2&nbsp;&nbsp;</span>Масштабирование</a></span></li></ul></li></ul></li><li><span><a href=\"#Исследуйте-модели\" data-toc-modified-id=\"Исследуйте-модели-3\"><span class=\"toc-item-num\">3&nbsp;&nbsp;</span>Исследуйте модели</a></span><ul class=\"toc-item\"><li><span><a href=\"#Решающее-дерево\" data-toc-modified-id=\"Решающее-дерево-3.1\"><span class=\"toc-item-num\">3.1&nbsp;&nbsp;</span>Решающее дерево</a></span><ul class=\"toc-item\"><li><span><a href=\"#Исследование-качества-работы-модели-с-разными-гиперпараметрами\" data-toc-modified-id=\"Исследование-качества-работы-модели-с-разными-гиперпараметрами-3.1.1\"><span class=\"toc-item-num\">3.1.1&nbsp;&nbsp;</span>Исследование качества работы модели с разными гиперпараметрами</a></span></li><li><span><a href=\"#Обучение-модели-на-train+valid-выборке.\" data-toc-modified-id=\"Обучение-модели-на-train+valid-выборке.-3.1.2\"><span class=\"toc-item-num\">3.1.2&nbsp;&nbsp;</span>Обучение модели на train+valid выборке.</a></span></li></ul></li><li><span><a href=\"#Случайный-лес\" data-toc-modified-id=\"Случайный-лес-3.2\"><span class=\"toc-item-num\">3.2&nbsp;&nbsp;</span>Случайный лес</a></span><ul class=\"toc-item\"><li><span><a href=\"#Исследование-качества-работы-модели-с-разными-гиперпараметрами\" data-toc-modified-id=\"Исследование-качества-работы-модели-с-разными-гиперпараметрами-3.2.1\"><span class=\"toc-item-num\">3.2.1&nbsp;&nbsp;</span>Исследование качества работы модели с разными гиперпараметрами</a></span></li><li><span><a href=\"#Обучение-модели-на-train+valid-выборке.\" data-toc-modified-id=\"Обучение-модели-на-train+valid-выборке.-3.2.2\"><span class=\"toc-item-num\">3.2.2&nbsp;&nbsp;</span>Обучение модели на train+valid выборке.</a></span></li></ul></li><li><span><a href=\"#Логистическая-регрессия\" data-toc-modified-id=\"Логистическая-регрессия-3.3\"><span class=\"toc-item-num\">3.3&nbsp;&nbsp;</span>Логистическая регрессия</a></span><ul class=\"toc-item\"><li><span><a href=\"#Исследование-качества-работы-модели\" data-toc-modified-id=\"Исследование-качества-работы-модели-3.3.1\"><span class=\"toc-item-num\">3.3.1&nbsp;&nbsp;</span>Исследование качества работы модели</a></span></li><li><span><a href=\"#Обучение-модели-на-train+valid-выборке.\" data-toc-modified-id=\"Обучение-модели-на-train+valid-выборке.-3.3.2\"><span class=\"toc-item-num\">3.3.2&nbsp;&nbsp;</span>Обучение модели на train+valid выборке.</a></span></li></ul></li></ul></li><li><span><a href=\"#Проверьте-модель-на-тестовой-выборке\" data-toc-modified-id=\"Проверьте-модель-на-тестовой-выборке-4\"><span class=\"toc-item-num\">4&nbsp;&nbsp;</span>Проверьте модель на тестовой выборке</a></span><ul class=\"toc-item\"><li><span><a href=\"#Решающее-дерево\" data-toc-modified-id=\"Решающее-дерево-4.1\"><span class=\"toc-item-num\">4.1&nbsp;&nbsp;</span>Решающее дерево</a></span></li><li><span><a href=\"#Случайный-лес\" data-toc-modified-id=\"Случайный-лес-4.2\"><span class=\"toc-item-num\">4.2&nbsp;&nbsp;</span>Случайный лес</a></span></li><li><span><a href=\"#Логистическая-регрессия\" data-toc-modified-id=\"Логистическая-регрессия-4.3\"><span class=\"toc-item-num\">4.3&nbsp;&nbsp;</span>Логистическая регрессия</a></span></li></ul></li><li><span><a href=\"#(бонус)-Проверьте-модели-на-адекватность\" data-toc-modified-id=\"(бонус)-Проверьте-модели-на-адекватность-5\"><span class=\"toc-item-num\">5&nbsp;&nbsp;</span>(бонус) Проверьте модели на адекватность</a></span><ul class=\"toc-item\"><li><span><a href=\"#Решающее-дерево\" data-toc-modified-id=\"Решающее-дерево-5.1\"><span class=\"toc-item-num\">5.1&nbsp;&nbsp;</span>Решающее дерево</a></span></li><li><span><a href=\"#Случайный-лес\" data-toc-modified-id=\"Случайный-лес-5.2\"><span class=\"toc-item-num\">5.2&nbsp;&nbsp;</span>Случайный лес</a></span></li><li><span><a href=\"#Логистическая-регрессия\" data-toc-modified-id=\"Логистическая-регрессия-5.3\"><span class=\"toc-item-num\">5.3&nbsp;&nbsp;</span>Логистическая регрессия</a></span></li></ul></li><li><span><a href=\"#Чек-лист-готовности-проекта\" data-toc-modified-id=\"Чек-лист-готовности-проекта-6\"><span class=\"toc-item-num\">6&nbsp;&nbsp;</span>Чек-лист готовности проекта</a></span></li><li><span><a href=\"#Общий-вывод\" data-toc-modified-id=\"Общий-вывод-7\"><span class=\"toc-item-num\">7&nbsp;&nbsp;</span>Общий вывод</a></span></li></ul></div>"
   ]
  },
  {
   "cell_type": "markdown",
   "metadata": {},
   "source": [
    "# Рекомендация тарифов\n",
    "\n",
    "# Recommendation of tariffs"
   ]
  },
  {
   "cell_type": "markdown",
   "metadata": {},
   "source": [
    "В вашем распоряжении данные о поведении клиентов, которые уже перешли на эти тарифы. Нужно построить модель для задачи классификации, которая выберет подходящий тариф. Предобработка данных не понадобится — вы её уже сделали.\n",
    "\n",
    "Постройте модель с максимально большим значением *accuracy*. Чтобы сдать проект успешно, нужно довести долю правильных ответов по крайней мере до 0.75. Проверьте *accuracy* на тестовой выборке самостоятельно.\n",
    "\n",
    "You have at your disposal data on the behavior of customers who have already switched to these tariffs. We need to build a model for the classification problem that will select the appropriate tariff. You won't need to pre — process the data-you've already done it.\n",
    "\n",
    "Build a model with the highest possible value of *accuracy*. To pass the project successfully, you need to bring the proportion of correct answers to at least 0.75. Check *accuracy* on the test sample yourself."
   ]
  },
  {
   "cell_type": "markdown",
   "metadata": {},
   "source": [
    "## Откройте и изучите файл\n",
    "\n",
    "## Open and examine the file"
   ]
  },
  {
   "cell_type": "markdown",
   "metadata": {},
   "source": [
    "### Загрузка библиотек\n",
    "\n",
    "### Loading libraries"
   ]
  },
  {
   "cell_type": "code",
   "execution_count": 1,
   "metadata": {},
   "outputs": [],
   "source": [
    "import pandas as pd\n",
    "from IPython.display import display\n",
    "import matplotlib.pyplot as plt\n",
    "import math\n",
    "import numpy as np\n",
    "from scipy import stats as st\n",
    "from sklearn.model_selection import train_test_split\n",
    "from sklearn import preprocessing\n",
    "from sklearn.tree import DecisionTreeClassifier\n",
    "from sklearn.ensemble import RandomForestClassifier\n",
    "from sklearn.linear_model import LogisticRegression\n",
    "from sklearn.metrics import accuracy_score\n",
    "from sklearn.metrics import precision_score, recall_score\n",
    "from sklearn.metrics import f1_score"
   ]
  },
  {
   "cell_type": "markdown",
   "metadata": {},
   "source": [
    "Вспомогательный модуль для устранения скроллинга ячеек\n",
    "\n",
    "Auxiliary module for eliminating cell scrolling"
   ]
  },
  {
   "cell_type": "code",
   "execution_count": 2,
   "metadata": {},
   "outputs": [
    {
     "data": {
      "application/javascript": [
       "IPython.OutputArea.prototype._should_scroll = function(lines) {\n",
       "    return false;\n",
       "}\n"
      ],
      "text/plain": [
       "<IPython.core.display.Javascript object>"
      ]
     },
     "metadata": {},
     "output_type": "display_data"
    }
   ],
   "source": [
    "%%javascript\n",
    "IPython.OutpuиtArea.prototype._should_scroll = function(lines) {\n",
    "    return false;\n",
    "}"
   ]
  },
  {
   "cell_type": "markdown",
   "metadata": {},
   "source": [
    "### Загрузка и изучение файла\n",
    "\n",
    "### Download and study the file"
   ]
  },
  {
   "cell_type": "code",
   "execution_count": 3,
   "metadata": {},
   "outputs": [
    {
     "data": {
      "text/html": [
       "<div>\n",
       "<style scoped>\n",
       "    .dataframe tbody tr th:only-of-type {\n",
       "        vertical-align: middle;\n",
       "    }\n",
       "\n",
       "    .dataframe tbody tr th {\n",
       "        vertical-align: top;\n",
       "    }\n",
       "\n",
       "    .dataframe thead th {\n",
       "        text-align: right;\n",
       "    }\n",
       "</style>\n",
       "<table border=\"1\" class=\"dataframe\">\n",
       "  <thead>\n",
       "    <tr style=\"text-align: right;\">\n",
       "      <th></th>\n",
       "      <th>calls</th>\n",
       "      <th>minutes</th>\n",
       "      <th>messages</th>\n",
       "      <th>mb_used</th>\n",
       "      <th>is_ultra</th>\n",
       "    </tr>\n",
       "  </thead>\n",
       "  <tbody>\n",
       "    <tr>\n",
       "      <td>0</td>\n",
       "      <td>40.0</td>\n",
       "      <td>311.90</td>\n",
       "      <td>83.0</td>\n",
       "      <td>19915.42</td>\n",
       "      <td>0</td>\n",
       "    </tr>\n",
       "    <tr>\n",
       "      <td>1</td>\n",
       "      <td>85.0</td>\n",
       "      <td>516.75</td>\n",
       "      <td>56.0</td>\n",
       "      <td>22696.96</td>\n",
       "      <td>0</td>\n",
       "    </tr>\n",
       "    <tr>\n",
       "      <td>2</td>\n",
       "      <td>77.0</td>\n",
       "      <td>467.66</td>\n",
       "      <td>86.0</td>\n",
       "      <td>21060.45</td>\n",
       "      <td>0</td>\n",
       "    </tr>\n",
       "    <tr>\n",
       "      <td>3</td>\n",
       "      <td>106.0</td>\n",
       "      <td>745.53</td>\n",
       "      <td>81.0</td>\n",
       "      <td>8437.39</td>\n",
       "      <td>1</td>\n",
       "    </tr>\n",
       "    <tr>\n",
       "      <td>4</td>\n",
       "      <td>66.0</td>\n",
       "      <td>418.74</td>\n",
       "      <td>1.0</td>\n",
       "      <td>14502.75</td>\n",
       "      <td>0</td>\n",
       "    </tr>\n",
       "    <tr>\n",
       "      <td>5</td>\n",
       "      <td>58.0</td>\n",
       "      <td>344.56</td>\n",
       "      <td>21.0</td>\n",
       "      <td>15823.37</td>\n",
       "      <td>0</td>\n",
       "    </tr>\n",
       "    <tr>\n",
       "      <td>6</td>\n",
       "      <td>57.0</td>\n",
       "      <td>431.64</td>\n",
       "      <td>20.0</td>\n",
       "      <td>3738.90</td>\n",
       "      <td>1</td>\n",
       "    </tr>\n",
       "    <tr>\n",
       "      <td>7</td>\n",
       "      <td>15.0</td>\n",
       "      <td>132.40</td>\n",
       "      <td>6.0</td>\n",
       "      <td>21911.60</td>\n",
       "      <td>0</td>\n",
       "    </tr>\n",
       "    <tr>\n",
       "      <td>8</td>\n",
       "      <td>7.0</td>\n",
       "      <td>43.39</td>\n",
       "      <td>3.0</td>\n",
       "      <td>2538.67</td>\n",
       "      <td>1</td>\n",
       "    </tr>\n",
       "    <tr>\n",
       "      <td>9</td>\n",
       "      <td>90.0</td>\n",
       "      <td>665.41</td>\n",
       "      <td>38.0</td>\n",
       "      <td>17358.61</td>\n",
       "      <td>0</td>\n",
       "    </tr>\n",
       "  </tbody>\n",
       "</table>\n",
       "</div>"
      ],
      "text/plain": [
       "   calls  minutes  messages   mb_used  is_ultra\n",
       "0   40.0   311.90      83.0  19915.42         0\n",
       "1   85.0   516.75      56.0  22696.96         0\n",
       "2   77.0   467.66      86.0  21060.45         0\n",
       "3  106.0   745.53      81.0   8437.39         1\n",
       "4   66.0   418.74       1.0  14502.75         0\n",
       "5   58.0   344.56      21.0  15823.37         0\n",
       "6   57.0   431.64      20.0   3738.90         1\n",
       "7   15.0   132.40       6.0  21911.60         0\n",
       "8    7.0    43.39       3.0   2538.67         1\n",
       "9   90.0   665.41      38.0  17358.61         0"
      ]
     },
     "metadata": {},
     "output_type": "display_data"
    },
    {
     "name": "stdout",
     "output_type": "stream",
     "text": [
      "<class 'pandas.core.frame.DataFrame'>\n",
      "RangeIndex: 3214 entries, 0 to 3213\n",
      "Data columns (total 5 columns):\n",
      "calls       3214 non-null float64\n",
      "minutes     3214 non-null float64\n",
      "messages    3214 non-null float64\n",
      "mb_used     3214 non-null float64\n",
      "is_ultra    3214 non-null int64\n",
      "dtypes: float64(4), int64(1)\n",
      "memory usage: 125.7 KB\n"
     ]
    },
    {
     "data": {
      "text/html": [
       "<div>\n",
       "<style scoped>\n",
       "    .dataframe tbody tr th:only-of-type {\n",
       "        vertical-align: middle;\n",
       "    }\n",
       "\n",
       "    .dataframe tbody tr th {\n",
       "        vertical-align: top;\n",
       "    }\n",
       "\n",
       "    .dataframe thead th {\n",
       "        text-align: right;\n",
       "    }\n",
       "</style>\n",
       "<table border=\"1\" class=\"dataframe\">\n",
       "  <thead>\n",
       "    <tr style=\"text-align: right;\">\n",
       "      <th></th>\n",
       "      <th>calls</th>\n",
       "      <th>minutes</th>\n",
       "      <th>messages</th>\n",
       "      <th>mb_used</th>\n",
       "      <th>is_ultra</th>\n",
       "    </tr>\n",
       "  </thead>\n",
       "  <tbody>\n",
       "    <tr>\n",
       "      <td>count</td>\n",
       "      <td>3214.000000</td>\n",
       "      <td>3214.000000</td>\n",
       "      <td>3214.000000</td>\n",
       "      <td>3214.000000</td>\n",
       "      <td>3214.000000</td>\n",
       "    </tr>\n",
       "    <tr>\n",
       "      <td>mean</td>\n",
       "      <td>63.038892</td>\n",
       "      <td>438.208787</td>\n",
       "      <td>38.281269</td>\n",
       "      <td>17207.673836</td>\n",
       "      <td>0.306472</td>\n",
       "    </tr>\n",
       "    <tr>\n",
       "      <td>std</td>\n",
       "      <td>33.236368</td>\n",
       "      <td>234.569872</td>\n",
       "      <td>36.148326</td>\n",
       "      <td>7570.968246</td>\n",
       "      <td>0.461100</td>\n",
       "    </tr>\n",
       "    <tr>\n",
       "      <td>min</td>\n",
       "      <td>0.000000</td>\n",
       "      <td>0.000000</td>\n",
       "      <td>0.000000</td>\n",
       "      <td>0.000000</td>\n",
       "      <td>0.000000</td>\n",
       "    </tr>\n",
       "    <tr>\n",
       "      <td>25%</td>\n",
       "      <td>40.000000</td>\n",
       "      <td>274.575000</td>\n",
       "      <td>9.000000</td>\n",
       "      <td>12491.902500</td>\n",
       "      <td>0.000000</td>\n",
       "    </tr>\n",
       "    <tr>\n",
       "      <td>50%</td>\n",
       "      <td>62.000000</td>\n",
       "      <td>430.600000</td>\n",
       "      <td>30.000000</td>\n",
       "      <td>16943.235000</td>\n",
       "      <td>0.000000</td>\n",
       "    </tr>\n",
       "    <tr>\n",
       "      <td>75%</td>\n",
       "      <td>82.000000</td>\n",
       "      <td>571.927500</td>\n",
       "      <td>57.000000</td>\n",
       "      <td>21424.700000</td>\n",
       "      <td>1.000000</td>\n",
       "    </tr>\n",
       "    <tr>\n",
       "      <td>max</td>\n",
       "      <td>244.000000</td>\n",
       "      <td>1632.060000</td>\n",
       "      <td>224.000000</td>\n",
       "      <td>49745.730000</td>\n",
       "      <td>1.000000</td>\n",
       "    </tr>\n",
       "  </tbody>\n",
       "</table>\n",
       "</div>"
      ],
      "text/plain": [
       "             calls      minutes     messages       mb_used     is_ultra\n",
       "count  3214.000000  3214.000000  3214.000000   3214.000000  3214.000000\n",
       "mean     63.038892   438.208787    38.281269  17207.673836     0.306472\n",
       "std      33.236368   234.569872    36.148326   7570.968246     0.461100\n",
       "min       0.000000     0.000000     0.000000      0.000000     0.000000\n",
       "25%      40.000000   274.575000     9.000000  12491.902500     0.000000\n",
       "50%      62.000000   430.600000    30.000000  16943.235000     0.000000\n",
       "75%      82.000000   571.927500    57.000000  21424.700000     1.000000\n",
       "max     244.000000  1632.060000   224.000000  49745.730000     1.000000"
      ]
     },
     "execution_count": 3,
     "metadata": {},
     "output_type": "execute_result"
    }
   ],
   "source": [
    "data = pd.read_csv('/datasets/users_behavior.csv')\n",
    "display(data.head(10))\n",
    "data.info()\n",
    "data.describe()"
   ]
  },
  {
   "cell_type": "markdown",
   "metadata": {},
   "source": [
    "Выполнена загрузка и первичное изучение данных. Пропусков не обнаружено.\n",
    "\n",
    "The data was loaded and the initial study was performed. No omissions were detected."
   ]
  },
  {
   "cell_type": "markdown",
   "metadata": {},
   "source": [
    "## Разбейте данные на выборки\n",
    "\n",
    "## Split the data into samples"
   ]
  },
  {
   "cell_type": "markdown",
   "metadata": {},
   "source": [
    "### Обучающая выборка\n",
    "\n",
    "### Training sample"
   ]
  },
  {
   "cell_type": "markdown",
   "metadata": {},
   "source": [
    "#### Определение\n",
    "\n",
    "#### Definition"
   ]
  },
  {
   "cell_type": "code",
   "execution_count": 4,
   "metadata": {},
   "outputs": [
    {
     "name": "stdout",
     "output_type": "stream",
     "text": [
      "Размеры обучающей выборки:\n",
      "(1928, 4)\n",
      "(1928,)\n"
     ]
    }
   ],
   "source": [
    "data_train, data_valid_test = train_test_split(data, test_size = 0.4, random_state = 12345)\n",
    "# Обучающая выборка\n",
    "features_train = data_train.drop(['is_ultra'], axis = 1)\n",
    "target_train = data_train['is_ultra']\n",
    "print('Размеры обучающей выборки:')\n",
    "print(features_train.shape)\n",
    "print(target_train.shape)"
   ]
  },
  {
   "cell_type": "markdown",
   "metadata": {},
   "source": [
    "Полученые признаки и классы для обучающей выборки: 60% от общего количества данных. Остальные 40% будут разделены на валидационную и тестовую, в следующих блоках.\n",
    "\n",
    "The obtained features and classes for the training sample: 60% of the total amount of data. The remaining 40% will be divided into validation and test, in the following blocks."
   ]
  },
  {
   "cell_type": "markdown",
   "metadata": {},
   "source": [
    "#### Масштабирование\n",
    "\n",
    "#### Scaling"
   ]
  },
  {
   "cell_type": "code",
   "execution_count": 5,
   "metadata": {},
   "outputs": [
    {
     "name": "stdout",
     "output_type": "stream",
     "text": [
      "Средние значения train после масштабирования: [-0.02102471 -0.025416   -0.0783038  -0.01751216]\n",
      "Стандартные отклонения train после масштабирования: [0.61130807 0.61158428 0.61317824 0.60134654]\n"
     ]
    }
   ],
   "source": [
    "scaler = preprocessing.StandardScaler().fit(features_train)\n",
    "features_train_mapped = np.tanh(scaler.transform(features_train))\n",
    "print('Средние значения train после масштабирования:', features_train_mapped.mean(axis=0))\n",
    "print('Стандартные отклонения train после масштабирования:', features_train_mapped.std(axis=0))"
   ]
  },
  {
   "cell_type": "markdown",
   "metadata": {},
   "source": [
    "Выполнена предобработка обучающей выборки:\n",
    " - Центрирование\n",
    " - Нормирование стандартного отклонения\n",
    " - Гиперболический тангенс\n",
    " \n",
    " The training sample was preprocessed:\n",
    " - Centering\n",
    " - Normalization of the standard deviation\n",
    " - Hyperbolic tangent"
   ]
  },
  {
   "cell_type": "markdown",
   "metadata": {},
   "source": [
    "### Валидационная и тестовая выборки\n",
    "\n",
    "### Validation and test samples"
   ]
  },
  {
   "cell_type": "markdown",
   "metadata": {},
   "source": [
    "#### Определение\n",
    "\n",
    "#### Definition"
   ]
  },
  {
   "cell_type": "code",
   "execution_count": 6,
   "metadata": {},
   "outputs": [
    {
     "name": "stdout",
     "output_type": "stream",
     "text": [
      "Размеры валидационной выборки:\n",
      "(643, 4)\n",
      "(643,)\n",
      "\n",
      "Размеры тестовой выборки:\n",
      "(643, 4)\n",
      "(643,)\n"
     ]
    }
   ],
   "source": [
    "data_valid, data_test = train_test_split(data_valid_test, test_size = 0.5, random_state = 12345)\n",
    "# ---------------------------------------------------\n",
    "# Валидационная выборка\n",
    "features_valid = data_valid.drop(['is_ultra'], axis = 1)\n",
    "target_valid   = data_valid['is_ultra']\n",
    "print('Размеры валидационной выборки:')\n",
    "print(features_valid.shape)\n",
    "print(target_valid.shape)\n",
    "print()\n",
    "# ---------------------------------------------------\n",
    "# Тестовая выборка\n",
    "features_test = data_test.drop(['is_ultra'], axis = 1)\n",
    "target_test   = data_test['is_ultra']\n",
    "print('Размеры тестовой выборки:')\n",
    "print(features_test.shape)\n",
    "print(target_test.shape)"
   ]
  },
  {
   "cell_type": "markdown",
   "metadata": {},
   "source": [
    "Выполнено разделение на обучающую, валидационную, тестовую выборки в соотношении: 60%, 20%, 20%.\n",
    "\n",
    "The division into training, validation, and test samples was performed in the ratio: 60%, 20%, 20%."
   ]
  },
  {
   "cell_type": "markdown",
   "metadata": {},
   "source": [
    "#### Масштабирование\n",
    "\n",
    "#### Scaling"
   ]
  },
  {
   "cell_type": "code",
   "execution_count": 7,
   "metadata": {},
   "outputs": [
    {
     "name": "stdout",
     "output_type": "stream",
     "text": [
      "Средние значения valid после масштабирования: [-0.00994328  0.00164972 -0.10809187  0.02251575]\n",
      "Стандартные отклонения valid после масштабирования: [0.61771781 0.618916   0.60353305 0.60824305]\n"
     ]
    }
   ],
   "source": [
    "features_valid_mapped = np.tanh(scaler.transform(features_valid))\n",
    "print('Средние значения valid после масштабирования:', features_valid_mapped.mean(axis=0))\n",
    "print('Стандартные отклонения valid после масштабирования:', features_valid_mapped.std(axis=0))"
   ]
  },
  {
   "cell_type": "code",
   "execution_count": 8,
   "metadata": {
    "scrolled": false
   },
   "outputs": [
    {
     "name": "stdout",
     "output_type": "stream",
     "text": [
      "Средние значения test после масштабирования: [-0.04127256 -0.03529212 -0.12335697  0.02415012]\n",
      "Стандартные отклонения test после масштабирования: [0.62936192 0.62839764 0.60238419 0.60899056]\n"
     ]
    }
   ],
   "source": [
    "features_test_mapped = np.tanh(scaler.transform(features_test))\n",
    "print('Средние значения test после масштабирования:', features_test_mapped.mean(axis=0))\n",
    "print('Стандартные отклонения test после масштабирования:', features_test_mapped.std(axis=0))"
   ]
  },
  {
   "cell_type": "markdown",
   "metadata": {},
   "source": [
    "Выполнена предобработка валидационной и тестовой выборок:\n",
    "\n",
    " - Центрирование\n",
    " - Нормирование стандартного отклонения\n",
    " - Гиперболический тангенс\n",
    " \n",
    " The validation and test samples were preprocessed:\n",
    "\n",
    " - Centering\n",
    " - Normalization of the standard deviation\n",
    " - Hyperbolic tangent"
   ]
  },
  {
   "cell_type": "markdown",
   "metadata": {},
   "source": [
    "## Исследуйте модели\n",
    "\n",
    "## Explore models"
   ]
  },
  {
   "cell_type": "markdown",
   "metadata": {},
   "source": [
    "### Решающее дерево\n",
    "\n",
    "### Decision tree"
   ]
  },
  {
   "cell_type": "markdown",
   "metadata": {},
   "source": [
    "#### Исследование качества работы модели с разными гиперпараметрами\n",
    "\n",
    "#### Study of the quality of the model with different hyperparameters"
   ]
  },
  {
   "cell_type": "code",
   "execution_count": 9,
   "metadata": {},
   "outputs": [
    {
     "name": "stdout",
     "output_type": "stream",
     "text": [
      "Accuracy наилучшей модели на валидационной выборке: 0.7838258164852255 Максимальная глубина: 9\n"
     ]
    }
   ],
   "source": [
    "best_result = 0\n",
    "for depth in range(1, 10):\n",
    "    model = DecisionTreeClassifier(random_state = 12345, max_depth = depth)\n",
    "    model.fit(features_train_mapped, target_train)\n",
    "    predictions_valid = model.predict(features_valid_mapped)\n",
    "    result = accuracy_score(target_valid, predictions_valid)\n",
    "    if result > best_result:\n",
    "            best_result = result\n",
    "            best_depth = depth\n",
    "                        \n",
    "print(\"Accuracy наилучшей модели на валидационной выборке:\", best_result, \"Максимальная глубина:\", depth)"
   ]
  },
  {
   "cell_type": "markdown",
   "metadata": {},
   "source": [
    "#### Обучение модели на train+valid выборке.\n",
    "\n",
    "#### Training the model on a train+valid sample."
   ]
  },
  {
   "cell_type": "code",
   "execution_count": 10,
   "metadata": {},
   "outputs": [
    {
     "data": {
      "text/plain": [
       "DecisionTreeClassifier(class_weight=None, criterion='gini', max_depth=3,\n",
       "                       max_features=None, max_leaf_nodes=None,\n",
       "                       min_impurity_decrease=0.0, min_impurity_split=None,\n",
       "                       min_samples_leaf=1, min_samples_split=2,\n",
       "                       min_weight_fraction_leaf=0.0, presort=False,\n",
       "                       random_state=12345, splitter='best')"
      ]
     },
     "execution_count": 10,
     "metadata": {},
     "output_type": "execute_result"
    }
   ],
   "source": [
    "# объединение массивов train и valid\n",
    "features_train_valid_mapped = np.concatenate((features_train_mapped, features_valid_mapped), axis = 0)\n",
    "target_train_valid = np.concatenate((target_train, target_valid), axis = 0)\n",
    "# Обучение модели\n",
    "best_model = DecisionTreeClassifier(random_state = 12345, max_depth = best_depth)\n",
    "best_model.fit(features_train_valid_mapped, target_train_valid)"
   ]
  },
  {
   "cell_type": "markdown",
   "metadata": {},
   "source": [
    "### Случайный лес\n",
    "\n",
    "### Random forest"
   ]
  },
  {
   "cell_type": "markdown",
   "metadata": {},
   "source": [
    "#### Исследование качества работы модели с разными гиперпараметрами\n",
    "\n",
    "#### Study of the quality of the model with different hyperparameters"
   ]
  },
  {
   "cell_type": "code",
   "execution_count": 11,
   "metadata": {},
   "outputs": [
    {
     "name": "stdout",
     "output_type": "stream",
     "text": [
      "Accuracy наилучшей модели на валидационной выборке: 0.8040435458786936 Количество деревьев: 50 Максимальная глубина: 10\n"
     ]
    }
   ],
   "source": [
    "best_result_2 = 0\n",
    "for est_2 in range(10, 101, 10):\n",
    "    for depth_2 in range (1, 11):\n",
    "        model_2 = RandomForestClassifier(random_state = 12345, n_estimators = est_2, max_depth = depth_2)\n",
    "        model_2.fit(features_train_mapped, target_train)\n",
    "        result_2 = model_2.score(features_valid_mapped, target_valid)\n",
    "        if result_2 > best_result_2:\n",
    "            best_result_2 = result_2\n",
    "            best_est_2 = est_2\n",
    "            best_depth_2 = depth_2\n",
    "            \n",
    "print(\"Accuracy наилучшей модели на валидационной выборке:\", best_result_2, \"Количество деревьев:\", best_est_2, \"Максимальная глубина:\", depth_2)"
   ]
  },
  {
   "cell_type": "markdown",
   "metadata": {},
   "source": [
    "#### Обучение модели на train+valid выборке.\n",
    "\n",
    "#### Training the model on a train+valid sample."
   ]
  },
  {
   "cell_type": "code",
   "execution_count": 12,
   "metadata": {},
   "outputs": [
    {
     "data": {
      "text/plain": [
       "RandomForestClassifier(bootstrap=True, class_weight=None, criterion='gini',\n",
       "                       max_depth=8, max_features='auto', max_leaf_nodes=None,\n",
       "                       min_impurity_decrease=0.0, min_impurity_split=None,\n",
       "                       min_samples_leaf=1, min_samples_split=2,\n",
       "                       min_weight_fraction_leaf=0.0, n_estimators=50,\n",
       "                       n_jobs=None, oob_score=False, random_state=12345,\n",
       "                       verbose=0, warm_start=False)"
      ]
     },
     "execution_count": 12,
     "metadata": {},
     "output_type": "execute_result"
    }
   ],
   "source": [
    "# Обучение модели\n",
    "best_model_2 = RandomForestClassifier(random_state = 12345, n_estimators = best_est_2, max_depth = best_depth_2)\n",
    "best_model_2.fit(features_train_valid_mapped, target_train_valid)\n"
   ]
  },
  {
   "cell_type": "markdown",
   "metadata": {},
   "source": [
    "### Логистическая регрессия\n",
    "\n",
    "### Logistic regression"
   ]
  },
  {
   "cell_type": "markdown",
   "metadata": {},
   "source": [
    "#### Исследование качества работы модели\n",
    "\n",
    "#### Explore of the quality of the model's work"
   ]
  },
  {
   "cell_type": "code",
   "execution_count": 13,
   "metadata": {
    "scrolled": true
   },
   "outputs": [
    {
     "name": "stdout",
     "output_type": "stream",
     "text": [
      "Accuracy модели логистической регрессии на валидационной выборке: 0.776049766718507\n"
     ]
    },
    {
     "name": "stderr",
     "output_type": "stream",
     "text": [
      "/opt/conda/lib/python3.7/site-packages/sklearn/linear_model/logistic.py:432: FutureWarning: Default solver will be changed to 'lbfgs' in 0.22. Specify a solver to silence this warning.\n",
      "  FutureWarning)\n"
     ]
    }
   ],
   "source": [
    "model_3 = LogisticRegression(random_state = 12345)\n",
    "model_3.fit(features_train_mapped, target_train)\n",
    "result_3 = model_3.score(features_valid_mapped, target_valid)\n",
    "\n",
    "print(\"Accuracy модели логистической регрессии на валидационной выборке:\", result)"
   ]
  },
  {
   "cell_type": "markdown",
   "metadata": {},
   "source": [
    "#### Обучение модели на train+valid выборке.\n",
    "\n",
    "#### Training the model on a train+valid sample."
   ]
  },
  {
   "cell_type": "code",
   "execution_count": 14,
   "metadata": {
    "scrolled": true
   },
   "outputs": [
    {
     "name": "stderr",
     "output_type": "stream",
     "text": [
      "/opt/conda/lib/python3.7/site-packages/sklearn/linear_model/logistic.py:432: FutureWarning: Default solver will be changed to 'lbfgs' in 0.22. Specify a solver to silence this warning.\n",
      "  FutureWarning)\n"
     ]
    },
    {
     "data": {
      "text/plain": [
       "LogisticRegression(C=1.0, class_weight=None, dual=False, fit_intercept=True,\n",
       "                   intercept_scaling=1, l1_ratio=None, max_iter=100,\n",
       "                   multi_class='warn', n_jobs=None, penalty='l2',\n",
       "                   random_state=12345, solver='warn', tol=0.0001, verbose=0,\n",
       "                   warm_start=False)"
      ]
     },
     "execution_count": 14,
     "metadata": {},
     "output_type": "execute_result"
    }
   ],
   "source": [
    "# Обучение модели\n",
    "best_model_3 = LogisticRegression(random_state = 12345)\n",
    "best_model_3.fit(features_train_valid_mapped, target_train_valid)"
   ]
  },
  {
   "cell_type": "markdown",
   "metadata": {},
   "source": [
    "В данном разделе для моделей \"решающее дерево\", \"случайный лес\", \"логистическая регрессия\":\n",
    " - определены оптимальные гиперпараметры моделей на валидационном множестве\n",
    " - модели обучены с оптимальными гиперпараметрами и на множестве train+valid\n",
    " - тестирование обученных моделей в следующем разделе\n",
    " \n",
    " In this section, for the models \"decision tree\", \"random forest\", \"logistic regression\":\n",
    " - optimal hyperparameters of models on the validation set are determined\n",
    " - models are trained with optimal hyperparameters and on a set of train+valid\n",
    " -testing of trained models in the next section"
   ]
  },
  {
   "cell_type": "markdown",
   "metadata": {},
   "source": [
    "## Проверьте модель на тестовой выборке\n",
    "\n",
    "## Test the model on a test sample"
   ]
  },
  {
   "cell_type": "markdown",
   "metadata": {},
   "source": [
    "### Решающее дерево\n",
    "\n",
    "### Decision tree"
   ]
  },
  {
   "cell_type": "code",
   "execution_count": 15,
   "metadata": {},
   "outputs": [
    {
     "name": "stdout",
     "output_type": "stream",
     "text": [
      "Accuracy наилучшей модели на тестовой выборке: 0.776049766718507\n"
     ]
    }
   ],
   "source": [
    "predictions_test = best_model.predict(features_test_mapped)\n",
    "result_test = accuracy_score(target_test, predictions_test)\n",
    "print(\"Accuracy наилучшей модели на тестовой выборке:\", result_test)"
   ]
  },
  {
   "cell_type": "markdown",
   "metadata": {},
   "source": [
    "### Случайный лес\n",
    "\n",
    "### Random forest"
   ]
  },
  {
   "cell_type": "code",
   "execution_count": 16,
   "metadata": {},
   "outputs": [
    {
     "name": "stdout",
     "output_type": "stream",
     "text": [
      "Accuracy наилучшей модели на тестовой выборке: 0.8055987558320373\n"
     ]
    }
   ],
   "source": [
    "predictions_test_2 = best_model_2.predict(features_test_mapped)\n",
    "result_test_2 = accuracy_score(target_test, predictions_test_2)\n",
    "print(\"Accuracy наилучшей модели на тестовой выборке:\", result_test_2)"
   ]
  },
  {
   "cell_type": "markdown",
   "metadata": {},
   "source": [
    "### Логистическая регрессия\n",
    "\n",
    "### Logistic regression"
   ]
  },
  {
   "cell_type": "code",
   "execution_count": 17,
   "metadata": {},
   "outputs": [
    {
     "name": "stdout",
     "output_type": "stream",
     "text": [
      "Accuracy модели на тестовой выборке: 0.7216174183514774\n"
     ]
    }
   ],
   "source": [
    "predictions_test_3 = best_model_3.predict(features_test_mapped)\n",
    "result_test_3 = accuracy_score(target_test, predictions_test_3)\n",
    "print(\"Accuracy модели на тестовой выборке:\", result_test_3)"
   ]
  },
  {
   "cell_type": "markdown",
   "metadata": {},
   "source": [
    "Выполнено тестирование моделей.\n",
    " - Наилучший результат показала модель \"случайный лес\" и он почти совпал с валидационным.\n",
    " - Наихудший результат показала модель \"логистическая регрессия\". Результат снизился на 5%, в сравнении с валидационным.\n",
    " - Средний результат показала модель \"решающее дерево\". Результат снизился на 1%, в сравнении с валидационным.\n",
    " \n",
    " The models were tested.\n",
    " - The best result was shown by the \"random forest\" model and it almost coincided with the validation one.\n",
    " - The worst result was shown by the \"logistic regression\" model. The result decreased by 5%, compared to the validation one.\n",
    " - The average result was shown by the \"decision tree\" model. The result decreased by 1%, compared to the validation one."
   ]
  },
  {
   "cell_type": "markdown",
   "metadata": {},
   "source": [
    "## Проверьте модели на адекватность\n",
    "\n",
    "## Check the models for adequacy"
   ]
  },
  {
   "cell_type": "markdown",
   "metadata": {},
   "source": [
    "### Решающее дерево\n",
    "\n",
    "### Decision tree"
   ]
  },
  {
   "cell_type": "code",
   "execution_count": 18,
   "metadata": {},
   "outputs": [
    {
     "name": "stdout",
     "output_type": "stream",
     "text": [
      "Точность: 0.45\n",
      "Полнота:  0.74\n",
      "F1-score: 0.56\n"
     ]
    }
   ],
   "source": [
    "print('Точность: {:.2f}'.format(precision_score(predictions_test, target_test)))\n",
    "print('Полнота:  {:.2f}'.format(recall_score(predictions_test, target_test)))\n",
    "print('F1-score: {:.2f}'.format(f1_score(predictions_test, target_test)))"
   ]
  },
  {
   "cell_type": "markdown",
   "metadata": {},
   "source": [
    "### Случайный лес\n",
    "\n",
    "### Random forest"
   ]
  },
  {
   "cell_type": "code",
   "execution_count": 19,
   "metadata": {},
   "outputs": [
    {
     "name": "stdout",
     "output_type": "stream",
     "text": [
      "Точность: 0.54\n",
      "Полнота:  0.77\n",
      "F1-score: 0.64\n"
     ]
    }
   ],
   "source": [
    "print('Точность: {:.2f}'.format(precision_score(predictions_test_2, target_test)))\n",
    "print('Полнота:  {:.2f}'.format(recall_score(predictions_test_2, target_test)))\n",
    "print('F1-score: {:.2f}'.format(f1_score(predictions_test_2, target_test)))"
   ]
  },
  {
   "cell_type": "markdown",
   "metadata": {},
   "source": [
    "### Логистическая регрессия\n",
    "\n",
    "### Logistic regression"
   ]
  },
  {
   "cell_type": "code",
   "execution_count": 20,
   "metadata": {},
   "outputs": [
    {
     "name": "stdout",
     "output_type": "stream",
     "text": [
      "Точность: 0.15\n",
      "Полнота:  0.82\n",
      "F1-score: 0.26\n"
     ]
    }
   ],
   "source": [
    "print('Точность: {:.2f}'.format(precision_score(predictions_test_3, target_test)))\n",
    "print('Полнота:  {:.2f}'.format(recall_score(predictions_test_3, target_test)))\n",
    "print('F1-score: {:.2f}'.format(f1_score(predictions_test_3, target_test)))"
   ]
  },
  {
   "cell_type": "markdown",
   "metadata": {},
   "source": [
    "По метрикам качества моделью-лидером так же оказался \"случайный лес\". \"Решающее дерево\" не сильно отстает от \"леса\".\n",
    "\n",
    "\n",
    "Модель-аутсайдер: \"логистическая регрессия\". Хотя, значение \"полноты\" у неё самое высокое - ложно негативных значений меньше всего. Получается, что низкая \"точность\" и высокая \"полнота\" сигналят, что модель гораздо чаще классифицирует тариф \"Ультра\", чем другие модели.\n",
    "\n",
    "According to quality metrics, the \"random forest\" also turned out to be the leading model. The \"decision tree\" is not far behind the \"forest\".\n",
    "\n",
    "\n",
    "Outsider model: \"logistic regression\". Although, the value of \"completeness\" is the highest - there are the least false negative values. It turns out that low \"accuracy\" and high \"completeness\" signal that the model classifies the \"Ultra\" tariff much more often than other models."
   ]
  },
  {
   "cell_type": "markdown",
   "metadata": {},
   "source": [
    "## Общий вывод\n",
    "\n",
    "## Main conclusion"
   ]
  },
  {
   "cell_type": "markdown",
   "metadata": {},
   "source": [
    "В данной работе требовалось обучить модели классификации: \"решающее дерево\", \"случайный лес\", \"логистическая регрессия\" для определения подходящего тарифа с точностью выше 0.75.\n",
    "\n",
    "\n",
    "Данные были предварительно отмасштабированы и разделены на обучающую, валидационную, тестовую выборки.\n",
    "\n",
    "\n",
    "Выбирались оптимальные значения гиперпараметров моделей.\n",
    "\n",
    "Наилучший результат, как по точности, так и по другим метрикам (точность, полнота, F1-score) показала модель \"случайного леса\". Так же показатель точности одинаков для валидационной и для тестовой выборок.\n",
    "\n",
    "Наихудший результат показала модель логистической регрессии - она гораздо чаще других выбирает тариф \"Ультра\". Показатель точности на тестовой выборке ниже, чем на валидационной.\n",
    "\n",
    "Модель \"решающее дерево\" показывает результат, который немного уступает модели \"случайного леса\" по всем параметрам.\n",
    "\n",
    "Таким образом модель \"случайного леса\" дает 80%-ю точность предсказания подходящего тарифа сотовой связи.\n",
    "\n",
    "In this paper, it was necessary to train classification models: \"decision tree\", \"random forest\", \"logistic regression\" to determine the appropriate tariff with an accuracy higher than 0.75.\n",
    "\n",
    "\n",
    "The data was pre-scaled and divided into training, validation, and test samples.\n",
    "\n",
    "\n",
    "The optimal values of the hyperparameters of the models were selected.\n",
    "\n",
    "The best result, both in accuracy and in other metrics (accuracy, completeness, F1-score), was shown by the \"random forest\" model. The accuracy indicator is also the same for the validation and for the test samples.\n",
    "\n",
    "The worst result was shown by the logistic regression model - it chooses the \"Ultra\" tariff much more often than others. The accuracy indicator on the test sample is lower than on the validation sample.\n",
    "\n",
    "The \"decision tree\" model shows a result that is slightly inferior to the \"random forest\" model in all parameters.\n",
    "\n",
    "Thus, the \"random forest\" model gives an 80% accuracy in predicting the appropriate cellular tariff."
   ]
  }
 ],
 "metadata": {
  "ExecuteTimeLog": [
   {
    "duration": 1366,
    "start_time": "2021-06-22T13:27:29.680Z"
   },
   {
    "duration": 101,
    "start_time": "2021-06-22T13:28:03.054Z"
   },
   {
    "duration": 411,
    "start_time": "2021-06-22T13:29:22.938Z"
   },
   {
    "duration": 120,
    "start_time": "2021-06-22T13:29:28.155Z"
   },
   {
    "duration": 237,
    "start_time": "2021-06-22T13:40:07.940Z"
   },
   {
    "duration": 1522,
    "start_time": "2021-06-22T13:43:28.495Z"
   },
   {
    "duration": 96,
    "start_time": "2021-06-22T13:43:30.019Z"
   },
   {
    "duration": 69,
    "start_time": "2021-06-22T13:43:30.119Z"
   },
   {
    "duration": 5,
    "start_time": "2021-06-22T13:43:30.192Z"
   },
   {
    "duration": 18,
    "start_time": "2021-06-22T13:43:30.523Z"
   },
   {
    "duration": 103,
    "start_time": "2021-06-22T13:43:30.543Z"
   },
   {
    "duration": 52,
    "start_time": "2021-06-22T13:43:30.648Z"
   },
   {
    "duration": 4,
    "start_time": "2021-06-22T13:43:30.703Z"
   },
   {
    "duration": 1387,
    "start_time": "2021-06-22T13:45:45.227Z"
   },
   {
    "duration": 100,
    "start_time": "2021-06-22T13:45:46.616Z"
   },
   {
    "duration": 66,
    "start_time": "2021-06-22T13:45:46.719Z"
   },
   {
    "duration": 5,
    "start_time": "2021-06-22T13:45:46.787Z"
   },
   {
    "duration": 89,
    "start_time": "2021-06-22T14:09:09.513Z"
   },
   {
    "duration": 9,
    "start_time": "2021-06-22T14:14:26.195Z"
   },
   {
    "duration": 8,
    "start_time": "2021-06-22T15:25:30.582Z"
   },
   {
    "duration": 8,
    "start_time": "2021-06-22T15:26:20.350Z"
   },
   {
    "duration": 9,
    "start_time": "2021-06-22T15:26:23.750Z"
   },
   {
    "duration": 10,
    "start_time": "2021-06-22T15:27:04.884Z"
   },
   {
    "duration": 9,
    "start_time": "2021-06-22T15:27:28.555Z"
   },
   {
    "duration": 10,
    "start_time": "2021-06-22T15:28:23.569Z"
   },
   {
    "duration": 9,
    "start_time": "2021-06-22T15:28:29.248Z"
   },
   {
    "duration": 10,
    "start_time": "2021-06-22T15:30:05.405Z"
   },
   {
    "duration": 14,
    "start_time": "2021-06-22T15:30:08.340Z"
   },
   {
    "duration": 13,
    "start_time": "2021-06-22T15:30:30.964Z"
   },
   {
    "duration": 433,
    "start_time": "2021-06-22T15:45:13.698Z"
   },
   {
    "duration": 1411,
    "start_time": "2021-06-22T15:46:04.617Z"
   },
   {
    "duration": 5,
    "start_time": "2021-06-22T15:46:06.088Z"
   },
   {
    "duration": 101,
    "start_time": "2021-06-22T15:46:06.096Z"
   },
   {
    "duration": 74,
    "start_time": "2021-06-22T15:46:06.201Z"
   },
   {
    "duration": 14,
    "start_time": "2021-06-22T15:46:06.277Z"
   },
   {
    "duration": 438,
    "start_time": "2021-06-22T15:46:06.294Z"
   },
   {
    "duration": 1065,
    "start_time": "2021-06-22T15:46:05.669Z"
   },
   {
    "duration": 10,
    "start_time": "2021-06-22T15:49:11.008Z"
   },
   {
    "duration": 10,
    "start_time": "2021-06-22T15:49:28.015Z"
   },
   {
    "duration": 289,
    "start_time": "2021-06-22T15:49:52.823Z"
   },
   {
    "duration": 10,
    "start_time": "2021-06-22T15:50:02.814Z"
   },
   {
    "duration": 11,
    "start_time": "2021-06-22T15:51:22.139Z"
   },
   {
    "duration": 12,
    "start_time": "2021-06-22T15:51:31.617Z"
   },
   {
    "duration": 278,
    "start_time": "2021-06-22T15:56:42.724Z"
   },
   {
    "duration": 14,
    "start_time": "2021-06-22T15:56:51.287Z"
   },
   {
    "duration": 8,
    "start_time": "2021-06-22T15:56:55.091Z"
   },
   {
    "duration": 14,
    "start_time": "2021-06-22T15:57:47.265Z"
   },
   {
    "duration": 10,
    "start_time": "2021-06-22T15:58:07.569Z"
   },
   {
    "duration": 6,
    "start_time": "2021-06-22T16:00:27.290Z"
   },
   {
    "duration": 257,
    "start_time": "2021-06-22T16:01:40.343Z"
   },
   {
    "duration": 6,
    "start_time": "2021-06-22T16:01:58.694Z"
   },
   {
    "duration": 305,
    "start_time": "2021-06-22T16:03:00.252Z"
   },
   {
    "duration": 277,
    "start_time": "2021-06-22T16:04:00.361Z"
   },
   {
    "duration": 295,
    "start_time": "2021-06-22T16:04:41.614Z"
   },
   {
    "duration": 303,
    "start_time": "2021-06-22T16:06:35.274Z"
   },
   {
    "duration": 298,
    "start_time": "2021-06-22T16:06:50.816Z"
   },
   {
    "duration": 282,
    "start_time": "2021-06-22T16:16:54.326Z"
   },
   {
    "duration": 1478,
    "start_time": "2021-06-22T16:17:03.849Z"
   },
   {
    "duration": 104,
    "start_time": "2021-06-22T16:17:05.330Z"
   },
   {
    "duration": 75,
    "start_time": "2021-06-22T16:17:05.436Z"
   },
   {
    "duration": 10,
    "start_time": "2021-06-22T16:17:05.514Z"
   },
   {
    "duration": 35,
    "start_time": "2021-06-22T16:17:05.527Z"
   },
   {
    "duration": 26,
    "start_time": "2021-06-22T16:17:05.565Z"
   },
   {
    "duration": 16,
    "start_time": "2021-06-22T16:17:05.594Z"
   },
   {
    "duration": 24,
    "start_time": "2021-06-22T16:17:05.613Z"
   },
   {
    "duration": 418,
    "start_time": "2021-06-22T16:17:05.641Z"
   },
   {
    "duration": 40,
    "start_time": "2021-06-22T16:18:23.967Z"
   },
   {
    "duration": 1459,
    "start_time": "2021-06-22T16:19:34.492Z"
   },
   {
    "duration": 79,
    "start_time": "2021-06-22T16:19:35.954Z"
   },
   {
    "duration": 70,
    "start_time": "2021-06-22T16:19:36.036Z"
   },
   {
    "duration": 11,
    "start_time": "2021-06-22T16:19:36.109Z"
   },
   {
    "duration": 22,
    "start_time": "2021-06-22T16:19:36.122Z"
   },
   {
    "duration": 33,
    "start_time": "2021-06-22T16:19:36.146Z"
   },
   {
    "duration": 8,
    "start_time": "2021-06-22T16:19:36.183Z"
   },
   {
    "duration": 11,
    "start_time": "2021-06-22T16:19:36.195Z"
   },
   {
    "duration": 84,
    "start_time": "2021-06-22T16:19:36.209Z"
   },
   {
    "duration": 12,
    "start_time": "2021-06-22T16:20:37.189Z"
   },
   {
    "duration": 9,
    "start_time": "2021-06-22T16:20:49.051Z"
   },
   {
    "duration": 8,
    "start_time": "2021-06-22T16:20:56.138Z"
   },
   {
    "duration": 44,
    "start_time": "2021-06-22T16:21:09.570Z"
   },
   {
    "duration": 439,
    "start_time": "2021-06-22T17:22:05.630Z"
   },
   {
    "duration": 1490,
    "start_time": "2021-06-22T17:22:45.549Z"
   },
   {
    "duration": 93,
    "start_time": "2021-06-22T17:22:47.042Z"
   },
   {
    "duration": 65,
    "start_time": "2021-06-22T17:22:47.138Z"
   },
   {
    "duration": 10,
    "start_time": "2021-06-22T17:22:47.206Z"
   },
   {
    "duration": 14,
    "start_time": "2021-06-22T17:22:47.218Z"
   },
   {
    "duration": 37,
    "start_time": "2021-06-22T17:22:47.234Z"
   },
   {
    "duration": 7,
    "start_time": "2021-06-22T17:22:47.273Z"
   },
   {
    "duration": 11,
    "start_time": "2021-06-22T17:22:47.283Z"
   },
   {
    "duration": 39,
    "start_time": "2021-06-22T17:22:47.296Z"
   },
   {
    "duration": 363,
    "start_time": "2021-06-22T17:22:47.366Z"
   },
   {
    "duration": 317,
    "start_time": "2021-06-22T17:23:06.888Z"
   },
   {
    "duration": 409,
    "start_time": "2021-06-22T17:25:32.737Z"
   },
   {
    "duration": 1556,
    "start_time": "2021-06-22T17:26:02.423Z"
   },
   {
    "duration": 92,
    "start_time": "2021-06-22T17:26:03.981Z"
   },
   {
    "duration": 67,
    "start_time": "2021-06-22T17:26:04.076Z"
   },
   {
    "duration": 9,
    "start_time": "2021-06-22T17:26:04.146Z"
   },
   {
    "duration": 11,
    "start_time": "2021-06-22T17:26:04.157Z"
   },
   {
    "duration": 12,
    "start_time": "2021-06-22T17:26:04.171Z"
   },
   {
    "duration": 8,
    "start_time": "2021-06-22T17:26:04.185Z"
   },
   {
    "duration": 10,
    "start_time": "2021-06-22T17:26:04.195Z"
   },
   {
    "duration": 35,
    "start_time": "2021-06-22T17:26:04.208Z"
   },
   {
    "duration": 403,
    "start_time": "2021-06-22T17:26:04.246Z"
   },
   {
    "duration": 21,
    "start_time": "2021-06-22T17:26:04.652Z"
   },
   {
    "duration": 2648,
    "start_time": "2021-06-22T17:27:20.303Z"
   },
   {
    "duration": 4987,
    "start_time": "2021-06-22T17:31:41.700Z"
   },
   {
    "duration": 18451,
    "start_time": "2021-06-22T17:32:01.372Z"
   },
   {
    "duration": 1616,
    "start_time": "2021-06-23T12:54:31.768Z"
   },
   {
    "duration": 100,
    "start_time": "2021-06-23T12:54:33.387Z"
   },
   {
    "duration": 70,
    "start_time": "2021-06-23T12:54:33.490Z"
   },
   {
    "duration": 11,
    "start_time": "2021-06-23T12:54:33.562Z"
   },
   {
    "duration": 32,
    "start_time": "2021-06-23T12:54:33.576Z"
   },
   {
    "duration": 13,
    "start_time": "2021-06-23T12:54:33.610Z"
   },
   {
    "duration": 11,
    "start_time": "2021-06-23T12:54:33.626Z"
   },
   {
    "duration": 10,
    "start_time": "2021-06-23T12:54:33.639Z"
   },
   {
    "duration": 74,
    "start_time": "2021-06-23T12:56:01.782Z"
   },
   {
    "duration": 63,
    "start_time": "2021-06-23T13:03:23.963Z"
   },
   {
    "duration": 94,
    "start_time": "2021-06-23T13:14:47.228Z"
   },
   {
    "duration": 611,
    "start_time": "2021-06-23T13:15:36.417Z"
   },
   {
    "duration": 462,
    "start_time": "2021-06-23T13:15:45.944Z"
   },
   {
    "duration": 475,
    "start_time": "2021-06-23T13:16:00.256Z"
   },
   {
    "duration": 449,
    "start_time": "2021-06-23T13:16:34.845Z"
   },
   {
    "duration": 4,
    "start_time": "2021-06-23T13:16:46.133Z"
   },
   {
    "duration": 6,
    "start_time": "2021-06-23T13:17:11.524Z"
   },
   {
    "duration": 298,
    "start_time": "2021-06-23T13:21:06.572Z"
   },
   {
    "duration": 89,
    "start_time": "2021-06-23T13:21:37.017Z"
   },
   {
    "duration": 55,
    "start_time": "2021-06-23T13:21:54.183Z"
   },
   {
    "duration": 55,
    "start_time": "2021-06-23T13:22:26.702Z"
   },
   {
    "duration": 151,
    "start_time": "2021-06-23T13:23:00.779Z"
   },
   {
    "duration": 2057,
    "start_time": "2021-06-23T13:23:16.779Z"
   },
   {
    "duration": 54,
    "start_time": "2021-06-23T13:23:25.075Z"
   },
   {
    "duration": 13,
    "start_time": "2021-06-23T13:29:32.109Z"
   },
   {
    "duration": 14,
    "start_time": "2021-06-23T13:29:52.963Z"
   },
   {
    "duration": 18195,
    "start_time": "2021-06-23T13:34:11.120Z"
   },
   {
    "duration": 18236,
    "start_time": "2021-06-23T13:35:17.304Z"
   },
   {
    "duration": 112,
    "start_time": "2021-06-23T13:36:04.698Z"
   },
   {
    "duration": 238,
    "start_time": "2021-06-23T13:48:10.933Z"
   },
   {
    "duration": 16,
    "start_time": "2021-06-23T14:12:47.277Z"
   },
   {
    "duration": 13,
    "start_time": "2021-06-23T14:14:16.425Z"
   },
   {
    "duration": 12,
    "start_time": "2021-06-23T14:14:34.488Z"
   },
   {
    "duration": 1461,
    "start_time": "2021-06-23T14:14:53.294Z"
   },
   {
    "duration": 107,
    "start_time": "2021-06-23T14:14:54.759Z"
   },
   {
    "duration": 70,
    "start_time": "2021-06-23T14:14:54.869Z"
   },
   {
    "duration": 11,
    "start_time": "2021-06-23T14:14:54.941Z"
   },
   {
    "duration": 49,
    "start_time": "2021-06-23T14:14:54.955Z"
   },
   {
    "duration": 13,
    "start_time": "2021-06-23T14:14:55.007Z"
   },
   {
    "duration": 7,
    "start_time": "2021-06-23T14:14:55.023Z"
   },
   {
    "duration": 12,
    "start_time": "2021-06-23T14:14:55.033Z"
   },
   {
    "duration": 99,
    "start_time": "2021-06-23T14:14:55.048Z"
   },
   {
    "duration": 11,
    "start_time": "2021-06-23T14:14:55.150Z"
   },
   {
    "duration": 17537,
    "start_time": "2021-06-23T14:14:55.164Z"
   },
   {
    "duration": 246,
    "start_time": "2021-06-23T14:15:12.703Z"
   },
   {
    "duration": 12,
    "start_time": "2021-06-23T14:15:12.952Z"
   },
   {
    "duration": 35,
    "start_time": "2021-06-23T14:15:12.966Z"
   },
   {
    "duration": 7,
    "start_time": "2021-06-23T14:17:11.289Z"
   },
   {
    "duration": 17,
    "start_time": "2021-06-23T14:17:36.931Z"
   },
   {
    "duration": 8,
    "start_time": "2021-06-23T14:17:49.186Z"
   },
   {
    "duration": 1482,
    "start_time": "2021-06-23T14:18:46.863Z"
   },
   {
    "duration": 87,
    "start_time": "2021-06-23T14:18:48.348Z"
   },
   {
    "duration": 69,
    "start_time": "2021-06-23T14:18:48.442Z"
   },
   {
    "duration": 9,
    "start_time": "2021-06-23T14:18:48.514Z"
   },
   {
    "duration": 12,
    "start_time": "2021-06-23T14:18:48.526Z"
   },
   {
    "duration": 12,
    "start_time": "2021-06-23T14:18:48.540Z"
   },
   {
    "duration": 8,
    "start_time": "2021-06-23T14:18:48.600Z"
   },
   {
    "duration": 12,
    "start_time": "2021-06-23T14:18:48.611Z"
   },
   {
    "duration": 82,
    "start_time": "2021-06-23T14:18:48.625Z"
   },
   {
    "duration": 12,
    "start_time": "2021-06-23T14:18:48.710Z"
   },
   {
    "duration": 17852,
    "start_time": "2021-06-23T14:18:48.725Z"
   },
   {
    "duration": 245,
    "start_time": "2021-06-23T14:19:06.580Z"
   },
   {
    "duration": 14,
    "start_time": "2021-06-23T14:19:06.829Z"
   },
   {
    "duration": 16,
    "start_time": "2021-06-23T14:19:06.847Z"
   },
   {
    "duration": 8,
    "start_time": "2021-06-23T14:19:06.902Z"
   },
   {
    "duration": 27,
    "start_time": "2021-06-23T14:19:06.913Z"
   },
   {
    "duration": 7,
    "start_time": "2021-06-23T14:19:06.943Z"
   },
   {
    "duration": 1496,
    "start_time": "2021-06-23T14:27:16.161Z"
   },
   {
    "duration": 97,
    "start_time": "2021-06-23T14:27:17.660Z"
   },
   {
    "duration": 98,
    "start_time": "2021-06-23T14:27:17.761Z"
   },
   {
    "duration": 14,
    "start_time": "2021-06-23T14:27:17.863Z"
   },
   {
    "duration": 11,
    "start_time": "2021-06-23T14:27:17.902Z"
   },
   {
    "duration": 18,
    "start_time": "2021-06-23T14:27:17.916Z"
   },
   {
    "duration": 9,
    "start_time": "2021-06-23T14:27:17.938Z"
   },
   {
    "duration": 55,
    "start_time": "2021-06-23T14:27:17.953Z"
   },
   {
    "duration": 62,
    "start_time": "2021-06-23T14:27:18.011Z"
   },
   {
    "duration": 35,
    "start_time": "2021-06-23T14:27:18.075Z"
   },
   {
    "duration": 18071,
    "start_time": "2021-06-23T14:27:18.112Z"
   },
   {
    "duration": 248,
    "start_time": "2021-06-23T14:27:36.185Z"
   },
   {
    "duration": 13,
    "start_time": "2021-06-23T14:27:36.436Z"
   },
   {
    "duration": 14,
    "start_time": "2021-06-23T14:27:36.451Z"
   },
   {
    "duration": 36,
    "start_time": "2021-06-23T14:27:36.468Z"
   },
   {
    "duration": 22,
    "start_time": "2021-06-23T14:27:36.507Z"
   },
   {
    "duration": 6,
    "start_time": "2021-06-23T14:27:36.531Z"
   },
   {
    "duration": 6,
    "start_time": "2021-06-23T14:51:59.028Z"
   },
   {
    "duration": 10,
    "start_time": "2021-06-23T14:53:05.213Z"
   },
   {
    "duration": 439,
    "start_time": "2021-06-23T14:54:25.549Z"
   },
   {
    "duration": 17,
    "start_time": "2021-06-23T14:59:06.149Z"
   },
   {
    "duration": 7,
    "start_time": "2021-06-23T14:59:31.995Z"
   },
   {
    "duration": 9,
    "start_time": "2021-06-23T14:59:36.378Z"
   },
   {
    "duration": 9,
    "start_time": "2021-06-23T14:59:47.554Z"
   },
   {
    "duration": 12,
    "start_time": "2021-06-23T15:01:34.469Z"
   },
   {
    "duration": 11,
    "start_time": "2021-06-23T15:01:54.708Z"
   },
   {
    "duration": 296,
    "start_time": "2021-06-23T15:02:20.492Z"
   },
   {
    "duration": 300,
    "start_time": "2021-06-23T15:02:59.681Z"
   },
   {
    "duration": 10,
    "start_time": "2021-06-23T15:03:39.928Z"
   },
   {
    "duration": 12,
    "start_time": "2021-06-23T15:04:02.064Z"
   },
   {
    "duration": 9,
    "start_time": "2021-06-23T15:04:07.702Z"
   },
   {
    "duration": 10,
    "start_time": "2021-06-23T15:04:29.287Z"
   },
   {
    "duration": 10,
    "start_time": "2021-06-23T15:04:39.405Z"
   },
   {
    "duration": 289,
    "start_time": "2021-06-23T15:06:37.873Z"
   },
   {
    "duration": 5,
    "start_time": "2021-06-23T15:06:51.551Z"
   },
   {
    "duration": 12,
    "start_time": "2021-06-23T15:06:55.527Z"
   },
   {
    "duration": 13,
    "start_time": "2021-06-23T15:07:09.558Z"
   },
   {
    "duration": 12,
    "start_time": "2021-06-23T15:07:21.214Z"
   },
   {
    "duration": 1495,
    "start_time": "2021-06-23T15:29:54.592Z"
   },
   {
    "duration": 102,
    "start_time": "2021-06-23T15:29:56.090Z"
   },
   {
    "duration": 74,
    "start_time": "2021-06-23T15:29:56.195Z"
   },
   {
    "duration": 29,
    "start_time": "2021-06-23T15:29:56.273Z"
   },
   {
    "duration": 15,
    "start_time": "2021-06-23T15:29:56.306Z"
   },
   {
    "duration": 20,
    "start_time": "2021-06-23T15:29:56.324Z"
   },
   {
    "duration": 12,
    "start_time": "2021-06-23T15:29:56.347Z"
   },
   {
    "duration": 49,
    "start_time": "2021-06-23T15:29:56.362Z"
   },
   {
    "duration": 58,
    "start_time": "2021-06-23T15:29:56.416Z"
   },
   {
    "duration": 32,
    "start_time": "2021-06-23T15:29:56.478Z"
   },
   {
    "duration": 17813,
    "start_time": "2021-06-23T15:29:56.513Z"
   },
   {
    "duration": 235,
    "start_time": "2021-06-23T15:30:14.328Z"
   },
   {
    "duration": 13,
    "start_time": "2021-06-23T15:30:14.565Z"
   },
   {
    "duration": 17,
    "start_time": "2021-06-23T15:30:14.601Z"
   },
   {
    "duration": 10,
    "start_time": "2021-06-23T15:30:14.623Z"
   },
   {
    "duration": 32,
    "start_time": "2021-06-23T15:30:14.637Z"
   },
   {
    "duration": 33,
    "start_time": "2021-06-23T15:30:14.672Z"
   },
   {
    "duration": 30,
    "start_time": "2021-06-23T15:30:14.708Z"
   },
   {
    "duration": 18,
    "start_time": "2021-06-23T15:30:14.742Z"
   },
   {
    "duration": 38,
    "start_time": "2021-06-23T15:30:14.763Z"
   }
  ],
  "kernelspec": {
   "display_name": "Python 3",
   "language": "python",
   "name": "python3"
  },
  "language_info": {
   "codemirror_mode": {
    "name": "ipython",
    "version": 3
   },
   "file_extension": ".py",
   "mimetype": "text/x-python",
   "name": "python",
   "nbconvert_exporter": "python",
   "pygments_lexer": "ipython3",
   "version": "3.8.8"
  },
  "toc": {
   "base_numbering": 1,
   "nav_menu": {},
   "number_sections": true,
   "sideBar": true,
   "skip_h1_title": true,
   "title_cell": "Содержание",
   "title_sidebar": "Содержание",
   "toc_cell": true,
   "toc_position": {
    "height": "calc(100% - 180px)",
    "left": "10px",
    "top": "150px",
    "width": "326.391px"
   },
   "toc_section_display": true,
   "toc_window_display": true
  }
 },
 "nbformat": 4,
 "nbformat_minor": 2
}
