{
 "cells": [
  {
   "cell_type": "markdown",
   "metadata": {
    "toc": true
   },
   "source": [
    "<h1>Содержание<span class=\"tocSkip\"></span></h1>\n",
    "<div class=\"toc\"><ul class=\"toc-item\"><li><span><a href=\"#Комментарий-студента-V_1\" data-toc-modified-id=\"Комментарий-студента-V_1-1\"><span class=\"toc-item-num\">1&nbsp;&nbsp;</span>Комментарий студента V_1</a></span></li><li><span><a href=\"#Комментарий-студента-V_2\" data-toc-modified-id=\"Комментарий-студента-V_2-2\"><span class=\"toc-item-num\">2&nbsp;&nbsp;</span>Комментарий студента V_2</a></span></li><li><span><a href=\"#Изучение-данных-из-файла\" data-toc-modified-id=\"Изучение-данных-из-файла-3\"><span class=\"toc-item-num\">3&nbsp;&nbsp;</span>Изучение данных из файла</a></span><ul class=\"toc-item\"><li><span><a href=\"#Импорт-библиотек\" data-toc-modified-id=\"Импорт-библиотек-3.1\"><span class=\"toc-item-num\">3.1&nbsp;&nbsp;</span>Импорт библиотек</a></span></li><li><span><a href=\"#Загрузка-и-изучение-файла-/datasets/calls.csv\" data-toc-modified-id=\"Загрузка-и-изучение-файла-/datasets/calls.csv-3.2\"><span class=\"toc-item-num\">3.2&nbsp;&nbsp;</span>Загрузка и изучение файла /datasets/calls.csv</a></span></li><li><span><a href=\"#Загрузка-и-изучение-файла-/datasets/internet.csv\" data-toc-modified-id=\"Загрузка-и-изучение-файла-/datasets/internet.csv-3.3\"><span class=\"toc-item-num\">3.3&nbsp;&nbsp;</span>Загрузка и изучение файла /datasets/internet.csv</a></span></li><li><span><a href=\"#Загрузка-и-изучение-файла-/datasets/messages.csv\" data-toc-modified-id=\"Загрузка-и-изучение-файла-/datasets/messages.csv-3.4\"><span class=\"toc-item-num\">3.4&nbsp;&nbsp;</span>Загрузка и изучение файла /datasets/messages.csv</a></span></li><li><span><a href=\"#Загрузка-и-изучение-файла-/datasets/tariffs.csv\" data-toc-modified-id=\"Загрузка-и-изучение-файла-/datasets/tariffs.csv-3.5\"><span class=\"toc-item-num\">3.5&nbsp;&nbsp;</span>Загрузка и изучение файла /datasets/tariffs.csv</a></span></li><li><span><a href=\"#Загрузка-и-изучение-файла-/datasets/users.csv\" data-toc-modified-id=\"Загрузка-и-изучение-файла-/datasets/users.csv-3.6\"><span class=\"toc-item-num\">3.6&nbsp;&nbsp;</span>Загрузка и изучение файла /datasets/users.csv</a></span></li></ul></li><li><span><a href=\"#Предобработка-данных\" data-toc-modified-id=\"Предобработка-данных-4\"><span class=\"toc-item-num\">4&nbsp;&nbsp;</span>Предобработка данных</a></span><ul class=\"toc-item\"><li><span><a href=\"#Таблица-data_users\" data-toc-modified-id=\"Таблица-data_users-4.1\"><span class=\"toc-item-num\">4.1&nbsp;&nbsp;</span>Таблица data_users</a></span><ul class=\"toc-item\"><li><span><a href=\"#Информация-по-пропускам\" data-toc-modified-id=\"Информация-по-пропускам-4.1.1\"><span class=\"toc-item-num\">4.1.1&nbsp;&nbsp;</span>Информация по пропускам</a></span></li><li><span><a href=\"#Стобец-'churn_date'.\" data-toc-modified-id=\"Стобец-'churn_date'.-4.1.2\"><span class=\"toc-item-num\">4.1.2&nbsp;&nbsp;</span>Стобец 'churn_date'.</a></span></li></ul></li></ul></li><li><span><a href=\"#Комментарий-студента-V_1\" data-toc-modified-id=\"Комментарий-студента-V_1-5\"><span class=\"toc-item-num\">5&nbsp;&nbsp;</span>Комментарий студента V_1</a></span><ul class=\"toc-item\"><li><ul class=\"toc-item\"><li><span><a href=\"#Стобец-'reg_date'.\" data-toc-modified-id=\"Стобец-'reg_date'.-5.0.1\"><span class=\"toc-item-num\">5.0.1&nbsp;&nbsp;</span>Стобец 'reg_date'.</a></span></li><li><span><a href=\"#Столбец-'tariff'\" data-toc-modified-id=\"Столбец-'tariff'-5.0.2\"><span class=\"toc-item-num\">5.0.2&nbsp;&nbsp;</span>Столбец 'tariff'</a></span></li><li><span><a href=\"#Столбец-'city'\" data-toc-modified-id=\"Столбец-'city'-5.0.3\"><span class=\"toc-item-num\">5.0.3&nbsp;&nbsp;</span>Столбец 'city'</a></span></li><li><span><a href=\"#Проверка-на-повторы-столбца-'user_id'\" data-toc-modified-id=\"Проверка-на-повторы-столбца-'user_id'-5.0.4\"><span class=\"toc-item-num\">5.0.4&nbsp;&nbsp;</span>Проверка на повторы столбца 'user_id'</a></span></li></ul></li><li><span><a href=\"#Таблица-data_calls\" data-toc-modified-id=\"Таблица-data_calls-5.1\"><span class=\"toc-item-num\">5.1&nbsp;&nbsp;</span>Таблица data_calls</a></span><ul class=\"toc-item\"><li><span><a href=\"#Информация-по-пропускам\" data-toc-modified-id=\"Информация-по-пропускам-5.1.1\"><span class=\"toc-item-num\">5.1.1&nbsp;&nbsp;</span>Информация по пропускам</a></span></li><li><span><a href=\"#Столбец-'call_date'\" data-toc-modified-id=\"Столбец-'call_date'-5.1.2\"><span class=\"toc-item-num\">5.1.2&nbsp;&nbsp;</span>Столбец 'call_date'</a></span></li><li><span><a href=\"#Столбец-'duration'\" data-toc-modified-id=\"Столбец-'duration'-5.1.3\"><span class=\"toc-item-num\">5.1.3&nbsp;&nbsp;</span>Столбец 'duration'</a></span></li></ul></li></ul></li><li><span><a href=\"#Комментарий-студента-V_1\" data-toc-modified-id=\"Комментарий-студента-V_1-6\"><span class=\"toc-item-num\">6&nbsp;&nbsp;</span>Комментарий студента V_1</a></span><ul class=\"toc-item\"><li><ul class=\"toc-item\"><li><span><a href=\"#Проверка-на-повторы\" data-toc-modified-id=\"Проверка-на-повторы-6.0.1\"><span class=\"toc-item-num\">6.0.1&nbsp;&nbsp;</span>Проверка на повторы</a></span></li></ul></li><li><span><a href=\"#Таблица-data_internet\" data-toc-modified-id=\"Таблица-data_internet-6.1\"><span class=\"toc-item-num\">6.1&nbsp;&nbsp;</span>Таблица data_internet</a></span><ul class=\"toc-item\"><li><span><a href=\"#Столбец-'Unnamed:-0'\" data-toc-modified-id=\"Столбец-'Unnamed:-0'-6.1.1\"><span class=\"toc-item-num\">6.1.1&nbsp;&nbsp;</span>Столбец 'Unnamed: 0'</a></span></li><li><span><a href=\"#Столбец-'session_date'\" data-toc-modified-id=\"Столбец-'session_date'-6.1.2\"><span class=\"toc-item-num\">6.1.2&nbsp;&nbsp;</span>Столбец 'session_date'</a></span></li><li><span><a href=\"#Столбец-'mb_used'\" data-toc-modified-id=\"Столбец-'mb_used'-6.1.3\"><span class=\"toc-item-num\">6.1.3&nbsp;&nbsp;</span>Столбец 'mb_used'</a></span></li><li><span><a href=\"#Проверка-на-повторы\" data-toc-modified-id=\"Проверка-на-повторы-6.1.4\"><span class=\"toc-item-num\">6.1.4&nbsp;&nbsp;</span>Проверка на повторы</a></span></li></ul></li><li><span><a href=\"#Таблица-data_messages\" data-toc-modified-id=\"Таблица-data_messages-6.2\"><span class=\"toc-item-num\">6.2&nbsp;&nbsp;</span>Таблица data_messages</a></span><ul class=\"toc-item\"><li><span><a href=\"#Столбец-'message_date'\" data-toc-modified-id=\"Столбец-'message_date'-6.2.1\"><span class=\"toc-item-num\">6.2.1&nbsp;&nbsp;</span>Столбец 'message_date'</a></span></li><li><span><a href=\"#Проверка-на-повторы\" data-toc-modified-id=\"Проверка-на-повторы-6.2.2\"><span class=\"toc-item-num\">6.2.2&nbsp;&nbsp;</span>Проверка на повторы</a></span></li></ul></li><li><span><a href=\"#Расчет-количества-сделанных-звонков-и-израсходованных-минут-разговора-по-месяцам-для-каждого-пользователя\" data-toc-modified-id=\"Расчет-количества-сделанных-звонков-и-израсходованных-минут-разговора-по-месяцам-для-каждого-пользователя-6.3\"><span class=\"toc-item-num\">6.3&nbsp;&nbsp;</span>Расчет количества сделанных звонков и израсходованных минут разговора по месяцам для каждого пользователя</a></span><ul class=\"toc-item\"><li><span><a href=\"#Добавление-столбца-с-номером-месяца-'months'-к-таблице-data_calls\" data-toc-modified-id=\"Добавление-столбца-с-номером-месяца-'months'-к-таблице-data_calls-6.3.1\"><span class=\"toc-item-num\">6.3.1&nbsp;&nbsp;</span>Добавление столбца с номером месяца 'months' к таблице data_calls</a></span></li><li><span><a href=\"#Создание-сводной-таблицы\" data-toc-modified-id=\"Создание-сводной-таблицы-6.3.2\"><span class=\"toc-item-num\">6.3.2&nbsp;&nbsp;</span>Создание сводной таблицы</a></span></li></ul></li><li><span><a href=\"#Расчет-количества-отправленных-сообщений-по-месяцам-для-каждого-пользователя\" data-toc-modified-id=\"Расчет-количества-отправленных-сообщений-по-месяцам-для-каждого-пользователя-6.4\"><span class=\"toc-item-num\">6.4&nbsp;&nbsp;</span>Расчет количества отправленных сообщений по месяцам для каждого пользователя</a></span><ul class=\"toc-item\"><li><span><a href=\"#Добавление-столбца-с-номером-месяца-'months'-к-таблице-data_messages\" data-toc-modified-id=\"Добавление-столбца-с-номером-месяца-'months'-к-таблице-data_messages-6.4.1\"><span class=\"toc-item-num\">6.4.1&nbsp;&nbsp;</span>Добавление столбца с номером месяца 'months' к таблице data_messages</a></span></li><li><span><a href=\"#Создание-сводной-таблицы\" data-toc-modified-id=\"Создание-сводной-таблицы-6.4.2\"><span class=\"toc-item-num\">6.4.2&nbsp;&nbsp;</span>Создание сводной таблицы</a></span></li></ul></li><li><span><a href=\"#Расчет-объема-израсходованного-интернет-траффика-по-месяцам-для-каждого-пользователя\" data-toc-modified-id=\"Расчет-объема-израсходованного-интернет-траффика-по-месяцам-для-каждого-пользователя-6.5\"><span class=\"toc-item-num\">6.5&nbsp;&nbsp;</span>Расчет объема израсходованного интернет-траффика по месяцам для каждого пользователя</a></span><ul class=\"toc-item\"><li><span><a href=\"#Добавление-столбца-с-номером-месяца-'months'-к-таблице-data_internet\" data-toc-modified-id=\"Добавление-столбца-с-номером-месяца-'months'-к-таблице-data_internet-6.5.1\"><span class=\"toc-item-num\">6.5.1&nbsp;&nbsp;</span>Добавление столбца с номером месяца 'months' к таблице data_internet</a></span></li><li><span><a href=\"#Создание-сводной-таблицы\" data-toc-modified-id=\"Создание-сводной-таблицы-6.5.2\"><span class=\"toc-item-num\">6.5.2&nbsp;&nbsp;</span>Создание сводной таблицы</a></span></li></ul></li><li><span><a href=\"#Расчёт-помесячной-выручки-с-каждого-пользователя\" data-toc-modified-id=\"Расчёт-помесячной-выручки-с-каждого-пользователя-6.6\"><span class=\"toc-item-num\">6.6&nbsp;&nbsp;</span>Расчёт помесячной выручки с каждого пользователя</a></span><ul class=\"toc-item\"><li><span><a href=\"#Внешнее-объединение-сводных-таблиц-по-мультииндексу-[user_id][month]\" data-toc-modified-id=\"Внешнее-объединение-сводных-таблиц-по-мультииндексу-[user_id][month]-6.6.1\"><span class=\"toc-item-num\">6.6.1&nbsp;&nbsp;</span>Внешнее объединение сводных таблиц по мультииндексу [user_id][month]</a></span></li><li><span><a href=\"#Замена-пропусков-нулями\" data-toc-modified-id=\"Замена-пропусков-нулями-6.6.2\"><span class=\"toc-item-num\">6.6.2&nbsp;&nbsp;</span>Замена пропусков нулями</a></span></li><li><span><a href=\"#Помесячная-выручка\" data-toc-modified-id=\"Помесячная-выручка-6.6.3\"><span class=\"toc-item-num\">6.6.3&nbsp;&nbsp;</span>Помесячная выручка</a></span></li></ul></li></ul></li><li><span><a href=\"#Комментарий-студента-V_1\" data-toc-modified-id=\"Комментарий-студента-V_1-7\"><span class=\"toc-item-num\">7&nbsp;&nbsp;</span>Комментарий студента V_1</a></span></li><li><span><a href=\"#-Комментарий-ревьюера-2\" data-toc-modified-id=\"-Комментарий-ревьюера-2-8\"><span class=\"toc-item-num\">8&nbsp;&nbsp;</span> Комментарий ревьюера 2</a></span></li><li><span><a href=\"#Комментарий-студента-V_2\" data-toc-modified-id=\"Комментарий-студента-V_2-9\"><span class=\"toc-item-num\">9&nbsp;&nbsp;</span>Комментарий студента V_2</a></span></li><li><span><a href=\"#Анализ-данных\" data-toc-modified-id=\"Анализ-данных-10\"><span class=\"toc-item-num\">10&nbsp;&nbsp;</span>Анализ данных</a></span><ul class=\"toc-item\"><li><span><a href=\"#Добаление-столбца-'tariff'\" data-toc-modified-id=\"Добаление-столбца-'tariff'-10.1\"><span class=\"toc-item-num\">10.1&nbsp;&nbsp;</span>Добаление столбца 'tariff'</a></span></li></ul></li><li><span><a href=\"#Комментарий-студента-V_1\" data-toc-modified-id=\"Комментарий-студента-V_1-11\"><span class=\"toc-item-num\">11&nbsp;&nbsp;</span>Комментарий студента V_1</a></span></li><li><span><a href=\"#-Комментарий-ревьюера-2\" data-toc-modified-id=\"-Комментарий-ревьюера-2-12\"><span class=\"toc-item-num\">12&nbsp;&nbsp;</span> Комментарий ревьюера 2</a></span><ul class=\"toc-item\"><li><span><a href=\"#Фильтрация-массива-по-тарифам\" data-toc-modified-id=\"Фильтрация-массива-по-тарифам-12.1\"><span class=\"toc-item-num\">12.1&nbsp;&nbsp;</span>Фильтрация массива по тарифам</a></span></li><li><span><a href=\"#Исследование-расхода-минут-разговора-в-зависимости-от-тарифа\" data-toc-modified-id=\"Исследование-расхода-минут-разговора-в-зависимости-от-тарифа-12.2\"><span class=\"toc-item-num\">12.2&nbsp;&nbsp;</span>Исследование расхода минут разговора в зависимости от тарифа</a></span></li><li><span><a href=\"#Исследование-расхода-сообщений-в-зависимости-от-тарифа\" data-toc-modified-id=\"Исследование-расхода-сообщений-в-зависимости-от-тарифа-12.3\"><span class=\"toc-item-num\">12.3&nbsp;&nbsp;</span>Исследование расхода сообщений в зависимости от тарифа</a></span></li><li><span><a href=\"#Исследование-расхода-трафика-в-зависимости-от-тарифа\" data-toc-modified-id=\"Исследование-расхода-трафика-в-зависимости-от-тарифа-12.4\"><span class=\"toc-item-num\">12.4&nbsp;&nbsp;</span>Исследование расхода трафика в зависимости от тарифа</a></span></li></ul></li><li><span><a href=\"#Комментарий-студента-V_1\" data-toc-modified-id=\"Комментарий-студента-V_1-13\"><span class=\"toc-item-num\">13&nbsp;&nbsp;</span>Комментарий студента V_1</a></span><ul class=\"toc-item\"><li><span><a href=\"#Вывод-по-анализу-данных\" data-toc-modified-id=\"Вывод-по-анализу-данных-13.1\"><span class=\"toc-item-num\">13.1&nbsp;&nbsp;</span>Вывод по анализу данных</a></span></li></ul></li><li><span><a href=\"#Проверка-гипотез\" data-toc-modified-id=\"Проверка-гипотез-14\"><span class=\"toc-item-num\">14&nbsp;&nbsp;</span>Проверка гипотез</a></span><ul class=\"toc-item\"><li><span><a href=\"#Средняя-выручка-пользователей-тарифов-ultra-и-smart-различаются\" data-toc-modified-id=\"Средняя-выручка-пользователей-тарифов-ultra-и-smart-различаются-14.1\"><span class=\"toc-item-num\">14.1&nbsp;&nbsp;</span>Средняя выручка пользователей тарифов ultra и smart различаются</a></span></li><li><span><a href=\"#Средняя-выручка-пользователей-из-Москвы-отличается-от-выручки-пользователей-из-других-регионов\" data-toc-modified-id=\"Средняя-выручка-пользователей-из-Москвы-отличается-от-выручки-пользователей-из-других-регионов-14.2\"><span class=\"toc-item-num\">14.2&nbsp;&nbsp;</span>Средняя выручка пользователей из Москвы отличается от выручки пользователей из других регионов</a></span><ul class=\"toc-item\"><li><span><a href=\"#Добавление-столбца-'city'--к-таблице-data_total_p_month.\" data-toc-modified-id=\"Добавление-столбца-'city'--к-таблице-data_total_p_month.-14.2.1\"><span class=\"toc-item-num\">14.2.1&nbsp;&nbsp;</span>Добавление столбца 'city'  к таблице data_total_p_month.</a></span></li></ul></li></ul></li><li><span><a href=\"#Комментарий-студента-V_1\" data-toc-modified-id=\"Комментарий-студента-V_1-15\"><span class=\"toc-item-num\">15&nbsp;&nbsp;</span>Комментарий студента V_1</a></span></li><li><span><a href=\"#Общий-вывод\" data-toc-modified-id=\"Общий-вывод-16\"><span class=\"toc-item-num\">16&nbsp;&nbsp;</span>Общий вывод</a></span></li></ul></div>"
   ]
  },
  {
   "cell_type": "markdown",
   "metadata": {},
   "source": [
    "# Определение перспективного тарифа для телеком компании\n",
    "\n",
    "# Determination of a promising tariff for a telecom company"
   ]
  },
  {
   "cell_type": "markdown",
   "metadata": {},
   "source": [
    "\"Мегалайн\" - федеральный оператор сотовой связи. Предлагает клиентам два тарифных плана: \"Смарт\" и \"Ультра\".\n",
    "\n",
    "Параметры тарифов:\n",
    "\n",
    "Тариф «Смарт»\n",
    "\n",
    "- Ежемесячная плата: 550 рублей\n",
    "- Включено 500 минут разговора, 50 сообщений и 15 Гб интернет-трафика\n",
    "- Стоимость услуг сверх тарифного пакета:\n",
    "    - минута разговора: 3 рубля\n",
    "    - сообщение: 3 рубля\n",
    "    - 1 Гб интернет-трафика: 200 рублей\n",
    "\n",
    "Тариф «Ультра»\n",
    "\n",
    "- Ежемесячная плата: 1950 рублей\n",
    "- Включено 3000 минут разговора, 1000 сообщений и 30 Гб интернет-трафика\n",
    "- Стоимость услуг сверх тарифного пакета:\n",
    "    - минута разговора: 1 рубль\n",
    "    - сообщение: 1 рубль\n",
    "    - 1 Гб интернет-трафика: 150 рублей\n",
    "\n",
    "Задача:\n",
    "\n",
    "Определить более прибыльный тариф.\n",
    "\n",
    "\n",
    "Megaline is a federal mobile operator. It offers customers two tariff plans: \"Smart\" and \"Ultra\".\n",
    "\n",
    "Tariff parameters:\n",
    "\n",
    "The \"Smart\" tariff\n",
    "\n",
    "- Monthly fee: 550 rubles\n",
    "- Included 500 minutes of conversation, 50 messages and 15 GB of Internet traffic\n",
    "- The cost of services over the tariff package:\n",
    "    - a minute of conversation: 3 rubles\n",
    "    - a message: 3 rubles\n",
    "    - 1 GB of Internet traffic: 200 rubles\n",
    "\n",
    "The \"Ultra\"tariff\n",
    "\n",
    "- Monthly fee: 1950 rubles\n",
    "- 3000 minutes of conversation, 1000 messages and 30 GB of Internet traffic are included\n",
    "- The cost of services in excess of the tariff package:\n",
    "    - a minute of conversation: 1 ruble\n",
    "    - message: 1 ruble\n",
    "    - 1 GB of Internet traffic: 150 rubles\n",
    "\n",
    "Task:\n",
    "\n",
    "Determine a more profitable tariff."
   ]
  },
  {
   "cell_type": "markdown",
   "metadata": {},
   "source": [
    "## Изучение данных из файла\n",
    "\n",
    "## Exploring data from a file"
   ]
  },
  {
   "cell_type": "markdown",
   "metadata": {},
   "source": [
    "### Импорт библиотек\n",
    "### Import libraries"
   ]
  },
  {
   "cell_type": "code",
   "execution_count": 1,
   "metadata": {},
   "outputs": [],
   "source": [
    "import pandas as pd\n",
    "from IPython.display import display\n",
    "import matplotlib.pyplot as plt\n",
    "import math\n",
    "import numpy as np\n",
    "from scipy import stats as st"
   ]
  },
  {
   "cell_type": "markdown",
   "metadata": {},
   "source": [
    "Вспомогательный модуль для устранения скроллинга ячеек\n",
    "\n",
    "Auxiliary module for eliminating cell scrolling"
   ]
  },
  {
   "cell_type": "code",
   "execution_count": 2,
   "metadata": {},
   "outputs": [
    {
     "data": {
      "application/javascript": [
       "IPython.OutputArea.prototype._should_scroll = function(lines) {\n",
       "    return false;\n",
       "}\n"
      ],
      "text/plain": [
       "<IPython.core.display.Javascript object>"
      ]
     },
     "metadata": {},
     "output_type": "display_data"
    }
   ],
   "source": [
    "%%javascript\n",
    "IPython.OutputArea.prototype._should_scroll = function(lines) {\n",
    "    return false;\n",
    "}"
   ]
  },
  {
   "cell_type": "markdown",
   "metadata": {},
   "source": [
    "### Загрузка и изучение файла /datasets/calls.csv\n",
    "\n",
    "### Download and exploring the /datasets/calls.csv file"
   ]
  },
  {
   "cell_type": "code",
   "execution_count": 3,
   "metadata": {},
   "outputs": [
    {
     "data": {
      "text/html": [
       "<div>\n",
       "<style scoped>\n",
       "    .dataframe tbody tr th:only-of-type {\n",
       "        vertical-align: middle;\n",
       "    }\n",
       "\n",
       "    .dataframe tbody tr th {\n",
       "        vertical-align: top;\n",
       "    }\n",
       "\n",
       "    .dataframe thead th {\n",
       "        text-align: right;\n",
       "    }\n",
       "</style>\n",
       "<table border=\"1\" class=\"dataframe\">\n",
       "  <thead>\n",
       "    <tr style=\"text-align: right;\">\n",
       "      <th></th>\n",
       "      <th>id</th>\n",
       "      <th>call_date</th>\n",
       "      <th>duration</th>\n",
       "      <th>user_id</th>\n",
       "    </tr>\n",
       "  </thead>\n",
       "  <tbody>\n",
       "    <tr>\n",
       "      <td>0</td>\n",
       "      <td>1000_0</td>\n",
       "      <td>2018-07-25</td>\n",
       "      <td>0.00</td>\n",
       "      <td>1000</td>\n",
       "    </tr>\n",
       "    <tr>\n",
       "      <td>1</td>\n",
       "      <td>1000_1</td>\n",
       "      <td>2018-08-17</td>\n",
       "      <td>0.00</td>\n",
       "      <td>1000</td>\n",
       "    </tr>\n",
       "    <tr>\n",
       "      <td>2</td>\n",
       "      <td>1000_2</td>\n",
       "      <td>2018-06-11</td>\n",
       "      <td>2.85</td>\n",
       "      <td>1000</td>\n",
       "    </tr>\n",
       "    <tr>\n",
       "      <td>3</td>\n",
       "      <td>1000_3</td>\n",
       "      <td>2018-09-21</td>\n",
       "      <td>13.80</td>\n",
       "      <td>1000</td>\n",
       "    </tr>\n",
       "    <tr>\n",
       "      <td>4</td>\n",
       "      <td>1000_4</td>\n",
       "      <td>2018-12-15</td>\n",
       "      <td>5.18</td>\n",
       "      <td>1000</td>\n",
       "    </tr>\n",
       "    <tr>\n",
       "      <td>5</td>\n",
       "      <td>1000_5</td>\n",
       "      <td>2018-11-02</td>\n",
       "      <td>0.00</td>\n",
       "      <td>1000</td>\n",
       "    </tr>\n",
       "    <tr>\n",
       "      <td>6</td>\n",
       "      <td>1000_6</td>\n",
       "      <td>2018-10-18</td>\n",
       "      <td>0.00</td>\n",
       "      <td>1000</td>\n",
       "    </tr>\n",
       "    <tr>\n",
       "      <td>7</td>\n",
       "      <td>1000_7</td>\n",
       "      <td>2018-08-22</td>\n",
       "      <td>18.31</td>\n",
       "      <td>1000</td>\n",
       "    </tr>\n",
       "    <tr>\n",
       "      <td>8</td>\n",
       "      <td>1000_8</td>\n",
       "      <td>2018-09-15</td>\n",
       "      <td>18.44</td>\n",
       "      <td>1000</td>\n",
       "    </tr>\n",
       "    <tr>\n",
       "      <td>9</td>\n",
       "      <td>1000_9</td>\n",
       "      <td>2018-08-15</td>\n",
       "      <td>0.00</td>\n",
       "      <td>1000</td>\n",
       "    </tr>\n",
       "  </tbody>\n",
       "</table>\n",
       "</div>"
      ],
      "text/plain": [
       "       id   call_date  duration  user_id\n",
       "0  1000_0  2018-07-25      0.00     1000\n",
       "1  1000_1  2018-08-17      0.00     1000\n",
       "2  1000_2  2018-06-11      2.85     1000\n",
       "3  1000_3  2018-09-21     13.80     1000\n",
       "4  1000_4  2018-12-15      5.18     1000\n",
       "5  1000_5  2018-11-02      0.00     1000\n",
       "6  1000_6  2018-10-18      0.00     1000\n",
       "7  1000_7  2018-08-22     18.31     1000\n",
       "8  1000_8  2018-09-15     18.44     1000\n",
       "9  1000_9  2018-08-15      0.00     1000"
      ]
     },
     "metadata": {},
     "output_type": "display_data"
    },
    {
     "name": "stdout",
     "output_type": "stream",
     "text": [
      "<class 'pandas.core.frame.DataFrame'>\n",
      "RangeIndex: 202607 entries, 0 to 202606\n",
      "Data columns (total 4 columns):\n",
      "id           202607 non-null object\n",
      "call_date    202607 non-null object\n",
      "duration     202607 non-null float64\n",
      "user_id      202607 non-null int64\n",
      "dtypes: float64(1), int64(1), object(2)\n",
      "memory usage: 6.2+ MB\n"
     ]
    },
    {
     "data": {
      "text/html": [
       "<div>\n",
       "<style scoped>\n",
       "    .dataframe tbody tr th:only-of-type {\n",
       "        vertical-align: middle;\n",
       "    }\n",
       "\n",
       "    .dataframe tbody tr th {\n",
       "        vertical-align: top;\n",
       "    }\n",
       "\n",
       "    .dataframe thead th {\n",
       "        text-align: right;\n",
       "    }\n",
       "</style>\n",
       "<table border=\"1\" class=\"dataframe\">\n",
       "  <thead>\n",
       "    <tr style=\"text-align: right;\">\n",
       "      <th></th>\n",
       "      <th>duration</th>\n",
       "      <th>user_id</th>\n",
       "    </tr>\n",
       "  </thead>\n",
       "  <tbody>\n",
       "    <tr>\n",
       "      <td>count</td>\n",
       "      <td>202607.000000</td>\n",
       "      <td>202607.000000</td>\n",
       "    </tr>\n",
       "    <tr>\n",
       "      <td>mean</td>\n",
       "      <td>6.755887</td>\n",
       "      <td>1253.940619</td>\n",
       "    </tr>\n",
       "    <tr>\n",
       "      <td>std</td>\n",
       "      <td>5.843365</td>\n",
       "      <td>144.722751</td>\n",
       "    </tr>\n",
       "    <tr>\n",
       "      <td>min</td>\n",
       "      <td>0.000000</td>\n",
       "      <td>1000.000000</td>\n",
       "    </tr>\n",
       "    <tr>\n",
       "      <td>25%</td>\n",
       "      <td>1.300000</td>\n",
       "      <td>1126.000000</td>\n",
       "    </tr>\n",
       "    <tr>\n",
       "      <td>50%</td>\n",
       "      <td>6.000000</td>\n",
       "      <td>1260.000000</td>\n",
       "    </tr>\n",
       "    <tr>\n",
       "      <td>75%</td>\n",
       "      <td>10.700000</td>\n",
       "      <td>1379.000000</td>\n",
       "    </tr>\n",
       "    <tr>\n",
       "      <td>max</td>\n",
       "      <td>38.000000</td>\n",
       "      <td>1499.000000</td>\n",
       "    </tr>\n",
       "  </tbody>\n",
       "</table>\n",
       "</div>"
      ],
      "text/plain": [
       "            duration        user_id\n",
       "count  202607.000000  202607.000000\n",
       "mean        6.755887    1253.940619\n",
       "std         5.843365     144.722751\n",
       "min         0.000000    1000.000000\n",
       "25%         1.300000    1126.000000\n",
       "50%         6.000000    1260.000000\n",
       "75%        10.700000    1379.000000\n",
       "max        38.000000    1499.000000"
      ]
     },
     "execution_count": 3,
     "metadata": {},
     "output_type": "execute_result"
    }
   ],
   "source": [
    "data_calls = pd.read_csv('/datasets/calls.csv')\n",
    "display(data_calls.head(10))\n",
    "data_calls.info()\n",
    "data_calls.describe()"
   ]
  },
  {
   "cell_type": "markdown",
   "metadata": {},
   "source": [
    "### Загрузка и изучение файла /datasets/internet.csv\n",
    "\n",
    "### Download and exploring the /datasets/internet.csv file"
   ]
  },
  {
   "cell_type": "code",
   "execution_count": 4,
   "metadata": {},
   "outputs": [
    {
     "data": {
      "text/html": [
       "<div>\n",
       "<style scoped>\n",
       "    .dataframe tbody tr th:only-of-type {\n",
       "        vertical-align: middle;\n",
       "    }\n",
       "\n",
       "    .dataframe tbody tr th {\n",
       "        vertical-align: top;\n",
       "    }\n",
       "\n",
       "    .dataframe thead th {\n",
       "        text-align: right;\n",
       "    }\n",
       "</style>\n",
       "<table border=\"1\" class=\"dataframe\">\n",
       "  <thead>\n",
       "    <tr style=\"text-align: right;\">\n",
       "      <th></th>\n",
       "      <th>Unnamed: 0</th>\n",
       "      <th>id</th>\n",
       "      <th>mb_used</th>\n",
       "      <th>session_date</th>\n",
       "      <th>user_id</th>\n",
       "    </tr>\n",
       "  </thead>\n",
       "  <tbody>\n",
       "    <tr>\n",
       "      <td>0</td>\n",
       "      <td>0</td>\n",
       "      <td>1000_0</td>\n",
       "      <td>112.95</td>\n",
       "      <td>2018-11-25</td>\n",
       "      <td>1000</td>\n",
       "    </tr>\n",
       "    <tr>\n",
       "      <td>1</td>\n",
       "      <td>1</td>\n",
       "      <td>1000_1</td>\n",
       "      <td>1052.81</td>\n",
       "      <td>2018-09-07</td>\n",
       "      <td>1000</td>\n",
       "    </tr>\n",
       "    <tr>\n",
       "      <td>2</td>\n",
       "      <td>2</td>\n",
       "      <td>1000_2</td>\n",
       "      <td>1197.26</td>\n",
       "      <td>2018-06-25</td>\n",
       "      <td>1000</td>\n",
       "    </tr>\n",
       "    <tr>\n",
       "      <td>3</td>\n",
       "      <td>3</td>\n",
       "      <td>1000_3</td>\n",
       "      <td>550.27</td>\n",
       "      <td>2018-08-22</td>\n",
       "      <td>1000</td>\n",
       "    </tr>\n",
       "    <tr>\n",
       "      <td>4</td>\n",
       "      <td>4</td>\n",
       "      <td>1000_4</td>\n",
       "      <td>302.56</td>\n",
       "      <td>2018-09-24</td>\n",
       "      <td>1000</td>\n",
       "    </tr>\n",
       "    <tr>\n",
       "      <td>5</td>\n",
       "      <td>5</td>\n",
       "      <td>1000_5</td>\n",
       "      <td>399.97</td>\n",
       "      <td>2018-10-02</td>\n",
       "      <td>1000</td>\n",
       "    </tr>\n",
       "    <tr>\n",
       "      <td>6</td>\n",
       "      <td>6</td>\n",
       "      <td>1000_6</td>\n",
       "      <td>540.08</td>\n",
       "      <td>2018-09-07</td>\n",
       "      <td>1000</td>\n",
       "    </tr>\n",
       "    <tr>\n",
       "      <td>7</td>\n",
       "      <td>7</td>\n",
       "      <td>1000_7</td>\n",
       "      <td>415.70</td>\n",
       "      <td>2018-07-11</td>\n",
       "      <td>1000</td>\n",
       "    </tr>\n",
       "    <tr>\n",
       "      <td>8</td>\n",
       "      <td>8</td>\n",
       "      <td>1000_8</td>\n",
       "      <td>505.40</td>\n",
       "      <td>2018-10-08</td>\n",
       "      <td>1000</td>\n",
       "    </tr>\n",
       "    <tr>\n",
       "      <td>9</td>\n",
       "      <td>9</td>\n",
       "      <td>1000_9</td>\n",
       "      <td>345.54</td>\n",
       "      <td>2018-09-03</td>\n",
       "      <td>1000</td>\n",
       "    </tr>\n",
       "  </tbody>\n",
       "</table>\n",
       "</div>"
      ],
      "text/plain": [
       "   Unnamed: 0      id  mb_used session_date  user_id\n",
       "0           0  1000_0   112.95   2018-11-25     1000\n",
       "1           1  1000_1  1052.81   2018-09-07     1000\n",
       "2           2  1000_2  1197.26   2018-06-25     1000\n",
       "3           3  1000_3   550.27   2018-08-22     1000\n",
       "4           4  1000_4   302.56   2018-09-24     1000\n",
       "5           5  1000_5   399.97   2018-10-02     1000\n",
       "6           6  1000_6   540.08   2018-09-07     1000\n",
       "7           7  1000_7   415.70   2018-07-11     1000\n",
       "8           8  1000_8   505.40   2018-10-08     1000\n",
       "9           9  1000_9   345.54   2018-09-03     1000"
      ]
     },
     "metadata": {},
     "output_type": "display_data"
    },
    {
     "name": "stdout",
     "output_type": "stream",
     "text": [
      "<class 'pandas.core.frame.DataFrame'>\n",
      "RangeIndex: 149396 entries, 0 to 149395\n",
      "Data columns (total 5 columns):\n",
      "Unnamed: 0      149396 non-null int64\n",
      "id              149396 non-null object\n",
      "mb_used         149396 non-null float64\n",
      "session_date    149396 non-null object\n",
      "user_id         149396 non-null int64\n",
      "dtypes: float64(1), int64(2), object(2)\n",
      "memory usage: 5.7+ MB\n"
     ]
    },
    {
     "data": {
      "text/html": [
       "<div>\n",
       "<style scoped>\n",
       "    .dataframe tbody tr th:only-of-type {\n",
       "        vertical-align: middle;\n",
       "    }\n",
       "\n",
       "    .dataframe tbody tr th {\n",
       "        vertical-align: top;\n",
       "    }\n",
       "\n",
       "    .dataframe thead th {\n",
       "        text-align: right;\n",
       "    }\n",
       "</style>\n",
       "<table border=\"1\" class=\"dataframe\">\n",
       "  <thead>\n",
       "    <tr style=\"text-align: right;\">\n",
       "      <th></th>\n",
       "      <th>Unnamed: 0</th>\n",
       "      <th>mb_used</th>\n",
       "      <th>user_id</th>\n",
       "    </tr>\n",
       "  </thead>\n",
       "  <tbody>\n",
       "    <tr>\n",
       "      <td>count</td>\n",
       "      <td>149396.000000</td>\n",
       "      <td>149396.000000</td>\n",
       "      <td>149396.000000</td>\n",
       "    </tr>\n",
       "    <tr>\n",
       "      <td>mean</td>\n",
       "      <td>74697.500000</td>\n",
       "      <td>370.192426</td>\n",
       "      <td>1252.099842</td>\n",
       "    </tr>\n",
       "    <tr>\n",
       "      <td>std</td>\n",
       "      <td>43127.054745</td>\n",
       "      <td>278.300951</td>\n",
       "      <td>144.050823</td>\n",
       "    </tr>\n",
       "    <tr>\n",
       "      <td>min</td>\n",
       "      <td>0.000000</td>\n",
       "      <td>0.000000</td>\n",
       "      <td>1000.000000</td>\n",
       "    </tr>\n",
       "    <tr>\n",
       "      <td>25%</td>\n",
       "      <td>37348.750000</td>\n",
       "      <td>138.187500</td>\n",
       "      <td>1130.000000</td>\n",
       "    </tr>\n",
       "    <tr>\n",
       "      <td>50%</td>\n",
       "      <td>74697.500000</td>\n",
       "      <td>348.015000</td>\n",
       "      <td>1251.000000</td>\n",
       "    </tr>\n",
       "    <tr>\n",
       "      <td>75%</td>\n",
       "      <td>112046.250000</td>\n",
       "      <td>559.552500</td>\n",
       "      <td>1380.000000</td>\n",
       "    </tr>\n",
       "    <tr>\n",
       "      <td>max</td>\n",
       "      <td>149395.000000</td>\n",
       "      <td>1724.830000</td>\n",
       "      <td>1499.000000</td>\n",
       "    </tr>\n",
       "  </tbody>\n",
       "</table>\n",
       "</div>"
      ],
      "text/plain": [
       "          Unnamed: 0        mb_used        user_id\n",
       "count  149396.000000  149396.000000  149396.000000\n",
       "mean    74697.500000     370.192426    1252.099842\n",
       "std     43127.054745     278.300951     144.050823\n",
       "min         0.000000       0.000000    1000.000000\n",
       "25%     37348.750000     138.187500    1130.000000\n",
       "50%     74697.500000     348.015000    1251.000000\n",
       "75%    112046.250000     559.552500    1380.000000\n",
       "max    149395.000000    1724.830000    1499.000000"
      ]
     },
     "execution_count": 4,
     "metadata": {},
     "output_type": "execute_result"
    }
   ],
   "source": [
    "data_internet = pd.read_csv('/datasets/internet.csv')\n",
    "display(data_internet.head(10))\n",
    "data_internet.info()\n",
    "data_internet.describe()"
   ]
  },
  {
   "cell_type": "markdown",
   "metadata": {},
   "source": [
    "### Загрузка и изучение файла /datasets/messages.csv\n",
    "\n",
    "### Download and exploring the /datasets/messages.csv file"
   ]
  },
  {
   "cell_type": "code",
   "execution_count": 5,
   "metadata": {},
   "outputs": [
    {
     "data": {
      "text/html": [
       "<div>\n",
       "<style scoped>\n",
       "    .dataframe tbody tr th:only-of-type {\n",
       "        vertical-align: middle;\n",
       "    }\n",
       "\n",
       "    .dataframe tbody tr th {\n",
       "        vertical-align: top;\n",
       "    }\n",
       "\n",
       "    .dataframe thead th {\n",
       "        text-align: right;\n",
       "    }\n",
       "</style>\n",
       "<table border=\"1\" class=\"dataframe\">\n",
       "  <thead>\n",
       "    <tr style=\"text-align: right;\">\n",
       "      <th></th>\n",
       "      <th>id</th>\n",
       "      <th>message_date</th>\n",
       "      <th>user_id</th>\n",
       "    </tr>\n",
       "  </thead>\n",
       "  <tbody>\n",
       "    <tr>\n",
       "      <td>0</td>\n",
       "      <td>1000_0</td>\n",
       "      <td>2018-06-27</td>\n",
       "      <td>1000</td>\n",
       "    </tr>\n",
       "    <tr>\n",
       "      <td>1</td>\n",
       "      <td>1000_1</td>\n",
       "      <td>2018-10-08</td>\n",
       "      <td>1000</td>\n",
       "    </tr>\n",
       "    <tr>\n",
       "      <td>2</td>\n",
       "      <td>1000_2</td>\n",
       "      <td>2018-08-04</td>\n",
       "      <td>1000</td>\n",
       "    </tr>\n",
       "    <tr>\n",
       "      <td>3</td>\n",
       "      <td>1000_3</td>\n",
       "      <td>2018-06-16</td>\n",
       "      <td>1000</td>\n",
       "    </tr>\n",
       "    <tr>\n",
       "      <td>4</td>\n",
       "      <td>1000_4</td>\n",
       "      <td>2018-12-05</td>\n",
       "      <td>1000</td>\n",
       "    </tr>\n",
       "    <tr>\n",
       "      <td>5</td>\n",
       "      <td>1000_5</td>\n",
       "      <td>2018-06-20</td>\n",
       "      <td>1000</td>\n",
       "    </tr>\n",
       "    <tr>\n",
       "      <td>6</td>\n",
       "      <td>1000_6</td>\n",
       "      <td>2018-11-19</td>\n",
       "      <td>1000</td>\n",
       "    </tr>\n",
       "    <tr>\n",
       "      <td>7</td>\n",
       "      <td>1000_7</td>\n",
       "      <td>2018-10-29</td>\n",
       "      <td>1000</td>\n",
       "    </tr>\n",
       "    <tr>\n",
       "      <td>8</td>\n",
       "      <td>1000_8</td>\n",
       "      <td>2018-06-25</td>\n",
       "      <td>1000</td>\n",
       "    </tr>\n",
       "    <tr>\n",
       "      <td>9</td>\n",
       "      <td>1000_9</td>\n",
       "      <td>2018-12-18</td>\n",
       "      <td>1000</td>\n",
       "    </tr>\n",
       "  </tbody>\n",
       "</table>\n",
       "</div>"
      ],
      "text/plain": [
       "       id message_date  user_id\n",
       "0  1000_0   2018-06-27     1000\n",
       "1  1000_1   2018-10-08     1000\n",
       "2  1000_2   2018-08-04     1000\n",
       "3  1000_3   2018-06-16     1000\n",
       "4  1000_4   2018-12-05     1000\n",
       "5  1000_5   2018-06-20     1000\n",
       "6  1000_6   2018-11-19     1000\n",
       "7  1000_7   2018-10-29     1000\n",
       "8  1000_8   2018-06-25     1000\n",
       "9  1000_9   2018-12-18     1000"
      ]
     },
     "metadata": {},
     "output_type": "display_data"
    },
    {
     "name": "stdout",
     "output_type": "stream",
     "text": [
      "<class 'pandas.core.frame.DataFrame'>\n",
      "RangeIndex: 123036 entries, 0 to 123035\n",
      "Data columns (total 3 columns):\n",
      "id              123036 non-null object\n",
      "message_date    123036 non-null object\n",
      "user_id         123036 non-null int64\n",
      "dtypes: int64(1), object(2)\n",
      "memory usage: 2.8+ MB\n"
     ]
    },
    {
     "data": {
      "text/html": [
       "<div>\n",
       "<style scoped>\n",
       "    .dataframe tbody tr th:only-of-type {\n",
       "        vertical-align: middle;\n",
       "    }\n",
       "\n",
       "    .dataframe tbody tr th {\n",
       "        vertical-align: top;\n",
       "    }\n",
       "\n",
       "    .dataframe thead th {\n",
       "        text-align: right;\n",
       "    }\n",
       "</style>\n",
       "<table border=\"1\" class=\"dataframe\">\n",
       "  <thead>\n",
       "    <tr style=\"text-align: right;\">\n",
       "      <th></th>\n",
       "      <th>user_id</th>\n",
       "    </tr>\n",
       "  </thead>\n",
       "  <tbody>\n",
       "    <tr>\n",
       "      <td>count</td>\n",
       "      <td>123036.000000</td>\n",
       "    </tr>\n",
       "    <tr>\n",
       "      <td>mean</td>\n",
       "      <td>1256.989410</td>\n",
       "    </tr>\n",
       "    <tr>\n",
       "      <td>std</td>\n",
       "      <td>143.523967</td>\n",
       "    </tr>\n",
       "    <tr>\n",
       "      <td>min</td>\n",
       "      <td>1000.000000</td>\n",
       "    </tr>\n",
       "    <tr>\n",
       "      <td>25%</td>\n",
       "      <td>1134.000000</td>\n",
       "    </tr>\n",
       "    <tr>\n",
       "      <td>50%</td>\n",
       "      <td>1271.000000</td>\n",
       "    </tr>\n",
       "    <tr>\n",
       "      <td>75%</td>\n",
       "      <td>1381.000000</td>\n",
       "    </tr>\n",
       "    <tr>\n",
       "      <td>max</td>\n",
       "      <td>1499.000000</td>\n",
       "    </tr>\n",
       "  </tbody>\n",
       "</table>\n",
       "</div>"
      ],
      "text/plain": [
       "             user_id\n",
       "count  123036.000000\n",
       "mean     1256.989410\n",
       "std       143.523967\n",
       "min      1000.000000\n",
       "25%      1134.000000\n",
       "50%      1271.000000\n",
       "75%      1381.000000\n",
       "max      1499.000000"
      ]
     },
     "execution_count": 5,
     "metadata": {},
     "output_type": "execute_result"
    }
   ],
   "source": [
    "data_messages = pd.read_csv('/datasets/messages.csv')\n",
    "display(data_messages.head(10))\n",
    "data_messages.info()\n",
    "data_messages.describe()"
   ]
  },
  {
   "cell_type": "markdown",
   "metadata": {},
   "source": [
    "### Загрузка и изучение файла /datasets/tariffs.csv\n",
    "\n",
    "### Download and exploring the /datasets/tariffs.csv file"
   ]
  },
  {
   "cell_type": "code",
   "execution_count": 6,
   "metadata": {},
   "outputs": [
    {
     "data": {
      "text/html": [
       "<div>\n",
       "<style scoped>\n",
       "    .dataframe tbody tr th:only-of-type {\n",
       "        vertical-align: middle;\n",
       "    }\n",
       "\n",
       "    .dataframe tbody tr th {\n",
       "        vertical-align: top;\n",
       "    }\n",
       "\n",
       "    .dataframe thead th {\n",
       "        text-align: right;\n",
       "    }\n",
       "</style>\n",
       "<table border=\"1\" class=\"dataframe\">\n",
       "  <thead>\n",
       "    <tr style=\"text-align: right;\">\n",
       "      <th></th>\n",
       "      <th>messages_included</th>\n",
       "      <th>mb_per_month_included</th>\n",
       "      <th>minutes_included</th>\n",
       "      <th>rub_monthly_fee</th>\n",
       "      <th>rub_per_gb</th>\n",
       "      <th>rub_per_message</th>\n",
       "      <th>rub_per_minute</th>\n",
       "      <th>tariff_name</th>\n",
       "    </tr>\n",
       "  </thead>\n",
       "  <tbody>\n",
       "    <tr>\n",
       "      <td>0</td>\n",
       "      <td>50</td>\n",
       "      <td>15360</td>\n",
       "      <td>500</td>\n",
       "      <td>550</td>\n",
       "      <td>200</td>\n",
       "      <td>3</td>\n",
       "      <td>3</td>\n",
       "      <td>smart</td>\n",
       "    </tr>\n",
       "    <tr>\n",
       "      <td>1</td>\n",
       "      <td>1000</td>\n",
       "      <td>30720</td>\n",
       "      <td>3000</td>\n",
       "      <td>1950</td>\n",
       "      <td>150</td>\n",
       "      <td>1</td>\n",
       "      <td>1</td>\n",
       "      <td>ultra</td>\n",
       "    </tr>\n",
       "  </tbody>\n",
       "</table>\n",
       "</div>"
      ],
      "text/plain": [
       "   messages_included  mb_per_month_included  minutes_included  \\\n",
       "0                 50                  15360               500   \n",
       "1               1000                  30720              3000   \n",
       "\n",
       "   rub_monthly_fee  rub_per_gb  rub_per_message  rub_per_minute tariff_name  \n",
       "0              550         200                3               3       smart  \n",
       "1             1950         150                1               1       ultra  "
      ]
     },
     "metadata": {},
     "output_type": "display_data"
    },
    {
     "name": "stdout",
     "output_type": "stream",
     "text": [
      "<class 'pandas.core.frame.DataFrame'>\n",
      "RangeIndex: 2 entries, 0 to 1\n",
      "Data columns (total 8 columns):\n",
      "messages_included        2 non-null int64\n",
      "mb_per_month_included    2 non-null int64\n",
      "minutes_included         2 non-null int64\n",
      "rub_monthly_fee          2 non-null int64\n",
      "rub_per_gb               2 non-null int64\n",
      "rub_per_message          2 non-null int64\n",
      "rub_per_minute           2 non-null int64\n",
      "tariff_name              2 non-null object\n",
      "dtypes: int64(7), object(1)\n",
      "memory usage: 256.0+ bytes\n"
     ]
    }
   ],
   "source": [
    "data_tariffs = pd.read_csv('/datasets/tariffs.csv')\n",
    "display(data_tariffs.head())\n",
    "data_tariffs.info()"
   ]
  },
  {
   "cell_type": "markdown",
   "metadata": {},
   "source": [
    "### Загрузка и изучение файла /datasets/users.csv"
   ]
  },
  {
   "cell_type": "code",
   "execution_count": 7,
   "metadata": {
    "scrolled": false
   },
   "outputs": [
    {
     "data": {
      "text/html": [
       "<div>\n",
       "<style scoped>\n",
       "    .dataframe tbody tr th:only-of-type {\n",
       "        vertical-align: middle;\n",
       "    }\n",
       "\n",
       "    .dataframe tbody tr th {\n",
       "        vertical-align: top;\n",
       "    }\n",
       "\n",
       "    .dataframe thead th {\n",
       "        text-align: right;\n",
       "    }\n",
       "</style>\n",
       "<table border=\"1\" class=\"dataframe\">\n",
       "  <thead>\n",
       "    <tr style=\"text-align: right;\">\n",
       "      <th></th>\n",
       "      <th>user_id</th>\n",
       "      <th>age</th>\n",
       "      <th>churn_date</th>\n",
       "      <th>city</th>\n",
       "      <th>first_name</th>\n",
       "      <th>last_name</th>\n",
       "      <th>reg_date</th>\n",
       "      <th>tariff</th>\n",
       "    </tr>\n",
       "  </thead>\n",
       "  <tbody>\n",
       "    <tr>\n",
       "      <td>0</td>\n",
       "      <td>1000</td>\n",
       "      <td>52</td>\n",
       "      <td>NaN</td>\n",
       "      <td>Краснодар</td>\n",
       "      <td>Рафаил</td>\n",
       "      <td>Верещагин</td>\n",
       "      <td>2018-05-25</td>\n",
       "      <td>ultra</td>\n",
       "    </tr>\n",
       "    <tr>\n",
       "      <td>1</td>\n",
       "      <td>1001</td>\n",
       "      <td>41</td>\n",
       "      <td>NaN</td>\n",
       "      <td>Москва</td>\n",
       "      <td>Иван</td>\n",
       "      <td>Ежов</td>\n",
       "      <td>2018-11-01</td>\n",
       "      <td>smart</td>\n",
       "    </tr>\n",
       "    <tr>\n",
       "      <td>2</td>\n",
       "      <td>1002</td>\n",
       "      <td>59</td>\n",
       "      <td>NaN</td>\n",
       "      <td>Стерлитамак</td>\n",
       "      <td>Евгений</td>\n",
       "      <td>Абрамович</td>\n",
       "      <td>2018-06-17</td>\n",
       "      <td>smart</td>\n",
       "    </tr>\n",
       "    <tr>\n",
       "      <td>3</td>\n",
       "      <td>1003</td>\n",
       "      <td>23</td>\n",
       "      <td>NaN</td>\n",
       "      <td>Москва</td>\n",
       "      <td>Белла</td>\n",
       "      <td>Белякова</td>\n",
       "      <td>2018-08-17</td>\n",
       "      <td>ultra</td>\n",
       "    </tr>\n",
       "    <tr>\n",
       "      <td>4</td>\n",
       "      <td>1004</td>\n",
       "      <td>68</td>\n",
       "      <td>NaN</td>\n",
       "      <td>Новокузнецк</td>\n",
       "      <td>Татьяна</td>\n",
       "      <td>Авдеенко</td>\n",
       "      <td>2018-05-14</td>\n",
       "      <td>ultra</td>\n",
       "    </tr>\n",
       "  </tbody>\n",
       "</table>\n",
       "</div>"
      ],
      "text/plain": [
       "   user_id  age churn_date         city first_name  last_name    reg_date  \\\n",
       "0     1000   52        NaN    Краснодар     Рафаил  Верещагин  2018-05-25   \n",
       "1     1001   41        NaN       Москва       Иван       Ежов  2018-11-01   \n",
       "2     1002   59        NaN  Стерлитамак    Евгений  Абрамович  2018-06-17   \n",
       "3     1003   23        NaN       Москва      Белла   Белякова  2018-08-17   \n",
       "4     1004   68        NaN  Новокузнецк    Татьяна   Авдеенко  2018-05-14   \n",
       "\n",
       "  tariff  \n",
       "0  ultra  \n",
       "1  smart  \n",
       "2  smart  \n",
       "3  ultra  \n",
       "4  ultra  "
      ]
     },
     "metadata": {},
     "output_type": "display_data"
    },
    {
     "name": "stdout",
     "output_type": "stream",
     "text": [
      "<class 'pandas.core.frame.DataFrame'>\n",
      "RangeIndex: 500 entries, 0 to 499\n",
      "Data columns (total 8 columns):\n",
      "user_id       500 non-null int64\n",
      "age           500 non-null int64\n",
      "churn_date    38 non-null object\n",
      "city          500 non-null object\n",
      "first_name    500 non-null object\n",
      "last_name     500 non-null object\n",
      "reg_date      500 non-null object\n",
      "tariff        500 non-null object\n",
      "dtypes: int64(2), object(6)\n",
      "memory usage: 31.4+ KB\n"
     ]
    },
    {
     "data": {
      "text/html": [
       "<div>\n",
       "<style scoped>\n",
       "    .dataframe tbody tr th:only-of-type {\n",
       "        vertical-align: middle;\n",
       "    }\n",
       "\n",
       "    .dataframe tbody tr th {\n",
       "        vertical-align: top;\n",
       "    }\n",
       "\n",
       "    .dataframe thead th {\n",
       "        text-align: right;\n",
       "    }\n",
       "</style>\n",
       "<table border=\"1\" class=\"dataframe\">\n",
       "  <thead>\n",
       "    <tr style=\"text-align: right;\">\n",
       "      <th></th>\n",
       "      <th>user_id</th>\n",
       "      <th>age</th>\n",
       "    </tr>\n",
       "  </thead>\n",
       "  <tbody>\n",
       "    <tr>\n",
       "      <td>count</td>\n",
       "      <td>500.000000</td>\n",
       "      <td>500.00000</td>\n",
       "    </tr>\n",
       "    <tr>\n",
       "      <td>mean</td>\n",
       "      <td>1249.500000</td>\n",
       "      <td>46.58800</td>\n",
       "    </tr>\n",
       "    <tr>\n",
       "      <td>std</td>\n",
       "      <td>144.481833</td>\n",
       "      <td>16.66763</td>\n",
       "    </tr>\n",
       "    <tr>\n",
       "      <td>min</td>\n",
       "      <td>1000.000000</td>\n",
       "      <td>18.00000</td>\n",
       "    </tr>\n",
       "    <tr>\n",
       "      <td>25%</td>\n",
       "      <td>1124.750000</td>\n",
       "      <td>32.00000</td>\n",
       "    </tr>\n",
       "    <tr>\n",
       "      <td>50%</td>\n",
       "      <td>1249.500000</td>\n",
       "      <td>46.00000</td>\n",
       "    </tr>\n",
       "    <tr>\n",
       "      <td>75%</td>\n",
       "      <td>1374.250000</td>\n",
       "      <td>62.00000</td>\n",
       "    </tr>\n",
       "    <tr>\n",
       "      <td>max</td>\n",
       "      <td>1499.000000</td>\n",
       "      <td>75.00000</td>\n",
       "    </tr>\n",
       "  </tbody>\n",
       "</table>\n",
       "</div>"
      ],
      "text/plain": [
       "           user_id        age\n",
       "count   500.000000  500.00000\n",
       "mean   1249.500000   46.58800\n",
       "std     144.481833   16.66763\n",
       "min    1000.000000   18.00000\n",
       "25%    1124.750000   32.00000\n",
       "50%    1249.500000   46.00000\n",
       "75%    1374.250000   62.00000\n",
       "max    1499.000000   75.00000"
      ]
     },
     "execution_count": 7,
     "metadata": {},
     "output_type": "execute_result"
    }
   ],
   "source": [
    "data_users = pd.read_csv('/datasets/users.csv')\n",
    "display(data_users.head())\n",
    "data_users.info()\n",
    "data_users.describe()"
   ]
  },
  {
   "cell_type": "markdown",
   "metadata": {},
   "source": [
    "Выполнена загрузка и первичное исследование данных."
   ]
  },
  {
   "cell_type": "markdown",
   "metadata": {},
   "source": [
    "## Предобработка данных\n",
    "\n",
    "## Data preparation"
   ]
  },
  {
   "cell_type": "markdown",
   "metadata": {},
   "source": [
    "### Таблица data_users\n",
    "\n",
    "### Table data_users"
   ]
  },
  {
   "cell_type": "markdown",
   "metadata": {},
   "source": [
    "#### Информация по пропускам\n",
    "\n",
    "#### Missing values information"
   ]
  },
  {
   "cell_type": "code",
   "execution_count": 8,
   "metadata": {
    "scrolled": false
   },
   "outputs": [
    {
     "name": "stdout",
     "output_type": "stream",
     "text": [
      "user_id         0\n",
      "age             0\n",
      "churn_date    462\n",
      "city            0\n",
      "first_name      0\n",
      "last_name       0\n",
      "reg_date        0\n",
      "tariff          0\n",
      "dtype: int64\n"
     ]
    }
   ],
   "source": [
    "print(data_users.isna().sum())"
   ]
  },
  {
   "cell_type": "markdown",
   "metadata": {},
   "source": [
    "#### Стобец 'churn_date'."
   ]
  },
  {
   "cell_type": "code",
   "execution_count": 9,
   "metadata": {},
   "outputs": [],
   "source": [
    "data_users['churn_date'] = pd.to_datetime(\n",
    "    data_users['churn_date'],\n",
    "    format = '%Y-%m-%d')"
   ]
  },
  {
   "cell_type": "markdown",
   "metadata": {},
   "source": [
    "Выполнил преобразование типа данных в формат datetime. Пропуски стоят, где абонент не прекратил пользование тарифом.\n",
    "\n",
    "Performed the conversion of the data type to the datetime format. The passes are where the subscriber has not stopped using the tariff."
   ]
  },
  {
   "cell_type": "markdown",
   "metadata": {},
   "source": [
    "#### Стобец 'reg_date'.\n",
    "\n",
    "#### Column 'reg_date'."
   ]
  },
  {
   "cell_type": "code",
   "execution_count": 10,
   "metadata": {},
   "outputs": [],
   "source": [
    "data_users['reg_date'] = pd.to_datetime(\n",
    "    data_users['reg_date'],\n",
    "    format = '%Y-%m-%d')"
   ]
  },
  {
   "cell_type": "markdown",
   "metadata": {},
   "source": [
    "Выполнил преобразование типа данных в формат datetime.\n",
    "\n",
    "Performed the conversion of the data type to the datetime format."
   ]
  },
  {
   "cell_type": "markdown",
   "metadata": {},
   "source": [
    "#### Столбец 'tariff'\n",
    "\n",
    "#### Column 'tariff'"
   ]
  },
  {
   "cell_type": "code",
   "execution_count": 11,
   "metadata": {},
   "outputs": [
    {
     "name": "stdout",
     "output_type": "stream",
     "text": [
      "['ultra' 'smart']\n"
     ]
    }
   ],
   "source": [
    "print(data_users['tariff'].unique())"
   ]
  },
  {
   "cell_type": "markdown",
   "metadata": {},
   "source": [
    "Проверен столбец на уникальность значений.\n",
    "\n",
    "The column was checked for the uniqueness of the values."
   ]
  },
  {
   "cell_type": "markdown",
   "metadata": {},
   "source": [
    "#### Столбец 'city'\n",
    "\n",
    "#### Column 'city'"
   ]
  },
  {
   "cell_type": "code",
   "execution_count": 12,
   "metadata": {},
   "outputs": [
    {
     "name": "stdout",
     "output_type": "stream",
     "text": [
      "['Краснодар' 'Москва' 'Стерлитамак' 'Новокузнецк' 'Набережные Челны'\n",
      " 'Ульяновск' 'Челябинск' 'Пермь' 'Тюмень' 'Самара' 'Санкт-Петербург'\n",
      " 'Иваново' 'Чебоксары' 'Омск' 'Уфа' 'Томск' 'Чита' 'Мурманск'\n",
      " 'Петрозаводск' 'Тверь' 'Екатеринбург' 'Махачкала' 'Вологда' 'Череповец'\n",
      " 'Ярославль' 'Сочи' 'Хабаровск' 'Ставрополь' 'Рязань' 'Улан-Удэ' 'Тула'\n",
      " 'Саратов' 'Ростов-на-Дону' 'Казань' 'Иркутск' 'Курск' 'Калуга' 'Якутск'\n",
      " 'Астрахань' 'Химки' 'Владикавказ' 'Волгоград' 'Саранск' 'Ижевск'\n",
      " 'Новосибирск' 'Брянск' 'Тольятти' 'Нижний Тагил' 'Орёл' 'Белгород'\n",
      " 'Воронеж' 'Волжский' 'Курган' 'Барнаул' 'Красноярск' 'Архангельск'\n",
      " 'Липецк' 'Кемерово' 'Киров' 'Сургут' 'Пенза' 'Магнитогорск'\n",
      " 'Нижний Новгород' 'Кострома' 'Владивосток' 'Тамбов' 'Балашиха'\n",
      " 'Севастополь' 'Калининград' 'Оренбург' 'Смоленск' 'Нижневартовск'\n",
      " 'Владимир' 'Новороссийск' 'Грозный' 'Подольск']\n"
     ]
    }
   ],
   "source": [
    "print(data_users['city'].unique())"
   ]
  },
  {
   "cell_type": "markdown",
   "metadata": {},
   "source": [
    "Проверен столбец на уникальность значений.\n",
    "\n",
    "The column was checked for the uniqueness of the values."
   ]
  },
  {
   "cell_type": "code",
   "execution_count": 13,
   "metadata": {},
   "outputs": [
    {
     "name": "stdout",
     "output_type": "stream",
     "text": [
      "<class 'pandas.core.frame.DataFrame'>\n",
      "RangeIndex: 500 entries, 0 to 499\n",
      "Data columns (total 8 columns):\n",
      "user_id       500 non-null int64\n",
      "age           500 non-null int64\n",
      "churn_date    38 non-null datetime64[ns]\n",
      "city          500 non-null object\n",
      "first_name    500 non-null object\n",
      "last_name     500 non-null object\n",
      "reg_date      500 non-null datetime64[ns]\n",
      "tariff        500 non-null object\n",
      "dtypes: datetime64[ns](2), int64(2), object(4)\n",
      "memory usage: 31.4+ KB\n"
     ]
    }
   ],
   "source": [
    "data_users.info()"
   ]
  },
  {
   "cell_type": "markdown",
   "metadata": {},
   "source": [
    "#### Проверка на повторы столбца 'user_id'\n",
    "\n",
    "#### Checking for repetitions of the 'user_id' column"
   ]
  },
  {
   "cell_type": "code",
   "execution_count": 14,
   "metadata": {},
   "outputs": [
    {
     "name": "stdout",
     "output_type": "stream",
     "text": [
      "Количество повторов для user_id: 0\n"
     ]
    }
   ],
   "source": [
    "print('Количество повторов для user_id:', data_users['user_id'].duplicated().sum())"
   ]
  },
  {
   "cell_type": "markdown",
   "metadata": {},
   "source": [
    "Выполнена проверка на повторы в столбце user_id и это однозначно указывает, что все записи в таблице data_users уникальные.\n",
    "\n",
    "A check for repetitions was performed in the user_id column and this clearly indicates that all records in the data_users table are unique."
   ]
  },
  {
   "cell_type": "markdown",
   "metadata": {},
   "source": [
    "Выполнена предобработка в таблице data_users. Повторяющихся записей не обнаружено. В столбце 'churn_date' большинство значений пустые - абоненты, которые продолжают пользоваться тарифом.\n",
    "\n",
    "Preprocessing was performed in the data_users table. No duplicate entries were found. In the 'churn_rate' column, most of the values are empty - subscribers who continue to use the tariff."
   ]
  },
  {
   "cell_type": "markdown",
   "metadata": {},
   "source": [
    "### Таблица data_calls\n",
    "\n",
    "### Table data_calls"
   ]
  },
  {
   "cell_type": "markdown",
   "metadata": {},
   "source": [
    "#### Информация по пропускам\n",
    "\n",
    "#### Missing values information"
   ]
  },
  {
   "cell_type": "code",
   "execution_count": 15,
   "metadata": {
    "scrolled": true
   },
   "outputs": [
    {
     "name": "stdout",
     "output_type": "stream",
     "text": [
      "id           0\n",
      "call_date    0\n",
      "duration     0\n",
      "user_id      0\n",
      "dtype: int64\n"
     ]
    }
   ],
   "source": [
    "print(data_calls.isna().sum())"
   ]
  },
  {
   "cell_type": "markdown",
   "metadata": {},
   "source": [
    "Пропусков не обнаружено.\n",
    "\n",
    "No missing values were detected."
   ]
  },
  {
   "cell_type": "markdown",
   "metadata": {},
   "source": [
    "#### Столбец 'call_date'\n",
    "\n",
    "#### Column 'call_date'"
   ]
  },
  {
   "cell_type": "code",
   "execution_count": 16,
   "metadata": {},
   "outputs": [],
   "source": [
    "data_calls['call_date'] = pd.to_datetime(\n",
    "    data_calls['call_date'],\n",
    "    format = '%Y-%m-%d')"
   ]
  },
  {
   "cell_type": "markdown",
   "metadata": {},
   "source": [
    "Выполнил преобразование типа данных в формат datetime.\n",
    "\n",
    "Performed the conversion of the data type to the datetime format."
   ]
  },
  {
   "cell_type": "markdown",
   "metadata": {},
   "source": [
    "#### Столбец 'duration'\n",
    "\n",
    "#### Column 'duration'"
   ]
  },
  {
   "cell_type": "code",
   "execution_count": 17,
   "metadata": {},
   "outputs": [
    {
     "data": {
      "image/png": "[encoded data removed]",
      "text/plain": [
       "<Figure size 432x288 with 1 Axes>"
      ]
     },
     "metadata": {
      "needs_background": "light"
     },
     "output_type": "display_data"
    },
    {
     "name": "stdout",
     "output_type": "stream",
     "text": [
      "Количество звонков 0 сек: 39613\n"
     ]
    }
   ],
   "source": [
    "data_calls['duration'].hist()\n",
    "plt.title('Гистограмма для duration')\n",
    "plt.show()\n",
    "print('Количество звонков 0 сек:', (data_calls['duration'] == 0).sum())\n",
    "data_calls = data_calls[data_calls['duration'] != 0]\n",
    "data_calls['duration'] = np.ceil(data_calls['duration'])\n",
    "data_calls.describe()\n",
    "data_calls['duration'] = data_calls['duration'].astype('int')"
   ]
  },
  {
   "cell_type": "markdown",
   "metadata": {},
   "source": [
    "В данном столбце выявлено большое количество нулевых значений (20%). Возможно, это пропущенные звонки.\n",
    "\n",
    "Удалил нулевые значения, т.к. плата за него не бралась и инициатива звонка исходила не от исследуемого абонента. Если же их не удалять, то будет неправильный расчёт среднего количества звонков.\n",
    "\n",
    "Округлил значения вверх у ненулевых значений.\n",
    "\n",
    "Преобразовал в целочисленный тип.\n",
    "\n",
    "\n",
    "A large number of zero values (20%) were detected in this column. Perhaps these are missed calls.\n",
    "\n",
    "I deleted the zero values, because the payment for it was not taken and the initiative of the call did not come from the subscriber under study. If you do not delete them, then there will be an incorrect calculation of the average number of calls.\n",
    "\n",
    "Rounded the values at the top of the non-zero values.\n",
    "\n",
    "Converted it to an integer type."
   ]
  },
  {
   "cell_type": "markdown",
   "metadata": {},
   "source": [
    "#### Проверка на повторы\n",
    "\n",
    "#### Checking for duplicates"
   ]
  },
  {
   "cell_type": "code",
   "execution_count": 18,
   "metadata": {},
   "outputs": [
    {
     "name": "stdout",
     "output_type": "stream",
     "text": [
      "Количество повторов: 0\n"
     ]
    }
   ],
   "source": [
    "print('Количество повторов:', data_calls.duplicated().sum())"
   ]
  },
  {
   "cell_type": "markdown",
   "metadata": {},
   "source": [
    "Повторов не обнаружено.\n",
    "\n",
    "No duplicates were detected."
   ]
  },
  {
   "cell_type": "markdown",
   "metadata": {},
   "source": [
    "Выполнена предобработка в таблице data_calls.\n",
    "\n",
    "Preprocessing was performed in the data_calls table."
   ]
  },
  {
   "cell_type": "markdown",
   "metadata": {},
   "source": [
    "### Таблица data_internet\n",
    "\n",
    "### Table data_internet"
   ]
  },
  {
   "cell_type": "markdown",
   "metadata": {},
   "source": [
    "#### Столбец 'Unnamed: 0'\n",
    "\n",
    "#### Column 'Unnamed: 0'"
   ]
  },
  {
   "cell_type": "code",
   "execution_count": 19,
   "metadata": {},
   "outputs": [
    {
     "name": "stdout",
     "output_type": "stream",
     "text": [
      "Количество значений в столбце Unnamed: 0, которые не совпадают с номером индекса: 0\n",
      "\n",
      "<class 'pandas.core.frame.DataFrame'>\n",
      "RangeIndex: 149396 entries, 0 to 149395\n",
      "Data columns (total 4 columns):\n",
      "id              149396 non-null object\n",
      "mb_used         149396 non-null float64\n",
      "session_date    149396 non-null object\n",
      "user_id         149396 non-null int64\n",
      "dtypes: float64(1), int64(1), object(2)\n",
      "memory usage: 4.6+ MB\n"
     ]
    }
   ],
   "source": [
    "text_1 = 'Количество значений в столбце Unnamed: 0, которые не совпадают с номером индекса:'\n",
    "print(text_1, (data_internet.index != data_internet['Unnamed: 0']).sum())\n",
    "data_internet.pop('Unnamed: 0')\n",
    "print()\n",
    "data_internet.info()"
   ]
  },
  {
   "cell_type": "markdown",
   "metadata": {},
   "source": [
    "Данный столбец полностью повторяет индекс dataframe и поэтому удалён за ненадобностью.\n",
    "\n",
    "This column completely repeats the dataframe index and is therefore deleted as unnecessary."
   ]
  },
  {
   "cell_type": "markdown",
   "metadata": {},
   "source": [
    "#### Столбец 'session_date'\n",
    "\n",
    "#### Column 'session_date'"
   ]
  },
  {
   "cell_type": "code",
   "execution_count": 20,
   "metadata": {},
   "outputs": [],
   "source": [
    "data_internet['session_date'] = pd.to_datetime(\n",
    "    data_internet['session_date'],\n",
    "    format = '%Y-%m-%d')"
   ]
  },
  {
   "cell_type": "markdown",
   "metadata": {},
   "source": [
    "Выполнил преобразование типа данных в формат datetime.\n",
    "\n",
    "Performed the conversion of the data type to the datetime format."
   ]
  },
  {
   "cell_type": "markdown",
   "metadata": {},
   "source": [
    "#### Столбец 'mb_used'\n",
    "\n",
    "#### Column 'mb_used'"
   ]
  },
  {
   "cell_type": "code",
   "execution_count": 21,
   "metadata": {},
   "outputs": [
    {
     "data": {
      "image/png": "[encoded data removed]",
      "text/plain": [
       "<Figure size 432x288 with 1 Axes>"
      ]
     },
     "metadata": {
      "needs_background": "light"
     },
     "output_type": "display_data"
    },
    {
     "name": "stdout",
     "output_type": "stream",
     "text": [
      "Количество сессий 0 Мб: 19598\n"
     ]
    }
   ],
   "source": [
    "data_internet['mb_used'].hist()\n",
    "plt.title('Гистограмма для mb_used')\n",
    "plt.show()\n",
    "print('Количество сессий 0 Мб:', (data_internet['mb_used'] == 0).sum())\n",
    "data_internet = data_internet[data_internet['mb_used'] != 0]\n",
    "data_internet['mb_used'] = np.ceil(data_internet['mb_used'])\n",
    "data_internet.describe()\n",
    "data_internet['mb_used'] = data_internet['mb_used'].astype('int')"
   ]
  },
  {
   "cell_type": "markdown",
   "metadata": {},
   "source": [
    "В данном столбце также выявлено большое количество нулевых значений (13%). Возможно, установлен запрет на передачу данных на самом телефоне.\n",
    "\n",
    "Удалил нулевые значения, т.к. плата за него не бралась. Если же их не удалять, то будет неправильный расчёт среднего времени интернет-сессии.\n",
    "\n",
    "Округлил значения вверх у ненулевых значений.\n",
    "\n",
    "Преобразовал в целочисленный тип.\n",
    "\n",
    "\n",
    "A large number of zero values (13%) were also detected in this column. It is possible that there is a ban on data transfer on the phone itself.\n",
    "\n",
    "I deleted the zero values, because no payment was taken for it. If you do not delete them, then there will be an incorrect calculation of the average time of the Internet session.\n",
    "\n",
    "Rounded the values at the top of the non-zero values.\n",
    "\n",
    "Converted to an integer type."
   ]
  },
  {
   "cell_type": "markdown",
   "metadata": {},
   "source": [
    "#### Проверка на повторы\n",
    "\n",
    "#### Checking for duplicates"
   ]
  },
  {
   "cell_type": "code",
   "execution_count": 22,
   "metadata": {},
   "outputs": [
    {
     "name": "stdout",
     "output_type": "stream",
     "text": [
      "Количество повторов: 0\n"
     ]
    }
   ],
   "source": [
    "print('Количество повторов:', data_internet.duplicated().sum())"
   ]
  },
  {
   "cell_type": "markdown",
   "metadata": {},
   "source": [
    "Повторов не обнаружено.\n",
    "\n",
    "No repetitions were detected."
   ]
  },
  {
   "cell_type": "markdown",
   "metadata": {},
   "source": [
    "Выполнена предобработка в таблице data_internet.\n",
    "\n",
    "Preprocessing was performed in the data_internet table."
   ]
  },
  {
   "cell_type": "markdown",
   "metadata": {},
   "source": [
    "### Таблица data_messages\n",
    "\n",
    "### Table data_messages"
   ]
  },
  {
   "cell_type": "markdown",
   "metadata": {},
   "source": [
    "#### Столбец 'message_date'\n",
    "\n",
    "#### Column 'message_date'"
   ]
  },
  {
   "cell_type": "code",
   "execution_count": 23,
   "metadata": {},
   "outputs": [],
   "source": [
    "data_messages['message_date'] = pd.to_datetime(\n",
    "    data_messages['message_date'],\n",
    "    format = '%Y-%m-%d')"
   ]
  },
  {
   "cell_type": "markdown",
   "metadata": {},
   "source": [
    "Выполнил преобразование типа данных в формат datetime.\n",
    "\n",
    "Performed the conversion of the data type to the datetime format."
   ]
  },
  {
   "cell_type": "code",
   "execution_count": 24,
   "metadata": {},
   "outputs": [
    {
     "name": "stdout",
     "output_type": "stream",
     "text": [
      "<class 'pandas.core.frame.DataFrame'>\n",
      "RangeIndex: 123036 entries, 0 to 123035\n",
      "Data columns (total 3 columns):\n",
      "id              123036 non-null object\n",
      "message_date    123036 non-null datetime64[ns]\n",
      "user_id         123036 non-null int64\n",
      "dtypes: datetime64[ns](1), int64(1), object(1)\n",
      "memory usage: 2.8+ MB\n"
     ]
    }
   ],
   "source": [
    "data_messages.info()"
   ]
  },
  {
   "cell_type": "markdown",
   "metadata": {},
   "source": [
    "#### Проверка на повторы\n",
    "\n",
    "#### Checking for duplicates"
   ]
  },
  {
   "cell_type": "code",
   "execution_count": 25,
   "metadata": {},
   "outputs": [
    {
     "name": "stdout",
     "output_type": "stream",
     "text": [
      "Количество повторов: 0\n"
     ]
    }
   ],
   "source": [
    "print('Количество повторов:', data_messages.duplicated().sum())"
   ]
  },
  {
   "cell_type": "markdown",
   "metadata": {},
   "source": [
    "Повторов не обнаружено.\n",
    "\n",
    "No duplicates were detected."
   ]
  },
  {
   "cell_type": "markdown",
   "metadata": {},
   "source": [
    "Выполнена предобработка в таблице data_messages.\n",
    "\n",
    "Preprocessing was performed in the data_messages table."
   ]
  },
  {
   "cell_type": "markdown",
   "metadata": {},
   "source": [
    "### Расчет количества сделанных звонков и израсходованных минут разговора по месяцам для каждого пользователя\n",
    "\n",
    "### Calculation of the number of calls made and minutes of conversation spent by month for each user"
   ]
  },
  {
   "cell_type": "markdown",
   "metadata": {},
   "source": [
    "#### Добавление столбца с номером месяца 'months' к таблице data_calls\n",
    "\n",
    "#### Adding a column with the month number 'months' to the data_calls table"
   ]
  },
  {
   "cell_type": "code",
   "execution_count": 26,
   "metadata": {},
   "outputs": [
    {
     "data": {
      "text/html": [
       "<div>\n",
       "<style scoped>\n",
       "    .dataframe tbody tr th:only-of-type {\n",
       "        vertical-align: middle;\n",
       "    }\n",
       "\n",
       "    .dataframe tbody tr th {\n",
       "        vertical-align: top;\n",
       "    }\n",
       "\n",
       "    .dataframe thead th {\n",
       "        text-align: right;\n",
       "    }\n",
       "</style>\n",
       "<table border=\"1\" class=\"dataframe\">\n",
       "  <thead>\n",
       "    <tr style=\"text-align: right;\">\n",
       "      <th></th>\n",
       "      <th>id</th>\n",
       "      <th>call_date</th>\n",
       "      <th>duration</th>\n",
       "      <th>user_id</th>\n",
       "      <th>month</th>\n",
       "    </tr>\n",
       "  </thead>\n",
       "  <tbody>\n",
       "    <tr>\n",
       "      <td>2</td>\n",
       "      <td>1000_2</td>\n",
       "      <td>2018-06-11</td>\n",
       "      <td>3</td>\n",
       "      <td>1000</td>\n",
       "      <td>6</td>\n",
       "    </tr>\n",
       "    <tr>\n",
       "      <td>3</td>\n",
       "      <td>1000_3</td>\n",
       "      <td>2018-09-21</td>\n",
       "      <td>14</td>\n",
       "      <td>1000</td>\n",
       "      <td>9</td>\n",
       "    </tr>\n",
       "    <tr>\n",
       "      <td>4</td>\n",
       "      <td>1000_4</td>\n",
       "      <td>2018-12-15</td>\n",
       "      <td>6</td>\n",
       "      <td>1000</td>\n",
       "      <td>12</td>\n",
       "    </tr>\n",
       "    <tr>\n",
       "      <td>7</td>\n",
       "      <td>1000_7</td>\n",
       "      <td>2018-08-22</td>\n",
       "      <td>19</td>\n",
       "      <td>1000</td>\n",
       "      <td>8</td>\n",
       "    </tr>\n",
       "    <tr>\n",
       "      <td>8</td>\n",
       "      <td>1000_8</td>\n",
       "      <td>2018-09-15</td>\n",
       "      <td>19</td>\n",
       "      <td>1000</td>\n",
       "      <td>9</td>\n",
       "    </tr>\n",
       "  </tbody>\n",
       "</table>\n",
       "</div>"
      ],
      "text/plain": [
       "       id  call_date  duration  user_id  month\n",
       "2  1000_2 2018-06-11         3     1000      6\n",
       "3  1000_3 2018-09-21        14     1000      9\n",
       "4  1000_4 2018-12-15         6     1000     12\n",
       "7  1000_7 2018-08-22        19     1000      8\n",
       "8  1000_8 2018-09-15        19     1000      9"
      ]
     },
     "metadata": {},
     "output_type": "display_data"
    }
   ],
   "source": [
    "data_calls['month'] = data_calls['call_date'].dt.month\n",
    "display(data_calls.head())"
   ]
  },
  {
   "cell_type": "markdown",
   "metadata": {},
   "source": [
    "#### Создание сводной таблицы\n",
    "\n",
    "#### Creating a pivot table"
   ]
  },
  {
   "cell_type": "code",
   "execution_count": 27,
   "metadata": {},
   "outputs": [
    {
     "data": {
      "text/html": [
       "<div>\n",
       "<style scoped>\n",
       "    .dataframe tbody tr th:only-of-type {\n",
       "        vertical-align: middle;\n",
       "    }\n",
       "\n",
       "    .dataframe tbody tr th {\n",
       "        vertical-align: top;\n",
       "    }\n",
       "\n",
       "    .dataframe thead th {\n",
       "        text-align: right;\n",
       "    }\n",
       "</style>\n",
       "<table border=\"1\" class=\"dataframe\">\n",
       "  <thead>\n",
       "    <tr style=\"text-align: right;\">\n",
       "      <th></th>\n",
       "      <th></th>\n",
       "      <th>calls_num</th>\n",
       "      <th>calls_time_sum</th>\n",
       "    </tr>\n",
       "    <tr>\n",
       "      <th>user_id</th>\n",
       "      <th>month</th>\n",
       "      <th></th>\n",
       "      <th></th>\n",
       "    </tr>\n",
       "  </thead>\n",
       "  <tbody>\n",
       "    <tr>\n",
       "      <td rowspan=\"8\" valign=\"top\">1000</td>\n",
       "      <td>5</td>\n",
       "      <td>17</td>\n",
       "      <td>159</td>\n",
       "    </tr>\n",
       "    <tr>\n",
       "      <td>6</td>\n",
       "      <td>28</td>\n",
       "      <td>172</td>\n",
       "    </tr>\n",
       "    <tr>\n",
       "      <td>7</td>\n",
       "      <td>41</td>\n",
       "      <td>340</td>\n",
       "    </tr>\n",
       "    <tr>\n",
       "      <td>8</td>\n",
       "      <td>42</td>\n",
       "      <td>408</td>\n",
       "    </tr>\n",
       "    <tr>\n",
       "      <td>9</td>\n",
       "      <td>46</td>\n",
       "      <td>466</td>\n",
       "    </tr>\n",
       "    <tr>\n",
       "      <td>10</td>\n",
       "      <td>44</td>\n",
       "      <td>350</td>\n",
       "    </tr>\n",
       "    <tr>\n",
       "      <td>11</td>\n",
       "      <td>37</td>\n",
       "      <td>338</td>\n",
       "    </tr>\n",
       "    <tr>\n",
       "      <td>12</td>\n",
       "      <td>38</td>\n",
       "      <td>333</td>\n",
       "    </tr>\n",
       "    <tr>\n",
       "      <td rowspan=\"2\" valign=\"top\">1001</td>\n",
       "      <td>11</td>\n",
       "      <td>45</td>\n",
       "      <td>430</td>\n",
       "    </tr>\n",
       "    <tr>\n",
       "      <td>12</td>\n",
       "      <td>47</td>\n",
       "      <td>414</td>\n",
       "    </tr>\n",
       "    <tr>\n",
       "      <td rowspan=\"7\" valign=\"top\">1002</td>\n",
       "      <td>6</td>\n",
       "      <td>14</td>\n",
       "      <td>117</td>\n",
       "    </tr>\n",
       "    <tr>\n",
       "      <td>7</td>\n",
       "      <td>21</td>\n",
       "      <td>214</td>\n",
       "    </tr>\n",
       "    <tr>\n",
       "      <td>8</td>\n",
       "      <td>37</td>\n",
       "      <td>289</td>\n",
       "    </tr>\n",
       "    <tr>\n",
       "      <td>9</td>\n",
       "      <td>25</td>\n",
       "      <td>206</td>\n",
       "    </tr>\n",
       "    <tr>\n",
       "      <td>10</td>\n",
       "      <td>24</td>\n",
       "      <td>212</td>\n",
       "    </tr>\n",
       "    <tr>\n",
       "      <td>11</td>\n",
       "      <td>25</td>\n",
       "      <td>243</td>\n",
       "    </tr>\n",
       "    <tr>\n",
       "      <td>12</td>\n",
       "      <td>27</td>\n",
       "      <td>236</td>\n",
       "    </tr>\n",
       "    <tr>\n",
       "      <td rowspan=\"3\" valign=\"top\">1003</td>\n",
       "      <td>8</td>\n",
       "      <td>43</td>\n",
       "      <td>380</td>\n",
       "    </tr>\n",
       "    <tr>\n",
       "      <td>9</td>\n",
       "      <td>105</td>\n",
       "      <td>961</td>\n",
       "    </tr>\n",
       "    <tr>\n",
       "      <td>10</td>\n",
       "      <td>97</td>\n",
       "      <td>855</td>\n",
       "    </tr>\n",
       "  </tbody>\n",
       "</table>\n",
       "</div>"
      ],
      "text/plain": [
       "               calls_num  calls_time_sum\n",
       "user_id month                           \n",
       "1000    5             17             159\n",
       "        6             28             172\n",
       "        7             41             340\n",
       "        8             42             408\n",
       "        9             46             466\n",
       "        10            44             350\n",
       "        11            37             338\n",
       "        12            38             333\n",
       "1001    11            45             430\n",
       "        12            47             414\n",
       "1002    6             14             117\n",
       "        7             21             214\n",
       "        8             37             289\n",
       "        9             25             206\n",
       "        10            24             212\n",
       "        11            25             243\n",
       "        12            27             236\n",
       "1003    8             43             380\n",
       "        9            105             961\n",
       "        10            97             855"
      ]
     },
     "metadata": {},
     "output_type": "display_data"
    },
    {
     "name": "stdout",
     "output_type": "stream",
     "text": [
      "<class 'pandas.core.frame.DataFrame'>\n",
      "MultiIndex: 3168 entries, (1000, 5) to (1499, 12)\n",
      "Data columns (total 2 columns):\n",
      "calls_num         3168 non-null int64\n",
      "calls_time_sum    3168 non-null int64\n",
      "dtypes: int64(2)\n",
      "memory usage: 62.8 KB\n"
     ]
    }
   ],
   "source": [
    "data_calls_p_month = data_calls.pivot_table(\n",
    "    index = ['user_id', 'month'],\n",
    "    values = 'duration',\n",
    "    aggfunc = ['count', 'sum']\n",
    ")\n",
    "data_calls_p_month.columns = ['calls_num', 'calls_time_sum']\n",
    "display(data_calls_p_month.head(20))\n",
    "data_calls_p_month.info()"
   ]
  },
  {
   "cell_type": "markdown",
   "metadata": {},
   "source": [
    "Создана сводная таблица с мультииндексом [user_id][month] с количеством звонков и их продолжительностью.\n",
    "\n",
    "A pivot table with the multi-index [user_id][month] with the number of calls and their duration has been created."
   ]
  },
  {
   "cell_type": "markdown",
   "metadata": {},
   "source": [
    "### Расчет количества отправленных сообщений по месяцам для каждого пользователя\n",
    "\n",
    "### Calculation of the number of messages sent by month for each user"
   ]
  },
  {
   "cell_type": "markdown",
   "metadata": {},
   "source": [
    "#### Добавление столбца с номером месяца 'months' к таблице data_messages\n",
    "\n",
    "#### Adding a column with the month number 'months' to the data_messages table"
   ]
  },
  {
   "cell_type": "code",
   "execution_count": 28,
   "metadata": {},
   "outputs": [
    {
     "data": {
      "text/html": [
       "<div>\n",
       "<style scoped>\n",
       "    .dataframe tbody tr th:only-of-type {\n",
       "        vertical-align: middle;\n",
       "    }\n",
       "\n",
       "    .dataframe tbody tr th {\n",
       "        vertical-align: top;\n",
       "    }\n",
       "\n",
       "    .dataframe thead th {\n",
       "        text-align: right;\n",
       "    }\n",
       "</style>\n",
       "<table border=\"1\" class=\"dataframe\">\n",
       "  <thead>\n",
       "    <tr style=\"text-align: right;\">\n",
       "      <th></th>\n",
       "      <th>id</th>\n",
       "      <th>message_date</th>\n",
       "      <th>user_id</th>\n",
       "      <th>month</th>\n",
       "    </tr>\n",
       "  </thead>\n",
       "  <tbody>\n",
       "    <tr>\n",
       "      <td>0</td>\n",
       "      <td>1000_0</td>\n",
       "      <td>2018-06-27</td>\n",
       "      <td>1000</td>\n",
       "      <td>6</td>\n",
       "    </tr>\n",
       "    <tr>\n",
       "      <td>1</td>\n",
       "      <td>1000_1</td>\n",
       "      <td>2018-10-08</td>\n",
       "      <td>1000</td>\n",
       "      <td>10</td>\n",
       "    </tr>\n",
       "    <tr>\n",
       "      <td>2</td>\n",
       "      <td>1000_2</td>\n",
       "      <td>2018-08-04</td>\n",
       "      <td>1000</td>\n",
       "      <td>8</td>\n",
       "    </tr>\n",
       "    <tr>\n",
       "      <td>3</td>\n",
       "      <td>1000_3</td>\n",
       "      <td>2018-06-16</td>\n",
       "      <td>1000</td>\n",
       "      <td>6</td>\n",
       "    </tr>\n",
       "    <tr>\n",
       "      <td>4</td>\n",
       "      <td>1000_4</td>\n",
       "      <td>2018-12-05</td>\n",
       "      <td>1000</td>\n",
       "      <td>12</td>\n",
       "    </tr>\n",
       "  </tbody>\n",
       "</table>\n",
       "</div>"
      ],
      "text/plain": [
       "       id message_date  user_id  month\n",
       "0  1000_0   2018-06-27     1000      6\n",
       "1  1000_1   2018-10-08     1000     10\n",
       "2  1000_2   2018-08-04     1000      8\n",
       "3  1000_3   2018-06-16     1000      6\n",
       "4  1000_4   2018-12-05     1000     12"
      ]
     },
     "metadata": {},
     "output_type": "display_data"
    }
   ],
   "source": [
    "data_messages['month'] = data_messages['message_date'].dt.month\n",
    "display(data_messages.head())"
   ]
  },
  {
   "cell_type": "markdown",
   "metadata": {},
   "source": [
    "#### Создание сводной таблицы\n",
    "\n",
    "#### Creating a pivot table"
   ]
  },
  {
   "cell_type": "code",
   "execution_count": 29,
   "metadata": {
    "scrolled": true
   },
   "outputs": [
    {
     "data": {
      "text/html": [
       "<div>\n",
       "<style scoped>\n",
       "    .dataframe tbody tr th:only-of-type {\n",
       "        vertical-align: middle;\n",
       "    }\n",
       "\n",
       "    .dataframe tbody tr th {\n",
       "        vertical-align: top;\n",
       "    }\n",
       "\n",
       "    .dataframe thead th {\n",
       "        text-align: right;\n",
       "    }\n",
       "</style>\n",
       "<table border=\"1\" class=\"dataframe\">\n",
       "  <thead>\n",
       "    <tr style=\"text-align: right;\">\n",
       "      <th></th>\n",
       "      <th></th>\n",
       "      <th>messages_num</th>\n",
       "    </tr>\n",
       "    <tr>\n",
       "      <th>user_id</th>\n",
       "      <th>month</th>\n",
       "      <th></th>\n",
       "    </tr>\n",
       "  </thead>\n",
       "  <tbody>\n",
       "    <tr>\n",
       "      <td rowspan=\"8\" valign=\"top\">1000</td>\n",
       "      <td>5</td>\n",
       "      <td>22</td>\n",
       "    </tr>\n",
       "    <tr>\n",
       "      <td>6</td>\n",
       "      <td>60</td>\n",
       "    </tr>\n",
       "    <tr>\n",
       "      <td>7</td>\n",
       "      <td>75</td>\n",
       "    </tr>\n",
       "    <tr>\n",
       "      <td>8</td>\n",
       "      <td>81</td>\n",
       "    </tr>\n",
       "    <tr>\n",
       "      <td>9</td>\n",
       "      <td>57</td>\n",
       "    </tr>\n",
       "    <tr>\n",
       "      <td>10</td>\n",
       "      <td>73</td>\n",
       "    </tr>\n",
       "    <tr>\n",
       "      <td>11</td>\n",
       "      <td>58</td>\n",
       "    </tr>\n",
       "    <tr>\n",
       "      <td>12</td>\n",
       "      <td>70</td>\n",
       "    </tr>\n",
       "    <tr>\n",
       "      <td rowspan=\"7\" valign=\"top\">1002</td>\n",
       "      <td>6</td>\n",
       "      <td>4</td>\n",
       "    </tr>\n",
       "    <tr>\n",
       "      <td>7</td>\n",
       "      <td>11</td>\n",
       "    </tr>\n",
       "    <tr>\n",
       "      <td>8</td>\n",
       "      <td>13</td>\n",
       "    </tr>\n",
       "    <tr>\n",
       "      <td>9</td>\n",
       "      <td>4</td>\n",
       "    </tr>\n",
       "    <tr>\n",
       "      <td>10</td>\n",
       "      <td>10</td>\n",
       "    </tr>\n",
       "    <tr>\n",
       "      <td>11</td>\n",
       "      <td>16</td>\n",
       "    </tr>\n",
       "    <tr>\n",
       "      <td>12</td>\n",
       "      <td>12</td>\n",
       "    </tr>\n",
       "    <tr>\n",
       "      <td rowspan=\"5\" valign=\"top\">1003</td>\n",
       "      <td>8</td>\n",
       "      <td>37</td>\n",
       "    </tr>\n",
       "    <tr>\n",
       "      <td>9</td>\n",
       "      <td>91</td>\n",
       "    </tr>\n",
       "    <tr>\n",
       "      <td>10</td>\n",
       "      <td>83</td>\n",
       "    </tr>\n",
       "    <tr>\n",
       "      <td>11</td>\n",
       "      <td>94</td>\n",
       "    </tr>\n",
       "    <tr>\n",
       "      <td>12</td>\n",
       "      <td>75</td>\n",
       "    </tr>\n",
       "  </tbody>\n",
       "</table>\n",
       "</div>"
      ],
      "text/plain": [
       "               messages_num\n",
       "user_id month              \n",
       "1000    5                22\n",
       "        6                60\n",
       "        7                75\n",
       "        8                81\n",
       "        9                57\n",
       "        10               73\n",
       "        11               58\n",
       "        12               70\n",
       "1002    6                 4\n",
       "        7                11\n",
       "        8                13\n",
       "        9                 4\n",
       "        10               10\n",
       "        11               16\n",
       "        12               12\n",
       "1003    8                37\n",
       "        9                91\n",
       "        10               83\n",
       "        11               94\n",
       "        12               75"
      ]
     },
     "metadata": {},
     "output_type": "display_data"
    },
    {
     "name": "stdout",
     "output_type": "stream",
     "text": [
      "<class 'pandas.core.frame.DataFrame'>\n",
      "MultiIndex: 2717 entries, (1000, 5) to (1499, 12)\n",
      "Data columns (total 1 columns):\n",
      "messages_num    2717 non-null int64\n",
      "dtypes: int64(1)\n",
      "memory usage: 32.7 KB\n"
     ]
    }
   ],
   "source": [
    "data_messages_p_month = data_messages.pivot_table(\n",
    "    index = ['user_id', 'month'],\n",
    "    values = 'id',\n",
    "    aggfunc = 'count'\n",
    ")\n",
    "data_messages_p_month.columns = ['messages_num']\n",
    "display(data_messages_p_month.head(20))\n",
    "data_messages_p_month.info()"
   ]
  },
  {
   "cell_type": "markdown",
   "metadata": {},
   "source": [
    "Создана сводная таблица с мультииндексом [user_id][month] с количеством сообщений.\n",
    "\n",
    "A pivot table with the multi-index [user_id][month] with the number of messages was created."
   ]
  },
  {
   "cell_type": "markdown",
   "metadata": {},
   "source": [
    "### Расчет объема израсходованного интернет-траффика по месяцам для каждого пользователя\n",
    "\n",
    "### Calculation of the amount of Internet traffic consumed by months for each user"
   ]
  },
  {
   "cell_type": "markdown",
   "metadata": {},
   "source": [
    "#### Добавление столбца с номером месяца 'months' к таблице data_internet\n",
    "\n",
    "#### Adding a column with the month number 'months' to the data_internet table"
   ]
  },
  {
   "cell_type": "code",
   "execution_count": 30,
   "metadata": {},
   "outputs": [
    {
     "data": {
      "text/html": [
       "<div>\n",
       "<style scoped>\n",
       "    .dataframe tbody tr th:only-of-type {\n",
       "        vertical-align: middle;\n",
       "    }\n",
       "\n",
       "    .dataframe tbody tr th {\n",
       "        vertical-align: top;\n",
       "    }\n",
       "\n",
       "    .dataframe thead th {\n",
       "        text-align: right;\n",
       "    }\n",
       "</style>\n",
       "<table border=\"1\" class=\"dataframe\">\n",
       "  <thead>\n",
       "    <tr style=\"text-align: right;\">\n",
       "      <th></th>\n",
       "      <th>id</th>\n",
       "      <th>mb_used</th>\n",
       "      <th>session_date</th>\n",
       "      <th>user_id</th>\n",
       "      <th>month</th>\n",
       "    </tr>\n",
       "  </thead>\n",
       "  <tbody>\n",
       "    <tr>\n",
       "      <td>0</td>\n",
       "      <td>1000_0</td>\n",
       "      <td>113</td>\n",
       "      <td>2018-11-25</td>\n",
       "      <td>1000</td>\n",
       "      <td>11</td>\n",
       "    </tr>\n",
       "    <tr>\n",
       "      <td>1</td>\n",
       "      <td>1000_1</td>\n",
       "      <td>1053</td>\n",
       "      <td>2018-09-07</td>\n",
       "      <td>1000</td>\n",
       "      <td>9</td>\n",
       "    </tr>\n",
       "    <tr>\n",
       "      <td>2</td>\n",
       "      <td>1000_2</td>\n",
       "      <td>1198</td>\n",
       "      <td>2018-06-25</td>\n",
       "      <td>1000</td>\n",
       "      <td>6</td>\n",
       "    </tr>\n",
       "    <tr>\n",
       "      <td>3</td>\n",
       "      <td>1000_3</td>\n",
       "      <td>551</td>\n",
       "      <td>2018-08-22</td>\n",
       "      <td>1000</td>\n",
       "      <td>8</td>\n",
       "    </tr>\n",
       "    <tr>\n",
       "      <td>4</td>\n",
       "      <td>1000_4</td>\n",
       "      <td>303</td>\n",
       "      <td>2018-09-24</td>\n",
       "      <td>1000</td>\n",
       "      <td>9</td>\n",
       "    </tr>\n",
       "  </tbody>\n",
       "</table>\n",
       "</div>"
      ],
      "text/plain": [
       "       id  mb_used session_date  user_id  month\n",
       "0  1000_0      113   2018-11-25     1000     11\n",
       "1  1000_1     1053   2018-09-07     1000      9\n",
       "2  1000_2     1198   2018-06-25     1000      6\n",
       "3  1000_3      551   2018-08-22     1000      8\n",
       "4  1000_4      303   2018-09-24     1000      9"
      ]
     },
     "metadata": {},
     "output_type": "display_data"
    }
   ],
   "source": [
    "data_internet['month'] = data_internet['session_date'].dt.month\n",
    "display(data_internet.head())"
   ]
  },
  {
   "cell_type": "markdown",
   "metadata": {},
   "source": [
    "#### Создание сводной таблицы\n",
    "\n",
    "#### Creating a pivot table"
   ]
  },
  {
   "cell_type": "code",
   "execution_count": 31,
   "metadata": {
    "scrolled": true
   },
   "outputs": [
    {
     "data": {
      "text/html": [
       "<div>\n",
       "<style scoped>\n",
       "    .dataframe tbody tr th:only-of-type {\n",
       "        vertical-align: middle;\n",
       "    }\n",
       "\n",
       "    .dataframe tbody tr th {\n",
       "        vertical-align: top;\n",
       "    }\n",
       "\n",
       "    .dataframe thead th {\n",
       "        text-align: right;\n",
       "    }\n",
       "</style>\n",
       "<table border=\"1\" class=\"dataframe\">\n",
       "  <thead>\n",
       "    <tr style=\"text-align: right;\">\n",
       "      <th></th>\n",
       "      <th></th>\n",
       "      <th>mb_used_sum</th>\n",
       "    </tr>\n",
       "    <tr>\n",
       "      <th>user_id</th>\n",
       "      <th>month</th>\n",
       "      <th></th>\n",
       "    </tr>\n",
       "  </thead>\n",
       "  <tbody>\n",
       "    <tr>\n",
       "      <td rowspan=\"8\" valign=\"top\">1000</td>\n",
       "      <td>5</td>\n",
       "      <td>2256</td>\n",
       "    </tr>\n",
       "    <tr>\n",
       "      <td>6</td>\n",
       "      <td>23257</td>\n",
       "    </tr>\n",
       "    <tr>\n",
       "      <td>7</td>\n",
       "      <td>14016</td>\n",
       "    </tr>\n",
       "    <tr>\n",
       "      <td>8</td>\n",
       "      <td>14070</td>\n",
       "    </tr>\n",
       "    <tr>\n",
       "      <td>9</td>\n",
       "      <td>14581</td>\n",
       "    </tr>\n",
       "    <tr>\n",
       "      <td>10</td>\n",
       "      <td>14717</td>\n",
       "    </tr>\n",
       "    <tr>\n",
       "      <td>11</td>\n",
       "      <td>14768</td>\n",
       "    </tr>\n",
       "    <tr>\n",
       "      <td>12</td>\n",
       "      <td>9827</td>\n",
       "    </tr>\n",
       "    <tr>\n",
       "      <td rowspan=\"2\" valign=\"top\">1001</td>\n",
       "      <td>11</td>\n",
       "      <td>18452</td>\n",
       "    </tr>\n",
       "    <tr>\n",
       "      <td>12</td>\n",
       "      <td>14053</td>\n",
       "    </tr>\n",
       "    <tr>\n",
       "      <td rowspan=\"7\" valign=\"top\">1002</td>\n",
       "      <td>6</td>\n",
       "      <td>10871</td>\n",
       "    </tr>\n",
       "    <tr>\n",
       "      <td>7</td>\n",
       "      <td>17601</td>\n",
       "    </tr>\n",
       "    <tr>\n",
       "      <td>8</td>\n",
       "      <td>20347</td>\n",
       "    </tr>\n",
       "    <tr>\n",
       "      <td>9</td>\n",
       "      <td>16712</td>\n",
       "    </tr>\n",
       "    <tr>\n",
       "      <td>10</td>\n",
       "      <td>13905</td>\n",
       "    </tr>\n",
       "    <tr>\n",
       "      <td>11</td>\n",
       "      <td>18610</td>\n",
       "    </tr>\n",
       "    <tr>\n",
       "      <td>12</td>\n",
       "      <td>18137</td>\n",
       "    </tr>\n",
       "    <tr>\n",
       "      <td rowspan=\"3\" valign=\"top\">1003</td>\n",
       "      <td>8</td>\n",
       "      <td>8571</td>\n",
       "    </tr>\n",
       "    <tr>\n",
       "      <td>9</td>\n",
       "      <td>12479</td>\n",
       "    </tr>\n",
       "    <tr>\n",
       "      <td>10</td>\n",
       "      <td>14779</td>\n",
       "    </tr>\n",
       "  </tbody>\n",
       "</table>\n",
       "</div>"
      ],
      "text/plain": [
       "               mb_used_sum\n",
       "user_id month             \n",
       "1000    5             2256\n",
       "        6            23257\n",
       "        7            14016\n",
       "        8            14070\n",
       "        9            14581\n",
       "        10           14717\n",
       "        11           14768\n",
       "        12            9827\n",
       "1001    11           18452\n",
       "        12           14053\n",
       "1002    6            10871\n",
       "        7            17601\n",
       "        8            20347\n",
       "        9            16712\n",
       "        10           13905\n",
       "        11           18610\n",
       "        12           18137\n",
       "1003    8             8571\n",
       "        9            12479\n",
       "        10           14779"
      ]
     },
     "metadata": {},
     "output_type": "display_data"
    },
    {
     "name": "stdout",
     "output_type": "stream",
     "text": [
      "<class 'pandas.core.frame.DataFrame'>\n",
      "MultiIndex: 3201 entries, (1000, 5) to (1499, 12)\n",
      "Data columns (total 1 columns):\n",
      "mb_used_sum    3201 non-null int64\n",
      "dtypes: int64(1)\n",
      "memory usage: 38.5 KB\n"
     ]
    }
   ],
   "source": [
    "data_internet_p_month = data_internet.pivot_table(\n",
    "    index = ['user_id', 'month'],\n",
    "    values = 'mb_used',\n",
    "    aggfunc = 'sum'\n",
    ")\n",
    "data_internet_p_month.columns = ['mb_used_sum']\n",
    "display(data_internet_p_month.head(20))\n",
    "data_internet_p_month.info()"
   ]
  },
  {
   "cell_type": "markdown",
   "metadata": {},
   "source": [
    "Создана сводная таблица с мультииндексом [user_id][month] с количеством израсходованного траффика.\n",
    "\n",
    "A pivot table with the multi-index [user_id][month] with the amount of traffic consumed has been created."
   ]
  },
  {
   "cell_type": "markdown",
   "metadata": {},
   "source": [
    "### Расчёт помесячной выручки с каждого пользователя\n",
    "\n",
    "### Calculation of monthly revenue from each user"
   ]
  },
  {
   "cell_type": "markdown",
   "metadata": {},
   "source": [
    "#### Внешнее объединение сводных таблиц по мультииндексу [user_id][month]\n",
    "\n",
    "#### External merging of pivot tables by multi-index [user_id][month]"
   ]
  },
  {
   "cell_type": "code",
   "execution_count": 32,
   "metadata": {
    "scrolled": true
   },
   "outputs": [
    {
     "data": {
      "text/html": [
       "<div>\n",
       "<style scoped>\n",
       "    .dataframe tbody tr th:only-of-type {\n",
       "        vertical-align: middle;\n",
       "    }\n",
       "\n",
       "    .dataframe tbody tr th {\n",
       "        vertical-align: top;\n",
       "    }\n",
       "\n",
       "    .dataframe thead th {\n",
       "        text-align: right;\n",
       "    }\n",
       "</style>\n",
       "<table border=\"1\" class=\"dataframe\">\n",
       "  <thead>\n",
       "    <tr style=\"text-align: right;\">\n",
       "      <th></th>\n",
       "      <th></th>\n",
       "      <th>calls_num</th>\n",
       "      <th>calls_time_sum</th>\n",
       "      <th>messages_num</th>\n",
       "      <th>mb_used_sum</th>\n",
       "    </tr>\n",
       "    <tr>\n",
       "      <th>user_id</th>\n",
       "      <th>month</th>\n",
       "      <th></th>\n",
       "      <th></th>\n",
       "      <th></th>\n",
       "      <th></th>\n",
       "    </tr>\n",
       "  </thead>\n",
       "  <tbody>\n",
       "    <tr>\n",
       "      <td rowspan=\"8\" valign=\"top\">1000</td>\n",
       "      <td>5</td>\n",
       "      <td>17.0</td>\n",
       "      <td>159.0</td>\n",
       "      <td>22.0</td>\n",
       "      <td>2256.0</td>\n",
       "    </tr>\n",
       "    <tr>\n",
       "      <td>6</td>\n",
       "      <td>28.0</td>\n",
       "      <td>172.0</td>\n",
       "      <td>60.0</td>\n",
       "      <td>23257.0</td>\n",
       "    </tr>\n",
       "    <tr>\n",
       "      <td>7</td>\n",
       "      <td>41.0</td>\n",
       "      <td>340.0</td>\n",
       "      <td>75.0</td>\n",
       "      <td>14016.0</td>\n",
       "    </tr>\n",
       "    <tr>\n",
       "      <td>8</td>\n",
       "      <td>42.0</td>\n",
       "      <td>408.0</td>\n",
       "      <td>81.0</td>\n",
       "      <td>14070.0</td>\n",
       "    </tr>\n",
       "    <tr>\n",
       "      <td>9</td>\n",
       "      <td>46.0</td>\n",
       "      <td>466.0</td>\n",
       "      <td>57.0</td>\n",
       "      <td>14581.0</td>\n",
       "    </tr>\n",
       "    <tr>\n",
       "      <td>10</td>\n",
       "      <td>44.0</td>\n",
       "      <td>350.0</td>\n",
       "      <td>73.0</td>\n",
       "      <td>14717.0</td>\n",
       "    </tr>\n",
       "    <tr>\n",
       "      <td>11</td>\n",
       "      <td>37.0</td>\n",
       "      <td>338.0</td>\n",
       "      <td>58.0</td>\n",
       "      <td>14768.0</td>\n",
       "    </tr>\n",
       "    <tr>\n",
       "      <td>12</td>\n",
       "      <td>38.0</td>\n",
       "      <td>333.0</td>\n",
       "      <td>70.0</td>\n",
       "      <td>9827.0</td>\n",
       "    </tr>\n",
       "    <tr>\n",
       "      <td rowspan=\"2\" valign=\"top\">1001</td>\n",
       "      <td>11</td>\n",
       "      <td>45.0</td>\n",
       "      <td>430.0</td>\n",
       "      <td>NaN</td>\n",
       "      <td>18452.0</td>\n",
       "    </tr>\n",
       "    <tr>\n",
       "      <td>12</td>\n",
       "      <td>47.0</td>\n",
       "      <td>414.0</td>\n",
       "      <td>NaN</td>\n",
       "      <td>14053.0</td>\n",
       "    </tr>\n",
       "    <tr>\n",
       "      <td rowspan=\"7\" valign=\"top\">1002</td>\n",
       "      <td>6</td>\n",
       "      <td>14.0</td>\n",
       "      <td>117.0</td>\n",
       "      <td>4.0</td>\n",
       "      <td>10871.0</td>\n",
       "    </tr>\n",
       "    <tr>\n",
       "      <td>7</td>\n",
       "      <td>21.0</td>\n",
       "      <td>214.0</td>\n",
       "      <td>11.0</td>\n",
       "      <td>17601.0</td>\n",
       "    </tr>\n",
       "    <tr>\n",
       "      <td>8</td>\n",
       "      <td>37.0</td>\n",
       "      <td>289.0</td>\n",
       "      <td>13.0</td>\n",
       "      <td>20347.0</td>\n",
       "    </tr>\n",
       "    <tr>\n",
       "      <td>9</td>\n",
       "      <td>25.0</td>\n",
       "      <td>206.0</td>\n",
       "      <td>4.0</td>\n",
       "      <td>16712.0</td>\n",
       "    </tr>\n",
       "    <tr>\n",
       "      <td>10</td>\n",
       "      <td>24.0</td>\n",
       "      <td>212.0</td>\n",
       "      <td>10.0</td>\n",
       "      <td>13905.0</td>\n",
       "    </tr>\n",
       "    <tr>\n",
       "      <td>11</td>\n",
       "      <td>25.0</td>\n",
       "      <td>243.0</td>\n",
       "      <td>16.0</td>\n",
       "      <td>18610.0</td>\n",
       "    </tr>\n",
       "    <tr>\n",
       "      <td>12</td>\n",
       "      <td>27.0</td>\n",
       "      <td>236.0</td>\n",
       "      <td>12.0</td>\n",
       "      <td>18137.0</td>\n",
       "    </tr>\n",
       "    <tr>\n",
       "      <td rowspan=\"3\" valign=\"top\">1003</td>\n",
       "      <td>8</td>\n",
       "      <td>43.0</td>\n",
       "      <td>380.0</td>\n",
       "      <td>37.0</td>\n",
       "      <td>8571.0</td>\n",
       "    </tr>\n",
       "    <tr>\n",
       "      <td>9</td>\n",
       "      <td>105.0</td>\n",
       "      <td>961.0</td>\n",
       "      <td>91.0</td>\n",
       "      <td>12479.0</td>\n",
       "    </tr>\n",
       "    <tr>\n",
       "      <td>10</td>\n",
       "      <td>97.0</td>\n",
       "      <td>855.0</td>\n",
       "      <td>83.0</td>\n",
       "      <td>14779.0</td>\n",
       "    </tr>\n",
       "  </tbody>\n",
       "</table>\n",
       "</div>"
      ],
      "text/plain": [
       "               calls_num  calls_time_sum  messages_num  mb_used_sum\n",
       "user_id month                                                      \n",
       "1000    5           17.0           159.0          22.0       2256.0\n",
       "        6           28.0           172.0          60.0      23257.0\n",
       "        7           41.0           340.0          75.0      14016.0\n",
       "        8           42.0           408.0          81.0      14070.0\n",
       "        9           46.0           466.0          57.0      14581.0\n",
       "        10          44.0           350.0          73.0      14717.0\n",
       "        11          37.0           338.0          58.0      14768.0\n",
       "        12          38.0           333.0          70.0       9827.0\n",
       "1001    11          45.0           430.0           NaN      18452.0\n",
       "        12          47.0           414.0           NaN      14053.0\n",
       "1002    6           14.0           117.0           4.0      10871.0\n",
       "        7           21.0           214.0          11.0      17601.0\n",
       "        8           37.0           289.0          13.0      20347.0\n",
       "        9           25.0           206.0           4.0      16712.0\n",
       "        10          24.0           212.0          10.0      13905.0\n",
       "        11          25.0           243.0          16.0      18610.0\n",
       "        12          27.0           236.0          12.0      18137.0\n",
       "1003    8           43.0           380.0          37.0       8571.0\n",
       "        9          105.0           961.0          91.0      12479.0\n",
       "        10          97.0           855.0          83.0      14779.0"
      ]
     },
     "metadata": {},
     "output_type": "display_data"
    }
   ],
   "source": [
    "temp_p_months = pd.merge(data_calls_p_month, data_messages_p_month, on=['user_id', 'month'], how = 'outer')\n",
    "data_total_p_month = pd.merge(temp_p_months, data_internet_p_month, on=['user_id', 'month'], how = 'outer')\n",
    "display(data_total_p_month.head(20))"
   ]
  },
  {
   "cell_type": "markdown",
   "metadata": {},
   "source": [
    "Три сводные таблицы: data_calls_p_month, data_messages_p_month, data_internet_p_month объединены в одну data_total_p_month. Тип объединения: внешний.\n",
    "\n",
    "Three pivot tables: data_calls_p_month, data_messages_p_month, data_internet_p_month are combined into one data_total_p_month. Type of association: external."
   ]
  },
  {
   "cell_type": "markdown",
   "metadata": {},
   "source": [
    "#### Замена пропусков нулями\n",
    "\n",
    "#### Replacing empty values with zeros"
   ]
  },
  {
   "cell_type": "code",
   "execution_count": 33,
   "metadata": {
    "scrolled": false
   },
   "outputs": [
    {
     "name": "stdout",
     "output_type": "stream",
     "text": [
      "Количество пропусков до замены:\n",
      "calls_num          46\n",
      "calls_time_sum     46\n",
      "messages_num      497\n",
      "mb_used_sum        13\n",
      "dtype: int64\n"
     ]
    }
   ],
   "source": [
    "print('Количество пропусков до замены:')\n",
    "print(data_total_p_month.isna().sum())"
   ]
  },
  {
   "cell_type": "code",
   "execution_count": 34,
   "metadata": {
    "scrolled": false
   },
   "outputs": [
    {
     "name": "stdout",
     "output_type": "stream",
     "text": [
      "Количество пропусков после замены на 0:\n",
      "calls_num         0\n",
      "calls_time_sum    0\n",
      "messages_num      0\n",
      "mb_used_sum       0\n",
      "dtype: int64\n"
     ]
    }
   ],
   "source": [
    "data_total_p_month = data_total_p_month.fillna(0)\n",
    "print('Количество пропусков после замены на 0:')\n",
    "print(data_total_p_month.isna().sum())"
   ]
  },
  {
   "cell_type": "markdown",
   "metadata": {},
   "source": [
    "#### Помесячная выручка\n",
    "\n",
    "#### Monthly revenue"
   ]
  },
  {
   "cell_type": "code",
   "execution_count": 35,
   "metadata": {},
   "outputs": [
    {
     "data": {
      "text/html": [
       "<div>\n",
       "<style scoped>\n",
       "    .dataframe tbody tr th:only-of-type {\n",
       "        vertical-align: middle;\n",
       "    }\n",
       "\n",
       "    .dataframe tbody tr th {\n",
       "        vertical-align: top;\n",
       "    }\n",
       "\n",
       "    .dataframe thead th {\n",
       "        text-align: right;\n",
       "    }\n",
       "</style>\n",
       "<table border=\"1\" class=\"dataframe\">\n",
       "  <thead>\n",
       "    <tr style=\"text-align: right;\">\n",
       "      <th></th>\n",
       "      <th>user_id</th>\n",
       "      <th>month</th>\n",
       "      <th>calls_num</th>\n",
       "      <th>calls_time_sum</th>\n",
       "      <th>messages_num</th>\n",
       "      <th>mb_used_sum</th>\n",
       "    </tr>\n",
       "  </thead>\n",
       "  <tbody>\n",
       "    <tr>\n",
       "      <td>0</td>\n",
       "      <td>1000</td>\n",
       "      <td>5</td>\n",
       "      <td>17.0</td>\n",
       "      <td>159.0</td>\n",
       "      <td>22.0</td>\n",
       "      <td>2256.0</td>\n",
       "    </tr>\n",
       "    <tr>\n",
       "      <td>1</td>\n",
       "      <td>1000</td>\n",
       "      <td>6</td>\n",
       "      <td>28.0</td>\n",
       "      <td>172.0</td>\n",
       "      <td>60.0</td>\n",
       "      <td>23257.0</td>\n",
       "    </tr>\n",
       "    <tr>\n",
       "      <td>2</td>\n",
       "      <td>1000</td>\n",
       "      <td>7</td>\n",
       "      <td>41.0</td>\n",
       "      <td>340.0</td>\n",
       "      <td>75.0</td>\n",
       "      <td>14016.0</td>\n",
       "    </tr>\n",
       "    <tr>\n",
       "      <td>3</td>\n",
       "      <td>1000</td>\n",
       "      <td>8</td>\n",
       "      <td>42.0</td>\n",
       "      <td>408.0</td>\n",
       "      <td>81.0</td>\n",
       "      <td>14070.0</td>\n",
       "    </tr>\n",
       "    <tr>\n",
       "      <td>4</td>\n",
       "      <td>1000</td>\n",
       "      <td>9</td>\n",
       "      <td>46.0</td>\n",
       "      <td>466.0</td>\n",
       "      <td>57.0</td>\n",
       "      <td>14581.0</td>\n",
       "    </tr>\n",
       "  </tbody>\n",
       "</table>\n",
       "</div>"
      ],
      "text/plain": [
       "   user_id  month  calls_num  calls_time_sum  messages_num  mb_used_sum\n",
       "0     1000      5       17.0           159.0          22.0       2256.0\n",
       "1     1000      6       28.0           172.0          60.0      23257.0\n",
       "2     1000      7       41.0           340.0          75.0      14016.0\n",
       "3     1000      8       42.0           408.0          81.0      14070.0\n",
       "4     1000      9       46.0           466.0          57.0      14581.0"
      ]
     },
     "metadata": {},
     "output_type": "display_data"
    }
   ],
   "source": [
    "# Сброс мультииндекса\n",
    "data_total_p_month.reset_index(inplace=True)\n",
    "display(data_total_p_month.head())"
   ]
  },
  {
   "cell_type": "code",
   "execution_count": 36,
   "metadata": {
    "scrolled": true
   },
   "outputs": [
    {
     "data": {
      "text/html": [
       "<div>\n",
       "<style scoped>\n",
       "    .dataframe tbody tr th:only-of-type {\n",
       "        vertical-align: middle;\n",
       "    }\n",
       "\n",
       "    .dataframe tbody tr th {\n",
       "        vertical-align: top;\n",
       "    }\n",
       "\n",
       "    .dataframe thead th {\n",
       "        text-align: right;\n",
       "    }\n",
       "</style>\n",
       "<table border=\"1\" class=\"dataframe\">\n",
       "  <thead>\n",
       "    <tr style=\"text-align: right;\">\n",
       "      <th></th>\n",
       "      <th>user_id</th>\n",
       "      <th>month</th>\n",
       "      <th>calls_num</th>\n",
       "      <th>calls_time_sum</th>\n",
       "      <th>messages_num</th>\n",
       "      <th>mb_used_sum</th>\n",
       "      <th>expenses</th>\n",
       "    </tr>\n",
       "  </thead>\n",
       "  <tbody>\n",
       "    <tr>\n",
       "      <td>0</td>\n",
       "      <td>1000</td>\n",
       "      <td>5</td>\n",
       "      <td>17.0</td>\n",
       "      <td>159.0</td>\n",
       "      <td>22.0</td>\n",
       "      <td>2256.0</td>\n",
       "      <td>1950.0</td>\n",
       "    </tr>\n",
       "    <tr>\n",
       "      <td>1</td>\n",
       "      <td>1000</td>\n",
       "      <td>6</td>\n",
       "      <td>28.0</td>\n",
       "      <td>172.0</td>\n",
       "      <td>60.0</td>\n",
       "      <td>23257.0</td>\n",
       "      <td>1950.0</td>\n",
       "    </tr>\n",
       "    <tr>\n",
       "      <td>2</td>\n",
       "      <td>1000</td>\n",
       "      <td>7</td>\n",
       "      <td>41.0</td>\n",
       "      <td>340.0</td>\n",
       "      <td>75.0</td>\n",
       "      <td>14016.0</td>\n",
       "      <td>1950.0</td>\n",
       "    </tr>\n",
       "    <tr>\n",
       "      <td>3</td>\n",
       "      <td>1000</td>\n",
       "      <td>8</td>\n",
       "      <td>42.0</td>\n",
       "      <td>408.0</td>\n",
       "      <td>81.0</td>\n",
       "      <td>14070.0</td>\n",
       "      <td>1950.0</td>\n",
       "    </tr>\n",
       "    <tr>\n",
       "      <td>4</td>\n",
       "      <td>1000</td>\n",
       "      <td>9</td>\n",
       "      <td>46.0</td>\n",
       "      <td>466.0</td>\n",
       "      <td>57.0</td>\n",
       "      <td>14581.0</td>\n",
       "      <td>1950.0</td>\n",
       "    </tr>\n",
       "    <tr>\n",
       "      <td>5</td>\n",
       "      <td>1000</td>\n",
       "      <td>10</td>\n",
       "      <td>44.0</td>\n",
       "      <td>350.0</td>\n",
       "      <td>73.0</td>\n",
       "      <td>14717.0</td>\n",
       "      <td>1950.0</td>\n",
       "    </tr>\n",
       "    <tr>\n",
       "      <td>6</td>\n",
       "      <td>1000</td>\n",
       "      <td>11</td>\n",
       "      <td>37.0</td>\n",
       "      <td>338.0</td>\n",
       "      <td>58.0</td>\n",
       "      <td>14768.0</td>\n",
       "      <td>1950.0</td>\n",
       "    </tr>\n",
       "    <tr>\n",
       "      <td>7</td>\n",
       "      <td>1000</td>\n",
       "      <td>12</td>\n",
       "      <td>38.0</td>\n",
       "      <td>333.0</td>\n",
       "      <td>70.0</td>\n",
       "      <td>9827.0</td>\n",
       "      <td>1950.0</td>\n",
       "    </tr>\n",
       "    <tr>\n",
       "      <td>8</td>\n",
       "      <td>1001</td>\n",
       "      <td>11</td>\n",
       "      <td>45.0</td>\n",
       "      <td>430.0</td>\n",
       "      <td>0.0</td>\n",
       "      <td>18452.0</td>\n",
       "      <td>1350.0</td>\n",
       "    </tr>\n",
       "    <tr>\n",
       "      <td>9</td>\n",
       "      <td>1001</td>\n",
       "      <td>12</td>\n",
       "      <td>47.0</td>\n",
       "      <td>414.0</td>\n",
       "      <td>0.0</td>\n",
       "      <td>14053.0</td>\n",
       "      <td>550.0</td>\n",
       "    </tr>\n",
       "    <tr>\n",
       "      <td>10</td>\n",
       "      <td>1002</td>\n",
       "      <td>6</td>\n",
       "      <td>14.0</td>\n",
       "      <td>117.0</td>\n",
       "      <td>4.0</td>\n",
       "      <td>10871.0</td>\n",
       "      <td>550.0</td>\n",
       "    </tr>\n",
       "    <tr>\n",
       "      <td>11</td>\n",
       "      <td>1002</td>\n",
       "      <td>7</td>\n",
       "      <td>21.0</td>\n",
       "      <td>214.0</td>\n",
       "      <td>11.0</td>\n",
       "      <td>17601.0</td>\n",
       "      <td>1150.0</td>\n",
       "    </tr>\n",
       "    <tr>\n",
       "      <td>12</td>\n",
       "      <td>1002</td>\n",
       "      <td>8</td>\n",
       "      <td>37.0</td>\n",
       "      <td>289.0</td>\n",
       "      <td>13.0</td>\n",
       "      <td>20347.0</td>\n",
       "      <td>1550.0</td>\n",
       "    </tr>\n",
       "    <tr>\n",
       "      <td>13</td>\n",
       "      <td>1002</td>\n",
       "      <td>9</td>\n",
       "      <td>25.0</td>\n",
       "      <td>206.0</td>\n",
       "      <td>4.0</td>\n",
       "      <td>16712.0</td>\n",
       "      <td>950.0</td>\n",
       "    </tr>\n",
       "    <tr>\n",
       "      <td>14</td>\n",
       "      <td>1002</td>\n",
       "      <td>10</td>\n",
       "      <td>24.0</td>\n",
       "      <td>212.0</td>\n",
       "      <td>10.0</td>\n",
       "      <td>13905.0</td>\n",
       "      <td>550.0</td>\n",
       "    </tr>\n",
       "    <tr>\n",
       "      <td>15</td>\n",
       "      <td>1002</td>\n",
       "      <td>11</td>\n",
       "      <td>25.0</td>\n",
       "      <td>243.0</td>\n",
       "      <td>16.0</td>\n",
       "      <td>18610.0</td>\n",
       "      <td>1350.0</td>\n",
       "    </tr>\n",
       "    <tr>\n",
       "      <td>16</td>\n",
       "      <td>1002</td>\n",
       "      <td>12</td>\n",
       "      <td>27.0</td>\n",
       "      <td>236.0</td>\n",
       "      <td>12.0</td>\n",
       "      <td>18137.0</td>\n",
       "      <td>1150.0</td>\n",
       "    </tr>\n",
       "    <tr>\n",
       "      <td>17</td>\n",
       "      <td>1003</td>\n",
       "      <td>8</td>\n",
       "      <td>43.0</td>\n",
       "      <td>380.0</td>\n",
       "      <td>37.0</td>\n",
       "      <td>8571.0</td>\n",
       "      <td>1950.0</td>\n",
       "    </tr>\n",
       "    <tr>\n",
       "      <td>18</td>\n",
       "      <td>1003</td>\n",
       "      <td>9</td>\n",
       "      <td>105.0</td>\n",
       "      <td>961.0</td>\n",
       "      <td>91.0</td>\n",
       "      <td>12479.0</td>\n",
       "      <td>1950.0</td>\n",
       "    </tr>\n",
       "    <tr>\n",
       "      <td>19</td>\n",
       "      <td>1003</td>\n",
       "      <td>10</td>\n",
       "      <td>97.0</td>\n",
       "      <td>855.0</td>\n",
       "      <td>83.0</td>\n",
       "      <td>14779.0</td>\n",
       "      <td>1950.0</td>\n",
       "    </tr>\n",
       "  </tbody>\n",
       "</table>\n",
       "</div>"
      ],
      "text/plain": [
       "    user_id  month  calls_num  calls_time_sum  messages_num  mb_used_sum  \\\n",
       "0      1000      5       17.0           159.0          22.0       2256.0   \n",
       "1      1000      6       28.0           172.0          60.0      23257.0   \n",
       "2      1000      7       41.0           340.0          75.0      14016.0   \n",
       "3      1000      8       42.0           408.0          81.0      14070.0   \n",
       "4      1000      9       46.0           466.0          57.0      14581.0   \n",
       "5      1000     10       44.0           350.0          73.0      14717.0   \n",
       "6      1000     11       37.0           338.0          58.0      14768.0   \n",
       "7      1000     12       38.0           333.0          70.0       9827.0   \n",
       "8      1001     11       45.0           430.0           0.0      18452.0   \n",
       "9      1001     12       47.0           414.0           0.0      14053.0   \n",
       "10     1002      6       14.0           117.0           4.0      10871.0   \n",
       "11     1002      7       21.0           214.0          11.0      17601.0   \n",
       "12     1002      8       37.0           289.0          13.0      20347.0   \n",
       "13     1002      9       25.0           206.0           4.0      16712.0   \n",
       "14     1002     10       24.0           212.0          10.0      13905.0   \n",
       "15     1002     11       25.0           243.0          16.0      18610.0   \n",
       "16     1002     12       27.0           236.0          12.0      18137.0   \n",
       "17     1003      8       43.0           380.0          37.0       8571.0   \n",
       "18     1003      9      105.0           961.0          91.0      12479.0   \n",
       "19     1003     10       97.0           855.0          83.0      14779.0   \n",
       "\n",
       "    expenses  \n",
       "0     1950.0  \n",
       "1     1950.0  \n",
       "2     1950.0  \n",
       "3     1950.0  \n",
       "4     1950.0  \n",
       "5     1950.0  \n",
       "6     1950.0  \n",
       "7     1950.0  \n",
       "8     1350.0  \n",
       "9      550.0  \n",
       "10     550.0  \n",
       "11    1150.0  \n",
       "12    1550.0  \n",
       "13     950.0  \n",
       "14     550.0  \n",
       "15    1350.0  \n",
       "16    1150.0  \n",
       "17    1950.0  \n",
       "18    1950.0  \n",
       "19    1950.0  "
      ]
     },
     "metadata": {},
     "output_type": "display_data"
    }
   ],
   "source": [
    "def expenses_counter(row):\n",
    "    # Значения из таблицы data_total_p_month\n",
    "    user_id        = row['user_id']\n",
    "    calls_time_sum = row['calls_time_sum']\n",
    "    messages_num   = row['messages_num']\n",
    "    mb_used_sum    = row['mb_used_sum']\n",
    "    # -----------------------------------------------------\n",
    "    # Значение из таблицы data_users\n",
    "    tariff  = data_users.loc[data_users.loc[:, 'user_id'] == user_id]['tariff'].iloc[0]\n",
    "    # -----------------------------------------------------\n",
    "    # Значения из таблицы data_tariffs\n",
    "    messages_included      = data_tariffs[data_tariffs['tariff_name'] == tariff]['messages_included'].iloc[0]\n",
    "    mb_per_months_included = data_tariffs[data_tariffs['tariff_name'] == tariff]['mb_per_month_included'].iloc[0]\n",
    "    minutes_included       = data_tariffs[data_tariffs['tariff_name'] == tariff]['minutes_included'].iloc[0]\n",
    "    rub_monthly_fee        = data_tariffs[data_tariffs['tariff_name'] == tariff]['rub_monthly_fee'].iloc[0]\n",
    "    rub_per_gb             = data_tariffs[data_tariffs['tariff_name'] == tariff]['rub_per_gb'].iloc[0]\n",
    "    rub_per_message        = data_tariffs[data_tariffs['tariff_name'] == tariff]['rub_per_message'].iloc[0]\n",
    "    rub_per_minute         = data_tariffs[data_tariffs['tariff_name'] == tariff]['rub_per_minute'].iloc[0]\n",
    "    # -----------------------------------------------------\n",
    "    # Проверка на превышение минут\n",
    "    if (calls_time_sum > minutes_included):\n",
    "        extra_mins_fee = (calls_time_sum-minutes_included)*rub_per_minute\n",
    "    else:\n",
    "        extra_mins_fee = 0\n",
    "    # -----------------------------------------------------\n",
    "    # Проверка на превышение сообщений\n",
    "    if (messages_num > messages_included):\n",
    "        extra_messages_fee = (messages_num-messages_included)*rub_per_message\n",
    "    else:\n",
    "        extra_messages_fee = 0\n",
    "    # -----------------------------------------------------\n",
    "    # Проверка на превышение мегабайт\n",
    "    if (mb_used_sum > mb_per_months_included):\n",
    "        extra_mb_fee = np.ceil((mb_used_sum-mb_per_months_included)/1024)*rub_per_gb\n",
    "    else:\n",
    "        extra_mb_fee = 0\n",
    "    # -----------------------------------------------------\n",
    "    expences = rub_monthly_fee+extra_mins_fee+extra_messages_fee+extra_mb_fee\n",
    "    return expences\n",
    "    # -----------------------------------------------------\n",
    "    \n",
    "data_total_p_month['expenses'] = data_total_p_month.apply(expenses_counter, axis = 1)\n",
    "display(data_total_p_month.head(20))"
   ]
  },
  {
   "cell_type": "markdown",
   "metadata": {},
   "source": [
    "В данном разделе выполнено создание сводных таблиц по абонентам и месяцам. Далее эти таблицы объединены в одну и выполнен расчёт помесячной выручки для каждого абонента.\n",
    "\n",
    "In this section, you have created summary tables by subscribers and months. Then these tables are combined into one and the monthly revenue is calculated for each subscriber."
   ]
  },
  {
   "cell_type": "markdown",
   "metadata": {},
   "source": [
    "## Анализ данных\n",
    "\n",
    "## Data analysis"
   ]
  },
  {
   "cell_type": "markdown",
   "metadata": {},
   "source": [
    "### Добавление столбца 'tariff'\n",
    "\n",
    "### Adding the 'tariff' column"
   ]
  },
  {
   "cell_type": "code",
   "execution_count": 37,
   "metadata": {},
   "outputs": [
    {
     "data": {
      "text/html": [
       "<div>\n",
       "<style scoped>\n",
       "    .dataframe tbody tr th:only-of-type {\n",
       "        vertical-align: middle;\n",
       "    }\n",
       "\n",
       "    .dataframe tbody tr th {\n",
       "        vertical-align: top;\n",
       "    }\n",
       "\n",
       "    .dataframe thead th {\n",
       "        text-align: right;\n",
       "    }\n",
       "</style>\n",
       "<table border=\"1\" class=\"dataframe\">\n",
       "  <thead>\n",
       "    <tr style=\"text-align: right;\">\n",
       "      <th></th>\n",
       "      <th>user_id</th>\n",
       "      <th>month</th>\n",
       "      <th>calls_num</th>\n",
       "      <th>calls_time_sum</th>\n",
       "      <th>messages_num</th>\n",
       "      <th>mb_used_sum</th>\n",
       "      <th>expenses</th>\n",
       "      <th>tariff</th>\n",
       "    </tr>\n",
       "  </thead>\n",
       "  <tbody>\n",
       "    <tr>\n",
       "      <td>0</td>\n",
       "      <td>1000</td>\n",
       "      <td>5</td>\n",
       "      <td>17.0</td>\n",
       "      <td>159.0</td>\n",
       "      <td>22.0</td>\n",
       "      <td>2256.0</td>\n",
       "      <td>1950.0</td>\n",
       "      <td>ultra</td>\n",
       "    </tr>\n",
       "    <tr>\n",
       "      <td>1</td>\n",
       "      <td>1000</td>\n",
       "      <td>6</td>\n",
       "      <td>28.0</td>\n",
       "      <td>172.0</td>\n",
       "      <td>60.0</td>\n",
       "      <td>23257.0</td>\n",
       "      <td>1950.0</td>\n",
       "      <td>ultra</td>\n",
       "    </tr>\n",
       "    <tr>\n",
       "      <td>2</td>\n",
       "      <td>1000</td>\n",
       "      <td>7</td>\n",
       "      <td>41.0</td>\n",
       "      <td>340.0</td>\n",
       "      <td>75.0</td>\n",
       "      <td>14016.0</td>\n",
       "      <td>1950.0</td>\n",
       "      <td>ultra</td>\n",
       "    </tr>\n",
       "    <tr>\n",
       "      <td>3</td>\n",
       "      <td>1000</td>\n",
       "      <td>8</td>\n",
       "      <td>42.0</td>\n",
       "      <td>408.0</td>\n",
       "      <td>81.0</td>\n",
       "      <td>14070.0</td>\n",
       "      <td>1950.0</td>\n",
       "      <td>ultra</td>\n",
       "    </tr>\n",
       "    <tr>\n",
       "      <td>4</td>\n",
       "      <td>1000</td>\n",
       "      <td>9</td>\n",
       "      <td>46.0</td>\n",
       "      <td>466.0</td>\n",
       "      <td>57.0</td>\n",
       "      <td>14581.0</td>\n",
       "      <td>1950.0</td>\n",
       "      <td>ultra</td>\n",
       "    </tr>\n",
       "  </tbody>\n",
       "</table>\n",
       "</div>"
      ],
      "text/plain": [
       "   user_id  month  calls_num  calls_time_sum  messages_num  mb_used_sum  \\\n",
       "0     1000      5       17.0           159.0          22.0       2256.0   \n",
       "1     1000      6       28.0           172.0          60.0      23257.0   \n",
       "2     1000      7       41.0           340.0          75.0      14016.0   \n",
       "3     1000      8       42.0           408.0          81.0      14070.0   \n",
       "4     1000      9       46.0           466.0          57.0      14581.0   \n",
       "\n",
       "   expenses tariff  \n",
       "0    1950.0  ultra  \n",
       "1    1950.0  ultra  \n",
       "2    1950.0  ultra  \n",
       "3    1950.0  ultra  \n",
       "4    1950.0  ultra  "
      ]
     },
     "metadata": {},
     "output_type": "display_data"
    }
   ],
   "source": [
    "def add_tariff(row):\n",
    "    # Значения из таблицы data_total_p_month\n",
    "    user_id = row['user_id']\n",
    "    # -----------------------------------------------------\n",
    "    # Значение из таблицы data_users\n",
    "    tariff  = data_users.loc[data_users.loc[:, 'user_id'] == user_id]['tariff'].iloc[0]\n",
    "    return tariff\n",
    "\n",
    "data_total_p_month = data_total_p_month.merge(data_users[['user_id', 'tariff']], on='user_id', how='left')\n",
    "#data_total_p_month['tariff'] = data_total_p_month.apply(add_tariff, axis = 1)\n",
    "display(data_total_p_month.head())"
   ]
  },
  {
   "cell_type": "markdown",
   "metadata": {},
   "source": [
    "### Фильтрация массива по тарифам\n",
    "\n",
    "### Filtering the array by tariffs"
   ]
  },
  {
   "cell_type": "code",
   "execution_count": 38,
   "metadata": {},
   "outputs": [
    {
     "data": {
      "text/plain": [
       "0       ultra\n",
       "1       ultra\n",
       "2       ultra\n",
       "3       ultra\n",
       "4       ultra\n",
       "        ...  \n",
       "3204    ultra\n",
       "3205    ultra\n",
       "3206    ultra\n",
       "3212    ultra\n",
       "3213    ultra\n",
       "Name: tariff, Length: 985, dtype: object"
      ]
     },
     "execution_count": 38,
     "metadata": {},
     "output_type": "execute_result"
    }
   ],
   "source": [
    "data_total_p_month_smart = data_total_p_month[data_total_p_month['tariff'] == 'smart']\n",
    "data_total_p_month_smart.pop('tariff')\n",
    "data_total_p_month_ultra = data_total_p_month[data_total_p_month['tariff'] == 'ultra']\n",
    "data_total_p_month_ultra.pop('tariff')"
   ]
  },
  {
   "cell_type": "markdown",
   "metadata": {},
   "source": [
    "### Исследование расхода минут разговора в зависимости от тарифа\n",
    "\n",
    "### Exploring of the consumption of minutes of conversation depending on the tariff"
   ]
  },
  {
   "cell_type": "code",
   "execution_count": 39,
   "metadata": {},
   "outputs": [
    {
     "name": "stdout",
     "output_type": "stream",
     "text": [
      "Тариф smart\n",
      "\n",
      "count    2229.000000\n",
      "mean      417.934948\n",
      "std       190.313730\n",
      "min         0.000000\n",
      "25%       282.000000\n",
      "50%       422.000000\n",
      "75%       545.000000\n",
      "max      1435.000000\n",
      "Name: calls_time_sum, dtype: float64\n",
      "\n",
      "Дисперсия: 36219.31578434428\n",
      "Асимметрия: 0.1431988748193947\n",
      "Эксцесс: 0.11960336612921285\n",
      "\n"
     ]
    },
    {
     "data": {
      "image/png": "[encoded data removed]",
      "text/plain": [
       "<Figure size 432x288 with 1 Axes>"
      ]
     },
     "metadata": {
      "needs_background": "light"
     },
     "output_type": "display_data"
    }
   ],
   "source": [
    "print('Тариф smart')\n",
    "print()\n",
    "print(data_total_p_month_smart['calls_time_sum'].describe())\n",
    "print()\n",
    "print('Дисперсия:', data_total_p_month_smart['calls_time_sum'].var())\n",
    "print('Асимметрия:', data_total_p_month_smart['calls_time_sum'].skew())\n",
    "print('Эксцесс:', data_total_p_month_smart['calls_time_sum'].kurtosis())\n",
    "print()\n",
    "data_total_p_month_smart['calls_time_sum'].hist(bins = 100)\n",
    "plt.title('Гистограмма расхода минут разговора - тариф smart')\n",
    "plt.show()"
   ]
  },
  {
   "cell_type": "code",
   "execution_count": 40,
   "metadata": {},
   "outputs": [
    {
     "name": "stdout",
     "output_type": "stream",
     "text": [
      "Тариф ultra\n",
      "\n",
      "count     985.000000\n",
      "mean      526.623350\n",
      "std       317.606098\n",
      "min         0.000000\n",
      "25%       284.000000\n",
      "50%       518.000000\n",
      "75%       752.000000\n",
      "max      1673.000000\n",
      "Name: calls_time_sum, dtype: float64\n",
      "\n",
      "Дисперсия: 100873.63339730098\n",
      "Асимметрия: 0.3427454967747061\n",
      "Эксцесс: -0.28718228242487553\n",
      "\n"
     ]
    },
    {
     "data": {
      "image/png": "[encoded data removed]",
      "text/plain": [
       "<Figure size 432x288 with 1 Axes>"
      ]
     },
     "metadata": {
      "needs_background": "light"
     },
     "output_type": "display_data"
    }
   ],
   "source": [
    "print('Тариф ultra')\n",
    "print()\n",
    "print(data_total_p_month_ultra['calls_time_sum'].describe())\n",
    "print()\n",
    "print('Дисперсия:', data_total_p_month_ultra['calls_time_sum'].var())\n",
    "print('Асимметрия:', data_total_p_month_ultra['calls_time_sum'].skew())\n",
    "print('Эксцесс:', data_total_p_month_ultra['calls_time_sum'].kurtosis())\n",
    "print()\n",
    "data_total_p_month_ultra['calls_time_sum'].hist(bins = 100)\n",
    "plt.title('Гистограмма расхода минут разговора - тариф ultra')\n",
    "plt.show()"
   ]
  },
  {
   "cell_type": "markdown",
   "metadata": {},
   "source": [
    "Пользователи тарифа ultra в среднем за месяц разговаривают больше, чем пользователи тарифа smart. Так же среднее время разговора у абонетов smart не превышает пороговое в 500 минут. У обладателей тарифа ultra не получается выговорить все предоплаченные минуты, как бы ни старались!\n",
    "\n",
    "Абоненты с тарифом smart разговаривают стабильнее, т.к. стандартное отклонение ниже, чем у абонентов c ultra.\n",
    "\n",
    "Асимметрия слегка положительна, причём у тарифа ultra сильнее. Эксцесс у тарифа smart положителен, а у ultra отрицателен. В обоих случаях слева ограничены нулем.\n",
    "\n",
    "Но, у тарифа ultra в 2.5 раза больше нулевых значений! Возможно, это связано с тем, что у ultra большой предоплаченный пакет интернета и клиенты его приобретали для серфинга в сети, а не звонков. Это будет проверено дальше.\n",
    "\n",
    "\n",
    "Users of the ultra tariff talk more on average per month than users of the smart tariff. Also, the average talk time for smart subscribers does not exceed the threshold of 500 minutes. The owners of the ultra tariff can't pronounce all the prepaid minutes, no matter how hard they try!\n",
    "\n",
    "Subscribers with the smart tariff talk more stably, because the standard deviation is lower than for subscribers with ultra.\n",
    "\n",
    "The asymmetry is slightly positive, and the ultra tariff is stronger. The excess of the smart tariff is positive, and the ultra is negative. In both cases, the left is bounded by zero.\n",
    "\n",
    "But, the ultra tariff has 2.5 times more zero values! Perhaps this is due to the fact that ultra has a large prepaid Internet package and customers purchased it for surfing the web, not for calls. This will be checked further."
   ]
  },
  {
   "cell_type": "markdown",
   "metadata": {},
   "source": [
    "### Исследование расхода сообщений в зависимости от тарифа\n",
    "\n",
    "### Exploring of the consumption of messages depending on the tariff"
   ]
  },
  {
   "cell_type": "code",
   "execution_count": 41,
   "metadata": {},
   "outputs": [
    {
     "name": "stdout",
     "output_type": "stream",
     "text": [
      "Тариф smart\n",
      "\n",
      "count    2229.000000\n",
      "mean       33.384029\n",
      "std        28.227876\n",
      "min         0.000000\n",
      "25%        10.000000\n",
      "50%        28.000000\n",
      "75%        51.000000\n",
      "max       143.000000\n",
      "Name: messages_num, dtype: float64\n",
      "\n",
      "Дисперсия: 796.8129584480083\n",
      "Асимметрия: 0.8157555072508319\n",
      "Эксцесс: 0.14729213348299242\n",
      "\n"
     ]
    },
    {
     "data": {
      "image/png": "[encoded data removed]",
      "text/plain": [
       "<Figure size 432x288 with 1 Axes>"
      ]
     },
     "metadata": {
      "needs_background": "light"
     },
     "output_type": "display_data"
    }
   ],
   "source": [
    "print('Тариф smart')\n",
    "print()\n",
    "print(data_total_p_month_smart['messages_num'].describe())\n",
    "print()\n",
    "print('Дисперсия:', data_total_p_month_smart['messages_num'].var())\n",
    "print('Асимметрия:', data_total_p_month_smart['messages_num'].skew())\n",
    "print('Эксцесс:', data_total_p_month_smart['messages_num'].kurtosis())\n",
    "print()\n",
    "data_total_p_month_smart['messages_num'].hist(bins = 100)\n",
    "plt.title('Гистограмма расхода сообщений - тариф smart')\n",
    "plt.show()"
   ]
  },
  {
   "cell_type": "code",
   "execution_count": 42,
   "metadata": {
    "scrolled": true
   },
   "outputs": [
    {
     "name": "stdout",
     "output_type": "stream",
     "text": [
      "Тариф ultra\n",
      "\n",
      "count    985.000000\n",
      "mean      49.363452\n",
      "std       47.804457\n",
      "min        0.000000\n",
      "25%        6.000000\n",
      "50%       38.000000\n",
      "75%       79.000000\n",
      "max      224.000000\n",
      "Name: messages_num, dtype: float64\n",
      "\n",
      "Дисперсия: 2285.2661425446736\n",
      "Асимметрия: 0.9874160101406007\n",
      "Эксцесс: 0.34312999245941356\n",
      "\n"
     ]
    },
    {
     "data": {
      "image/png": "[encoded data removed]",
      "text/plain": [
       "<Figure size 432x288 with 1 Axes>"
      ]
     },
     "metadata": {
      "needs_background": "light"
     },
     "output_type": "display_data"
    }
   ],
   "source": [
    "print('Тариф ultra')\n",
    "print()\n",
    "print(data_total_p_month_ultra['messages_num'].describe())\n",
    "print()\n",
    "print('Дисперсия:', data_total_p_month_ultra['messages_num'].var())\n",
    "print('Асимметрия:', data_total_p_month_ultra['messages_num'].skew())\n",
    "print('Эксцесс:', data_total_p_month_ultra['messages_num'].kurtosis())\n",
    "print()\n",
    "data_total_p_month_ultra['messages_num'].hist(bins = 100)\n",
    "plt.title('Гистограмма расхода сообщений - тариф ultra')\n",
    "plt.show()"
   ]
  },
  {
   "cell_type": "markdown",
   "metadata": {},
   "source": [
    "Абоненты тарифа smart шлют смски реже, но стабильнее. Разница в среднем количестве смс за месяц не такая существенная, как по разговорам.\n",
    "\n",
    "Smart tariff subscribers send SMS messages less often, but more stable. The difference in the average number of SMS messages per month is not as significant as for conversations."
   ]
  },
  {
   "cell_type": "markdown",
   "metadata": {},
   "source": [
    "### Исследование расхода трафика в зависимости от тарифа\n",
    "\n",
    "### Exploring of traffic consumption depending on the tariff"
   ]
  },
  {
   "cell_type": "code",
   "execution_count": 43,
   "metadata": {},
   "outputs": [
    {
     "name": "stdout",
     "output_type": "stream",
     "text": [
      "Тариф smart\n",
      "\n",
      "count     2229.000000\n",
      "mean     16229.188425\n",
      "std       5877.576978\n",
      "min          0.000000\n",
      "25%      12658.000000\n",
      "50%      16531.000000\n",
      "75%      20068.000000\n",
      "max      38610.000000\n",
      "Name: mb_used_sum, dtype: float64\n",
      "\n",
      "Дисперсия: 34545911.12695753\n",
      "Асимметрия: -0.1583712940057104\n",
      "Эксцесс: 0.35699068536397194\n",
      "\n"
     ]
    },
    {
     "data": {
      "image/png": "[encoded data removed]",
      "text/plain": [
       "<Figure size 432x288 with 1 Axes>"
      ]
     },
     "metadata": {
      "needs_background": "light"
     },
     "output_type": "display_data"
    }
   ],
   "source": [
    "print('Тариф smart')\n",
    "print()\n",
    "print(data_total_p_month_smart['mb_used_sum'].describe())\n",
    "print()\n",
    "print('Дисперсия:', data_total_p_month_smart['mb_used_sum'].var())\n",
    "print('Асимметрия:', data_total_p_month_smart['mb_used_sum'].skew())\n",
    "print('Эксцесс:', data_total_p_month_smart['mb_used_sum'].kurtosis())\n",
    "print()\n",
    "data_total_p_month_smart['mb_used_sum'].hist(bins = 100)\n",
    "plt.title('Гистограмма расхода мегабайт - тариф smart')\n",
    "plt.show()"
   ]
  },
  {
   "cell_type": "code",
   "execution_count": 44,
   "metadata": {
    "scrolled": true
   },
   "outputs": [
    {
     "name": "stdout",
     "output_type": "stream",
     "text": [
      "Тариф ultra\n",
      "\n",
      "count      985.000000\n",
      "mean     19486.901523\n",
      "std      10096.317202\n",
      "min          0.000000\n",
      "25%      11785.000000\n",
      "50%      19324.000000\n",
      "75%      26863.000000\n",
      "max      49789.000000\n",
      "Name: mb_used_sum, dtype: float64\n",
      "\n",
      "Дисперсия: 101935621.04821923\n",
      "Асимметрия: 0.2107123316240855\n",
      "Эксцесс: -0.4735313889594126\n",
      "\n"
     ]
    },
    {
     "data": {
      "image/png": "[encoded data removed]",
      "text/plain": [
       "<Figure size 432x288 with 1 Axes>"
      ]
     },
     "metadata": {
      "needs_background": "light"
     },
     "output_type": "display_data"
    }
   ],
   "source": [
    "print('Тариф ultra')\n",
    "print()\n",
    "print(data_total_p_month_ultra['mb_used_sum'].describe())\n",
    "print()\n",
    "print('Дисперсия:', data_total_p_month_ultra['mb_used_sum'].var())\n",
    "print('Асимметрия:', data_total_p_month_ultra['mb_used_sum'].skew())\n",
    "print('Эксцесс:', data_total_p_month_ultra['mb_used_sum'].kurtosis())\n",
    "print()\n",
    "data_total_p_month_ultra['mb_used_sum'].hist(bins = 100)\n",
    "plt.title('Гистограмма расхода мегабайт - тариф ultra')\n",
    "plt.show()"
   ]
  },
  {
   "cell_type": "markdown",
   "metadata": {},
   "source": [
    "По расходу трафика лидером является тариф ultra, но и стандартное отклонение у этого тарифа почти в 2 раза выше.\n",
    "\n",
    "The ultra tariff is the leader in terms of traffic consumption, but the standard deviation of this tariff is almost 2 times higher."
   ]
  },
  {
   "cell_type": "markdown",
   "metadata": {},
   "source": [
    "### Вывод по анализу данных\n",
    "\n",
    "### Data analysis output"
   ]
  },
  {
   "cell_type": "markdown",
   "metadata": {},
   "source": [
    "Распределение во всех случаях пуассоновское, как число событий произошедшее за фиксированное время. Для разговоров и интернета на тарифе smart оно уже очень близко к нормальному.\n",
    "\n",
    "Ежемесячная абон плата у ultra выше, чем у тарифа smart. Но, если расходовать траффик в среднем 22 Гб/мес и не экономить на телефонных звонках (как это делают абоненты smart), то тариф ulta становится выгоднее. И это заметно, что среднее потребление траффика, минут и сообщений на тарифе ultra выше, чем на smart.\n",
    "\n",
    "\n",
    "The distribution in all cases is Poisson, as the number of events that occurred in a fixed time. For conversations and the Internet on the smart tariff, it is already very close to normal.\n",
    "\n",
    "The monthly subscription fee for ultra is higher than for the smart tariff. But, if you spend an average of 22 GB/month of traffic and do not save on phone calls (as smart subscribers do), then the ulta tariff becomes more profitable. And it is noticeable that the average consumption of traffic, minutes and messages on the ultra tariff is higher than on smart."
   ]
  },
  {
   "cell_type": "markdown",
   "metadata": {},
   "source": [
    "## Проверка гипотез\n",
    "\n",
    "## Hypothesis testing"
   ]
  },
  {
   "cell_type": "markdown",
   "metadata": {},
   "source": [
    "### Средняя выручка пользователей тарифов ultra и smart различаются\n",
    "\n",
    "### The average revenue of users of the ultra and smart tariffs differs"
   ]
  },
  {
   "cell_type": "code",
   "execution_count": 45,
   "metadata": {
    "scrolled": true
   },
   "outputs": [
    {
     "name": "stdout",
     "output_type": "stream",
     "text": [
      "Общая выручка на тарифе smart: 2885751.00 р\n",
      "Общая выручка на тарифе ultra: 2040000.00 р\n",
      "\n",
      "Средняя выручка на тарифе smart: 1294.64 р\n",
      "Средняя выручка на тарифе ultra: 2071.07 р\n",
      "\n",
      "p-значение: 2.9776448000521676e-158\n",
      "\n",
      "Отвергаем нулевую гипотезу\n"
     ]
    }
   ],
   "source": [
    "alpha = 0.05\n",
    "print('Общая выручка на тарифе smart: {:.2f} р'.format(data_total_p_month_smart['expenses'].sum()))\n",
    "print('Общая выручка на тарифе ultra: {:.2f} р'.format(data_total_p_month_ultra['expenses'].sum()))\n",
    "print()\n",
    "print('Средняя выручка на тарифе smart: {:.2f} р'.format(data_total_p_month_smart['expenses'].mean()))\n",
    "print('Средняя выручка на тарифе ultra: {:.2f} р'.format(data_total_p_month_ultra['expenses'].mean()))\n",
    "print()\n",
    "results = st.ttest_ind(data_total_p_month_smart['expenses'], data_total_p_month_ultra['expenses'])\n",
    "print('p-значение:', results.pvalue)\n",
    "print()\n",
    "if (results.pvalue < alpha):\n",
    "    print(\"Отвергаем нулевую гипотезу\")\n",
    "else:\n",
    "    print(\"Не получилось отвергнуть нулевую гипотезу\")"
   ]
  },
  {
   "cell_type": "markdown",
   "metadata": {},
   "source": [
    "Выполнена проверка гипотез:\n",
    "\n",
    " - H0 - две генеральные совокупности (средняя выручка на тарифах smart и ultra) равны\n",
    " - H1 - две генеральные совокупности не равны.\n",
    "\n",
    "H0 по результатам проверки была отвергнута. Средняя выручка у пользователей тарифов smart и ultra различается в пользу ultra. Но, общая выручка выше на тарифе smart.\n",
    "\n",
    "\n",
    "Hypothesis testing has been performed:\n",
    "\n",
    " - H0 - two general aggregates (average revenue on smart and ultra tariffs) are equal\n",
    " - H1 - the two general aggregates are not equal.\n",
    "\n",
    "H0 was rejected based on the results of the check. The average revenue for users of smart and ultra tariffs differs in favor of ultra. But, the total revenue is higher on the smart tariff."
   ]
  },
  {
   "cell_type": "markdown",
   "metadata": {},
   "source": [
    "### Средняя выручка пользователей из Москвы отличается от выручки пользователей из других регионов\n",
    "\n",
    "### The average revenue of users from Moscow differs from the revenue of users from other regions"
   ]
  },
  {
   "cell_type": "markdown",
   "metadata": {},
   "source": [
    "#### Добавление столбца 'city'  к таблице data_total_p_month.\n",
    "\n",
    "#### Adding the 'city' column to the data_total_p_month table."
   ]
  },
  {
   "cell_type": "code",
   "execution_count": 46,
   "metadata": {},
   "outputs": [
    {
     "data": {
      "text/html": [
       "<div>\n",
       "<style scoped>\n",
       "    .dataframe tbody tr th:only-of-type {\n",
       "        vertical-align: middle;\n",
       "    }\n",
       "\n",
       "    .dataframe tbody tr th {\n",
       "        vertical-align: top;\n",
       "    }\n",
       "\n",
       "    .dataframe thead th {\n",
       "        text-align: right;\n",
       "    }\n",
       "</style>\n",
       "<table border=\"1\" class=\"dataframe\">\n",
       "  <thead>\n",
       "    <tr style=\"text-align: right;\">\n",
       "      <th></th>\n",
       "      <th>user_id</th>\n",
       "      <th>month</th>\n",
       "      <th>calls_num</th>\n",
       "      <th>calls_time_sum</th>\n",
       "      <th>messages_num</th>\n",
       "      <th>mb_used_sum</th>\n",
       "      <th>expenses</th>\n",
       "      <th>tariff</th>\n",
       "      <th>city</th>\n",
       "    </tr>\n",
       "  </thead>\n",
       "  <tbody>\n",
       "    <tr>\n",
       "      <td>0</td>\n",
       "      <td>1000</td>\n",
       "      <td>5</td>\n",
       "      <td>17.0</td>\n",
       "      <td>159.0</td>\n",
       "      <td>22.0</td>\n",
       "      <td>2256.0</td>\n",
       "      <td>1950.0</td>\n",
       "      <td>ultra</td>\n",
       "      <td>Краснодар</td>\n",
       "    </tr>\n",
       "    <tr>\n",
       "      <td>1</td>\n",
       "      <td>1000</td>\n",
       "      <td>6</td>\n",
       "      <td>28.0</td>\n",
       "      <td>172.0</td>\n",
       "      <td>60.0</td>\n",
       "      <td>23257.0</td>\n",
       "      <td>1950.0</td>\n",
       "      <td>ultra</td>\n",
       "      <td>Краснодар</td>\n",
       "    </tr>\n",
       "    <tr>\n",
       "      <td>2</td>\n",
       "      <td>1000</td>\n",
       "      <td>7</td>\n",
       "      <td>41.0</td>\n",
       "      <td>340.0</td>\n",
       "      <td>75.0</td>\n",
       "      <td>14016.0</td>\n",
       "      <td>1950.0</td>\n",
       "      <td>ultra</td>\n",
       "      <td>Краснодар</td>\n",
       "    </tr>\n",
       "    <tr>\n",
       "      <td>3</td>\n",
       "      <td>1000</td>\n",
       "      <td>8</td>\n",
       "      <td>42.0</td>\n",
       "      <td>408.0</td>\n",
       "      <td>81.0</td>\n",
       "      <td>14070.0</td>\n",
       "      <td>1950.0</td>\n",
       "      <td>ultra</td>\n",
       "      <td>Краснодар</td>\n",
       "    </tr>\n",
       "    <tr>\n",
       "      <td>4</td>\n",
       "      <td>1000</td>\n",
       "      <td>9</td>\n",
       "      <td>46.0</td>\n",
       "      <td>466.0</td>\n",
       "      <td>57.0</td>\n",
       "      <td>14581.0</td>\n",
       "      <td>1950.0</td>\n",
       "      <td>ultra</td>\n",
       "      <td>Краснодар</td>\n",
       "    </tr>\n",
       "  </tbody>\n",
       "</table>\n",
       "</div>"
      ],
      "text/plain": [
       "   user_id  month  calls_num  calls_time_sum  messages_num  mb_used_sum  \\\n",
       "0     1000      5       17.0           159.0          22.0       2256.0   \n",
       "1     1000      6       28.0           172.0          60.0      23257.0   \n",
       "2     1000      7       41.0           340.0          75.0      14016.0   \n",
       "3     1000      8       42.0           408.0          81.0      14070.0   \n",
       "4     1000      9       46.0           466.0          57.0      14581.0   \n",
       "\n",
       "   expenses tariff       city  \n",
       "0    1950.0  ultra  Краснодар  \n",
       "1    1950.0  ultra  Краснодар  \n",
       "2    1950.0  ultra  Краснодар  \n",
       "3    1950.0  ultra  Краснодар  \n",
       "4    1950.0  ultra  Краснодар  "
      ]
     },
     "metadata": {},
     "output_type": "display_data"
    }
   ],
   "source": [
    "def add_city(row):\n",
    "    # Значения из таблицы data_total_p_month\n",
    "    user_id = row['user_id']\n",
    "    # -----------------------------------------------------\n",
    "    # Значение из таблицы data_users\n",
    "    city = data_users.loc[data_users.loc[:, 'user_id'] == user_id]['city'].iloc[0]\n",
    "    return city\n",
    "\n",
    "#data_total_p_month['city'] = data_total_p_month.apply(add_city, axis = 1)\n",
    "data_total_p_month = data_total_p_month.merge(data_users[['user_id', 'city']], on='user_id', how='left')\n",
    "display(data_total_p_month.head())"
   ]
  },
  {
   "cell_type": "markdown",
   "metadata": {},
   "source": [
    "Добавлен столбец 'city' к таблице data_total_p_month.\n",
    "\n",
    "Added the 'city' column to the data_total_p_month table."
   ]
  },
  {
   "cell_type": "code",
   "execution_count": 47,
   "metadata": {},
   "outputs": [
    {
     "name": "stdout",
     "output_type": "stream",
     "text": [
      "Общая выручка в Москве: 947542.00 р\n",
      "Общая выручка не в Москве: 3978209.00 р\n",
      "\n",
      "Средняя выручка в Москве: 1550.81 р\n",
      "Средняя выручка не в Москве: 1528.32 р\n",
      "\n",
      "p-значение: 0.531666503831252\n",
      "\n",
      "Не получилось отвергнуть нулевую гипотезу\n"
     ]
    }
   ],
   "source": [
    "data_total_p_month_Moscow = data_total_p_month[data_total_p_month['city'] == 'Москва']['expenses']\n",
    "data_total_p_month_non_Moscow = data_total_p_month[data_total_p_month['city'] != 'Москва']['expenses']\n",
    "print('Общая выручка в Москве: {:.2f} р'.format(data_total_p_month_Moscow.sum()))\n",
    "print('Общая выручка не в Москве: {:.2f} р'.format(data_total_p_month_non_Moscow.sum()))\n",
    "print()\n",
    "print('Средняя выручка в Москве: {:.2f} р'.format(data_total_p_month_Moscow.mean()))\n",
    "print('Средняя выручка не в Москве: {:.2f} р'.format(data_total_p_month_non_Moscow.mean()))\n",
    "print()\n",
    "results_2 = st.ttest_ind(data_total_p_month_Moscow, data_total_p_month_non_Moscow)\n",
    "print('p-значение:', results_2.pvalue)\n",
    "print()\n",
    "if (results_2.pvalue < alpha):\n",
    "    print(\"Отвергаем нулевую гипотезу\")\n",
    "else:\n",
    "    print(\"Не получилось отвергнуть нулевую гипотезу\")"
   ]
  },
  {
   "cell_type": "markdown",
   "metadata": {},
   "source": [
    "Выполнена проверка гипотез:\n",
    "\n",
    " - H0 - две генеральные совокупности (средняя выручка в Москве и вне её) равны\n",
    " - H1 - две генеральные совокупности не равны.\n",
    "\n",
    "H0 по результатам проверки не была отвергнута. Средняя выручка у пользователей в Москве и вне её не отличается. Общая выручка выше вне Москвы.\n",
    "\n",
    "\n",
    "Hypothesis testing has been performed:\n",
    "\n",
    " - H0 - two general aggregates (average revenue in Moscow and outside it) are equal\n",
    " - H1 - the two general aggregates are not equal.\n",
    "\n",
    "H0 was not rejected based on the results of the check. The average revenue of users in Moscow and outside of it does not differ. Total revenue is higher outside of Moscow."
   ]
  },
  {
   "cell_type": "markdown",
   "metadata": {},
   "source": [
    "## Общий вывод\n",
    "\n",
    "## Main conclusion"
   ]
  },
  {
   "cell_type": "markdown",
   "metadata": {},
   "source": [
    "В данной работе выполнено исследование тарифов smart и ultra телеком компании \"Мегалайн\". В среднем, выручка выше у пользователя тарифом ultra. Но, у пользователей тарифа smart общая выручка выше. Так же не обнаружено разницы в средней выручке в Москве и вне её.\n",
    "\n",
    "Абоненты тарифа smart следят за количеством потраченных минут и стараются не превышать ежемесячные 500 минут.\n",
    "\n",
    "Абоненты тарифа ultra не следят за количеством потраченных минут, т.к. никто не смог даже приблизиться к ежемесячным 3000 минут.\n",
    "\n",
    "Абоненты тарифа ultra потребляют на 20% (~16.5 против 19,5Гб) больше трафика, чем абоненты smart.\n",
    "\n",
    "Разница в ежемесячной абонплате = 1400 р. Это 7 Гб экстра трафика на тарифе smart.\n",
    "\n",
    "Следовательно, оба тарифа перспективны и абонент сам определяет по своим потребностям подходящий тариф и при желании может переключиться с одного на другой и будет лоялен к самой компании. Например, если у абонента не было домашнего интернета и он был подключен к тарифу ultra, то после его появления он, скорее всего, захочет перейти на тариф smart.\n",
    "\n",
    "\n",
    "In this paper, a study of the smart and ultra telecom tariffs of the Megaline company is carried out. On average, the revenue is higher for the user with the ultra tariff. However, users of the smart tariff have a higher total revenue. There was also no difference in the average revenue in Moscow and outside it.\n",
    "\n",
    "Smart tariff subscribers monitor the number of minutes spent and try not to exceed the monthly 500 minutes.\n",
    "\n",
    "Subscribers of the ultra tariff do not monitor the number of minutes spent, because no one could even approach the monthly 3000 minutes.\n",
    "\n",
    "Subscribers of the ultra tariff consume 20% (~16.5 vs. 19.5 GB) more traffic than smart subscribers.\n",
    "\n",
    "The difference in the monthly subscription fee = 1400 rubles. This is 7 GB of extra traffic on the smart tariff.\n",
    "\n",
    "Therefore, both tariffs are promising and the subscriber himself determines the appropriate tariff according to his needs and, if desired, can switch from one to another and will be loyal to the company itself. For example, if a subscriber did not have home Internet and was connected to the ultra tariff, then after its appearance, he will most likely want to switch to the smart tariff."
   ]
  }
 ],
 "metadata": {
  "kernelspec": {
   "display_name": "Python 3",
   "language": "python",
   "name": "python3"
  },
  "language_info": {
   "codemirror_mode": {
    "name": "ipython",
    "version": 3
   },
   "file_extension": ".py",
   "mimetype": "text/x-python",
   "name": "python",
   "nbconvert_exporter": "python",
   "pygments_lexer": "ipython3",
   "version": "3.8.8"
  },
  "toc": {
   "base_numbering": 1,
   "nav_menu": {},
   "number_sections": true,
   "sideBar": true,
   "skip_h1_title": true,
   "title_cell": "Содержание",
   "title_sidebar": "Содержание",
   "toc_cell": true,
   "toc_position": {
    "height": "790px",
    "left": "53px",
    "top": "110px",
    "width": "307px"
   },
   "toc_section_display": true,
   "toc_window_display": true
  }
 },
 "nbformat": 4,
 "nbformat_minor": 2
}
